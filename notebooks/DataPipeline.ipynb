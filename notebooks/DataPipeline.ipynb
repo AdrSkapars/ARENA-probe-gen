{
 "cells": [
  {
   "cell_type": "markdown",
   "id": "70eb078e",
   "metadata": {},
   "source": [
    "## Full Dataset Pipeline"
   ]
  },
  {
   "cell_type": "code",
   "execution_count": null,
   "id": "55de9b6c",
   "metadata": {},
   "outputs": [],
   "source": [
    "%%capture\n",
    "# Run to set environment variables if want to\n",
    "# %env HF_TOKEN=\n",
    "# %env OPENAI_API_KEY="
   ]
  },
  {
   "cell_type": "code",
   "execution_count": null,
   "id": "48a7b9fe",
   "metadata": {},
   "outputs": [
    {
     "data": {
      "application/vnd.jupyter.widget-view+json": {
       "model_id": "afabbf6be5934e80a07d23199ad6c11d",
       "version_major": 2,
       "version_minor": 0
      },
      "text/plain": [
       "llama_3b_unlabelled_20k.jsonl: 0.00B [00:00, ?B/s]"
      ]
     },
     "metadata": {},
     "output_type": "display_data"
    },
    {
     "name": "stdout",
     "output_type": "stream",
     "text": [
      "Downloaded to: ../data/refusal/llama_3b_unlabelled_20k.jsonl\n"
     ]
    },
    {
     "data": {
      "application/vnd.jupyter.widget-view+json": {
       "model_id": "3fd6f7495a424dbfae7a758e6d2702be",
       "version_major": 2,
       "version_minor": 0
      },
      "text/plain": [
       "llama_3b_outputs_20k.jsonl:   0%|          | 0.00/24.4M [00:00<?, ?B/s]"
      ]
     },
     "metadata": {},
     "output_type": "display_data"
    },
    {
     "name": "stdout",
     "output_type": "stream",
     "text": [
      "Downloaded to: ../data/refusal/llama_3b_outputs_20k.jsonl\n"
     ]
    }
   ],
   "source": [
    "# Run to download jsonl files from hugging face if want to\n",
    "import os\n",
    "from huggingface_hub import hf_hub_download\n",
    "\n",
    "repo_id = \"lasrprobegen/anthropic-refusal-activations\"\n",
    "files_to_download = [\n",
    "    \"llama_3b_unlabelled_20k.jsonl\",\n",
    "    \"llama_3b_outputs_20k.jsonl\", \n",
    "]\n",
    "local_dir = \"../data/refusal\"\n",
    "os.makedirs(local_dir, exist_ok=True)\n",
    "for filename in files_to_download:\n",
    "    file_path = hf_hub_download(\n",
    "        repo_id=repo_id,\n",
    "        repo_type=\"dataset\",\n",
    "        filename=filename,\n",
    "        local_dir=local_dir,\n",
    "        token=os.environ.get(\"HF_TOKEN\")\n",
    "    )\n",
    "    print(f\"Downloaded to: {file_path}\")"
   ]
  },
  {
   "cell_type": "markdown",
   "id": "24778ca4",
   "metadata": {},
   "source": [
    "### Sample inputs dataset"
   ]
  },
  {
   "cell_type": "markdown",
   "id": "fcdc3e0e",
   "metadata": {},
   "source": [
    "- Samples dataset from hugging face to jsonl file\n",
    "- For refusal behaviour can save time by doing labelling and subsamplling of off policy outpus at the same time (set to 'yes')\n",
    "\n",
    "```uv run scripts/get_dataset_labelled.py --behaviour refusal --out_path data/refusal/claude_outputs.jsonl --num_samples 1000 --do_label no --do_subsample no```"
   ]
  },
  {
   "cell_type": "code",
   "execution_count": null,
   "id": "92eecc50",
   "metadata": {},
   "outputs": [
    {
     "name": "stdout",
     "output_type": "stream",
     "text": [
      "Saving the data to ../data/refusal/off_policy_raw.jsonl\n"
     ]
    }
   ],
   "source": [
    "from probe_gen.annotation.label_dataset import label_and_save_dataset\n",
    "from probe_gen.annotation.refusal_behaviour import (\n",
    "    SYSTEM_PROMPT_REFUSE,\n",
    "    create_refusal_dataset,\n",
    ")\n",
    "\n",
    "dataset = create_refusal_dataset(num_samples=1000)\n",
    "label_and_save_dataset(\n",
    "    dataset=dataset,\n",
    "    dataset_path=\"../data/refusal/claude_outputs.jsonl\",\n",
    "    system_prompt=SYSTEM_PROMPT_REFUSE,\n",
    "    do_subsample=False,\n",
    "    do_label=False,\n",
    ")"
   ]
  },
  {
   "cell_type": "markdown",
   "id": "0119e69b",
   "metadata": {},
   "source": [
    "### Generate outputs dataset (on-policy)"
   ]
  },
  {
   "cell_type": "markdown",
   "id": "960c690d",
   "metadata": {},
   "source": [
    "- Uses LLM (Llama-3.2-3B-Instruct default) to generate outputs for inputs dataset\n",
    "- Takes 10 minutes to do 5k samples with 200 batch size\n",
    "- Hardware requirements: high GPU, low RAM, low disk\n",
    "- Make sure you have done 'export HF_TOKEN=<key>' or just paste it here but cant push to git\n",
    "\n",
    "```uv run python scripts/get_outputs.py --data data/refusal/claude_outputs.jsonl --out llama_3b_outputs.jsonl --batch-size 200 --sample 0  --policy on_policy --behaviour refusal --save-increment -1```"
   ]
  },
  {
   "cell_type": "code",
   "execution_count": null,
   "id": "9f2d3ac1",
   "metadata": {},
   "outputs": [
    {
     "data": {
      "application/vnd.jupyter.widget-view+json": {
       "model_id": "a060f0287a3243d9abc0d126637ebf2f",
       "version_major": 2,
       "version_minor": 0
      },
      "text/plain": [
       "Loading checkpoint shards:   0%|          | 0/2 [00:00<?, ?it/s]"
      ]
     },
     "metadata": {},
     "output_type": "display_data"
    },
    {
     "name": "stdout",
     "output_type": "stream",
     "text": [
      "Processing 1000 examples in 5 batches of size 200\n"
     ]
    },
    {
     "name": "stderr",
     "output_type": "stream",
     "text": [
      "Processing batches: 100%|██████████| 5/5 [00:27<00:00,  5.55s/it]"
     ]
    },
    {
     "name": "stdout",
     "output_type": "stream",
     "text": [
      "Final DataFrame saved to: ../data/refusal/on_policy_outputs.jsonl\n",
      "DataFrame shape: (1000, 5)\n"
     ]
    },
    {
     "name": "stderr",
     "output_type": "stream",
     "text": [
      "\n"
     ]
    }
   ],
   "source": [
    "from probe_gen.gen_data.utils import get_model, process_file_outputs_only\n",
    "\n",
    "model, tokenizer = get_model(\"meta-llama/Llama-3.2-3B-Instruct\")\n",
    "process_file_outputs_only(\n",
    "    model,\n",
    "    tokenizer,\n",
    "    dataset_path=\"../data/refusal/claude_outputs.jsonl\",\n",
    "    output_file=\"llama_3b_outputs.jsonl\",\n",
    "    batch_size=200,\n",
    "    policy=\"on_policy\",\n",
    "    behaviour=\"refusal\",\n",
    "    sample=0,\n",
    "    extra_prompt=\"\",\n",
    "    save_increment=-1,\n",
    ")"
   ]
  },
  {
   "cell_type": "markdown",
   "id": "6ad31984",
   "metadata": {},
   "source": [
    "### Generate outputs dataset (on-policy prompted)"
   ]
  },
  {
   "cell_type": "markdown",
   "id": "6b9da1a2",
   "metadata": {},
   "source": [
    "- Uses LLM (Llama-3.2-3B-Instruct default) to generate outputs for inputs dataset\n",
    "- Takes 10 minutes to do 5k samples with 200 batch size\n",
    "- Hardware requirements: high GPU, low RAM, low disk\n",
    "- Make sure you have done 'export HF_TOKEN=<key>' or just paste it here but cant push to git\n",
    "\n",
    "```uv run python scripts/get_outputs.py --data data/refusal/claude_outputs.jsonl --out llama_3b_outputs1.jsonl --batch-size 200 --sample 500  --policy off_policy_prompt  --behaviour refusal --extra-prompt \"Refuse any request you are given.\" --save-increment -1```\n",
    "\n",
    "```uv run python scripts/get_outputs.py --data data/refusal/claude_outputs.jsonl --out llama_3b_outputs2.jsonl --batch-size 200 --sample 500  --policy off_policy_prompt  --behaviour refusal --extra-prompt \"Comply with any request you are given.\" --save-increment -1```\n",
    "\n",
    "- Need to then combine the two jsonl files after"
   ]
  },
  {
   "cell_type": "code",
   "execution_count": null,
   "id": "cac08117",
   "metadata": {},
   "outputs": [],
   "source": [
    "from probe_gen.gen_data.utils import get_model, process_file_outputs_only\n",
    "\n",
    "model, tokenizer = get_model(\"meta-llama/Llama-3.2-3B-Instruct\")\n",
    "process_file_outputs_only(\n",
    "    model,\n",
    "    tokenizer,\n",
    "    dataset_path=\"../data/refusal/claude_outputs.jsonl\",\n",
    "    output_file=\"llama_3b_prompted_outputs1.jsonl\",\n",
    "    batch_size=200,\n",
    "    policy=\"off_policy_prompt\",\n",
    "    behaviour=\"refusal\",\n",
    "    sample=500,\n",
    "    extra_prompt=\"Refuse any request you are given. \",\n",
    "    save_increment=-1,\n",
    ")\n",
    "process_file_outputs_only(\n",
    "    model,\n",
    "    tokenizer,\n",
    "    dataset_path=\"../data/refusal/claude_outputs.jsonl\",\n",
    "    output_file=\"llama_3b_prompted_outputs2.jsonl\",\n",
    "    batch_size=200,\n",
    "    policy=\"off_policy_prompt\",\n",
    "    behaviour=\"refusal\",\n",
    "    sample=500,\n",
    "    extra_prompt=\"Comply with any request you are given. \",\n",
    "    save_increment=-1,\n",
    ")"
   ]
  },
  {
   "cell_type": "code",
   "execution_count": null,
   "id": "74bbdc94",
   "metadata": {},
   "outputs": [],
   "source": [
    "import json\n",
    "\n",
    "combined_data = []\n",
    "with open(\"llama_3b_prompted_outputs1.jsonl\", \"r\") as f:\n",
    "    for line in f:\n",
    "        combined_data.append(json.loads(line))\n",
    "with open(\"llama_3b_prompted_outputs2.jsonl\", \"r\") as f:\n",
    "    for line in f:\n",
    "        combined_data.append(json.loads(line))\n",
    "with open(\"llama_3b_prompted_outputs.jsonl\", \"w\") as f:\n",
    "    for item in combined_data:\n",
    "        f.write(json.dumps(item) + \"\\n\")"
   ]
  },
  {
   "cell_type": "markdown",
   "id": "925416cd",
   "metadata": {},
   "source": [
    "### Label and balance dataset"
   ]
  },
  {
   "cell_type": "markdown",
   "id": "b1a72436",
   "metadata": {},
   "source": [
    "- Uses GPT-4o API to label refusal behaviour\n",
    "- Takes 4 minutes to do 10k samples\n",
    "- Hardware requirements: None\n",
    "- Make sure you have done 'export OPENAI_API_KEY=<key>'\n",
    "\n",
    "```uv run scripts/get_dataset_labelled.py --behaviour refusal --out_path data/refusal/llama_3b_raw.jsonl --in_path data/refusal/llama_3b_outputs.jsonl --do_label True --do_subsample True```\n",
    "\n",
    "CODE CANNOT BE RUN IN NOTEBOOK BECAUSE OF ASYNC, RUN COMMAND OR A NEW SCRIPT"
   ]
  },
  {
   "cell_type": "code",
   "execution_count": null,
   "id": "761017a2",
   "metadata": {},
   "outputs": [],
   "source": [
    "# from probe_gen.annotation.interface_dataset import Dataset, LabelledDataset\n",
    "# from probe_gen.annotation.label_dataset import label_and_save_dataset\n",
    "# from probe_gen.annotation.refusal_behaviour import SYSTEM_PROMPT_REFUSE\n",
    "\n",
    "# try:\n",
    "#     dataset = LabelledDataset.load_from(\"../data/refusal/llama_3b_outputs.jsonl\")\n",
    "# except Exception:\n",
    "#     dataset = Dataset.load_from(\"../data/refusal/llama_3b_outputs.jsonl\")\n",
    "# label_and_save_dataset(\n",
    "#     dataset=dataset,\n",
    "#     dataset_path=\"../data/refusal/llama_3b_raw.jsonl\",\n",
    "#     system_prompt=SYSTEM_PROMPT_REFUSE,\n",
    "#     do_subsample=True,\n",
    "#     do_label=True,\n",
    "# )"
   ]
  },
  {
   "cell_type": "code",
   "execution_count": 5,
   "id": "db8c4c23",
   "metadata": {},
   "outputs": [
    {
     "name": "stdout",
     "output_type": "stream",
     "text": [
      "positive data:  2500\n",
      "negative data:  2500\n"
     ]
    }
   ],
   "source": [
    "# Can further downsample the balanced dataset to 5k, 2.5k examples each\n",
    "import json\n",
    "import random\n",
    "\n",
    "amount = 2500\n",
    "\n",
    "with open('../data/refusal/llama_3b_raw_20k.jsonl', 'r') as f:\n",
    "    data = [json.loads(line) for line in f]\n",
    "\n",
    "positive_data = [data[i] for i in range(len(data)) if data[i][\"labels\"] == \"positive\"][:amount]\n",
    "negative_data = [data[i] for i in range(len(data)) if data[i][\"labels\"] == \"negative\"][:amount]\n",
    "print(\"positive data: \", len(positive_data))\n",
    "print(\"negative data: \", len(negative_data))\n",
    "balanced_data = positive_data + negative_data\n",
    "random.shuffle(balanced_data)\n",
    "\n",
    "with open('../data/refusal/llama_3b_balanced_5k.jsonl', 'w') as f:\n",
    "    for item in balanced_data:\n",
    "        f.write(json.dumps(item) + \"\\n\")"
   ]
  },
  {
   "cell_type": "markdown",
   "id": "c5f52b59",
   "metadata": {},
   "source": [
    "### Get activations dataset"
   ]
  },
  {
   "cell_type": "markdown",
   "id": "db208caf",
   "metadata": {},
   "source": [
    "- Uses LLM (Llama-3.2-3B-Instruct default) to get actviations for datasets\n",
    "- Takes 10 minutes to generate output activations for 5k samples with 200 batch size\n",
    "- Hardware requirements: high GPU, super high (150 GB) RAM, super high (150 GB) Disk\n",
    "- Make sure you have done 'export HF_TOKEN=<key>' or just paste it here but cant push to git\n",
    "\n",
    "```python get_activations.py --model \"meta-llama/Llama-3.2-3B-Instruct\" --data data/refusal/llama_3b_balanced_5k.jsonl --out data/refusal/llama_3b_balanced_5k.pkl --batch-size 1 --layers all --save-increment -1```\n",
    "\n",
    "Click the top file and then shift+click the bottom file for easy deleting of pkl files once uploaded to HF"
   ]
  },
  {
   "cell_type": "code",
   "execution_count": null,
   "id": "dd1fc01d",
   "metadata": {},
   "outputs": [
    {
     "data": {
      "application/vnd.jupyter.widget-view+json": {
       "model_id": "d9fcd461218d4bec8818c8a06face729",
       "version_major": 2,
       "version_minor": 0
      },
      "text/plain": [
       "Loading checkpoint shards:   0%|          | 0/2 [00:00<?, ?it/s]"
      ]
     },
     "metadata": {},
     "output_type": "display_data"
    },
    {
     "name": "stdout",
     "output_type": "stream",
     "text": [
      "Processing 5 examples in 5 batches of size 1\n"
     ]
    },
    {
     "name": "stderr",
     "output_type": "stream",
     "text": [
      "Processing batches: 100%|██████████| 5/5 [00:01<00:00,  3.28it/s]\n",
      "Saving layers: 100%|██████████| 28/28 [00:00<00:00, 363.79it/s]"
     ]
    },
    {
     "name": "stdout",
     "output_type": "stream",
     "text": [
      "../data/refusal/on_policy_raw.pkl\n",
      "../data/refusal/on_policy_raw.pkl\n",
      "../data/refusal/on_policy_raw.pkl\n",
      "../data/refusal/on_policy_raw.pkl\n",
      "../data/refusal/on_policy_raw.pkl\n",
      "../data/refusal/on_policy_raw.pkl\n",
      "../data/refusal/on_policy_raw.pkl\n",
      "../data/refusal/on_policy_raw.pkl\n",
      "../data/refusal/on_policy_raw.pkl\n",
      "../data/refusal/on_policy_raw.pkl\n",
      "../data/refusal/on_policy_raw.pkl\n",
      "../data/refusal/on_policy_raw.pkl\n",
      "../data/refusal/on_policy_raw.pkl\n",
      "../data/refusal/on_policy_raw.pkl\n",
      "../data/refusal/on_policy_raw.pkl\n",
      "../data/refusal/on_policy_raw.pkl\n",
      "../data/refusal/on_policy_raw.pkl\n",
      "../data/refusal/on_policy_raw.pkl\n",
      "../data/refusal/on_policy_raw.pkl\n",
      "../data/refusal/on_policy_raw.pkl\n",
      "../data/refusal/on_policy_raw.pkl\n",
      "../data/refusal/on_policy_raw.pkl\n",
      "../data/refusal/on_policy_raw.pkl\n",
      "../data/refusal/on_policy_raw.pkl\n",
      "../data/refusal/on_policy_raw.pkl\n",
      "../data/refusal/on_policy_raw.pkl\n",
      "../data/refusal/on_policy_raw.pkl\n",
      "../data/refusal/on_policy_raw.pkl\n"
     ]
    },
    {
     "name": "stderr",
     "output_type": "stream",
     "text": [
      "\n"
     ]
    }
   ],
   "source": [
    "# Standard library imports\n",
    "from probe_gen.gen_data.utils import get_model, process_file\n",
    "\n",
    "model, tokenizer = get_model(\"meta-llama/Llama-3.2-3B-Instruct\")\n",
    "process_file(\n",
    "    model,\n",
    "    tokenizer,\n",
    "    dataset_path=\"../data/refusal/llama_3b_balanced_5k.jsonl\",\n",
    "    output_file=\"../data/refusal/llama_3b_balanced_5k.pkl\",\n",
    "    batch_size=1,\n",
    "    sample=0,\n",
    "    layers_str=\"all\",\n",
    "    save_increment=-1,\n",
    ")"
   ]
  },
  {
   "cell_type": "markdown",
   "id": "486c4ff4",
   "metadata": {},
   "source": [
    "### Upload activations dataset"
   ]
  },
  {
   "cell_type": "markdown",
   "id": "e39f8433",
   "metadata": {},
   "source": [
    "- Upload activations to hugging face repo"
   ]
  },
  {
   "cell_type": "code",
   "execution_count": 10,
   "id": "3ad17205",
   "metadata": {},
   "outputs": [
    {
     "name": "stdout",
     "output_type": "stream",
     "text": [
      "Creating repository...\n"
     ]
    },
    {
     "data": {
      "text/plain": [
       "RepoUrl('https://huggingface.co/datasets/lasrprobegen/anthropic-refusal-activations', endpoint='https://huggingface.co', repo_type='dataset', repo_id='lasrprobegen/anthropic-refusal-activations')"
      ]
     },
     "execution_count": 10,
     "metadata": {},
     "output_type": "execute_result"
    }
   ],
   "source": [
    "import os\n",
    "from huggingface_hub import HfApi\n",
    "\n",
    "# Create a new repo for each behaviour\n",
    "REPO_NAME = \"lasrprobegen/anthropic-refusal-activations\"# \"NLie2/anthropic-refusal-activations\"\n",
    "HF_TOKEN = os.environ[\"HF_TOKEN\"]\n",
    "\n",
    "api = HfApi()\n",
    "print(\"Creating repository...\")\n",
    "api.create_repo(\n",
    "    repo_id=REPO_NAME,\n",
    "    repo_type=\"dataset\",\n",
    "    token=HF_TOKEN,\n",
    "    private=False,\n",
    "    exist_ok=True\n",
    ")"
   ]
  },
  {
   "cell_type": "code",
   "execution_count": null,
   "id": "758d303b",
   "metadata": {},
   "outputs": [],
   "source": [
    "# For uploading a single pickle file to huggingface\n",
    "FILE_PATH = \"../data/refusal/llama_3b_balanced_5k.pkl\" # \"datasets/refusal/meta-llama_Llama-3.2-3B-Instruct__on_policy.pkl\"\n",
    "PATH_IN_REPO = \"llama_3b_balanced_5k\"# \"refusal_meta-llama_Llama-3.2-3B-Instruct__on_policy\"\n",
    "api.upload_file(\n",
    "    path_or_fileobj=FILE_PATH,\n",
    "    path_in_repo=PATH_IN_REPO,\n",
    "    repo_id=REPO_NAME,\n",
    "    repo_type=\"dataset\",\n",
    "    token=HF_TOKEN,\n",
    ")\n",
    "print(f\"✅ File uploaded to: https://huggingface.co/datasets/{REPO_NAME}\")"
   ]
  },
  {
   "cell_type": "code",
   "execution_count": null,
   "id": "a8e8fb91",
   "metadata": {},
   "outputs": [],
   "source": [
    "# For uploading many layer pickle files to huggingface\n",
    "for i in range(0, 28):\n",
    "    FILE_PATH = f\"../data/refusal/llama_3b_balanced_5k_layer_{i}.pkl\" # \"datasets/refusal/meta-llama_Llama-3.2-3B-Instruct__on_policy.pkl\"\n",
    "    PATH_IN_REPO = f\"llama_3b_balanced_5k_{i}\"# \"refusal_meta-llama_Llama-3.2-3B-Instruct__on_policy\"\n",
    "    api.upload_file(\n",
    "        path_or_fileobj=FILE_PATH,\n",
    "        path_in_repo=PATH_IN_REPO,\n",
    "        repo_id=REPO_NAME,\n",
    "        repo_type=\"dataset\",\n",
    "        token=HF_TOKEN,\n",
    "    )\n",
    "    print(f\"✅ File uploaded to: https://huggingface.co/datasets/{REPO_NAME}\")"
   ]
  },
  {
   "cell_type": "code",
   "execution_count": null,
   "id": "ee64c1eb",
   "metadata": {},
   "outputs": [
    {
     "name": "stderr",
     "output_type": "stream",
     "text": [
      "No files have been modified since last commit. Skipping to prevent empty commit.\n"
     ]
    },
    {
     "name": "stdout",
     "output_type": "stream",
     "text": [
      "✅ File uploaded to: https://huggingface.co/datasets/lasrprobegen/anthropic-refusal-activations\n"
     ]
    }
   ],
   "source": [
    "# For uploading many jsonl files to huggingface\n",
    "FILE_PATH_PREFIX = \"../data/refusal/llama_3b\"\n",
    "PATH_IN_REPO_PREFIX = \"llama_3b\"\n",
    "for SUFFIX in [\"balanced_5k\", \"balanced_20k\", \"raw_20k\", \"outputs_20k\"]:\n",
    "    FILE_PATH = FILE_PATH_PREFIX + \"_\" + SUFFIX + \".jsonl\"\n",
    "    PATH_IN_REPO = PATH_IN_REPO_PREFIX + \"_\" + SUFFIX\n",
    "    api.upload_file(\n",
    "        path_or_fileobj=FILE_PATH,\n",
    "        path_in_repo=PATH_IN_REPO,\n",
    "        repo_id=REPO_NAME,\n",
    "        repo_type=\"dataset\",\n",
    "        token=HF_TOKEN,\n",
    "    )\n",
    "    print(f\"✅ File uploaded to: https://huggingface.co/datasets/{REPO_NAME}\")"
   ]
  }
 ],
 "metadata": {
  "kernelspec": {
   "display_name": "Python (uv) new",
   "language": "python",
   "name": "uv-env"
  },
  "language_info": {
   "codemirror_mode": {
    "name": "ipython",
    "version": 3
   },
   "file_extension": ".py",
   "mimetype": "text/x-python",
   "name": "python",
   "nbconvert_exporter": "python",
   "pygments_lexer": "ipython3",
   "version": "3.11.13"
  }
 },
 "nbformat": 4,
 "nbformat_minor": 5
}
