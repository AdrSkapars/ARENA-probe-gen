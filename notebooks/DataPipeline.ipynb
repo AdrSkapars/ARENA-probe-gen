{
 "cells": [
  {
   "cell_type": "code",
   "execution_count": null,
   "id": "55de9b6c",
   "metadata": {},
   "outputs": [],
   "source": [
    "%%capture\n",
    "# Run to set environment variables if want to\n",
    "# %env HF_TOKEN=\n",
    "# %env OPENAI_API_KEY="
   ]
  },
  {
   "cell_type": "markdown",
   "id": "70eb078e",
   "metadata": {},
   "source": [
    "## Full Dataset Pipeline"
   ]
  },
  {
   "cell_type": "code",
   "execution_count": 3,
   "id": "57f42525",
   "metadata": {},
   "outputs": [],
   "source": [
    "# global imports\n",
    "from probe_gen.paths import data\n"
   ]
  },
  {
   "cell_type": "markdown",
   "id": "24778ca4",
   "metadata": {},
   "source": [
    "### Sample inputs dataset"
   ]
  },
  {
   "cell_type": "markdown",
   "id": "fcdc3e0e",
   "metadata": {},
   "source": [
    "- Samples dataset from hugging face to jsonl file\n",
    "- For refusal behaviour can save time by doing labelling and subsamplling of off policy outpus at the same time (set to 'yes')\n",
    "\n",
    "```uv run scripts/get_dataset_labelled.py --behaviour refusal --out_path data/refusal/claude_outputs.jsonl --num_samples 1000 --do_label no --do_subsample no```"
   ]
  },
  {
   "cell_type": "code",
   "execution_count": 5,
   "id": "92eecc50",
   "metadata": {},
   "outputs": [
    {
     "name": "stdout",
     "output_type": "stream",
     "text": [
      "Saving the data to /rds/general/user/nk1924/home/LASR-probe-gen/data/refusal/llama-3b-test.json\n"
     ]
    }
   ],
   "source": [
    "from probe_gen.annotation.label_dataset import label_and_save_dataset\n",
    "from probe_gen.annotation.refusal_behaviour import (\n",
    "    SYSTEM_PROMPT_REFUSE,\n",
    "    create_refusal_dataset,\n",
    ")\n",
    "from probe_gen.paths import data\n",
    "\n",
    "dataset = create_refusal_dataset(num_samples=1000)\n",
    "label_and_save_dataset(\n",
    "    dataset=dataset,\n",
    "    dataset_path= data.refusal / \"llama-3b-test.json\" ,\n",
    "    system_prompt=SYSTEM_PROMPT_REFUSE,\n",
    "    do_subsample=False,\n",
    "    do_label=False,\n",
    ")"
   ]
  },
  {
   "cell_type": "markdown",
   "id": "0119e69b",
   "metadata": {},
   "source": [
    "### Generate outputs dataset (on-policy)"
   ]
  },
  {
   "cell_type": "markdown",
   "id": "960c690d",
   "metadata": {},
   "source": [
    "- Uses LLM (Llama-3.2-3B-Instruct default) to generate outputs for inputs dataset\n",
    "- Takes 10 minutes to do 5k samples with 200 batch size\n",
    "- Hardware requirements: high GPU, low RAM, low disk\n",
    "- Make sure you have done 'export HF_TOKEN=<key>' or just paste it here but cant push to git\n",
    "\n",
    "```uv run scripts/get_outputs.py --data data/refusal/claude_outputs.jsonl --out llama_3b_outputs.jsonl --batch-size 200 --sample 0  --policy on_policy --behaviour refusal --save-increment -1```"
   ]
  },
  {
   "cell_type": "code",
   "execution_count": null,
   "id": "9f2d3ac1",
   "metadata": {},
   "outputs": [],
   "source": [
    "from probe_gen.gen_data.utils import get_model, process_file_outputs_only\n",
    "\n",
    "model, tokenizer = get_model(\"meta-llama/Llama-3.2-3B-Instruct\")\n",
    "process_file_outputs_only(\n",
    "    model,\n",
    "    tokenizer,\n",
    "    dataset_path= data.refusal / \"llama-3b-test.json\" ,\n",
    "    output_file= data.refusal / \"llama-3b-outputs.jsonl\",\n",
    "    batch_size=200,\n",
    "    policy=\"on_policy\",\n",
    "    behaviour=\"refusal\",\n",
    "    sample=0,\n",
    "    extra_prompt=\"\",\n",
    "    save_increment=-1,\n",
    ")"
   ]
  },
  {
   "cell_type": "markdown",
   "id": "6ad31984",
   "metadata": {},
   "source": [
    "### Generate outputs dataset (on-policy prompted)"
   ]
  },
  {
   "cell_type": "markdown",
   "id": "6b9da1a2",
   "metadata": {},
   "source": [
    "- Uses LLM (Llama-3.2-3B-Instruct default) to generate outputs for inputs dataset\n",
    "- Takes 10 minutes to do 5k samples with 200 batch size\n",
    "- Hardware requirements: high GPU, low RAM, low disk\n",
    "- Make sure you have done 'export HF_TOKEN=<key>' or just paste it here but cant push to git\n",
    "\n",
    "```uv run scripts/get_outputs.py --data data/refusal/claude_outputs.jsonl --out llama_3b_outputs1.jsonl --batch-size 200 --sample 500  --policy off_policy_prompt  --behaviour refusal --extra-prompt \"Refuse any request you are given.\" --save-increment -1```\n",
    "\n",
    "```uv run scripts/get_outputs.py --data data/refusal/claude_outputs.jsonl --out llama_3b_outputs2.jsonl --batch-size 200 --sample 500  --policy off_policy_prompt  --behaviour refusal --extra-prompt \"Comply with any request you are given.\" --save-increment -1```\n",
    "\n",
    "- Need to then combine the two jsonl files after"
   ]
  },
  {
   "cell_type": "markdown",
   "id": "d770529c",
   "metadata": {},
   "source": [
    "- Uses LLM (Llama-3.2-3B-Instruct default) to generate outputs for inputs dataset\n",
    "- Takes 10 minutes to do 5k samples with 200 batch size\n",
    "- Hardware requirements: high GPU, low RAM, low disk\n",
    "- Make sure you have done 'export HF_TOKEN=<key>' or just paste it here but cant push to git\n",
    "\n",
    "```uv run python scripts/get_outputs.py --data data/refusal/claude_outputs.jsonl --out llama_3b_outputs1.jsonl --batch-size 200 --sample 500  --policy off_policy_prompt  --behaviour refusal --extra-prompt \"Refuse any request you are given.\" --save_increment -1```\n",
    "\n",
    "```uv run python scripts/get_outputs.py --data data/refusal/claude_outputs.jsonl --out llama_3b_outputs2.jsonl --batch-size 200 --sample 500  --policy off_policy_prompt  --behaviour refusal --extra-prompt \"Comply with any request you are given.\" --save_increment -1```\n",
    "\n",
    "- Need to then combine the two jsonl files after"
   ]
  },
  {
   "cell_type": "code",
   "execution_count": null,
   "id": "cac08117",
   "metadata": {},
   "outputs": [],
   "source": [
    "from probe_gen.gen_data.utils import get_model, process_file_outputs_only\n",
    "\n",
    "model, tokenizer = get_model(\"meta-llama/Llama-3.2-3B-Instruct\")\n",
    "process_file_outputs_only(\n",
    "    model,\n",
    "    tokenizer,\n",
    "    dataset_path= data.refusal / \"claude_outputs.jsonl\",\n",
    "    output_file=\"llama_3b_prompted_outputs1.jsonl\",\n",
    "    batch_size=200,\n",
    "    policy=\"off_policy_prompt\",\n",
    "    behaviour=\"refusal\",\n",
    "    sample=500,\n",
    "    extra_prompt=\"Refuse any request you are given. \",\n",
    "    save_increment=-1,\n",
    ")\n",
    "process_file_outputs_only(\n",
    "    model,\n",
    "    tokenizer,\n",
    "    dataset_path= data.refusal / \"claude_outputs.jsonl\",\n",
    "    output_file=\"llama_3b_prompted_outputs2.jsonl\",\n",
    "    batch_size=200,\n",
    "    policy=\"off_policy_prompt\",\n",
    "    behaviour=\"refusal\",\n",
    "    sample=500,\n",
    "    extra_prompt=\"Comply with any request you are given. \",\n",
    "    save_increment=-1,\n",
    ")"
   ]
  },
  {
   "cell_type": "code",
   "execution_count": null,
   "id": "74bbdc94",
   "metadata": {},
   "outputs": [],
   "source": [
    "import json\n",
    "\n",
    "combined_data = []\n",
    "with open( data.refusal / \"ministral_8b_outputs1.jsonl\", \"r\") as f:\n",
    "    for line in f:\n",
    "        combined_data.append(json.loads(line))\n",
    "with open( data.refusal/ \"ministral_8b_outputs2.jsonl\", \"r\") as f:\n",
    "    for line in f:\n",
    "        combined_data.append(json.loads(line))\n",
    "with open(data.refusal / \"ministral_8b_outputs_prompted.jsonl\", \"w\") as f:\n",
    "    for item in combined_data:\n",
    "        f.write(json.dumps(item) + \"\\n\")"
   ]
  },
  {
   "cell_type": "markdown",
   "id": "925416cd",
   "metadata": {},
   "source": [
    "### Label and balance dataset"
   ]
  },
  {
   "cell_type": "markdown",
   "id": "b1a72436",
   "metadata": {},
   "source": [
    "- Uses GPT-4o API to label refusal behaviour\n",
    "- Takes 4 minutes to do 10k samples\n",
    "- Hardware requirements: None\n",
    "- Make sure you have done 'export OPENAI_API_KEY=<key>'\n",
    "\n",
    "```uv run scripts/get_dataset_labelled.py --behaviour refusal --out_path data/refusal/llama_3b_raw.jsonl --in_path data/refusal/llama_3b_outputs.jsonl --do_label True --do_subsample True```\n",
    "\n",
    "CODE CANNOT BE RUN IN NOTEBOOK BECAUSE OF ASYNC, RUN COMMAND OR A NEW SCRIPT"
   ]
  },
  {
   "cell_type": "code",
   "execution_count": null,
   "id": "761017a2",
   "metadata": {},
   "outputs": [],
   "source": [
    "# from probe_gen.annotation.interface_dataset import Dataset, LabelledDataset\n",
    "# from probe_gen.annotation.label_dataset import label_and_save_dataset\n",
    "# from probe_gen.annotation.refusal_behaviour import SYSTEM_PROMPT_REFUSE\n",
    "\n",
    "# try:\n",
    "#     dataset = LabelledDataset.load_from(\"../data/refusal/llama_3b_outputs.jsonl\")\n",
    "# except Exception:\n",
    "#     dataset = Dataset.load_from(\"../data/refusal/llama_3b_outputs.jsonl\")\n",
    "# label_and_save_dataset(\n",
    "#     dataset=dataset,\n",
    "#     dataset_path=\"../data/refusal/llama_3b_raw.jsonl\",\n",
    "#     system_prompt=SYSTEM_PROMPT_REFUSE,\n",
    "#     do_subsample=True,\n",
    "#     do_label=True,\n",
    "# )"
   ]
  },
  {
   "cell_type": "code",
   "execution_count": 5,
   "id": "db8c4c23",
   "metadata": {},
   "outputs": [
    {
     "name": "stdout",
     "output_type": "stream",
     "text": [
      "positive data:  2500\n",
      "negative data:  2500\n"
     ]
    }
   ],
   "source": [
    "# Can further downsample the balanced dataset to 5k, 2.5k examples each\n",
    "import json\n",
    "import random\n",
    "\n",
    "amount = 2500\n",
    "\n",
    "with open(data.refusal / 'llama_3b_raw_20k.jsonl', 'r') as f:\n",
    "    data = [json.loads(line) for line in f]\n",
    "\n",
    "positive_data = [data[i] for i in range(len(data)) if data[i][\"labels\"] == \"positive\"][:amount]\n",
    "negative_data = [data[i] for i in range(len(data)) if data[i][\"labels\"] == \"negative\"][:amount]\n",
    "print(\"positive data: \", len(positive_data))\n",
    "print(\"negative data: \", len(negative_data))\n",
    "balanced_data = positive_data + negative_data\n",
    "random.shuffle(balanced_data)\n",
    "\n",
    "with open(data.refusal / 'llama_3b_balanced_5k.jsonl', 'w') as f:\n",
    "    for item in balanced_data:\n",
    "        f.write(json.dumps(item) + \"\\n\")"
   ]
  },
  {
   "cell_type": "markdown",
   "id": "c5f52b59",
   "metadata": {},
   "source": [
    "### Get activations dataset"
   ]
  },
  {
   "cell_type": "markdown",
   "id": "db208caf",
   "metadata": {},
   "source": [
    "- Uses LLM (Llama-3.2-3B-Instruct default) to get actviations for datasets\n",
    "- Takes 10 minutes to generate output activations for 5k samples with 200 batch size\n",
    "- Hardware requirements: high GPU, super high (150 GB) RAM, super high (150 GB) Disk\n",
    "- Make sure you have done 'export HF_TOKEN=<key>' or just paste it here but cant push to git\n",
    "\n",
    "```uv run scripts/get_activations.py --model \"meta-llama/Llama-3.2-3B-Instruct\" --data data/refusal/llama_3b_balanced_5k.jsonl --batch-size 1 --layers \"0,3,6,9,12,15,18,21,24,27\" --save-increment -1```\n",
    "\n",
    "Click the top file and then shift+click the bottom file for easy deleting of pkl files once uploaded to HF"
   ]
  },
  {
   "cell_type": "code",
   "execution_count": null,
   "id": "dd1fc01d",
   "metadata": {},
   "outputs": [],
   "source": [
    "# Standard library imports\n",
    "from probe_gen.gen_data.utils import get_model, process_file\n",
    "\n",
    "model, tokenizer = get_model(\"meta-llama/Llama-3.2-3B-Instruct\")\n",
    "process_file(\n",
    "    model,\n",
    "    tokenizer,\n",
    "    dataset_path= data.refusal / \"llama_3b_balanced_5k.jsonl\",\n",
    "    output_file= data.refusal \"llama_3b_balanced_5k.pkl\",\n",
    "    batch_size=1,\n",
    "    sample=0,\n",
    "    layers_str=\"0,3,6,9,12,15,18,21,24,27\",\n",
    "    save_increment=-1,\n",
    ")"
   ]
  },
  {
   "cell_type": "markdown",
   "id": "486c4ff4",
   "metadata": {},
   "source": [
    "### Upload activations dataset"
   ]
  },
  {
   "cell_type": "markdown",
   "id": "e39f8433",
   "metadata": {},
   "source": [
    "- Upload activations to hugging face repo"
   ]
  },
  {
   "cell_type": "code",
   "execution_count": null,
   "id": "3ad17205",
   "metadata": {},
   "outputs": [],
   "source": [
    "import os\n",
    "from huggingface_hub import HfApi\n",
    "\n",
    "# Create a new repo for each behaviour\n",
    "REPO_NAME = \"lasrprobegen/anthropic-refusal-activations\"# \"NLie2/anthropic-refusal-activations\"\n",
    "HF_TOKEN = os.environ[\"HF_TOKEN\"]\n",
    "\n",
    "api = HfApi()\n",
    "print(\"Creating repository...\")\n",
    "api.create_repo(\n",
    "    repo_id=REPO_NAME,\n",
    "    repo_type=\"dataset\",\n",
    "    token=HF_TOKEN,\n",
    "    private=False,\n",
    "    exist_ok=True\n",
    ")"
   ]
  },
  {
   "cell_type": "code",
   "execution_count": null,
   "id": "758d303b",
   "metadata": {},
   "outputs": [
    {
     "ename": "ValueError",
     "evalue": "Provided path: '../data/refusal/ministral_8b_outputs.jsonl' is not a file on the local file system",
     "output_type": "error",
     "traceback": [
      "\u001b[31m---------------------------------------------------------------------------\u001b[39m",
      "\u001b[31mValueError\u001b[39m                                Traceback (most recent call last)",
      "\u001b[36mCell\u001b[39m\u001b[36m \u001b[39m\u001b[32mIn[4]\u001b[39m\u001b[32m, line 4\u001b[39m\n\u001b[32m      2\u001b[39m FILE_PATH = \u001b[33m\"\u001b[39m\u001b[33m../data/refusal/ministral_8b_outputs.jsonl\u001b[39m\u001b[33m\"\u001b[39m \u001b[38;5;66;03m# \"../data/refusal/llama_3b_balanced_5k.pkl\" # \"datasets/refusal/meta-llama_Llama-3.2-3B-Instruct__on_policy.pkl\"\u001b[39;00m\n\u001b[32m      3\u001b[39m PATH_IN_REPO = \u001b[33m\"\u001b[39m\u001b[33mrefusal_ministral_8b_outputs_prompted.jsonl\u001b[39m\u001b[33m\"\u001b[39m\u001b[38;5;66;03m# \"refusal_meta-llama_Llama-3.2-3B-Instruct__on_policy\"\u001b[39;00m\n\u001b[32m----> \u001b[39m\u001b[32m4\u001b[39m \u001b[43mapi\u001b[49m\u001b[43m.\u001b[49m\u001b[43mupload_file\u001b[49m\u001b[43m(\u001b[49m\n\u001b[32m      5\u001b[39m \u001b[43m    \u001b[49m\u001b[43mpath_or_fileobj\u001b[49m\u001b[43m=\u001b[49m\u001b[43mFILE_PATH\u001b[49m\u001b[43m,\u001b[49m\n\u001b[32m      6\u001b[39m \u001b[43m    \u001b[49m\u001b[43mpath_in_repo\u001b[49m\u001b[43m=\u001b[49m\u001b[43mPATH_IN_REPO\u001b[49m\u001b[43m,\u001b[49m\n\u001b[32m      7\u001b[39m \u001b[43m    \u001b[49m\u001b[43mrepo_id\u001b[49m\u001b[43m=\u001b[49m\u001b[43mREPO_NAME\u001b[49m\u001b[43m,\u001b[49m\n\u001b[32m      8\u001b[39m \u001b[43m    \u001b[49m\u001b[43mrepo_type\u001b[49m\u001b[43m=\u001b[49m\u001b[33;43m\"\u001b[39;49m\u001b[33;43mdataset\u001b[39;49m\u001b[33;43m\"\u001b[39;49m\u001b[43m,\u001b[49m\n\u001b[32m      9\u001b[39m \u001b[43m    \u001b[49m\u001b[43mtoken\u001b[49m\u001b[43m=\u001b[49m\u001b[43mHF_TOKEN\u001b[49m\u001b[43m,\u001b[49m\n\u001b[32m     10\u001b[39m \u001b[43m)\u001b[49m\n\u001b[32m     11\u001b[39m \u001b[38;5;28mprint\u001b[39m(\u001b[33mf\u001b[39m\u001b[33m\"\u001b[39m\u001b[33m✅ File uploaded to: https://huggingface.co/datasets/\u001b[39m\u001b[38;5;132;01m{\u001b[39;00mREPO_NAME\u001b[38;5;132;01m}\u001b[39;00m\u001b[33m\"\u001b[39m)\n",
      "\u001b[36mFile \u001b[39m\u001b[32m~/LASR-probe-gen/.venv/lib64/python3.11/site-packages/huggingface_hub/utils/_validators.py:114\u001b[39m, in \u001b[36mvalidate_hf_hub_args.<locals>._inner_fn\u001b[39m\u001b[34m(*args, **kwargs)\u001b[39m\n\u001b[32m    111\u001b[39m \u001b[38;5;28;01mif\u001b[39;00m check_use_auth_token:\n\u001b[32m    112\u001b[39m     kwargs = smoothly_deprecate_use_auth_token(fn_name=fn.\u001b[34m__name__\u001b[39m, has_token=has_token, kwargs=kwargs)\n\u001b[32m--> \u001b[39m\u001b[32m114\u001b[39m \u001b[38;5;28;01mreturn\u001b[39;00m \u001b[43mfn\u001b[49m\u001b[43m(\u001b[49m\u001b[43m*\u001b[49m\u001b[43margs\u001b[49m\u001b[43m,\u001b[49m\u001b[43m \u001b[49m\u001b[43m*\u001b[49m\u001b[43m*\u001b[49m\u001b[43mkwargs\u001b[49m\u001b[43m)\u001b[49m\n",
      "\u001b[36mFile \u001b[39m\u001b[32m~/LASR-probe-gen/.venv/lib64/python3.11/site-packages/huggingface_hub/hf_api.py:1669\u001b[39m, in \u001b[36mfuture_compatible.<locals>._inner\u001b[39m\u001b[34m(self, *args, **kwargs)\u001b[39m\n\u001b[32m   1666\u001b[39m     \u001b[38;5;28;01mreturn\u001b[39;00m \u001b[38;5;28mself\u001b[39m.run_as_future(fn, \u001b[38;5;28mself\u001b[39m, *args, **kwargs)\n\u001b[32m   1668\u001b[39m \u001b[38;5;66;03m# Otherwise, call the function normally\u001b[39;00m\n\u001b[32m-> \u001b[39m\u001b[32m1669\u001b[39m \u001b[38;5;28;01mreturn\u001b[39;00m \u001b[43mfn\u001b[49m\u001b[43m(\u001b[49m\u001b[38;5;28;43mself\u001b[39;49m\u001b[43m,\u001b[49m\u001b[43m \u001b[49m\u001b[43m*\u001b[49m\u001b[43margs\u001b[49m\u001b[43m,\u001b[49m\u001b[43m \u001b[49m\u001b[43m*\u001b[49m\u001b[43m*\u001b[49m\u001b[43mkwargs\u001b[49m\u001b[43m)\u001b[49m\n",
      "\u001b[36mFile \u001b[39m\u001b[32m~/LASR-probe-gen/.venv/lib64/python3.11/site-packages/huggingface_hub/hf_api.py:4705\u001b[39m, in \u001b[36mHfApi.upload_file\u001b[39m\u001b[34m(self, path_or_fileobj, path_in_repo, repo_id, token, repo_type, revision, commit_message, commit_description, create_pr, parent_commit, run_as_future)\u001b[39m\n\u001b[32m   4700\u001b[39m     \u001b[38;5;28;01mraise\u001b[39;00m \u001b[38;5;167;01mValueError\u001b[39;00m(\u001b[33mf\u001b[39m\u001b[33m\"\u001b[39m\u001b[33mInvalid repo type, must be one of \u001b[39m\u001b[38;5;132;01m{\u001b[39;00mconstants.REPO_TYPES\u001b[38;5;132;01m}\u001b[39;00m\u001b[33m\"\u001b[39m)\n\u001b[32m   4702\u001b[39m commit_message = (\n\u001b[32m   4703\u001b[39m     commit_message \u001b[38;5;28;01mif\u001b[39;00m commit_message \u001b[38;5;129;01mis\u001b[39;00m \u001b[38;5;129;01mnot\u001b[39;00m \u001b[38;5;28;01mNone\u001b[39;00m \u001b[38;5;28;01melse\u001b[39;00m \u001b[33mf\u001b[39m\u001b[33m\"\u001b[39m\u001b[33mUpload \u001b[39m\u001b[38;5;132;01m{\u001b[39;00mpath_in_repo\u001b[38;5;132;01m}\u001b[39;00m\u001b[33m with huggingface_hub\u001b[39m\u001b[33m\"\u001b[39m\n\u001b[32m   4704\u001b[39m )\n\u001b[32m-> \u001b[39m\u001b[32m4705\u001b[39m operation = \u001b[43mCommitOperationAdd\u001b[49m\u001b[43m(\u001b[49m\n\u001b[32m   4706\u001b[39m \u001b[43m    \u001b[49m\u001b[43mpath_or_fileobj\u001b[49m\u001b[43m=\u001b[49m\u001b[43mpath_or_fileobj\u001b[49m\u001b[43m,\u001b[49m\n\u001b[32m   4707\u001b[39m \u001b[43m    \u001b[49m\u001b[43mpath_in_repo\u001b[49m\u001b[43m=\u001b[49m\u001b[43mpath_in_repo\u001b[49m\u001b[43m,\u001b[49m\n\u001b[32m   4708\u001b[39m \u001b[43m\u001b[49m\u001b[43m)\u001b[49m\n\u001b[32m   4710\u001b[39m commit_info = \u001b[38;5;28mself\u001b[39m.create_commit(\n\u001b[32m   4711\u001b[39m     repo_id=repo_id,\n\u001b[32m   4712\u001b[39m     repo_type=repo_type,\n\u001b[32m   (...)\u001b[39m\u001b[32m   4719\u001b[39m     parent_commit=parent_commit,\n\u001b[32m   4720\u001b[39m )\n\u001b[32m   4722\u001b[39m \u001b[38;5;28;01mif\u001b[39;00m commit_info.pr_url \u001b[38;5;129;01mis\u001b[39;00m \u001b[38;5;129;01mnot\u001b[39;00m \u001b[38;5;28;01mNone\u001b[39;00m:\n",
      "\u001b[36mFile \u001b[39m\u001b[32m<string>:5\u001b[39m, in \u001b[36m__init__\u001b[39m\u001b[34m(self, path_in_repo, path_or_fileobj)\u001b[39m\n",
      "\u001b[36mFile \u001b[39m\u001b[32m~/LASR-probe-gen/.venv/lib64/python3.11/site-packages/huggingface_hub/_commit_api.py:181\u001b[39m, in \u001b[36mCommitOperationAdd.__post_init__\u001b[39m\u001b[34m(self)\u001b[39m\n\u001b[32m    179\u001b[39m     path_or_fileobj = os.path.normpath(os.path.expanduser(\u001b[38;5;28mself\u001b[39m.path_or_fileobj))\n\u001b[32m    180\u001b[39m     \u001b[38;5;28;01mif\u001b[39;00m \u001b[38;5;129;01mnot\u001b[39;00m os.path.isfile(path_or_fileobj):\n\u001b[32m--> \u001b[39m\u001b[32m181\u001b[39m         \u001b[38;5;28;01mraise\u001b[39;00m \u001b[38;5;167;01mValueError\u001b[39;00m(\u001b[33mf\u001b[39m\u001b[33m\"\u001b[39m\u001b[33mProvided path: \u001b[39m\u001b[33m'\u001b[39m\u001b[38;5;132;01m{\u001b[39;00mpath_or_fileobj\u001b[38;5;132;01m}\u001b[39;00m\u001b[33m'\u001b[39m\u001b[33m is not a file on the local file system\u001b[39m\u001b[33m\"\u001b[39m)\n\u001b[32m    182\u001b[39m \u001b[38;5;28;01melif\u001b[39;00m \u001b[38;5;129;01mnot\u001b[39;00m \u001b[38;5;28misinstance\u001b[39m(\u001b[38;5;28mself\u001b[39m.path_or_fileobj, (io.BufferedIOBase, \u001b[38;5;28mbytes\u001b[39m)):\n\u001b[32m    183\u001b[39m     \u001b[38;5;66;03m# ^^ Inspired from: https://stackoverflow.com/questions/44584829/how-to-determine-if-file-is-opened-in-binary-or-text-mode\u001b[39;00m\n\u001b[32m    184\u001b[39m     \u001b[38;5;28;01mraise\u001b[39;00m \u001b[38;5;167;01mValueError\u001b[39;00m(\n\u001b[32m    185\u001b[39m         \u001b[33m\"\u001b[39m\u001b[33mpath_or_fileobj must be either an instance of str, bytes or\u001b[39m\u001b[33m\"\u001b[39m\n\u001b[32m    186\u001b[39m         \u001b[33m\"\u001b[39m\u001b[33m io.BufferedIOBase. If you passed a file-like object, make sure it is\u001b[39m\u001b[33m\"\u001b[39m\n\u001b[32m    187\u001b[39m         \u001b[33m\"\u001b[39m\u001b[33m in binary mode.\u001b[39m\u001b[33m\"\u001b[39m\n\u001b[32m    188\u001b[39m     )\n",
      "\u001b[31mValueError\u001b[39m: Provided path: '../data/refusal/ministral_8b_outputs.jsonl' is not a file on the local file system"
     ]
    }
   ],
   "source": [
    "# For uploading a single pickle file to huggingface\n",
    "FILE_PATH = \"../data/refusal/llama_3b_balanced_5k.pkl\"\n",
    "PATH_IN_REPO = FILE_PATH.split(\"/\")[-1]\n",
    "api.upload_file(\n",
    "    path_or_fileobj=FILE_PATH,\n",
    "    path_in_repo=PATH_IN_REPO,\n",
    "    repo_id=REPO_NAME,\n",
    "    repo_type=\"dataset\",\n",
    "    token=HF_TOKEN,\n",
    ")\n",
    "print(f\"✅ File uploaded to: https://huggingface.co/datasets/{REPO_NAME}\")"
   ]
  },
  {
   "cell_type": "code",
   "execution_count": null,
   "id": "a8e8fb91",
   "metadata": {},
   "outputs": [],
   "source": [
    "# For uploading many layer pickle files to huggingface\n",
    "for i in range(0,28,3):\n",
    "    FILE_PATH = f\"../data/refusal/llama_3b_balanced_5k_layer_{i}.pkl\"\n",
    "    PATH_IN_REPO = FILE_PATH.split(\"/\")[-1]\n",
    "    api.upload_file(\n",
    "        path_or_fileobj=FILE_PATH,\n",
    "        path_in_repo=PATH_IN_REPO,\n",
    "        repo_id=REPO_NAME,\n",
    "        repo_type=\"dataset\",\n",
    "        token=HF_TOKEN,\n",
    "    )\n",
    "    print(f\"✅ File uploaded to: https://huggingface.co/datasets/{REPO_NAME}\")"
   ]
  },
  {
   "cell_type": "code",
   "execution_count": null,
   "id": "ee64c1eb",
   "metadata": {},
   "outputs": [],
   "source": [
    "# For uploading many jsonl files to huggingface\n",
    "FILE_PATH_PREFIX = \"../data/refusal/llama_3b\"\n",
    "for SUFFIX in [\"balanced_5k\", \"balanced_20k\", \"raw_20k\", \"outputs_20k\"]:\n",
    "    FILE_PATH = FILE_PATH_PREFIX + \"_\" + SUFFIX + \".jsonl\"\n",
    "    PATH_IN_REPO = FILE_PATH.split(\"/\")[-1]\n",
    "    api.upload_file(\n",
    "        path_or_fileobj=FILE_PATH,\n",
    "        path_in_repo=PATH_IN_REPO,\n",
    "        repo_id=REPO_NAME,\n",
    "        repo_type=\"dataset\",\n",
    "        token=HF_TOKEN,\n",
    "    )\n",
    "    print(f\"✅ File uploaded to: https://huggingface.co/datasets/{REPO_NAME}\")"
   ]
  }
 ],
 "metadata": {
  "kernelspec": {
   "display_name": "Python (uv)",
   "language": "python",
   "name": "python3"
  },
  "language_info": {
   "codemirror_mode": {
    "name": "ipython",
    "version": 3
   },
   "file_extension": ".py",
   "mimetype": "text/x-python",
   "name": "python",
   "nbconvert_exporter": "python",
   "pygments_lexer": "ipython3",
   "version": "3.11.2"
  }
 },
 "nbformat": 4,
 "nbformat_minor": 5
}
