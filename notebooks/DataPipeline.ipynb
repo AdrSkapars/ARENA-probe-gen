{
 "cells": [
  {
   "cell_type": "markdown",
   "id": "70eb078e",
   "metadata": {},
   "source": [
    "## Full Dataset Pipeline"
   ]
  },
  {
   "cell_type": "markdown",
   "id": "24778ca4",
   "metadata": {},
   "source": [
    "### Sample inputs dataset"
   ]
  },
  {
   "cell_type": "markdown",
   "id": "fcdc3e0e",
   "metadata": {},
   "source": [
    "- Samples dataset from hugging face to jsonl file\n",
    "- For refusal behaviour can save time by doing labelling and subsamplling of off policy outpus at the same time (set to 'yes')\n",
    "\n",
    "```uv run scripts/get_dataset_labelled.py --behaviour refusal --out_path data/refusal/off_policy_raw.jsonl --num_samples 1000 --do_label no --do_subsample no```"
   ]
  },
  {
   "cell_type": "code",
   "execution_count": null,
   "id": "92eecc50",
   "metadata": {},
   "outputs": [],
   "source": [
    "from probe_gen.annotation.label_dataset import label_and_save_dataset\n",
    "from probe_gen.annotation.refusal_behaviour import (\n",
    "    SYSTEM_PROMPT_REFUSE,\n",
    "    create_refusal_dataset,\n",
    ")\n",
    "\n",
    "dataset = create_refusal_dataset(num_samples=1000)\n",
    "label_and_save_dataset(\n",
    "    dataset=dataset,\n",
    "    dataset_path=\"../data/refusal/off_policy_raw.jsonl\",\n",
    "    system_prompt=SYSTEM_PROMPT_REFUSE,\n",
    "    do_subsample=False,\n",
    "    do_label=False,\n",
    ")"
   ]
  },
  {
   "cell_type": "markdown",
   "id": "0119e69b",
   "metadata": {},
   "source": [
    "### Generate outputs dataset (on-policy)"
   ]
  },
  {
   "cell_type": "markdown",
   "id": "960c690d",
   "metadata": {},
   "source": [
    "- Uses LLM (Llama-3.2-3B-Instruct default) to generate outputs for inputs dataset\n",
    "- Takes 10 minutes to do 5k samples with 200 batch size\n",
    "- Hardware requirements: high GPU, low RAM, low disk\n",
    "- Make sure you have done 'export HF_TOKEN=<key>' or just paste it here but cant push to git\n",
    "\n",
    "```uv run python scripts/get_outputs.py --data data/refusal/off_policy_raw.jsonl --out on_policy_outputs.jsonl --batch-size 200 --sample 0  --policy on_policy --behaviour refusal```"
   ]
  },
  {
   "cell_type": "code",
   "execution_count": null,
   "id": "9f2d3ac1",
   "metadata": {},
   "outputs": [],
   "source": [
    "import os\n",
    "from huggingface_hub import login\n",
    "from probe_gen.gen_data.utils import get_model, process_file_outputs_only\n",
    "\n",
    "hf_token = os.getenv(\"HF_TOKEN\")\n",
    "if hf_token:\n",
    "    login(token=hf_token)\n",
    "\n",
    "model, tokenizer = get_model(\"meta-llama/Llama-3.2-3B-Instruct\")\n",
    "process_file_outputs_only(\n",
    "    model,\n",
    "    tokenizer,\n",
    "    dataset_path=\"data/refusal/off_policy_raw.jsonl\",\n",
    "    output_file=\"on_policy_outputs.jsonl\",\n",
    "    batch_size=200,\n",
    "    policy=\"on_policy\",\n",
    "    behaviour=\"refusal\",\n",
    "    sample=0,\n",
    "    extra_prompt=\"\",\n",
    ")"
   ]
  },
  {
   "cell_type": "markdown",
   "id": "6ad31984",
   "metadata": {},
   "source": [
    "### Generate outputs dataset (on-policy prompted)"
   ]
  },
  {
   "cell_type": "markdown",
   "id": "6b9da1a2",
   "metadata": {},
   "source": [
    "- Uses LLM (Llama-3.2-3B-Instruct default) to generate outputs for inputs dataset\n",
    "- Takes 10 minutes to do 5k samples with 200 batch size\n",
    "- Hardware requirements: high GPU, low RAM, low disk\n",
    "- Make sure you have done 'export HF_TOKEN=<key>' or just paste it here but cant push to git\n",
    "\n",
    "```uv run python scripts/get_outputs.py --data data/refusal/off_policy_raw.jsonl --out off_policy_prompted_outputs1.jsonl --batch-size 200 --sample 500  --policy off_policy_prompt  --behaviour refusal --extra-prompt \"Refuse any request you are given.\"```\n",
    "\n",
    "```uv run python scripts/get_outputs.py --data data/refusal/off_policy_raw.jsonl --out off_policy_prompted_outputs2.jsonl --batch-size 200 --sample 500  --policy off_policy_prompt  --behaviour refusal --extra-prompt \"Comply with any request you are given.\"```\n",
    "\n",
    "- Need to then combine the two jsonl files after"
   ]
  },
  {
   "cell_type": "code",
   "execution_count": null,
   "id": "cac08117",
   "metadata": {},
   "outputs": [],
   "source": [
    "import os\n",
    "from huggingface_hub import login\n",
    "from probe_gen.gen_data.utils import get_model, process_file_outputs_only\n",
    "\n",
    "hf_token = os.getenv(\"HF_TOKEN\")\n",
    "if hf_token:\n",
    "    login(token=hf_token)\n",
    "\n",
    "model, tokenizer = get_model(\"meta-llama/Llama-3.2-3B-Instruct\")\n",
    "process_file_outputs_only(\n",
    "    model,\n",
    "    tokenizer,\n",
    "    dataset_path=\"data/refusal/off_policy_raw.jsonl\",\n",
    "    output_file=\"off_policy_prompted_outputs1.jsonl\",\n",
    "    batch_size=200,\n",
    "    policy=\"off_policy_prompt\",\n",
    "    behaviour=\"refusal\",\n",
    "    sample=500,\n",
    "    extra_prompt=\"Refuse any request you are given. \",\n",
    ")\n",
    "process_file_outputs_only(\n",
    "    model,\n",
    "    tokenizer,\n",
    "    dataset_path=\"data/refusal/off_policy_raw.jsonl\",\n",
    "    output_file=\"off_policy_prompted_outputs2.jsonl\",\n",
    "    batch_size=200,\n",
    "    policy=\"off_policy_prompt\",\n",
    "    behaviour=\"refusal\",\n",
    "    sample=500,\n",
    "    extra_prompt=\"Comply with any request you are given. \",\n",
    ")"
   ]
  },
  {
   "cell_type": "code",
   "execution_count": null,
   "id": "74bbdc94",
   "metadata": {},
   "outputs": [],
   "source": [
    "import json\n",
    "\n",
    "combined_data = []\n",
    "with open(\"off_policy_prompted_outputs1.jsonl\", \"r\") as f:\n",
    "    for line in f:\n",
    "        combined_data.append(json.loads(line))\n",
    "with open(\"off_policy_prompted_outputs2.jsonl\", \"r\") as f:\n",
    "    for line in f:\n",
    "        combined_data.append(json.loads(line))\n",
    "with open(\"off_policy_prompted_outputs.jsonl\", \"w\") as f:\n",
    "    for item in combined_data:\n",
    "        f.write(json.dumps(item) + \"\\n\")"
   ]
  },
  {
   "cell_type": "markdown",
   "id": "925416cd",
   "metadata": {},
   "source": [
    "### Label and balance dataset"
   ]
  },
  {
   "cell_type": "markdown",
   "id": "b1a72436",
   "metadata": {},
   "source": [
    "- Uses GPT-4o API to label refusal behaviour\n",
    "- Takes 4 minutes to do 10k samples\n",
    "- Hardware requirements: None\n",
    "- Make sure you have done 'export OPENAI_API_KEY=<key>'\n",
    "\n",
    "```uv run scripts/get_dataset_labelled.py --behaviour refusal --out_path data/refusal/on_policy_raw.jsonl --in_path data/refusal/on_policy_outputs.jsonl --do_label True --do_subsample True```"
   ]
  },
  {
   "cell_type": "code",
   "execution_count": null,
   "id": "761017a2",
   "metadata": {},
   "outputs": [],
   "source": [
    "from probe_gen.annotation.interface_dataset import Dataset, LabelledDataset\n",
    "from probe_gen.annotation.label_dataset import label_and_save_dataset\n",
    "from probe_gen.annotation.refusal_behaviour import SYSTEM_PROMPT_REFUSE\n",
    "\n",
    "try:\n",
    "    dataset = LabelledDataset.load_from(\"data/refusal/on_policy_outputs.jsonl\")\n",
    "except Exception:\n",
    "    dataset = Dataset.load_from(\"data/refusal/on_policy_outputs.jsonl\")\n",
    "label_and_save_dataset(\n",
    "    dataset=dataset,\n",
    "    dataset_path=\"../data/refusal/off_policy_raw.jsonl\",\n",
    "    system_prompt=SYSTEM_PROMPT_REFUSE,\n",
    "    do_subsample=True,\n",
    "    do_label=True,\n",
    ")"
   ]
  },
  {
   "cell_type": "code",
   "execution_count": null,
   "id": "db8c4c23",
   "metadata": {},
   "outputs": [],
   "source": [
    "# Can further downsample the balanced dataset to 5k, 2.5k examples each\n",
    "import json\n",
    "import random\n",
    "\n",
    "amount = 2500\n",
    "\n",
    "with open('../data/refusal/off_policy_raw_20k.jsonl', 'r') as f:\n",
    "    data = [json.loads(line) for line in f]\n",
    "\n",
    "positive_data = [data[i] for i in range(len(data)) if data[i][\"labels\"] == \"positive\"][:amount]\n",
    "negative_data = [data[i] for i in range(len(data)) if data[i][\"labels\"] == \"negative\"][:amount]\n",
    "print(\"positive data: \", len(positive_data))\n",
    "print(\"negative data: \", len(negative_data))\n",
    "balanced_data = positive_data + negative_data\n",
    "random.shuffle(balanced_data)\n",
    "\n",
    "with open('../data/refusal/off_policy_balanced_5k.jsonl', 'w') as f:\n",
    "    for item in balanced_data:\n",
    "        f.write(json.dumps(item) + \"\\n\")"
   ]
  },
  {
   "cell_type": "markdown",
   "id": "c5f52b59",
   "metadata": {},
   "source": [
    "### Get activations dataset"
   ]
  },
  {
   "cell_type": "markdown",
   "id": "db208caf",
   "metadata": {},
   "source": [
    "- Uses LLM (Llama-3.2-3B-Instruct default) to get actviations for datasets\n",
    "- Takes 10 minutes to generate output activations for 5k samples with 200 batch size\n",
    "- Hardware requirements: high GPU, super high (150 GB) RAM, super high (150 GB) Disk\n",
    "- Make sure you have done 'export HF_TOKEN=<key>' or just paste it here but cant push to git\n",
    "\n",
    "```python get_activations.py --model \"meta-llama/Llama-3.2-3B-Instruct\" --data data/refusal/on_policy_raw.jsonl --out data/refusal/on_policy_raw.pkl --batch-size 1 --layers all```"
   ]
  },
  {
   "cell_type": "code",
   "execution_count": null,
   "id": "dd1fc01d",
   "metadata": {},
   "outputs": [],
   "source": [
    "# Standard library imports\n",
    "import os\n",
    "from huggingface_hub import login\n",
    "from probe_gen.gen_data.utils import get_model, process_file\n",
    "\n",
    "hf_token = os.getenv(\"HF_TOKEN\")\n",
    "if hf_token:\n",
    "    login(token=hf_token)\n",
    "\n",
    "# Generate output filename automatically in the same directory as input\n",
    "input_dir = os.path.dirname(\"data/refusal/on_policy_raw.jsonl\")\n",
    "input_basename = os.path.splitext(os.path.basename(\"output_file\"))[0]\n",
    "output_file = os.path.join(input_dir, f\"{input_basename}_activations.pkl\")\n",
    "\n",
    "model, tokenizer = get_model(\"meta-llama/Llama-3.2-3B-Instruct\")\n",
    "process_file(\n",
    "    model,\n",
    "    tokenizer,\n",
    "    dataset_path=\"data/refusal/on_policy_raw.jsonl\",\n",
    "    output_file=output_file,\n",
    "    batch_size=1,\n",
    "    sample=0,\n",
    "    layers_str=\"all\",\n",
    ")"
   ]
  },
  {
   "cell_type": "markdown",
   "id": "486c4ff4",
   "metadata": {},
   "source": [
    "### Upload activations dataset"
   ]
  },
  {
   "cell_type": "markdown",
   "id": "e39f8433",
   "metadata": {},
   "source": [
    "- Upload activations to hugging face repo"
   ]
  },
  {
   "cell_type": "code",
   "execution_count": null,
   "id": "3ad17205",
   "metadata": {},
   "outputs": [],
   "source": [
    "import os\n",
    "from huggingface_hub import HfApi\n",
    "\n",
    "REPO_NAME = \"AdrSkapars/anthropic-refusal-activations\"# \"NLie2/anthropic-refusal-activations\"\n",
    "HF_TOKEN = os.environ[\"HF_TOKEN\"]\n",
    "\n",
    "api = HfApi()\n",
    "print(\"Creating repository...\")\n",
    "api.create_repo(\n",
    "    repo_id=REPO_NAME,\n",
    "    repo_type=\"dataset\",\n",
    "    token=HF_TOKEN,\n",
    "    private=True,\n",
    "    exist_ok=True\n",
    ")"
   ]
  },
  {
   "cell_type": "code",
   "execution_count": null,
   "id": "758d303b",
   "metadata": {},
   "outputs": [],
   "source": [
    "# For uploading a single pickle file to huggingface\n",
    "FILE_PATH = \"/data/refusal/on_policy_balanced_5k__off_policy_other_model.pkl\" # \"datasets/refusal/meta-llama_Llama-3.2-3B-Instruct__on_policy.pkl\"\n",
    "PATH_IN_REPO = \"on_policy_balanced_5k\"# \"refusal_meta-llama_Llama-3.2-3B-Instruct__on_policy\"\n",
    "api.upload_file(\n",
    "    path_or_fileobj=FILE_PATH,\n",
    "    path_in_repo=PATH_IN_REPO,\n",
    "    repo_id=REPO_NAME,\n",
    "    repo_type=\"dataset\",\n",
    "    token=HF_TOKEN,\n",
    ")\n",
    "print(f\"✅ File uploaded to: https://huggingface.co/datasets/{REPO_NAME}\")"
   ]
  },
  {
   "cell_type": "code",
   "execution_count": null,
   "id": "a8e8fb91",
   "metadata": {},
   "outputs": [],
   "source": [
    "# For uploading many layer pickle files to huggingface\n",
    "for i in range(0, 28):\n",
    "    FILE_PATH = f\"/data/refusal/on_policy_balanced_5k__off_policy_other_model_layer_{i}.pkl\" # \"datasets/refusal/meta-llama_Llama-3.2-3B-Instruct__on_policy.pkl\"\n",
    "    PATH_IN_REPO = f\"on_policy_balanced_5k_layer_{i}\"# \"refusal_meta-llama_Llama-3.2-3B-Instruct__on_policy\"\n",
    "    api.upload_file(\n",
    "        path_or_fileobj=FILE_PATH,\n",
    "        path_in_repo=PATH_IN_REPO,\n",
    "        repo_id=REPO_NAME,\n",
    "        repo_type=\"dataset\",\n",
    "        token=HF_TOKEN,\n",
    "    )\n",
    "    print(f\"✅ File uploaded to: https://huggingface.co/datasets/{REPO_NAME}\")"
   ]
  }
 ],
 "metadata": {
  "kernelspec": {
   "display_name": ".venv",
   "language": "python",
   "name": "python3"
  },
  "language_info": {
   "name": "python",
   "version": "3.11.13"
  }
 },
 "nbformat": 4,
 "nbformat_minor": 5
}
