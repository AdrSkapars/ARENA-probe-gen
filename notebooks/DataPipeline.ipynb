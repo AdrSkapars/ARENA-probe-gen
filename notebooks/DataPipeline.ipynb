{
 "cells": [
  {
   "cell_type": "markdown",
   "id": "70eb078e",
   "metadata": {},
   "source": [
    "## Full Dataset Pipeline"
   ]
  },
  {
   "cell_type": "markdown",
   "id": "24778ca4",
   "metadata": {},
   "source": [
    "### Sample inputs dataset"
   ]
  },
  {
   "cell_type": "markdown",
   "id": "fcdc3e0e",
   "metadata": {},
   "source": [
    "- Samples dataset from hugging face to jsonl file\n",
    "\n",
    "```uv run scripts/get_dataset_labelled.py --out_path data/refusal/off_policy_raw.jsonl --behaviour refusal --num_samples 1000 --do_label no --do_subsample no```"
   ]
  },
  {
   "cell_type": "code",
   "execution_count": null,
   "id": "92eecc50",
   "metadata": {},
   "outputs": [],
   "source": [
    "from probe_gen.annotation.label_dataset import label_and_save_dataset\n",
    "from probe_gen.annotation.refusal_behaviour import (\n",
    "    SYSTEM_PROMPT_REFUSE,\n",
    "    create_refusal_dataset,\n",
    ")\n",
    "\n",
    "dataset = create_refusal_dataset(num_samples=1000)\n",
    "label_and_save_dataset(\n",
    "    dataset=dataset,\n",
    "    dataset_path=\"../data/refusal/off_policy_raw.jsonl\",\n",
    "    system_prompt=SYSTEM_PROMPT_REFUSE,\n",
    "    do_subsample=False,\n",
    "    do_label=False,\n",
    ")"
   ]
  },
  {
   "cell_type": "markdown",
   "id": "0119e69b",
   "metadata": {},
   "source": [
    "### Generate outputs dataset (on-policy)"
   ]
  },
  {
   "cell_type": "markdown",
   "id": "960c690d",
   "metadata": {},
   "source": [
    "- Uses LLM (Llama-3.2-3B-Instruct default) to generate outputs for inputs dataset\n",
    "- Takes 5 minutes to do 1000 samples\n",
    "- Hardware requirements: 40 GB disk, 30-70 GB RAM, 100 GB GPU\n",
    "\n",
    "```uv run python scripts/get_outputs.py --data data/refusal/off_policy_raw.jsonl --out on_policy_outputs.pkl --batch-size 200 --sample 0 --behaviour refusal```"
   ]
  },
  {
   "cell_type": "code",
   "execution_count": null,
   "id": "9f2d3ac1",
   "metadata": {},
   "outputs": [],
   "source": []
  },
  {
   "cell_type": "markdown",
   "id": "6ad31984",
   "metadata": {},
   "source": [
    "### Generate outputs dataset (on-policy prompted)"
   ]
  },
  {
   "cell_type": "markdown",
   "id": "4e9ed13f",
   "metadata": {},
   "source": [
    "### Label and balance dataset\n",
    "- Uses GPT-4o API to label refusal behaviour\n",
    "- Takes 4 minutes to do 10,000 samples\n",
    "- Hardware requirements: None\n",
    "- Make sure you have done 'export OPENAI_API_KEY=<key>'"
   ]
  },
  {
   "cell_type": "markdown",
   "id": "c5f52b59",
   "metadata": {},
   "source": [
    "### Get activations dataset"
   ]
  },
  {
   "cell_type": "markdown",
   "id": "486c4ff4",
   "metadata": {},
   "source": [
    "### Upload activations dataset"
   ]
  },
  {
   "cell_type": "code",
   "execution_count": null,
   "id": "a8e8fb91",
   "metadata": {},
   "outputs": [],
   "source": []
  }
 ],
 "metadata": {
  "kernelspec": {
   "display_name": ".venv",
   "language": "python",
   "name": "python3"
  },
  "language_info": {
   "name": "python",
   "version": "3.11.13"
  }
 },
 "nbformat": 4,
 "nbformat_minor": 5
}
