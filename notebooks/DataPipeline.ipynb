{
 "cells": [
  {
   "cell_type": "markdown",
   "id": "70eb078e",
   "metadata": {},
   "source": [
    "# Full Dataset Pipeline"
   ]
  },
  {
   "cell_type": "code",
   "execution_count": null,
   "id": "55de9b6c",
   "metadata": {},
   "outputs": [],
   "source": [
    "%%capture\n",
    "# Run to set environment variables if want to\n",
    "# %env HF_TOKEN=\n",
    "# %env OPENAI_API_KEY="
   ]
  },
  {
   "cell_type": "code",
   "execution_count": 18,
   "id": "57f42525",
   "metadata": {},
   "outputs": [],
   "source": [
    "# global imports\n",
    "from probe_gen.paths import data"
   ]
  },
  {
   "cell_type": "code",
   "execution_count": null,
   "id": "30a053ba",
   "metadata": {},
   "outputs": [],
   "source": [
    "# Run to download jsonl files from hugging face if want to\n",
    "import os\n",
    "from huggingface_hub import hf_hub_download\n",
    "\n",
    "repo_id = \"lasrprobegen/anthropic-refusal-activations\"\n",
    "files_to_download = [\n",
    "    \"llama_3b_unlabelled_20k.jsonl\",\n",
    "    \"llama_3b_outputs_20k.jsonl\", \n",
    "]\n",
    "local_dir = str(data.refusal)\n",
    "os.makedirs(local_dir, exist_ok=True)\n",
    "for filename in files_to_download:\n",
    "    file_path = hf_hub_download(\n",
    "        repo_id=repo_id,\n",
    "        repo_type=\"dataset\",\n",
    "        filename=filename,\n",
    "        local_dir=local_dir,\n",
    "        token=os.environ.get(\"HF_TOKEN\")\n",
    "    )\n",
    "    print(f\"Downloaded to: {file_path}\")"
   ]
  },
  {
   "cell_type": "markdown",
   "id": "24778ca4",
   "metadata": {},
   "source": [
    "## Sample prompts dataset"
   ]
  },
  {
   "cell_type": "markdown",
   "id": "fcdc3e0e",
   "metadata": {},
   "source": [
    "- Samples dataset of prompts from hugging face to jsonl file\n",
    "- The `skip` parameter allows you to only start taking prompts after the `skip`th valid entry in the dataset."
   ]
  },
  {
   "cell_type": "code",
   "execution_count": 5,
   "id": "92eecc50",
   "metadata": {},
   "outputs": [
    {
     "name": "stderr",
     "output_type": "stream",
     "text": [
      "71606it [00:00, 154647.25it/s]\n"
     ]
    }
   ],
   "source": [
    "from probe_gen.annotation.refusal_behaviour import create_refusal_dataset\n",
    "from probe_gen.annotation.ultrachat_behaviour import create_ultrachat_dataset, create_ultrachat_dataset_brazilian\n",
    "from probe_gen.annotation.shakespeare_behaviour import create_shakespeare_dataset\n",
    "\n",
    "dataset = create_shakespeare_dataset(num_samples=45000, skip=0)\n",
    "dataset.save_to(\"../data/shakespeare_45k.jsonl\", overwrite=True)\n",
    "\n",
    "# Skipping example\n",
    "# dataset = create_refusal_dataset(num_samples=1000, skip = 1000) \n",
    "# dataset.save_to(\"../data/refusal/prompts_with_skip.jsonl\", overwrite=True)"
   ]
  },
  {
   "cell_type": "markdown",
   "id": "0119e69b",
   "metadata": {},
   "source": [
    "## Generate outputs dataset (on-policy)"
   ]
  },
  {
   "cell_type": "markdown",
   "id": "960c690d",
   "metadata": {},
   "source": [
    "- Uses LLM (Llama-3.2-3B-Instruct default) to generate outputs for inputs dataset\n",
    "- Takes 10 minutes to do 5k samples with 200 batch size\n",
    "- Hardware requirements: high GPU, low RAM, low disk\n",
    "- Make sure you have done 'export HF_TOKEN=<key>' or just paste it here but cant push to git\n",
    "\n",
    "```uv run scripts/get_outputs.py --data data/refusal/claude_outputs.jsonl --out llama_3b_outputs.jsonl --batch-size 200 --sample 0 --behaviour refusal --save-increment -1```"
   ]
  },
  {
   "cell_type": "code",
   "execution_count": 6,
   "id": "9f2d3ac1",
   "metadata": {},
   "outputs": [
    {
     "data": {
      "application/vnd.jupyter.widget-view+json": {
       "model_id": "0c17cf552d074105aa79e852c74f29d9",
       "version_major": 2,
       "version_minor": 0
      },
      "text/plain": [
       "Loading checkpoint shards:   0%|          | 0/2 [00:00<?, ?it/s]"
      ]
     },
     "metadata": {},
     "output_type": "display_data"
    },
    {
     "name": "stdout",
     "output_type": "stream",
     "text": [
      "Processing 45000 examples in 450 batches of size 100\n"
     ]
    },
    {
     "name": "stderr",
     "output_type": "stream",
     "text": [
      "Processing batches: 100%|██████████| 450/450 [1:01:19<00:00,  8.18s/it]\n"
     ]
    },
    {
     "name": "stdout",
     "output_type": "stream",
     "text": [
      "Final DataFrame saved to: data/refusal/qwen_3b_shakespeare_45k.jsonl\n",
      "DataFrame shape: (45000, 5)\n"
     ]
    }
   ],
   "source": [
    "from probe_gen.gen_data.utils import get_model, process_file_outputs_only\n",
    "from probe_gen.config import MODELS\n",
    "\n",
    "model, tokenizer = get_model(MODELS[\"qwen_3b\"])\n",
    "process_file_outputs_only(\n",
    "    model,\n",
    "    tokenizer,\n",
    "    dataset_path= data.data / \"shakespeare_45k.jsonl\" ,\n",
    "    output_file= data.data / \"qwen_3b_shakespeare_45k.jsonl\",\n",
    "    batch_size=100,\n",
    "    behaviour=\"refusal\",\n",
    "    sample=0,\n",
    "    add_prompt=False,\n",
    "    save_increment=-1,\n",
    ")"
   ]
  },
  {
   "cell_type": "markdown",
   "id": "6ad31984",
   "metadata": {},
   "source": [
    "## Generate outputs dataset (on-policy prompted)"
   ]
  },
  {
   "cell_type": "markdown",
   "id": "6b9da1a2",
   "metadata": {},
   "source": [
    "- Uses LLM (Llama-3.2-3B-Instruct default) to generate outputs for inputs dataset\n",
    "- Takes 10 minutes to do 5k samples with 200 batch size\n",
    "- Hardware requirements: high GPU, low RAM, low disk\n",
    "- Make sure you have done 'export HF_TOKEN=<key>' or just paste it here but cant push to git\n",
    "\n",
    "- If `--add-prompt` is set to yes, then by default it will use alternating positive / negative prompts.\n",
    "\n",
    "```uv run scripts/get_outputs.py --data data/refusal/claude_outputs.jsonl --out llama_3b_outputs1.jsonl --batch-size 200 --behaviour refusal --add-prompt yes --save-increment -1```\n",
    "\n",
    "- You can also further specify if you want to only use positive or negative prompts with `--prompt-type`.\n",
    "\n",
    "```uv run scripts/get_outputs.py --data data/refusal/claude_outputs.jsonl --out llama_3b_outputs2.jsonl --batch-size 200 --behaviour refusal --add-prompt yes --prompt-type positive --save-increment -1```"
   ]
  },
  {
   "cell_type": "code",
   "execution_count": null,
   "id": "cac08117",
   "metadata": {},
   "outputs": [],
   "source": [
    "from probe_gen.gen_data.utils import get_model, process_file_outputs_only\n",
    "from probe_gen.config import MODELS\n",
    "\n",
    "model, tokenizer = get_model(MODELS[\"llama_3b\"])\n",
    "process_file_outputs_only(\n",
    "    model,\n",
    "    tokenizer,\n",
    "    dataset_path= data.refusal / \"claude_outputs.jsonl\",\n",
    "    output_file=\"llama_3b_prompted_outputs1.jsonl\",\n",
    "    batch_size=200,\n",
    "    behaviour=\"refusal\",\n",
    "    add_prompt=True,\n",
    "    save_increment=-1,\n",
    ")\n",
    "\n",
    "process_file_outputs_only(\n",
    "    model,\n",
    "    tokenizer,\n",
    "    dataset_path= data.refusal / \"claude_outputs.jsonl\",\n",
    "    output_file=\"llama_3b_prompted_outputs1.jsonl\",\n",
    "    batch_size=200,\n",
    "    behaviour=\"refusal\",\n",
    "    add_prompt=True,\n",
    "    prompt_type=\"positive\", # You can further specify if you want to only use positive or negative prompts\n",
    "    save_increment=-1,\n",
    ")"
   ]
  },
  {
   "cell_type": "markdown",
   "id": "925416cd",
   "metadata": {},
   "source": [
    "## Label and balance dataset"
   ]
  },
  {
   "cell_type": "markdown",
   "id": "b1a72436",
   "metadata": {},
   "source": [
    "- Uses GPT-4o API to label refusal behaviour\n",
    "- Takes 4 minutes to do 10k samples\n",
    "- Hardware requirements: None\n",
    "- Make sure you have done 'export OPENAI_API_KEY=<key>'\n",
    "\n",
    "```uv run scripts/get_labels.py --behaviour refusal --out-path data/refusal/llama_3b_raw.jsonl --in-path data/refusal/llama_3b_outputs.jsonl --num-balanced 5000```\n",
    "\n",
    "CODE CANNOT BE RUN IN NOTEBOOK BECAUSE OF ASYNC, RUN COMMAND OR A NEW SCRIPT"
   ]
  },
  {
   "cell_type": "code",
   "execution_count": null,
   "id": "761017a2",
   "metadata": {},
   "outputs": [],
   "source": [
    "# from probe_gen.annotation.interface_dataset import Dataset, LabelledDataset\n",
    "# from probe_gen.annotation.label_dataset import label_and_save_dataset\n",
    "# from probe_gen.annotation.refusal_behaviour import SYSTEM_PROMPT_REFUSE\n",
    "\n",
    "# try:\n",
    "#     dataset = LabelledDataset.load_from(\"../data/refusal/llama_3b_outputs.jsonl\")\n",
    "# except Exception:\n",
    "#     dataset = Dataset.load_from(\"../data/refusal/llama_3b_outputs.jsonl\")\n",
    "# label_and_save_dataset(\n",
    "#     dataset=dataset,\n",
    "#     dataset_path=\"../data/refusal/llama_3b_raw.jsonl\",\n",
    "#     system_prompt=SYSTEM_PROMPT_REFUSE,\n",
    "#     do_subsample=True,\n",
    "# )"
   ]
  },
  {
   "cell_type": "code",
   "execution_count": null,
   "id": "db8c4c23",
   "metadata": {},
   "outputs": [
    {
     "name": "stdout",
     "output_type": "stream",
     "text": [
      "positive data:  500\n",
      "negative data:  500\n"
     ]
    }
   ],
   "source": [
    "# Can further downsample the balanced dataset to 5k, 2.5k examples each\n",
    "import json\n",
    "import random\n",
    "\n",
    "amount = 2500\n",
    "\n",
    "with open(data.refusal / 'llama_3b_raw_20k.jsonl', 'r') as f:\n",
    "    loaded_data = [json.loads(line) for line in f]\n",
    "\n",
    "positive_data = [loaded_data[i] for i in range(len(loaded_data)) if loaded_data[i][\"labels\"] == \"positive\"][:amount]\n",
    "negative_data = [loaded_data[i] for i in range(len(loaded_data)) if loaded_data[i][\"labels\"] == \"negative\"][:amount]\n",
    "print(\"positive data: \", len(positive_data))\n",
    "print(\"negative data: \", len(negative_data))\n",
    "balanced_data = positive_data + negative_data\n",
    "random.shuffle(balanced_data)\n",
    "\n",
    "with open(data.refusal / 'llama_3b_balanced_5k.jsonl', 'w') as f:\n",
    "    for item in balanced_data:\n",
    "        f.write(json.dumps(item) + \"\\n\")"
   ]
  },
  {
   "cell_type": "markdown",
   "id": "9c1523f7",
   "metadata": {},
   "source": [
    "## Get ouputs and labels in one go"
   ]
  },
  {
   "cell_type": "markdown",
   "id": "d1ea0610",
   "metadata": {},
   "source": [
    "- You can get outputs and label them together with the following command:\n",
    "\n",
    "```uv run scripts/get_outputs_and_labels.py --behaviour refusal --data data/refusal/claude_outputs.jsonl --out-path data/refusal/llama_3b_raw.jsonl --batch-size 200 --num-balanced 5000```\n",
    "\n",
    "```uv run scripts/get_outputs_and_labels.py --behaviour refusal --data data/refusal/claude_outputs.jsonl --out-path data/refusal/llama_3b_raw.jsonl --batch-size 200 --add-prompt yes --num-balanced 5000```"
   ]
  },
  {
   "cell_type": "markdown",
   "id": "c5f52b59",
   "metadata": {},
   "source": [
    "## Get activations dataset"
   ]
  },
  {
   "cell_type": "markdown",
   "id": "db208caf",
   "metadata": {},
   "source": [
    "- Uses LLM (Llama-3.2-3B-Instruct default) to get actviations for datasets\n",
    "- Takes 10 minutes to generate output activations for 5k samples with 200 batch size\n",
    "- Hardware requirements: high GPU, super high (150 GB) RAM, super high (150 GB) Disk\n",
    "- Make sure you have done 'export HF_TOKEN=<key>' or just paste it here but cant push to git\n",
    "\n",
    "```uv run scripts/get_activations.py --model llama_3b --data data/refusal/llama_3b_balanced_5k.jsonl --batch-size 1 --layers \"0,3,6,9,12,15,18,21,24,27\" --save-increment -1```\n",
    "\n",
    "Click the top file and then shift+click the bottom file for easy deleting of pkl files once uploaded to HF"
   ]
  },
  {
   "cell_type": "code",
   "execution_count": null,
   "id": "dd1fc01d",
   "metadata": {},
   "outputs": [
    {
     "data": {
      "application/vnd.jupyter.widget-view+json": {
       "model_id": "ba316f6a6adb45ef906762eeacd0d3e5",
       "version_major": 2,
       "version_minor": 0
      },
      "text/plain": [
       "Loading checkpoint shards:   0%|          | 0/2 [00:00<?, ?it/s]"
      ]
     },
     "metadata": {},
     "output_type": "display_data"
    },
    {
     "name": "stdout",
     "output_type": "stream",
     "text": [
      "Processing 1000 examples in 32 batches of size 32\n"
     ]
    },
    {
     "name": "stderr",
     "output_type": "stream",
     "text": [
      "Processing batches: 100%|██████████| 32/32 [00:19<00:00,  1.64it/s]\n",
      "Saving layers: 100%|██████████| 10/10 [00:05<00:00,  1.98it/s]\n"
     ]
    }
   ],
   "source": [
    "# Standard library imports\n",
    "from probe_gen.gen_data.utils import get_model, process_file\n",
    "from probe_gen.config import MODELS\n",
    "\n",
    "model, tokenizer = get_model(MODELS[\"llama_3b\"])\n",
    "process_file(\n",
    "    model,\n",
    "    tokenizer,\n",
    "    dataset_path= data.refusal / \"llama_3b_balanced_5k.jsonl\",\n",
    "    output_file= data.refusal / \"llama_3b_balanced_5k.pkl\",\n",
    "    batch_size=32,\n",
    "    sample=0,\n",
    "    layers_str=\"0,3,6,9,12,15,18,21,24,27\",\n",
    "    save_increment=-1,\n",
    ")"
   ]
  },
  {
   "cell_type": "markdown",
   "id": "486c4ff4",
   "metadata": {},
   "source": [
    "## Upload activations dataset"
   ]
  },
  {
   "cell_type": "markdown",
   "id": "e39f8433",
   "metadata": {},
   "source": [
    "- Upload activations to hugging face repo"
   ]
  },
  {
   "cell_type": "code",
   "execution_count": 20,
   "id": "3ad17205",
   "metadata": {},
   "outputs": [
    {
     "name": "stdout",
     "output_type": "stream",
     "text": [
      "Creating repository...\n"
     ]
    },
    {
     "data": {
      "text/plain": [
       "RepoUrl('https://huggingface.co/datasets/lasrprobegen/ultrachat-metaphors-activations', endpoint='https://huggingface.co', repo_type='dataset', repo_id='lasrprobegen/ultrachat-metaphors-activations')"
      ]
     },
     "execution_count": 20,
     "metadata": {},
     "output_type": "execute_result"
    }
   ],
   "source": [
    "import os\n",
    "from huggingface_hub import HfApi\n",
    "\n",
    "# Create a new repo for each behaviour\n",
    "REPO_NAME = \"lasrprobegen/ultrachat-metaphors-activations\"# \"NLie2/anthropic-refusal-activations\"\n",
    "HF_TOKEN = os.environ[\"HF_TOKEN\"]\n",
    "\n",
    "api = HfApi()\n",
    "print(\"Creating repository...\")\n",
    "api.create_repo(\n",
    "    repo_id=REPO_NAME,\n",
    "    repo_type=\"dataset\",\n",
    "    token=HF_TOKEN,\n",
    "    private=False,\n",
    "    exist_ok=True\n",
    ")"
   ]
  },
  {
   "cell_type": "code",
   "execution_count": 21,
   "id": "758d303b",
   "metadata": {},
   "outputs": [
    {
     "name": "stdout",
     "output_type": "stream",
     "text": [
      "✅ File uploaded to: https://huggingface.co/datasets/lasrprobegen/ultrachat-metaphors-activations\n"
     ]
    }
   ],
   "source": [
    "from probe_gen.paths import data\n",
    "# For uploading a single pickle file to huggingface\n",
    "FILE_PATH = data.metaphors / \"llama_3b_shakespeare_balanced_1k.jsonl\"\n",
    "PATH_IN_REPO = FILE_PATH.split(\"/\")[-1]\n",
    "api.upload_file(\n",
    "    path_or_fileobj=FILE_PATH,\n",
    "    path_in_repo=PATH_IN_REPO,\n",
    "    repo_id=REPO_NAME,\n",
    "    repo_type=\"dataset\",\n",
    "    token=HF_TOKEN,\n",
    ")\n",
    "print(f\"✅ File uploaded to: https://huggingface.co/datasets/{REPO_NAME}\")"
   ]
  },
  {
   "cell_type": "code",
   "execution_count": 23,
   "id": "a8e8fb91",
   "metadata": {},
   "outputs": [
    {
     "data": {
      "application/vnd.jupyter.widget-view+json": {
       "model_id": "d0e1500a40a442b99acf05aa53e96064",
       "version_major": 2,
       "version_minor": 0
      },
      "text/plain": [
       "Processing Files (0 / 0)                : |          |  0.00B /  0.00B            "
      ]
     },
     "metadata": {},
     "output_type": "display_data"
    },
    {
     "data": {
      "application/vnd.jupyter.widget-view+json": {
       "model_id": "b9508f264b6c4dccaedc03359d11218e",
       "version_major": 2,
       "version_minor": 0
      },
      "text/plain": [
       "New Data Upload                         : |          |  0.00B /  0.00B            "
      ]
     },
     "metadata": {},
     "output_type": "display_data"
    },
    {
     "data": {
      "application/vnd.jupyter.widget-view+json": {
       "model_id": "68141f7e9b04470ba085771d29711366",
       "version_major": 2,
       "version_minor": 0
      },
      "text/plain": [
       "  ...shakespeare_balanced_1k_layer_0.pkl:   0%|          |  540kB /  693MB            "
      ]
     },
     "metadata": {},
     "output_type": "display_data"
    },
    {
     "name": "stdout",
     "output_type": "stream",
     "text": [
      "✅ File uploaded to: https://huggingface.co/datasets/lasrprobegen/ultrachat-metaphors-activations\n"
     ]
    },
    {
     "data": {
      "application/vnd.jupyter.widget-view+json": {
       "model_id": "abc63a3b78e64798938855efc5168615",
       "version_major": 2,
       "version_minor": 0
      },
      "text/plain": [
       "Processing Files (0 / 0)                : |          |  0.00B /  0.00B            "
      ]
     },
     "metadata": {},
     "output_type": "display_data"
    },
    {
     "data": {
      "application/vnd.jupyter.widget-view+json": {
       "model_id": "69555c64673c4642ba66f8e7d3e78477",
       "version_major": 2,
       "version_minor": 0
      },
      "text/plain": [
       "New Data Upload                         : |          |  0.00B /  0.00B            "
      ]
     },
     "metadata": {},
     "output_type": "display_data"
    },
    {
     "data": {
      "application/vnd.jupyter.widget-view+json": {
       "model_id": "dd602abcc5e54306a3aba52caa43d73c",
       "version_major": 2,
       "version_minor": 0
      },
      "text/plain": [
       "  ...shakespeare_balanced_1k_layer_3.pkl:   0%|          |  940kB /  693MB            "
      ]
     },
     "metadata": {},
     "output_type": "display_data"
    },
    {
     "name": "stdout",
     "output_type": "stream",
     "text": [
      "✅ File uploaded to: https://huggingface.co/datasets/lasrprobegen/ultrachat-metaphors-activations\n"
     ]
    },
    {
     "data": {
      "application/vnd.jupyter.widget-view+json": {
       "model_id": "71a98b4537f941d7b8cb3bacd7526c5f",
       "version_major": 2,
       "version_minor": 0
      },
      "text/plain": [
       "Processing Files (0 / 0)                : |          |  0.00B /  0.00B            "
      ]
     },
     "metadata": {},
     "output_type": "display_data"
    },
    {
     "data": {
      "application/vnd.jupyter.widget-view+json": {
       "model_id": "0115d84c98b6474bae09437b425739c4",
       "version_major": 2,
       "version_minor": 0
      },
      "text/plain": [
       "New Data Upload                         : |          |  0.00B /  0.00B            "
      ]
     },
     "metadata": {},
     "output_type": "display_data"
    },
    {
     "data": {
      "application/vnd.jupyter.widget-view+json": {
       "model_id": "d40af8ac046e4a52a9b2b20058e111da",
       "version_major": 2,
       "version_minor": 0
      },
      "text/plain": [
       "  ...shakespeare_balanced_1k_layer_6.pkl:   0%|          |  940kB /  693MB            "
      ]
     },
     "metadata": {},
     "output_type": "display_data"
    },
    {
     "name": "stdout",
     "output_type": "stream",
     "text": [
      "✅ File uploaded to: https://huggingface.co/datasets/lasrprobegen/ultrachat-metaphors-activations\n"
     ]
    },
    {
     "data": {
      "application/vnd.jupyter.widget-view+json": {
       "model_id": "f009a7b3ab1a4c96827120023ad4d6ad",
       "version_major": 2,
       "version_minor": 0
      },
      "text/plain": [
       "Processing Files (0 / 0)                : |          |  0.00B /  0.00B            "
      ]
     },
     "metadata": {},
     "output_type": "display_data"
    },
    {
     "data": {
      "application/vnd.jupyter.widget-view+json": {
       "model_id": "25c7852a2ca04c4096db50e98e586680",
       "version_major": 2,
       "version_minor": 0
      },
      "text/plain": [
       "New Data Upload                         : |          |  0.00B /  0.00B            "
      ]
     },
     "metadata": {},
     "output_type": "display_data"
    },
    {
     "data": {
      "application/vnd.jupyter.widget-view+json": {
       "model_id": "40507fa1b1f74aaea83c43feb3b9096f",
       "version_major": 2,
       "version_minor": 0
      },
      "text/plain": [
       "  ...shakespeare_balanced_1k_layer_9.pkl:   0%|          |  940kB /  693MB            "
      ]
     },
     "metadata": {},
     "output_type": "display_data"
    },
    {
     "name": "stdout",
     "output_type": "stream",
     "text": [
      "✅ File uploaded to: https://huggingface.co/datasets/lasrprobegen/ultrachat-metaphors-activations\n"
     ]
    },
    {
     "data": {
      "application/vnd.jupyter.widget-view+json": {
       "model_id": "a132ddadfc1a4785a82d4552b3760ad0",
       "version_major": 2,
       "version_minor": 0
      },
      "text/plain": [
       "Processing Files (0 / 0)                : |          |  0.00B /  0.00B            "
      ]
     },
     "metadata": {},
     "output_type": "display_data"
    },
    {
     "data": {
      "application/vnd.jupyter.widget-view+json": {
       "model_id": "429ddf392b35499c88c0fa9b54ea6f86",
       "version_major": 2,
       "version_minor": 0
      },
      "text/plain": [
       "New Data Upload                         : |          |  0.00B /  0.00B            "
      ]
     },
     "metadata": {},
     "output_type": "display_data"
    },
    {
     "data": {
      "application/vnd.jupyter.widget-view+json": {
       "model_id": "d4aa563d05054093b380dbe36b2cee8c",
       "version_major": 2,
       "version_minor": 0
      },
      "text/plain": [
       "  ...hakespeare_balanced_1k_layer_12.pkl:   0%|          |  940kB /  693MB            "
      ]
     },
     "metadata": {},
     "output_type": "display_data"
    },
    {
     "name": "stdout",
     "output_type": "stream",
     "text": [
      "✅ File uploaded to: https://huggingface.co/datasets/lasrprobegen/ultrachat-metaphors-activations\n"
     ]
    },
    {
     "data": {
      "application/vnd.jupyter.widget-view+json": {
       "model_id": "5785e461a50b4c7594f4e97962529713",
       "version_major": 2,
       "version_minor": 0
      },
      "text/plain": [
       "Processing Files (0 / 0)                : |          |  0.00B /  0.00B            "
      ]
     },
     "metadata": {},
     "output_type": "display_data"
    },
    {
     "data": {
      "application/vnd.jupyter.widget-view+json": {
       "model_id": "5ffbfabf1bb042f8b7c545914ed505ca",
       "version_major": 2,
       "version_minor": 0
      },
      "text/plain": [
       "New Data Upload                         : |          |  0.00B /  0.00B            "
      ]
     },
     "metadata": {},
     "output_type": "display_data"
    },
    {
     "data": {
      "application/vnd.jupyter.widget-view+json": {
       "model_id": "59b5afb752d548fea2912ea153a1e5f4",
       "version_major": 2,
       "version_minor": 0
      },
      "text/plain": [
       "  ...hakespeare_balanced_1k_layer_15.pkl:   0%|          |  940kB /  693MB            "
      ]
     },
     "metadata": {},
     "output_type": "display_data"
    },
    {
     "name": "stdout",
     "output_type": "stream",
     "text": [
      "✅ File uploaded to: https://huggingface.co/datasets/lasrprobegen/ultrachat-metaphors-activations\n"
     ]
    },
    {
     "data": {
      "application/vnd.jupyter.widget-view+json": {
       "model_id": "60b4d855ecda4e74bf80fb804d45f1ea",
       "version_major": 2,
       "version_minor": 0
      },
      "text/plain": [
       "Processing Files (0 / 0)                : |          |  0.00B /  0.00B            "
      ]
     },
     "metadata": {},
     "output_type": "display_data"
    },
    {
     "data": {
      "application/vnd.jupyter.widget-view+json": {
       "model_id": "024d129a1ebe470d946219e5a45a7e3a",
       "version_major": 2,
       "version_minor": 0
      },
      "text/plain": [
       "New Data Upload                         : |          |  0.00B /  0.00B            "
      ]
     },
     "metadata": {},
     "output_type": "display_data"
    },
    {
     "data": {
      "application/vnd.jupyter.widget-view+json": {
       "model_id": "4fa0bddda03f433f8afb25aa7ef00109",
       "version_major": 2,
       "version_minor": 0
      },
      "text/plain": [
       "  ...hakespeare_balanced_1k_layer_18.pkl:   0%|          |  940kB /  693MB            "
      ]
     },
     "metadata": {},
     "output_type": "display_data"
    },
    {
     "name": "stdout",
     "output_type": "stream",
     "text": [
      "✅ File uploaded to: https://huggingface.co/datasets/lasrprobegen/ultrachat-metaphors-activations\n"
     ]
    },
    {
     "data": {
      "application/vnd.jupyter.widget-view+json": {
       "model_id": "6ada1a3dd05e41579342d0f1063b58a7",
       "version_major": 2,
       "version_minor": 0
      },
      "text/plain": [
       "Processing Files (0 / 0)                : |          |  0.00B /  0.00B            "
      ]
     },
     "metadata": {},
     "output_type": "display_data"
    },
    {
     "data": {
      "application/vnd.jupyter.widget-view+json": {
       "model_id": "9a4b3336ce5b4e64a7abbe14f0971251",
       "version_major": 2,
       "version_minor": 0
      },
      "text/plain": [
       "New Data Upload                         : |          |  0.00B /  0.00B            "
      ]
     },
     "metadata": {},
     "output_type": "display_data"
    },
    {
     "data": {
      "application/vnd.jupyter.widget-view+json": {
       "model_id": "eb51ef0258574bc68931464425457d16",
       "version_major": 2,
       "version_minor": 0
      },
      "text/plain": [
       "  ...hakespeare_balanced_1k_layer_21.pkl:   0%|          |  940kB /  693MB            "
      ]
     },
     "metadata": {},
     "output_type": "display_data"
    },
    {
     "name": "stdout",
     "output_type": "stream",
     "text": [
      "✅ File uploaded to: https://huggingface.co/datasets/lasrprobegen/ultrachat-metaphors-activations\n"
     ]
    },
    {
     "data": {
      "application/vnd.jupyter.widget-view+json": {
       "model_id": "cc8e04136a854d409e7a47bde901aaa6",
       "version_major": 2,
       "version_minor": 0
      },
      "text/plain": [
       "Processing Files (0 / 0)                : |          |  0.00B /  0.00B            "
      ]
     },
     "metadata": {},
     "output_type": "display_data"
    },
    {
     "data": {
      "application/vnd.jupyter.widget-view+json": {
       "model_id": "d36c1d82057143d7adaeafb98b893741",
       "version_major": 2,
       "version_minor": 0
      },
      "text/plain": [
       "New Data Upload                         : |          |  0.00B /  0.00B            "
      ]
     },
     "metadata": {},
     "output_type": "display_data"
    },
    {
     "data": {
      "application/vnd.jupyter.widget-view+json": {
       "model_id": "eadba1cda07f425e84309ff58cdb8039",
       "version_major": 2,
       "version_minor": 0
      },
      "text/plain": [
       "  ...hakespeare_balanced_1k_layer_24.pkl:   0%|          |  940kB /  693MB            "
      ]
     },
     "metadata": {},
     "output_type": "display_data"
    },
    {
     "name": "stdout",
     "output_type": "stream",
     "text": [
      "✅ File uploaded to: https://huggingface.co/datasets/lasrprobegen/ultrachat-metaphors-activations\n"
     ]
    },
    {
     "data": {
      "application/vnd.jupyter.widget-view+json": {
       "model_id": "6457ba290c5e405f9f20884632fea753",
       "version_major": 2,
       "version_minor": 0
      },
      "text/plain": [
       "Processing Files (0 / 0)                : |          |  0.00B /  0.00B            "
      ]
     },
     "metadata": {},
     "output_type": "display_data"
    },
    {
     "data": {
      "application/vnd.jupyter.widget-view+json": {
       "model_id": "2308ae773f1c4de6aa32ebca14822d49",
       "version_major": 2,
       "version_minor": 0
      },
      "text/plain": [
       "New Data Upload                         : |          |  0.00B /  0.00B            "
      ]
     },
     "metadata": {},
     "output_type": "display_data"
    },
    {
     "data": {
      "application/vnd.jupyter.widget-view+json": {
       "model_id": "00d179aaa168480a8a3c1a85e03afbeb",
       "version_major": 2,
       "version_minor": 0
      },
      "text/plain": [
       "  ...hakespeare_balanced_1k_layer_27.pkl:   0%|          |  940kB /  693MB            "
      ]
     },
     "metadata": {},
     "output_type": "display_data"
    },
    {
     "name": "stdout",
     "output_type": "stream",
     "text": [
      "✅ File uploaded to: https://huggingface.co/datasets/lasrprobegen/ultrachat-metaphors-activations\n"
     ]
    }
   ],
   "source": [
    "# For uploading many layer pickle files to huggingface\n",
    "for i in range(0,28,3):\n",
    "    FILE_PATH = data.metaphors / f\"llama_3b_shakespeare_balanced_1k_layer_{i}.pkl\"\n",
    "    PATH_IN_REPO = FILE_PATH.split(\"/\")[-1]\n",
    "    api.upload_file(\n",
    "        path_or_fileobj=FILE_PATH,\n",
    "        path_in_repo=PATH_IN_REPO,\n",
    "        repo_id=REPO_NAME,\n",
    "        repo_type=\"dataset\",\n",
    "        token=HF_TOKEN,\n",
    "    )\n",
    "    print(f\"✅ File uploaded to: https://huggingface.co/datasets/{REPO_NAME}\")"
   ]
  },
  {
   "cell_type": "code",
   "execution_count": null,
   "id": "ee64c1eb",
   "metadata": {},
   "outputs": [],
   "source": [
    "# For uploading many jsonl files to huggingface\n",
    "FILE_PATH_PREFIX = data.refusal / \"llama_3b\"\n",
    "for SUFFIX in [\"balanced_5k\", \"balanced_20k\", \"raw_20k\", \"outputs_20k\"]:\n",
    "    FILE_PATH = FILE_PATH_PREFIX + \"_\" + SUFFIX + \".jsonl\"\n",
    "    PATH_IN_REPO = FILE_PATH.split(\"/\")[-1]\n",
    "    api.upload_file(\n",
    "        path_or_fileobj=FILE_PATH,\n",
    "        path_in_repo=PATH_IN_REPO,\n",
    "        repo_id=REPO_NAME,\n",
    "        repo_type=\"dataset\",\n",
    "        token=HF_TOKEN,\n",
    "    )\n",
    "    print(f\"✅ File uploaded to: https://huggingface.co/datasets/{REPO_NAME}\")"
   ]
  }
 ],
 "metadata": {
  "kernelspec": {
   "display_name": "Python (uv)",
   "language": "python",
   "name": "uv-env"
  },
  "language_info": {
   "codemirror_mode": {
    "name": "ipython",
    "version": 3
   },
   "file_extension": ".py",
   "mimetype": "text/x-python",
   "name": "python",
   "nbconvert_exporter": "python",
   "pygments_lexer": "ipython3",
   "version": "3.11.13"
  }
 },
 "nbformat": 4,
 "nbformat_minor": 5
}
