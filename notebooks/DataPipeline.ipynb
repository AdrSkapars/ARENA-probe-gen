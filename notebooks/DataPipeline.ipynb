{
 "cells": [
  {
   "cell_type": "code",
   "execution_count": null,
   "id": "55de9b6c",
   "metadata": {},
   "outputs": [],
   "source": [
    "%%capture\n",
    "# Run to set environment variables if want to\n",
    "# %env HF_TOKEN=\n",
    "# %env OPENAI_API_KEY="
   ]
  },
  {
   "cell_type": "markdown",
   "id": "70eb078e",
   "metadata": {},
   "source": [
    "## Full Dataset Pipeline"
   ]
  },
  {
   "cell_type": "code",
   "execution_count": 2,
   "id": "57f42525",
   "metadata": {},
   "outputs": [],
   "source": [
    "# global imports\n",
    "from probe_gen.paths import data"
   ]
  },
  {
   "cell_type": "code",
   "execution_count": null,
   "id": "30a053ba",
   "metadata": {},
   "outputs": [],
   "source": [
    "# Run to download jsonl files from hugging face if want to\n",
    "import os\n",
    "from huggingface_hub import hf_hub_download\n",
    "\n",
    "repo_id = \"lasrprobegen/anthropic-refusal-activations\"\n",
    "files_to_download = [\n",
    "    \"llama_3b_unlabelled_20k.jsonl\",\n",
    "    \"llama_3b_outputs_20k.jsonl\", \n",
    "]\n",
    "local_dir = data.refusal\n",
    "os.makedirs(local_dir, exist_ok=True)\n",
    "for filename in files_to_download:\n",
    "    file_path = hf_hub_download(\n",
    "        repo_id=repo_id,\n",
    "        repo_type=\"dataset\",\n",
    "        filename=filename,\n",
    "        local_dir=local_dir,\n",
    "        token=os.environ.get(\"HF_TOKEN\")\n",
    "    )\n",
    "    print(f\"Downloaded to: {file_path}\")"
   ]
  },
  {
   "cell_type": "markdown",
   "id": "24778ca4",
   "metadata": {},
   "source": [
    "### Sample prompts dataset"
   ]
  },
  {
   "cell_type": "markdown",
   "id": "fcdc3e0e",
   "metadata": {},
   "source": [
    "- Samples dataset of prompts from hugging face to jsonl file\n",
    "- The `skip` parameter allows you to only start taking prompts after the `skip`th valid entry in the dataset."
   ]
  },
  {
   "cell_type": "code",
   "execution_count": 5,
   "id": "92eecc50",
   "metadata": {},
   "outputs": [],
   "source": [
    "from probe_gen.annotation.refusal_behaviour import create_refusal_dataset\n",
    "from probe_gen.annotation.ultrachat_behaviour import create_ultrachat_dataset, create_ultrachat_dataset_brazilian\n",
    "\n",
    "dataset = create_refusal_dataset(num_samples=5000, skip=40000)\n",
    "dataset.save_to(\"../data/refusal/prompts_5k.jsonl\", overwrite=True)\n",
    "\n",
    "# Skipping example\n",
    "# dataset = create_refusal_dataset(num_samples=1000, skip = 1000) \n",
    "# dataset.save_to(\"../data/refusal/prompts_with_skip.jsonl\", overwrite=True)"
   ]
  },
  {
   "cell_type": "markdown",
   "id": "0119e69b",
   "metadata": {},
   "source": [
    "### Generate outputs dataset (on-policy)"
   ]
  },
  {
   "cell_type": "markdown",
   "id": "960c690d",
   "metadata": {},
   "source": [
    "- Uses LLM (Llama-3.2-3B-Instruct default) to generate outputs for inputs dataset\n",
    "- Takes 10 minutes to do 5k samples with 200 batch size\n",
    "- Hardware requirements: high GPU, low RAM, low disk\n",
    "- Make sure you have done 'export HF_TOKEN=<key>' or just paste it here but cant push to git\n",
    "\n",
    "```uv run scripts/get_outputs.py --data data/refusal/claude_outputs.jsonl --out llama_3b_outputs.jsonl --batch-size 200 --sample 0 --behaviour refusal --save-increment -1```"
   ]
  },
  {
   "cell_type": "code",
   "execution_count": null,
   "id": "9f2d3ac1",
   "metadata": {},
   "outputs": [],
   "source": [
    "from probe_gen.gen_data.utils import get_model, process_file_outputs_only\n",
    "\n",
    "model, tokenizer = get_model(\"meta-llama/Llama-3.2-3B-Instruct\")\n",
    "process_file_outputs_only(\n",
    "    model,\n",
    "    tokenizer,\n",
    "    dataset_path= data.refusal / \"llama-3b-test.json\" ,\n",
    "    output_file= data.refusal / \"llama-3b-outputs.jsonl\",\n",
    "    batch_size=200,\n",
    "    behaviour=\"refusal\",\n",
    "    sample=0,\n",
    "    add_prompt=False,\n",
    "    save_increment=-1,\n",
    ")"
   ]
  },
  {
   "cell_type": "markdown",
   "id": "6ad31984",
   "metadata": {},
   "source": [
    "### Generate outputs dataset (on-policy prompted)"
   ]
  },
  {
   "cell_type": "markdown",
   "id": "6b9da1a2",
   "metadata": {},
   "source": [
    "- Uses LLM (Llama-3.2-3B-Instruct default) to generate outputs for inputs dataset\n",
    "- Takes 10 minutes to do 5k samples with 200 batch size\n",
    "- Hardware requirements: high GPU, low RAM, low disk\n",
    "- Make sure you have done 'export HF_TOKEN=<key>' or just paste it here but cant push to git\n",
    "\n",
    "- If `--add-prompt` is set to yes, then by default it will use alternating positive / negative prompts.\n",
    "\n",
    "```uv run scripts/get_outputs.py --data data/refusal/claude_outputs.jsonl --out llama_3b_outputs1.jsonl --batch-size 200 --behaviour refusal --add-prompt yes --save-increment -1```\n",
    "\n",
    "- You can also further specify if you want to only use positive or negative prompts with `--prompt-type`.\n",
    "\n",
    "```uv run scripts/get_outputs.py --data data/refusal/claude_outputs.jsonl --out llama_3b_outputs2.jsonl --batch-size 200 --behaviour refusal --add-prompt yes --prompt-type positive --save-increment -1```"
   ]
  },
  {
   "cell_type": "code",
   "execution_count": null,
   "id": "cac08117",
   "metadata": {},
   "outputs": [],
   "source": [
    "from probe_gen.gen_data.utils import get_model, process_file_outputs_only\n",
    "\n",
    "model, tokenizer = get_model(\"meta-llama/Llama-3.2-3B-Instruct\")\n",
    "process_file_outputs_only(\n",
    "    model,\n",
    "    tokenizer,\n",
    "    dataset_path= data.refusal / \"claude_outputs.jsonl\",\n",
    "    output_file=\"llama_3b_prompted_outputs1.jsonl\",\n",
    "    batch_size=200,\n",
    "    behaviour=\"refusal\",\n",
    "    add_prompt=True,\n",
    "    save_increment=-1,\n",
    ")\n",
    "\n",
    "model, tokenizer = get_model(\"meta-llama/Llama-3.2-3B-Instruct\")\n",
    "process_file_outputs_only(\n",
    "    model,\n",
    "    tokenizer,\n",
    "    dataset_path= data.refusal / \"claude_outputs.jsonl\",\n",
    "    output_file=\"llama_3b_prompted_outputs1.jsonl\",\n",
    "    batch_size=200,\n",
    "    behaviour=\"refusal\",\n",
    "    add_prompt=True,\n",
    "    prompt_type=\"positive\", # You can further specify if you want to only use positive or negative prompts\n",
    "    save_increment=-1,\n",
    ")"
   ]
  },
  {
   "cell_type": "markdown",
   "id": "925416cd",
   "metadata": {},
   "source": [
    "### Label and balance dataset"
   ]
  },
  {
   "cell_type": "markdown",
   "id": "b1a72436",
   "metadata": {},
   "source": [
    "- Uses GPT-4o API to label refusal behaviour\n",
    "- Takes 4 minutes to do 10k samples\n",
    "- Hardware requirements: None\n",
    "- Make sure you have done 'export OPENAI_API_KEY=<key>'\n",
    "\n",
    "```uv run scripts/get_dataset_labelled.py --behaviour refusal --out-path data/refusal/llama_3b_raw.jsonl --in-path data/refusal/llama_3b_outputs.jsonl --do-subsample yes --num-balanced 5000```\n",
    "\n",
    "CODE CANNOT BE RUN IN NOTEBOOK BECAUSE OF ASYNC, RUN COMMAND OR A NEW SCRIPT"
   ]
  },
  {
   "cell_type": "code",
   "execution_count": null,
   "id": "761017a2",
   "metadata": {},
   "outputs": [],
   "source": [
    "# from probe_gen.annotation.interface_dataset import Dataset, LabelledDataset\n",
    "# from probe_gen.annotation.label_dataset import label_and_save_dataset\n",
    "# from probe_gen.annotation.refusal_behaviour import SYSTEM_PROMPT_REFUSE\n",
    "\n",
    "# try:\n",
    "#     dataset = LabelledDataset.load_from(\"../data/refusal/llama_3b_outputs.jsonl\")\n",
    "# except Exception:\n",
    "#     dataset = Dataset.load_from(\"../data/refusal/llama_3b_outputs.jsonl\")\n",
    "# label_and_save_dataset(\n",
    "#     dataset=dataset,\n",
    "#     dataset_path=\"../data/refusal/llama_3b_raw.jsonl\",\n",
    "#     system_prompt=SYSTEM_PROMPT_REFUSE,\n",
    "#     do_subsample=True,\n",
    "# )"
   ]
  },
  {
   "cell_type": "code",
   "execution_count": 5,
   "id": "db8c4c23",
   "metadata": {},
   "outputs": [
    {
     "name": "stdout",
     "output_type": "stream",
     "text": [
      "positive data:  2500\n",
      "negative data:  2500\n"
     ]
    }
   ],
   "source": [
    "# Can further downsample the balanced dataset to 5k, 2.5k examples each\n",
    "import json\n",
    "import random\n",
    "\n",
    "amount = 2500\n",
    "\n",
    "with open(data.refusal / 'llama_3b_raw_20k.jsonl', 'r') as f:\n",
    "    data = [json.loads(line) for line in f]\n",
    "\n",
    "positive_data = [data[i] for i in range(len(data)) if data[i][\"labels\"] == \"positive\"][:amount]\n",
    "negative_data = [data[i] for i in range(len(data)) if data[i][\"labels\"] == \"negative\"][:amount]\n",
    "print(\"positive data: \", len(positive_data))\n",
    "print(\"negative data: \", len(negative_data))\n",
    "balanced_data = positive_data + negative_data\n",
    "random.shuffle(balanced_data)\n",
    "\n",
    "with open(data.refusal / 'llama_3b_balanced_5k.jsonl', 'w') as f:\n",
    "    for item in balanced_data:\n",
    "        f.write(json.dumps(item) + \"\\n\")"
   ]
  },
  {
   "cell_type": "markdown",
   "id": "c5f52b59",
   "metadata": {},
   "source": [
    "### Get activations dataset"
   ]
  },
  {
   "cell_type": "markdown",
   "id": "db208caf",
   "metadata": {},
   "source": [
    "- Uses LLM (Llama-3.2-3B-Instruct default) to get actviations for datasets\n",
    "- Takes 10 minutes to generate output activations for 5k samples with 200 batch size\n",
    "- Hardware requirements: high GPU, super high (150 GB) RAM, super high (150 GB) Disk\n",
    "- Make sure you have done 'export HF_TOKEN=<key>' or just paste it here but cant push to git\n",
    "\n",
    "```uv run scripts/get_activations.py --model \"meta-llama/Llama-3.2-3B-Instruct\" --data data/refusal/llama_3b_balanced_5k.jsonl --batch-size 1 --layers \"0,3,6,9,12,15,18,21,24,27\" --save-increment -1```\n",
    "\n",
    "Click the top file and then shift+click the bottom file for easy deleting of pkl files once uploaded to HF"
   ]
  },
  {
   "cell_type": "code",
   "execution_count": 7,
   "id": "dd1fc01d",
   "metadata": {},
   "outputs": [
    {
     "data": {
      "application/vnd.jupyter.widget-view+json": {
       "model_id": "6badb1a92b4e4e5fb9b4ee76348cafe0",
       "version_major": 2,
       "version_minor": 0
      },
      "text/plain": [
       "Loading checkpoint shards:   0%|          | 0/2 [00:00<?, ?it/s]"
      ]
     },
     "metadata": {},
     "output_type": "display_data"
    },
    {
     "name": "stdout",
     "output_type": "stream",
     "text": [
      "Processing 5000 examples in 417 batches of size 12\n"
     ]
    },
    {
     "name": "stderr",
     "output_type": "stream",
     "text": [
      "Processing batches: 100%|██████████| 417/417 [02:44<00:00,  2.53it/s]\n",
      "Saving layers: 100%|██████████| 10/10 [00:35<00:00,  3.54s/it]\n"
     ]
    }
   ],
   "source": [
    "# Standard library imports\n",
    "from probe_gen.gen_data.utils import get_model, process_file\n",
    "\n",
    "model, tokenizer = get_model(\"meta-llama/Llama-3.2-3B-Instruct\")\n",
    "process_file(\n",
    "    model,\n",
    "    tokenizer,\n",
    "    dataset_path= data.refusal / \"llama_3b_balanced_5k.jsonl\",\n",
    "    output_file= data.refusal / \"llama_3b_balanced_5k.pkl\",\n",
    "    batch_size=32,\n",
    "    sample=0,\n",
    "    layers_str=\"0,3,6,9,12,15,18,21,24,27\",\n",
    "    save_increment=-1,\n",
    ")"
   ]
  },
  {
   "cell_type": "markdown",
   "id": "486c4ff4",
   "metadata": {},
   "source": [
    "### Upload activations dataset"
   ]
  },
  {
   "cell_type": "markdown",
   "id": "e39f8433",
   "metadata": {},
   "source": [
    "- Upload activations to hugging face repo"
   ]
  },
  {
   "cell_type": "code",
   "execution_count": 3,
   "id": "3ad17205",
   "metadata": {},
   "outputs": [
    {
     "name": "stdout",
     "output_type": "stream",
     "text": [
      "Creating repository...\n"
     ]
    },
    {
     "data": {
      "text/plain": [
       "RepoUrl('https://huggingface.co/datasets/lasrprobegen/anthropic-refusal-activations', endpoint='https://huggingface.co', repo_type='dataset', repo_id='lasrprobegen/anthropic-refusal-activations')"
      ]
     },
     "execution_count": 3,
     "metadata": {},
     "output_type": "execute_result"
    }
   ],
   "source": [
    "import os\n",
    "from huggingface_hub import HfApi\n",
    "\n",
    "# Create a new repo for each behaviour\n",
    "REPO_NAME = \"lasrprobegen/anthropic-refusal-activations\"# \"NLie2/anthropic-refusal-activations\"\n",
    "HF_TOKEN = os.environ[\"HF_TOKEN\"]\n",
    "\n",
    "api = HfApi()\n",
    "print(\"Creating repository...\")\n",
    "api.create_repo(\n",
    "    repo_id=REPO_NAME,\n",
    "    repo_type=\"dataset\",\n",
    "    token=HF_TOKEN,\n",
    "    private=False,\n",
    "    exist_ok=True\n",
    ")"
   ]
  },
  {
   "cell_type": "code",
   "execution_count": null,
   "id": "758d303b",
   "metadata": {},
   "outputs": [],
   "source": [
    "# For uploading a single pickle file to huggingface\n",
    "FILE_PATH = data.refusal / \"llama_3b_balanced_5k.pkl\"\n",
    "PATH_IN_REPO = FILE_PATH.split(\"/\")[-1]\n",
    "api.upload_file(\n",
    "    path_or_fileobj=FILE_PATH,\n",
    "    path_in_repo=PATH_IN_REPO,\n",
    "    repo_id=REPO_NAME,\n",
    "    repo_type=\"dataset\",\n",
    "    token=HF_TOKEN,\n",
    ")\n",
    "print(f\"✅ File uploaded to: https://huggingface.co/datasets/{REPO_NAME}\")"
   ]
  },
  {
   "cell_type": "code",
   "execution_count": 4,
   "id": "a8e8fb91",
   "metadata": {},
   "outputs": [
    {
     "data": {
      "application/vnd.jupyter.widget-view+json": {
       "model_id": "1cf25d5c38b84717be34b58a13f7c7c3",
       "version_major": 2,
       "version_minor": 0
      },
      "text/plain": [
       "Processing Files (0 / 0)                : |          |  0.00B /  0.00B            "
      ]
     },
     "metadata": {},
     "output_type": "display_data"
    },
    {
     "data": {
      "application/vnd.jupyter.widget-view+json": {
       "model_id": "cc5ca2e601454baa8e5c17cf066b7be9",
       "version_major": 2,
       "version_minor": 0
      },
      "text/plain": [
       "New Data Upload                         : |          |  0.00B /  0.00B            "
      ]
     },
     "metadata": {},
     "output_type": "display_data"
    },
    {
     "data": {
      "application/vnd.jupyter.widget-view+json": {
       "model_id": "3159c3bff8b947559c764e38d9d8f8ba",
       "version_major": 2,
       "version_minor": 0
      },
      "text/plain": [
       "  ...al/llama_3b_balanced_5k_layer_0.pkl:   0%|          |  557kB / 3.34GB            "
      ]
     },
     "metadata": {},
     "output_type": "display_data"
    },
    {
     "name": "stdout",
     "output_type": "stream",
     "text": [
      "✅ File uploaded to: https://huggingface.co/datasets/lasrprobegen/anthropic-refusal-activations\n"
     ]
    },
    {
     "data": {
      "application/vnd.jupyter.widget-view+json": {
       "model_id": "b0e381f13da24b4e9f4c44115801174d",
       "version_major": 2,
       "version_minor": 0
      },
      "text/plain": [
       "Processing Files (0 / 0)                : |          |  0.00B /  0.00B            "
      ]
     },
     "metadata": {},
     "output_type": "display_data"
    },
    {
     "data": {
      "application/vnd.jupyter.widget-view+json": {
       "model_id": "393b9e337aa2499a847660259cace261",
       "version_major": 2,
       "version_minor": 0
      },
      "text/plain": [
       "New Data Upload                         : |          |  0.00B /  0.00B            "
      ]
     },
     "metadata": {},
     "output_type": "display_data"
    },
    {
     "data": {
      "application/vnd.jupyter.widget-view+json": {
       "model_id": "743b900e5a2f4ffda74e3d05b8f19a0b",
       "version_major": 2,
       "version_minor": 0
      },
      "text/plain": [
       "  ...al/llama_3b_balanced_5k_layer_3.pkl:   0%|          | 5.48MB / 3.34GB            "
      ]
     },
     "metadata": {},
     "output_type": "display_data"
    },
    {
     "name": "stdout",
     "output_type": "stream",
     "text": [
      "  \u001b[2m2025-08-21T15:47:32.297204Z\u001b[0m \u001b[33m WARN\u001b[0m  \u001b[33mStatus Code: 502. Retrying..., \u001b[1;33mrequest_id\u001b[0m\u001b[33m: \"\"\u001b[0m\n",
      "    \u001b[2;3mat\u001b[0m /home/runner/work/xet-core/xet-core/cas_client/src/http_client.rs:220\n",
      "\n",
      "✅ File uploaded to: https://huggingface.co/datasets/lasrprobegen/anthropic-refusal-activations\n"
     ]
    },
    {
     "data": {
      "application/vnd.jupyter.widget-view+json": {
       "model_id": "8ccfe2d0ce264784b603ae99f1f1e84a",
       "version_major": 2,
       "version_minor": 0
      },
      "text/plain": [
       "Processing Files (0 / 0)                : |          |  0.00B /  0.00B            "
      ]
     },
     "metadata": {},
     "output_type": "display_data"
    },
    {
     "data": {
      "application/vnd.jupyter.widget-view+json": {
       "model_id": "02692dc1503f46578a0c3ca02647a6aa",
       "version_major": 2,
       "version_minor": 0
      },
      "text/plain": [
       "New Data Upload                         : |          |  0.00B /  0.00B            "
      ]
     },
     "metadata": {},
     "output_type": "display_data"
    },
    {
     "data": {
      "application/vnd.jupyter.widget-view+json": {
       "model_id": "3a58d2b6c2ca48fe8ea7873ba42b7fd7",
       "version_major": 2,
       "version_minor": 0
      },
      "text/plain": [
       "  ...al/llama_3b_balanced_5k_layer_6.pkl:   0%|          | 5.48MB / 3.34GB            "
      ]
     },
     "metadata": {},
     "output_type": "display_data"
    },
    {
     "name": "stdout",
     "output_type": "stream",
     "text": [
      "✅ File uploaded to: https://huggingface.co/datasets/lasrprobegen/anthropic-refusal-activations\n"
     ]
    },
    {
     "data": {
      "application/vnd.jupyter.widget-view+json": {
       "model_id": "64bb05228864462cb265f8c8278eb7e7",
       "version_major": 2,
       "version_minor": 0
      },
      "text/plain": [
       "Processing Files (0 / 0)                : |          |  0.00B /  0.00B            "
      ]
     },
     "metadata": {},
     "output_type": "display_data"
    },
    {
     "data": {
      "application/vnd.jupyter.widget-view+json": {
       "model_id": "5d50d00dacf7453288027d3bd93e533e",
       "version_major": 2,
       "version_minor": 0
      },
      "text/plain": [
       "New Data Upload                         : |          |  0.00B /  0.00B            "
      ]
     },
     "metadata": {},
     "output_type": "display_data"
    },
    {
     "data": {
      "application/vnd.jupyter.widget-view+json": {
       "model_id": "3878e52b3b3c4d49850291bf4953f4dc",
       "version_major": 2,
       "version_minor": 0
      },
      "text/plain": [
       "  ...al/llama_3b_balanced_5k_layer_9.pkl:   0%|          | 10.3MB / 3.34GB            "
      ]
     },
     "metadata": {},
     "output_type": "display_data"
    },
    {
     "name": "stdout",
     "output_type": "stream",
     "text": [
      "✅ File uploaded to: https://huggingface.co/datasets/lasrprobegen/anthropic-refusal-activations\n"
     ]
    },
    {
     "data": {
      "application/vnd.jupyter.widget-view+json": {
       "model_id": "32ddbc6dc9ae492299b7c61267d6f190",
       "version_major": 2,
       "version_minor": 0
      },
      "text/plain": [
       "Processing Files (0 / 0)                : |          |  0.00B /  0.00B            "
      ]
     },
     "metadata": {},
     "output_type": "display_data"
    },
    {
     "data": {
      "application/vnd.jupyter.widget-view+json": {
       "model_id": "e65cd4ccb9aa4dd6a276359c953d53ce",
       "version_major": 2,
       "version_minor": 0
      },
      "text/plain": [
       "New Data Upload                         : |          |  0.00B /  0.00B            "
      ]
     },
     "metadata": {},
     "output_type": "display_data"
    },
    {
     "data": {
      "application/vnd.jupyter.widget-view+json": {
       "model_id": "5357a18a098049d6a54e75fd66895464",
       "version_major": 2,
       "version_minor": 0
      },
      "text/plain": [
       "  ...l/llama_3b_balanced_5k_layer_12.pkl:   0%|          | 5.48MB / 3.34GB            "
      ]
     },
     "metadata": {},
     "output_type": "display_data"
    },
    {
     "name": "stdout",
     "output_type": "stream",
     "text": [
      "✅ File uploaded to: https://huggingface.co/datasets/lasrprobegen/anthropic-refusal-activations\n"
     ]
    },
    {
     "data": {
      "application/vnd.jupyter.widget-view+json": {
       "model_id": "4dce7dd738634004bbc8f9ec64862dc8",
       "version_major": 2,
       "version_minor": 0
      },
      "text/plain": [
       "Processing Files (0 / 0)                : |          |  0.00B /  0.00B            "
      ]
     },
     "metadata": {},
     "output_type": "display_data"
    },
    {
     "data": {
      "application/vnd.jupyter.widget-view+json": {
       "model_id": "92638fe5c1634bb7ae9fe60295768df5",
       "version_major": 2,
       "version_minor": 0
      },
      "text/plain": [
       "New Data Upload                         : |          |  0.00B /  0.00B            "
      ]
     },
     "metadata": {},
     "output_type": "display_data"
    },
    {
     "data": {
      "application/vnd.jupyter.widget-view+json": {
       "model_id": "f79ad85096214a2d96f4712140956e21",
       "version_major": 2,
       "version_minor": 0
      },
      "text/plain": [
       "  ...l/llama_3b_balanced_5k_layer_15.pkl:   0%|          | 5.48MB / 3.34GB            "
      ]
     },
     "metadata": {},
     "output_type": "display_data"
    },
    {
     "name": "stdout",
     "output_type": "stream",
     "text": [
      "✅ File uploaded to: https://huggingface.co/datasets/lasrprobegen/anthropic-refusal-activations\n"
     ]
    },
    {
     "data": {
      "application/vnd.jupyter.widget-view+json": {
       "model_id": "40d55e1c7a4d4dcf84b2c9a64100a9f2",
       "version_major": 2,
       "version_minor": 0
      },
      "text/plain": [
       "Processing Files (0 / 0)                : |          |  0.00B /  0.00B            "
      ]
     },
     "metadata": {},
     "output_type": "display_data"
    },
    {
     "data": {
      "application/vnd.jupyter.widget-view+json": {
       "model_id": "a1678cd74fd647dba92766d0cd6abf1b",
       "version_major": 2,
       "version_minor": 0
      },
      "text/plain": [
       "New Data Upload                         : |          |  0.00B /  0.00B            "
      ]
     },
     "metadata": {},
     "output_type": "display_data"
    },
    {
     "data": {
      "application/vnd.jupyter.widget-view+json": {
       "model_id": "ca44c54923ef4522944240f5d870eb93",
       "version_major": 2,
       "version_minor": 0
      },
      "text/plain": [
       "  ...l/llama_3b_balanced_5k_layer_18.pkl:   0%|          | 5.48MB / 3.34GB            "
      ]
     },
     "metadata": {},
     "output_type": "display_data"
    },
    {
     "name": "stdout",
     "output_type": "stream",
     "text": [
      "✅ File uploaded to: https://huggingface.co/datasets/lasrprobegen/anthropic-refusal-activations\n"
     ]
    },
    {
     "data": {
      "application/vnd.jupyter.widget-view+json": {
       "model_id": "d4f18e8d617249078059ed5a640d6b2f",
       "version_major": 2,
       "version_minor": 0
      },
      "text/plain": [
       "Processing Files (0 / 0)                : |          |  0.00B /  0.00B            "
      ]
     },
     "metadata": {},
     "output_type": "display_data"
    },
    {
     "data": {
      "application/vnd.jupyter.widget-view+json": {
       "model_id": "4088ded2312842138a80bb6649c164a9",
       "version_major": 2,
       "version_minor": 0
      },
      "text/plain": [
       "New Data Upload                         : |          |  0.00B /  0.00B            "
      ]
     },
     "metadata": {},
     "output_type": "display_data"
    },
    {
     "data": {
      "application/vnd.jupyter.widget-view+json": {
       "model_id": "66063fbacc68444d9a85d18f3ef7c1fb",
       "version_major": 2,
       "version_minor": 0
      },
      "text/plain": [
       "  ...l/llama_3b_balanced_5k_layer_21.pkl:   0%|          | 5.48MB / 3.34GB            "
      ]
     },
     "metadata": {},
     "output_type": "display_data"
    },
    {
     "name": "stdout",
     "output_type": "stream",
     "text": [
      "✅ File uploaded to: https://huggingface.co/datasets/lasrprobegen/anthropic-refusal-activations\n"
     ]
    },
    {
     "data": {
      "application/vnd.jupyter.widget-view+json": {
       "model_id": "5f417f7946774133b7e82d4c43ab760d",
       "version_major": 2,
       "version_minor": 0
      },
      "text/plain": [
       "Processing Files (0 / 0)                : |          |  0.00B /  0.00B            "
      ]
     },
     "metadata": {},
     "output_type": "display_data"
    },
    {
     "data": {
      "application/vnd.jupyter.widget-view+json": {
       "model_id": "c6f59c3d4105471f87a9289e6dabd444",
       "version_major": 2,
       "version_minor": 0
      },
      "text/plain": [
       "New Data Upload                         : |          |  0.00B /  0.00B            "
      ]
     },
     "metadata": {},
     "output_type": "display_data"
    },
    {
     "data": {
      "application/vnd.jupyter.widget-view+json": {
       "model_id": "8f6eb4353247495b8155dbd5c646a40c",
       "version_major": 2,
       "version_minor": 0
      },
      "text/plain": [
       "  ...l/llama_3b_balanced_5k_layer_24.pkl:   0%|          | 5.48MB / 3.34GB            "
      ]
     },
     "metadata": {},
     "output_type": "display_data"
    },
    {
     "name": "stdout",
     "output_type": "stream",
     "text": [
      "✅ File uploaded to: https://huggingface.co/datasets/lasrprobegen/anthropic-refusal-activations\n"
     ]
    },
    {
     "data": {
      "application/vnd.jupyter.widget-view+json": {
       "model_id": "1d2196a85da345deb0184ef1695bcc52",
       "version_major": 2,
       "version_minor": 0
      },
      "text/plain": [
       "Processing Files (0 / 0)                : |          |  0.00B /  0.00B            "
      ]
     },
     "metadata": {},
     "output_type": "display_data"
    },
    {
     "data": {
      "application/vnd.jupyter.widget-view+json": {
       "model_id": "3981b9f15fc940b5abeb561281120a66",
       "version_major": 2,
       "version_minor": 0
      },
      "text/plain": [
       "New Data Upload                         : |          |  0.00B /  0.00B            "
      ]
     },
     "metadata": {},
     "output_type": "display_data"
    },
    {
     "data": {
      "application/vnd.jupyter.widget-view+json": {
       "model_id": "26db959df8954917af17b08b3eb33d9c",
       "version_major": 2,
       "version_minor": 0
      },
      "text/plain": [
       "  ...l/llama_3b_balanced_5k_layer_27.pkl:   0%|          | 5.48MB / 3.34GB            "
      ]
     },
     "metadata": {},
     "output_type": "display_data"
    },
    {
     "name": "stdout",
     "output_type": "stream",
     "text": [
      "✅ File uploaded to: https://huggingface.co/datasets/lasrprobegen/anthropic-refusal-activations\n"
     ]
    }
   ],
   "source": [
    "# For uploading many layer pickle files to huggingface\n",
    "for i in range(0,28,3):\n",
    "    FILE_PATH = data.refusal / f\"llama_3b_balanced_5k_layer_{i}.pkl\"\n",
    "    PATH_IN_REPO = FILE_PATH.split(\"/\")[-1]\n",
    "    api.upload_file(\n",
    "        path_or_fileobj=FILE_PATH,\n",
    "        path_in_repo=PATH_IN_REPO,\n",
    "        repo_id=REPO_NAME,\n",
    "        repo_type=\"dataset\",\n",
    "        token=HF_TOKEN,\n",
    "    )\n",
    "    print(f\"✅ File uploaded to: https://huggingface.co/datasets/{REPO_NAME}\")"
   ]
  },
  {
   "cell_type": "code",
   "execution_count": null,
   "id": "ee64c1eb",
   "metadata": {},
   "outputs": [],
   "source": [
    "# For uploading many jsonl files to huggingface\n",
    "FILE_PATH_PREFIX = data.refusal / \"llama_3b\"\n",
    "for SUFFIX in [\"balanced_5k\", \"balanced_20k\", \"raw_20k\", \"outputs_20k\"]:\n",
    "    FILE_PATH = FILE_PATH_PREFIX + \"_\" + SUFFIX + \".jsonl\"\n",
    "    PATH_IN_REPO = FILE_PATH.split(\"/\")[-1]\n",
    "    api.upload_file(\n",
    "        path_or_fileobj=FILE_PATH,\n",
    "        path_in_repo=PATH_IN_REPO,\n",
    "        repo_id=REPO_NAME,\n",
    "        repo_type=\"dataset\",\n",
    "        token=HF_TOKEN,\n",
    "    )\n",
    "    print(f\"✅ File uploaded to: https://huggingface.co/datasets/{REPO_NAME}\")"
   ]
  }
 ],
 "metadata": {
  "kernelspec": {
   "display_name": "Python (uv)",
   "language": "python",
   "name": "uv-env"
  },
  "language_info": {
   "codemirror_mode": {
    "name": "ipython",
    "version": 3
   },
   "file_extension": ".py",
   "mimetype": "text/x-python",
   "name": "python",
   "nbconvert_exporter": "python",
   "pygments_lexer": "ipython3",
   "version": "3.11.13"
  }
 },
 "nbformat": 4,
 "nbformat_minor": 5
}
