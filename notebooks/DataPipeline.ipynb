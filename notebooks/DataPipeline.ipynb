{
 "cells": [
  {
   "cell_type": "code",
   "execution_count": 1,
   "id": "55de9b6c",
   "metadata": {},
   "outputs": [],
   "source": [
    "%%capture\n",
    "# Run to set environment variables if want to\n",
    "# %env HF_TOKEN=\n",
    "# %env OPENAI_API_KEY="
   ]
  },
  {
   "cell_type": "markdown",
   "id": "70eb078e",
   "metadata": {},
   "source": [
    "## Full Dataset Pipeline"
   ]
  },
  {
   "cell_type": "code",
   "execution_count": null,
   "id": "57f42525",
   "metadata": {},
   "outputs": [
    {
     "name": "stdout",
     "output_type": "stream",
     "text": [
      "Downloading data for sycophancy_arguments...\n",
      "Loading arguments data from HuggingFace: lasrprobegen/opentrivia-sycophancy-activations/arguments.csv\n"
     ]
    },
    {
     "data": {
      "application/vnd.jupyter.widget-view+json": {
       "model_id": "91ca4b3b28894382b34f3415256379d9",
       "version_major": 2,
       "version_minor": 0
      },
      "text/plain": [
       "arguments.csv: 0.00B [00:00, ?B/s]"
      ]
     },
     "metadata": {},
     "output_type": "display_data"
    },
    {
     "name": "stdout",
     "output_type": "stream",
     "text": [
      "Downloaded CSV file from HuggingFace to: /workspace/.hf_home/hub/datasets--lasrprobegen--opentrivia-sycophancy-activations/snapshots/ae09a2821c430b1305966e34b5131fb25affa6de/arguments.csv\n",
      "Loaded 14142 total arguments from CSV\n",
      "Shuffled dataset with random_state=42 for reproducibility\n",
      "✓ Successfully processed and cached 14142 arguments\n",
      "Generating 1000 train samples (skip=0)\n",
      "Dataset saved to /workspace/LASR-probe-gen/data/prompt_datasets/sycophancy_arguments_train.json\n",
      "✓ Successfully generated 3000 train samples\n",
      "Generating 100 test samples (skip=1100)\n",
      "Dataset saved to /workspace/LASR-probe-gen/data/prompt_datasets/sycophancy_arguments_test.json\n",
      "✓ Successfully generated 300 test samples\n",
      "\n",
      "✓ Successfully created balanced dataset:\n",
      "  Train: 3000 samples (saved to /workspace/LASR-probe-gen/data/prompt_datasets/sycophancy_arguments_train.json)\n",
      "  Test: 300 samples (saved to /workspace/LASR-probe-gen/data/prompt_datasets/sycophancy_arguments_test.json)\n",
      "3000\n",
      "300\n",
      "Downloading data for sycophancy_multichoice...\n",
      "Loading multiple choice questions from HuggingFace: lasrprobegen/opentrivia-authority-activations/open_trivia_shuffled.csv\n",
      "Downloaded CSV file from HuggingFace to: /workspace/.hf_home/hub/datasets--lasrprobegen--opentrivia-authority-activations/snapshots/249057b9e7061ea737d7bdba651b7a04fab86d36/open_trivia_shuffled.csv\n",
      "Loaded 49826 total questions from CSV\n",
      "Filtered out 6835 rows with missing data\n",
      "Shuffled dataset with random_state=42 for reproducibility\n",
      "✓ Successfully processed and cached 42991 multiple choice questions\n",
      "Generating 1000 train samples (skip=0)\n",
      "Dataset saved to /workspace/LASR-probe-gen/data/prompt_datasets/sycophancy_multichoice_train.json\n",
      "✓ Successfully generated 3000 train samples\n",
      "Generating 100 test samples (skip=1100)\n",
      "Dataset saved to /workspace/LASR-probe-gen/data/prompt_datasets/sycophancy_multichoice_test.json\n",
      "✓ Successfully generated 300 test samples\n",
      "\n",
      "✓ Successfully created balanced dataset:\n",
      "  Train: 3000 samples (saved to /workspace/LASR-probe-gen/data/prompt_datasets/sycophancy_multichoice_train.json)\n",
      "  Test: 300 samples (saved to /workspace/LASR-probe-gen/data/prompt_datasets/sycophancy_multichoice_test.json)\n",
      "3000\n",
      "300\n",
      "Downloading data for jailbreak...\n",
      "Loading jailbreak data from HuggingFace: sevdeawesome/jailbreak_success\n",
      "Loaded 10800 total samples from HuggingFace\n",
      "Filtered out 600 samples with excluded jailbreak types: ['gcg', 'autodan', 'original']\n",
      "Remaining samples after filtering: 10200\n",
      "Shuffled dataset with random_state=42 for reproducibility\n",
      "✓ Successfully processed and cached 10200 jailbreak samples\n",
      "Generating 1000 train samples (skip=0)\n"
     ]
    },
    {
     "name": "stderr",
     "output_type": "stream",
     "text": [
      "Processing jailbreak train dataset: 100%|██████████| 1000/1000 [00:00<00:00, 17847.27it/s]\n"
     ]
    },
    {
     "name": "stdout",
     "output_type": "stream",
     "text": [
      "Dataset saved to /workspace/LASR-probe-gen/data/prompt_datasets/jailbreak_train.json\n",
      "✓ Successfully generated 1000 train samples\n",
      "Generating 100 test samples (skip=2000)\n"
     ]
    },
    {
     "name": "stderr",
     "output_type": "stream",
     "text": [
      "Processing jailbreak test dataset: 100%|██████████| 100/100 [00:00<00:00, 16217.39it/s]"
     ]
    },
    {
     "name": "stdout",
     "output_type": "stream",
     "text": [
      "Dataset saved to /workspace/LASR-probe-gen/data/prompt_datasets/jailbreak_test.json\n",
      "✓ Successfully generated 100 test samples\n",
      "\n",
      "✓ Successfully created balanced dataset:\n",
      "  Train: 1000 samples (saved to /workspace/LASR-probe-gen/data/prompt_datasets/jailbreak_train.json)\n",
      "  Test: 100 samples (saved to /workspace/LASR-probe-gen/data/prompt_datasets/jailbreak_test.json)\n"
     ]
    },
    {
     "name": "stderr",
     "output_type": "stream",
     "text": [
      "\n"
     ]
    },
    {
     "name": "stdout",
     "output_type": "stream",
     "text": [
      "1000\n",
      "100\n",
      "Downloading data for mmlu...\n",
      "Loading MMLU data for 14 subcategories...\n",
      "  Loading college_biology...\n",
      "  Loading college_computer_science...\n",
      "  Loading high_school_mathematics...\n",
      "  Loading anatomy...\n",
      "  Loading human_sexuality...\n",
      "  Loading high_school_psychology...\n",
      "  Loading business_ethics...\n",
      "  Loading logical_fallacies...\n",
      "  Loading high_school_world_history...\n",
      "  Loading high_school_us_history...\n",
      "  Loading management...\n",
      "  Loading marketing...\n",
      "  Loading sociology...\n",
      "  Loading world_religions...\n",
      "✓ Successfully loaded 14 MMLU subcategories\n",
      "Generating 1000 train samples (skip=0)\n",
      "✓ Created combined shuffled dataset with 2738 samples\n",
      "Dataset saved to /workspace/LASR-probe-gen/data/prompt_datasets/mmlu_train.json\n",
      "✓ Successfully generated 1000 train samples\n",
      "Generating 100 test samples (skip=2000)\n",
      "Dataset saved to /workspace/LASR-probe-gen/data/prompt_datasets/mmlu_test.json\n",
      "✓ Successfully generated 100 test samples\n",
      "\n",
      "✓ Successfully created balanced dataset:\n",
      "  Train: 1000 samples (saved to /workspace/LASR-probe-gen/data/prompt_datasets/mmlu_train.json)\n",
      "  Test: 100 samples (saved to /workspace/LASR-probe-gen/data/prompt_datasets/mmlu_test.json)\n",
      "1000\n",
      "100\n",
      "Downloading data for ultrachat_ultrachat...\n",
      "Loading ultrachat data from HuggingFace...\n",
      "✓ Ready to stream ultrachat data from HuggingFaceH4/ultrachat_200k\n",
      "Generating 1000 train samples (skip=0)\n",
      "Streaming ultrachat data to create 1000 samples (skip=0)...\n"
     ]
    },
    {
     "name": "stderr",
     "output_type": "stream",
     "text": [
      "Processing ultrachat: 1945it [00:01, 1527.69it/s]\n"
     ]
    },
    {
     "name": "stdout",
     "output_type": "stream",
     "text": [
      "Dataset saved to /workspace/LASR-probe-gen/data/prompt_datasets/ultrachat_ultrachat_train.json\n",
      "✓ Successfully generated 1000 train samples\n",
      "Generating 100 test samples (skip=2000)\n",
      "Streaming ultrachat data to create 100 samples (skip=2000)...\n"
     ]
    },
    {
     "name": "stderr",
     "output_type": "stream",
     "text": [
      "Processing ultrachat: 4029it [00:01, 2470.86it/s]\n"
     ]
    },
    {
     "name": "stdout",
     "output_type": "stream",
     "text": [
      "Dataset saved to /workspace/LASR-probe-gen/data/prompt_datasets/ultrachat_ultrachat_test.json\n",
      "✓ Successfully generated 100 test samples\n",
      "\n",
      "✓ Successfully created balanced dataset:\n",
      "  Train: 1000 samples (saved to /workspace/LASR-probe-gen/data/prompt_datasets/ultrachat_ultrachat_train.json)\n",
      "  Test: 100 samples (saved to /workspace/LASR-probe-gen/data/prompt_datasets/ultrachat_ultrachat_test.json)\n",
      "1000\n",
      "100\n",
      "Downloading data for shakespeare...\n",
      "Downloading Shakespeare dataset from Kaggle: guslovesmath/shakespeare-plays-dataset\n",
      "✓ Successfully downloaded Shakespeare dataset to /root/.cache/kagglehub/datasets/guslovesmath/shakespeare-plays-dataset/versions/1/shakespeare_plays.csv\n",
      "Generating 1000 train samples (skip=0)\n",
      "Processing Shakespeare lines from /root/.cache/kagglehub/datasets/guslovesmath/shakespeare-plays-dataset/versions/1/shakespeare_plays.csv...\n"
     ]
    },
    {
     "name": "stderr",
     "output_type": "stream",
     "text": [
      "Processing lines: 108094it [00:00, 507208.64it/s]\n"
     ]
    },
    {
     "name": "stdout",
     "output_type": "stream",
     "text": [
      "✓ Processed 66348 valid Shakespeare lines\n",
      "Dataset saved to /workspace/LASR-probe-gen/data/prompt_datasets/shakespeare_train.json\n",
      "✓ Successfully generated 1000 train samples\n",
      "Generating 100 test samples (skip=2000)\n",
      "Dataset saved to /workspace/LASR-probe-gen/data/prompt_datasets/shakespeare_test.json\n",
      "✓ Successfully generated 100 test samples\n",
      "\n",
      "✓ Successfully created balanced dataset:\n",
      "  Train: 1000 samples (saved to /workspace/LASR-probe-gen/data/prompt_datasets/shakespeare_train.json)\n",
      "  Test: 100 samples (saved to /workspace/LASR-probe-gen/data/prompt_datasets/shakespeare_test.json)\n",
      "1000\n",
      "100\n",
      "Downloading data for refusal...\n",
      "Loading refusal data from HuggingFace: Anthropic/hh-rlhf\n",
      "✓ Successfully verified access to Anthropic/hh-rlhf\n",
      "Generating 1000 train samples (skip=0)\n",
      "Streaming Anthropic/hh-rlhf to create 1000 samples (skip=0)...\n"
     ]
    },
    {
     "name": "stderr",
     "output_type": "stream",
     "text": [
      "Processing Anthropic/hh-rlhf: 3417it [00:00, 5996.92it/s]\n"
     ]
    },
    {
     "name": "stdout",
     "output_type": "stream",
     "text": [
      "Dataset saved to /workspace/LASR-probe-gen/data/prompt_datasets/refusal_train.json\n",
      "✓ Successfully generated 1000 train samples\n",
      "Generating 100 test samples (skip=2000)\n",
      "Streaming Anthropic/hh-rlhf to create 100 samples (skip=2000)...\n"
     ]
    },
    {
     "name": "stderr",
     "output_type": "stream",
     "text": [
      "Processing Anthropic/hh-rlhf: 7225it [00:00, 8764.12it/s] \n"
     ]
    },
    {
     "name": "stdout",
     "output_type": "stream",
     "text": [
      "Dataset saved to /workspace/LASR-probe-gen/data/prompt_datasets/refusal_test.json\n",
      "✓ Successfully generated 100 test samples\n",
      "\n",
      "✓ Successfully created balanced dataset:\n",
      "  Train: 1000 samples (saved to /workspace/LASR-probe-gen/data/prompt_datasets/refusal_train.json)\n",
      "  Test: 100 samples (saved to /workspace/LASR-probe-gen/data/prompt_datasets/refusal_test.json)\n",
      "1000\n",
      "100\n",
      "Downloading data for tinystories...\n",
      "Loading TinyStories data from HuggingFace: roneneldan/TinyStories\n",
      "✓ Successfully verified access to roneneldan/TinyStories\n",
      "Generating 1000 train samples (skip=0)\n",
      "Streaming roneneldan/TinyStories to create 1000 samples (skip=0)...\n"
     ]
    },
    {
     "name": "stderr",
     "output_type": "stream",
     "text": [
      "Processing roneneldan/TinyStories: 1276it [00:00, 1452.99it/s]\n"
     ]
    },
    {
     "name": "stdout",
     "output_type": "stream",
     "text": [
      "Dataset saved to /workspace/LASR-probe-gen/data/prompt_datasets/tinystories_train.json\n",
      "✓ Successfully generated 1000 train samples\n",
      "Generating 100 test samples (skip=2000)\n",
      "Streaming roneneldan/TinyStories to create 100 samples (skip=2000)...\n"
     ]
    },
    {
     "name": "stderr",
     "output_type": "stream",
     "text": [
      "Processing roneneldan/TinyStories: 2643it [00:00, 3611.28it/s]"
     ]
    },
    {
     "name": "stdout",
     "output_type": "stream",
     "text": [
      "Dataset saved to /workspace/LASR-probe-gen/data/prompt_datasets/tinystories_test.json\n",
      "✓ Successfully generated 100 test samples\n",
      "\n",
      "✓ Successfully created balanced dataset:\n",
      "  Train: 1000 samples (saved to /workspace/LASR-probe-gen/data/prompt_datasets/tinystories_train.json)\n",
      "  Test: 100 samples (saved to /workspace/LASR-probe-gen/data/prompt_datasets/tinystories_test.json)\n",
      "1000\n",
      "100\n"
     ]
    },
    {
     "name": "stderr",
     "output_type": "stream",
     "text": [
      "\n"
     ]
    }
   ],
   "source": [
    "from probe_gen.paths import data\n",
    "\n",
    "# Import the class\n",
    "from probe_gen.annotation.datasets import ScienceDataset, UltrachatDataset, SandbaggingMultiDataset, ShakespeareDataset, RefusalDataset, TinyStoriesDataset, SycophancyArgumentsDataset, SycophancyMultichoiceDataset, JailbreakDataset\n",
    "\n",
    "for dataset in [SycophancyArgumentsDataset, SycophancyMultichoiceDataset, JailbreakDataset, ScienceDataset, UltrachatDataset, ShakespeareDataset, RefusalDataset, TinyStoriesDataset ]:\n",
    "    # Create a dataset instance with a few subcategories\n",
    "    dataset_instance  = dataset()\n",
    "\n",
    "    # can also set the  name manually \n",
    "    # dataset_instance.dataset_name = \"other_weird_name\"\n",
    "\n",
    "    # Generate train and test datasets\n",
    "    results = dataset_instance.generate_data(\n",
    "        train_samples=1000,\n",
    "        test_samples=100, \n",
    "        skip=100,\n",
    "    )\n",
    "\n",
    "    results = dataset_instance.generate_data(\n",
    "        train_samples=1000,\n",
    "        skip=100,\n",
    "    )\n",
    "\n",
    "    results = dataset_instance.generate_data(\n",
    "        train_samples=5,\n",
    "        skip=1000,\n",
    "        save_dir=str(data.data / \"prompt_datasets\"),\n",
    "    )\n",
    "\n",
    "    results = dataset_instance.generate_data(\n",
    "        test_samples=5,\n",
    "        skip=1000,\n",
    "        save_dir=str(data.data / \"prompt_datasets\"),\n",
    "    )\n",
    "\n",
    "    print(len(results[\"train\"]))\n",
    "    print(len(results[\"test\"]))"
   ]
  },
  {
   "cell_type": "markdown",
   "id": "24778ca4",
   "metadata": {},
   "source": [
    "### Sample prompts dataset"
   ]
  },
  {
   "cell_type": "markdown",
   "id": "fcdc3e0e",
   "metadata": {},
   "source": [
    "- Samples dataset of prompts from hugging face to jsonl file\n",
    "- The `skip` parameter allows you to only start taking prompts after the `skip`th valid entry in the dataset."
   ]
  },
  {
   "cell_type": "code",
   "execution_count": 4,
   "id": "92eecc50",
   "metadata": {},
   "outputs": [
    {
     "name": "stderr",
     "output_type": "stream",
     "text": [
      "85852it [00:08, 10502.29it/s]\n"
     ]
    }
   ],
   "source": [
    "from probe_gen.annotation.refusal_behaviour import create_refusal_dataset\n",
    "from probe_gen.annotation.ultrachat_behaviour import create_ultrachat_dataset, create_ultrachat_dataset_brazilian\n",
    "from probe_gen.annotation.jailbreak_behaviour import create_jailbreak_dataset, create_harfmul_request_dataset\n",
    "from probe_gen.paths import data\n",
    "\n",
    "# dataset = create_harfmul_request_dataset(num_samples=10000)\n",
    "# dataset.save_to(data.jailbreaks / \"harmful_requests.jsonl\", overwrite=True)\n",
    "\n",
    "# dataset = create_jailbreak_dataset(num_samples=10800)\n",
    "# dataset.save_to(data.jailbreaks / \"prompts.jsonl\", overwrite=True)\n",
    "\n",
    "\n",
    "dataset = create_ultrachat_dataset_brazilian(num_samples=10000)\n",
    "dataset.save_to(str(data.data / \"ultrachat_brazilian_10.jsonl\"), overwrite=True)\n",
    "\n",
    "# Skipping example\n",
    "# dataset = create_refusal_dataset(num_samples=1000, skip = 1000) \n",
    "# dataset.save_to(\"../data/refusal/prompts_with_skip.jsonl\", overwrite=True)"
   ]
  },
  {
   "cell_type": "markdown",
   "id": "0119e69b",
   "metadata": {},
   "source": [
    "### Generate outputs dataset (on-policy)"
   ]
  },
  {
   "cell_type": "markdown",
   "id": "960c690d",
   "metadata": {},
   "source": [
    "- Uses LLM (Llama-3.2-3B-Instruct default) to generate outputs for inputs dataset\n",
    "- Takes 10 minutes to do 5k samples with 200 batch size\n",
    "- Hardware requirements: high GPU, low RAM, low disk\n",
    "- Make sure you have done 'export HF_TOKEN=<key>' or just paste it here but cant push to git\n",
    "\n",
    "```uv run scripts/get_outputs.py --data data/refusal/claude_outputs.jsonl --out data/refusal/llama_3b_outputs.jsonl --batch-size 200 --sample 0 --behaviour refusal --save-increment -1```"
   ]
  },
  {
   "cell_type": "code",
   "execution_count": null,
   "id": "9f2d3ac1",
   "metadata": {},
   "outputs": [],
   "source": [
    "from probe_gen.gen_data.utils import get_model, process_file_outputs_only\n",
    "\n",
    "model, tokenizer = get_model(\"mistralai/Ministral-8B-Instruct-2410\")\n",
    "process_file_outputs_only(\n",
    "    model,\n",
    "    tokenizer,\n",
    "    dataset_path= str(data.data / \"ultrachat_brazilian_10.jsonl\"),\n",
    "    output_file= str(data.jailbreaks / \"ministral-8b-outputs.jsonl\"),\n",
    "    batch_size=50,\n",
    "    behaviour=\"jailbreaks\",\n",
    "    sample=0,\n",
    "    add_prompt=False,\n",
    "    max_new_tokens=150,\n",
    ")"
   ]
  },
  {
   "cell_type": "markdown",
   "id": "6ad31984",
   "metadata": {},
   "source": [
    "### Generate outputs dataset (on-policy prompted)"
   ]
  },
  {
   "cell_type": "markdown",
   "id": "6b9da1a2",
   "metadata": {},
   "source": [
    "- Uses LLM (Llama-3.2-3B-Instruct default) to generate outputs for inputs dataset\n",
    "- Takes 10 minutes to do 5k samples with 200 batch size\n",
    "- Hardware requirements: high GPU, low RAM, low disk\n",
    "- Make sure you have done 'export HF_TOKEN=<key>' or just paste it here but cant push to git\n",
    "\n",
    "- If `--add-prompt` is set to yes, then by default it will use alternating positive / negative prompts.\n",
    "\n",
    "```uv run scripts/get_outputs.py --data data/refusal/claude_outputs.jsonl --out llama_3b_outputs1.jsonl --batch-size 200 --behaviour refusal --add-prompt yes --save-increment -1```\n",
    "\n",
    "- If `direct-or-incentivised` is set to `incentivised`, it will add the \"positive_incentive\" or \"negative_incentive\" prompt types\n",
    "``` uv run scripts/get_outputs.py --data data/ultrachat_10k.jsonl --out llama_3b_incentivised.jsonl --batch-size 200 --behaviour metaphors --add-prompt yes --save-increment -1 --direct-or-incentivised \"incentivised\" ```\n",
    "\n",
    "- You can also further specify if you want to only use positive or negative prompts with `--prompt-type`.\n",
    "\n",
    "```uv run scripts/get_outputs.py --data data/refusal/claude_outputs.jsonl --out llama_3b_outputs2.jsonl --batch-size 200 --behaviour refusal --add-prompt yes --prompt-type positive --save-increment -1```"
   ]
  },
  {
   "cell_type": "code",
   "execution_count": null,
   "id": "cac08117",
   "metadata": {},
   "outputs": [],
   "source": [
    "from probe_gen.gen_data.utils import get_model, process_file_outputs_only\n",
    "\n",
    "model, tokenizer = get_model(\"meta-llama/Llama-3.2-3B-Instruct\")\n",
    "process_file_outputs_only(\n",
    "    model,\n",
    "    tokenizer,\n",
    "    dataset_path= str(data.ultrachat_brazil / \"llama_3b_ultrachat_brazilian.jsonl\"),\n",
    "    output_file= str(data.ultrachat_brazil / \"llama_3b_prompted_outputs1.jsonl\"),\n",
    "    batch_size=150,\n",
    "    behaviour=\"jailbreaks\",\n",
    "    add_prompt=True,\n",
    "    save_increment=-1,\n",
    "    max_new_tokens=150,\n",
    ")\n",
    "\n",
    "# model, tokenizer = get_model(\"meta-llama/Llama-3.2-3B-Instruct\")\n",
    "# process_file_outputs_only(\n",
    "#     model,\n",
    "#     tokenizer,\n",
    "#     dataset_path= str(data.jailbreaks / \"prompts.jsonl\"),\n",
    "#     output_file= str(data.ultrachat_brazil / \"llama_3b_prompted_outputs1.jsonl\"),\n",
    "#     batch_size=150,\n",
    "#     behaviour=\"jailbreaks\",\n",
    "#     add_prompt=True,\n",
    "#     prompt_type=\"positive\", # You can further specify if you want to only use positive or negative prompts\n",
    "#     save_increment=-1,\n",
    "#     max_new_tokens=150,\n",
    "# )"
   ]
  },
  {
   "cell_type": "markdown",
   "id": "925416cd",
   "metadata": {},
   "source": [
    "### Label and balance dataset"
   ]
  },
  {
   "cell_type": "markdown",
   "id": "b1a72436",
   "metadata": {},
   "source": [
    "- Uses GPT-4o API to label refusal behaviour\n",
    "- Takes 4 minutes to do 10k samples\n",
    "- Hardware requirements: None\n",
    "- Make sure you have done 'export OPENAI_API_KEY=<key>'\n",
    "\n",
    "```uv run scripts/get_labels.py --behaviour refusal --out-path data/refusal/llama_3b_raw.jsonl --in-path data/refusal/llama_3b_outputs.jsonl --num-balanced 5000```\n",
    "\n",
    "CODE CANNOT BE RUN IN NOTEBOOK BECAUSE OF ASYNC, RUN COMMAND OR A NEW SCRIPT"
   ]
  },
  {
   "cell_type": "code",
   "execution_count": null,
   "id": "761017a2",
   "metadata": {},
   "outputs": [],
   "source": [
    "# from probe_gen.annotation.interface_dataset import Dataset, LabelledDataset\n",
    "# from probe_gen.annotation.label_dataset import label_and_save_dataset\n",
    "# from probe_gen.annotation.refusal_behaviour import SYSTEM_PROMPT_REFUSE\n",
    "\n",
    "# try:\n",
    "#     dataset = LabelledDataset.load_from(\"../data/refusal/llama_3b_outputs.jsonl\")\n",
    "# except Exception:\n",
    "#     dataset = Dataset.load_from(\"../data/refusal/llama_3b_outputs.jsonl\")\n",
    "# label_and_save_dataset(\n",
    "#     dataset=dataset,\n",
    "#     dataset_path=\"../data/refusal/llama_3b_raw.jsonl\",\n",
    "#     system_prompt=SYSTEM_PROMPT_REFUSE,\n",
    "#     do_subsample=True,\n",
    "# )"
   ]
  },
  {
   "cell_type": "code",
   "execution_count": null,
   "id": "db8c4c23",
   "metadata": {},
   "outputs": [],
   "source": [
    "# Can further downsample the balanced dataset to 5k, 2.5k examples each\n",
    "import json\n",
    "import random\n",
    "\n",
    "amount = 1000\n",
    "\n",
    "with open(str(data.science_brazil / 'llama_3b_prompted_5k_balanced.jsonl'), 'r') as f:\n",
    "    data = [json.loads(line) for line in f]\n",
    "\n",
    "positive_data = [data[i] for i in range(len(data)) if data[i][\"labels\"] == \"positive\"][:amount]\n",
    "negative_data = [data[i] for i in range(len(data)) if data[i][\"labels\"] == \"negative\"][:amount]\n",
    "print(\"positive data: \", len(positive_data))\n",
    "print(\"negative data: \", len(negative_data))\n",
    "balanced_data = positive_data + negative_data\n",
    "random.shuffle(balanced_data)\n",
    "\n",
    "with open(data.refusal / 'llama_3b_balanced_1k.jsonl', 'w') as f:\n",
    "    for item in balanced_data:\n",
    "        f.write(json.dumps(item) + \"\\n\")"
   ]
  },
  {
   "cell_type": "code",
   "execution_count": null,
   "id": "9d149124",
   "metadata": {},
   "outputs": [],
   "source": [
    "# Create train and test splits\n",
    "\n",
    "import json\n",
    "import random\n",
    "from pathlib import Path\n",
    "from probe_gen.paths import data\n",
    "\n",
    "# You can adjust this as needed\n",
    "amount = 2500  # number of examples per class (positive/negative)\n",
    "train_ratio = 0.8\n",
    "\n",
    "# Paths (adjust if needed)\n",
    "input_path = str(data.science_brazil / 'qwen_3b_balanced.jsonl')\n",
    "train_output_path = str(data.science_brazil / 'qwen_3b_balanced_4k_train.jsonl')\n",
    "test_output_path = str(data.science_brazil / 'qwen_3b_balanced_1k_test.jsonl')\n",
    "\n",
    "# Load all data\n",
    "with open(input_path, 'r') as f:\n",
    "    data = [json.loads(line) for line in f]\n",
    "\n",
    "# Get balanced dataset\n",
    "positive_data = [item for item in data if item[\"labels\"] == \"positive\"][:amount]\n",
    "negative_data = [item for item in data if item[\"labels\"] == \"negative\"][:amount]\n",
    "\n",
    "print(\"Positive examples:\", len(positive_data))\n",
    "print(\"Negative examples:\", len(negative_data))\n",
    "\n",
    "# Combine and shuffle\n",
    "balanced_data = positive_data + negative_data\n",
    "random.shuffle(balanced_data)\n",
    "\n",
    "# Split into train/test\n",
    "split_idx = int(len(balanced_data) * train_ratio)\n",
    "train_data = balanced_data[:split_idx]\n",
    "test_data = balanced_data[split_idx:]\n",
    "\n",
    "print(\"Train set size:\", len(train_data))\n",
    "print(\"Test set size:\", len(test_data))\n",
    "\n",
    "# Write to output files\n",
    "with open(train_output_path, 'w') as f:\n",
    "    for item in train_data:\n",
    "        f.write(json.dumps(item) + \"\\n\")\n",
    "\n",
    "with open(test_output_path, 'w') as f:\n",
    "    for item in test_data:\n",
    "        f.write(json.dumps(item) + \"\\n\")\n"
   ]
  },
  {
   "cell_type": "markdown",
   "id": "9c1523f7",
   "metadata": {},
   "source": [
    "### Get ouputs and labels in one go"
   ]
  },
  {
   "cell_type": "markdown",
   "id": "d1ea0610",
   "metadata": {},
   "source": [
    "- You can get outputs and label them together with the following command:\n",
    "\n",
    "```uv run scripts/get_outputs_and_labels.py --behaviour refusal --data data/refusal/claude_outputs.jsonl --out-path data/refusal/llama_3b_raw.jsonl --batch-size 200 --num-balanced 5000```\n",
    "\n",
    "```uv run scripts/get_outputs_and_labels.py --behaviour refusal --data data/refusal/claude_outputs.jsonl --out-path data/refusal/llama_3b_raw.jsonl --batch-size 200 --add-prompt yes --num-balanced 5000```"
   ]
  },
  {
   "cell_type": "markdown",
   "id": "c5f52b59",
   "metadata": {},
   "source": [
    "### Get activations dataset"
   ]
  },
  {
   "cell_type": "markdown",
   "id": "db208caf",
   "metadata": {},
   "source": [
    "- Uses LLM (Llama-3.2-3B-Instruct default) to get actviations for datasets\n",
    "- Takes 10 minutes to generate output activations for 5k samples with 200 batch size\n",
    "- Hardware requirements: high GPU, super high (150 GB) RAM, super high (150 GB) Disk\n",
    "- Make sure you have done 'export HF_TOKEN=<key>' or just paste it here but cant push to git\n",
    "\n",
    "```uv run scripts/get_activations.py --model llama_3b --data data/refusal/llama_3b_balanced_5k.jsonl --batch-size 1 --layers \"0,3,6,9,12,15,18,21,24,27\" --save-increment -1```\n",
    "\n",
    "Click the top file and then shift+click the bottom file for easy deleting of pkl files once uploaded to HF"
   ]
  },
  {
   "cell_type": "code",
   "execution_count": null,
   "id": "dd1fc01d",
   "metadata": {},
   "outputs": [],
   "source": [
    "# Standard library imports\n",
    "from probe_gen.gen_data.utils import get_model, process_file, process_file_multiturn\n",
    "\n",
    "model, tokenizer = get_model(\"meta-llama/Llama-3.2-3B-Instruct\")\n",
    "# process_file_multiturn(\n",
    "process_file(\n",
    "    model,\n",
    "    tokenizer,\n",
    "    dataset_path= str(data.sycophancy_short / \"sycophancy_short_qwen_3b_4k.jsonl\"),\n",
    "    output_file= str(data.sycophancy_short / \"sycophancy_short_qwen_3b_4k.pkl\"),\n",
    "    batch_size=32,\n",
    "    sample=0,\n",
    "    layers_str=\"0,3,6,9,12,15,18,21,24,27\",\n",
    "    save_increment=-1,\n",
    ")"
   ]
  },
  {
   "cell_type": "markdown",
   "id": "486c4ff4",
   "metadata": {},
   "source": [
    "### Upload activations dataset"
   ]
  },
  {
   "cell_type": "markdown",
   "id": "e39f8433",
   "metadata": {},
   "source": [
    "- Upload activations to hugging face repo"
   ]
  },
  {
   "cell_type": "code",
   "execution_count": null,
   "id": "3ad17205",
   "metadata": {},
   "outputs": [],
   "source": [
    "import os\n",
    "from huggingface_hub import HfApi\n",
    "\n",
    "# Create a new repo for each behaviour\n",
    "REPO_NAME = \"lasrprobegen/sandbagging-deception-activations\"\n",
    "HF_TOKEN = os.environ[\"HF_TOKEN\"]\n",
    "\n",
    "api = HfApi()\n",
    "print(\"Creating repository...\")\n",
    "api.create_repo(\n",
    "    repo_id=REPO_NAME,\n",
    "    repo_type=\"dataset\",\n",
    "    token=HF_TOKEN,\n",
    "    private=False,\n",
    "    exist_ok=True\n",
    ")"
   ]
  },
  {
   "cell_type": "code",
   "execution_count": null,
   "id": "758d303b",
   "metadata": {},
   "outputs": [],
   "source": [
    "from probe_gen.paths import data\n",
    "# For uploading a single pickle file to huggingface\n",
    "FILE_PATH = str(data.sandbagging / \"mistral_7b_balanced_3.5k.jsonl\")\n",
    "PATH_IN_REPO = str(FILE_PATH).split(\"/\")[-1]\n",
    "api.upload_file(\n",
    "    path_or_fileobj=FILE_PATH,\n",
    "    path_in_repo=PATH_IN_REPO,\n",
    "    repo_id=REPO_NAME,\n",
    "    repo_type=\"dataset\",\n",
    "    token=HF_TOKEN,\n",
    ")\n",
    "print(f\"✅ File uploaded to: https://huggingface.co/datasets/{REPO_NAME}\")"
   ]
  },
  {
   "cell_type": "code",
   "execution_count": null,
   "id": "a8e8fb91",
   "metadata": {},
   "outputs": [],
   "source": [
    "# For uploading many layer pickle files to huggingface\n",
    "for i in range(0,28,3):\n",
    "    FILE_PATH = str(data.deception_rp / f\"mistral_7b_balanced_3.5k_layer_{i}.pkl\")\n",
    "    PATH_IN_REPO = FILE_PATH.split(\"/\")[-1]\n",
    "    api.upload_file(\n",
    "        path_or_fileobj=FILE_PATH,\n",
    "        path_in_repo=PATH_IN_REPO,\n",
    "        repo_id=REPO_NAME,\n",
    "        repo_type=\"dataset\",\n",
    "        token=HF_TOKEN,\n",
    "    )\n",
    "    print(f\"✅ File uploaded to: https://huggingface.co/datasets/{REPO_NAME}\")"
   ]
  },
  {
   "cell_type": "code",
   "execution_count": null,
   "id": "ee64c1eb",
   "metadata": {},
   "outputs": [],
   "source": [
    "# For uploading many jsonl files to huggingface\n",
    "FILE_PATH_PREFIX = str(data.refusal / \"llama_3b\")\n",
    "for SUFFIX in [\"balanced_5k\", \"balanced_20k\", \"raw_20k\", \"outputs_20k\"]:\n",
    "    FILE_PATH = FILE_PATH_PREFIX + \"_\" + SUFFIX + \".jsonl\"\n",
    "    PATH_IN_REPO = FILE_PATH.split(\"/\")[-1]\n",
    "    api.upload_file(\n",
    "        path_or_fileobj=FILE_PATH,\n",
    "        path_in_repo=PATH_IN_REPO,\n",
    "        repo_id=REPO_NAME,\n",
    "        repo_type=\"dataset\",\n",
    "        token=HF_TOKEN,\n",
    "    )\n",
    "    print(f\"✅ File uploaded to: https://huggingface.co/datasets/{REPO_NAME}\")"
   ]
  }
 ],
 "metadata": {
  "kernelspec": {
   "display_name": ".venv",
   "language": "python",
   "name": "python3"
  },
  "language_info": {
   "codemirror_mode": {
    "name": "ipython",
    "version": 3
   },
   "file_extension": ".py",
   "mimetype": "text/x-python",
   "name": "python",
   "nbconvert_exporter": "python",
   "pygments_lexer": "ipython3",
   "version": "3.11.13"
  }
 },
 "nbformat": 4,
 "nbformat_minor": 5
}
