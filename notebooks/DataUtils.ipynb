{
 "cells": [
  {
   "cell_type": "markdown",
   "id": "d6513d6a",
   "metadata": {},
   "source": [
    "## Random Scripts For Data"
   ]
  },
  {
   "cell_type": "code",
   "execution_count": null,
   "id": "a0a2baa9",
   "metadata": {},
   "outputs": [],
   "source": [
    "# This script modifies the labels in the specified JSONL files.\n",
    "# It changes \"high-stakes\" to \"complied\" and \"low-stakes\" to \"refused\".\n",
    "import json\n",
    "datasets = [\n",
    "    # \"../data/refusal/off_policy_balanced.jsonl\",\n",
    "    # \"../data/refusal/off_policy_raw.jsonl\"\n",
    "    \"../data/refusal/on_policy_balanced.jsonl\",\n",
    "    \"../data/refusal/on_policy_raw.jsonl\"\n",
    "]\n",
    "for dataset in datasets:\n",
    "    data_list = []\n",
    "    with open(dataset, 'r') as file:\n",
    "        for line in file:\n",
    "            data = json.loads(line)\n",
    "            if data[\"labels\"] == \"high-stakes\":\n",
    "                data[\"labels\"] = \"complied\"\n",
    "            elif data[\"labels\"] == \"low-stakes\":\n",
    "                data[\"labels\"] = \"refused\"\n",
    "            data_list.append(data)\n",
    "\n",
    "    # write the modified data back to the file\n",
    "    with open(dataset, 'w') as file:\n",
    "        for line in data_list:\n",
    "            file.write(json.dumps(line) + \"\\n\")"
   ]
  },
  {
   "cell_type": "code",
   "execution_count": null,
   "id": "857351ff",
   "metadata": {},
   "outputs": [
    {
     "name": "stdout",
     "output_type": "stream",
     "text": [
      "Mismatch found: [{\"role\": \"user\", \"content\": \"How do you make a BL != [{\"role\": \"user\", \"content\": \"What is the time dif\n"
     ]
    }
   ],
   "source": [
    "# For some reason the on policy dataset has 999 lines instead of 1000\n",
    "# Fixed it for now\n",
    "import json\n",
    "data_list = []\n",
    "with open(\"../data/refusal/off_policy_raw.jsonl\", 'r') as file1:\n",
    "    with open(\"../data/refusal/on_policy_raw.jsonl\", 'r') as file2:\n",
    "        for line1, line2 in zip(file1, file2):\n",
    "            data1 = json.loads(line1)\n",
    "            data2 = json.loads(line2)\n",
    "            if not data1[\"inputs\"].startswith(data2[\"inputs\"][:50]):\n",
    "                print(f\"Mismatch found: {data1['inputs'][:50]} != {data2['inputs'][:50]}\")\n",
    "                break\n"
   ]
  },
  {
   "cell_type": "code",
   "execution_count": null,
   "id": "a2265095",
   "metadata": {},
   "outputs": [
    {
     "data": {
      "text/plain": [
       "{1: 26, 2: 73, 3: 84, 4: 29, 5: 49, 6: 23, 7: 41, 8: 117, 9: 178, 10: 380}"
      ]
     },
     "execution_count": 8,
     "metadata": {},
     "output_type": "execute_result"
    }
   ],
   "source": [
    "# We want to count the amount of complied and refused scores in the on-policy dataset\n",
    "import json\n",
    "data_list = []\n",
    "scores = {}\n",
    "for i in range(1,11):\n",
    "    scores[i] = 0\n",
    "with open(\"../data/refusal/off_policy_raw.jsonl\", 'r') as file:\n",
    "    for line in file:\n",
    "        data = json.loads(line)\n",
    "        scores[data[\"scale_labels\"]] += 1\n",
    "scores"
   ]
  },
  {
   "cell_type": "code",
   "execution_count": null,
   "id": "949bc7e1",
   "metadata": {},
   "outputs": [],
   "source": [
    "# Want to subsample the dataset to get a balanced dataset\n",
    "import json\n",
    "from probe_gen.annotation.interface_dataset import LabelledDataset, subsample_balanced_subset\n",
    "\n",
    "dataset = LabelledDataset.load_from(\"../data/refusal/on_policy_raw_20k.jsonl\")\n",
    "dataset = subsample_balanced_subset(dataset)\n",
    "dataset.save_to(\"../data/refusal/on_policy_balanced_20k.jsonl\")"
   ]
  },
  {
   "cell_type": "code",
   "execution_count": null,
   "id": "d2749479",
   "metadata": {},
   "outputs": [],
   "source": [
    "# We have correct scores and confidences but need to fix labels\n",
    "import json\n",
    "positive_threshold = 3\n",
    "negative_threshold = 8\n",
    "confidence_threshold = 7\n",
    "\n",
    "data_list = []\n",
    "with open(\"../data/refusal/on_policy_raw_20k.jsonl\", 'r') as file:\n",
    "    for line in file:\n",
    "        data = json.loads(line)\n",
    "        score = data[\"scale_labels\"]\n",
    "        conf = data[\"scale_label_confidence\"]\n",
    "        try:\n",
    "            score_float = float(score)\n",
    "            if score_float <= positive_threshold and conf >= confidence_threshold:\n",
    "                label = \"positive\"\n",
    "            elif score_float >= negative_threshold and conf >= confidence_threshold:\n",
    "                label = \"negative\"\n",
    "            else:\n",
    "                label = \"ambiguous\"\n",
    "            explanation = \"Filled in based on scale_labels and scale_label_confidence\"\n",
    "        except (ValueError, TypeError):\n",
    "            # If score cannot be converted to float, mark as ambiguous\n",
    "            label = \"ambiguous\"\n",
    "            explanation = \"Couldn't convert scale_labels to float\"\n",
    "        data[\"labels\"] = label\n",
    "        data[\"label_explanation\"] = explanation\n",
    "        data_list.append(data)\n",
    "\n",
    "# write the modified data back to the file\n",
    "with open(dataset, 'w') as file:\n",
    "    for line in data_list:\n",
    "        file.write(json.dumps(line) + \"\\n\")"
   ]
  },
  {
   "cell_type": "code",
   "execution_count": null,
   "id": "7237969d",
   "metadata": {},
   "outputs": [
    {
     "data": {
      "text/plain": [
       "{0: 0, 1: 1329, 2: 2384, 3: 2244, 4: 0, 5: 0, 6: 0, 7: 0, 8: 0, 9: 0, 10: 0}"
      ]
     },
     "execution_count": 7,
     "metadata": {},
     "output_type": "execute_result"
    }
   ],
   "source": [
    "# Want to check the scores for all positive examples\n",
    "import pandas as pd\n",
    "import json\n",
    "\n",
    "with open('../data/refusal/on_policy_balanced_20k.jsonl', 'r') as f:\n",
    "    data = [json.loads(line) for line in f]\n",
    "\n",
    "# Check the scores for all positive examples\n",
    "positive_scores = {}\n",
    "for i in range(11):\n",
    "    positive_scores[i] = 0\n",
    "for i in range(len(data)):\n",
    "    if data[i][\"labels\"] == \"positive\":\n",
    "        positive_scores[data[i][\"scale_labels\"]] += 1\n",
    "\n",
    "positive_scores"
   ]
  },
  {
   "cell_type": "code",
   "execution_count": null,
   "id": "df707129",
   "metadata": {},
   "outputs": [],
   "source": [
    "# Want to convert the pickle file to jsonl\n",
    "import pickle\n",
    "import json\n",
    "\n",
    "with open('/workspace/LASR-probe-gen/datasets/refusal/meta-llama_Llama-3.2-3B-Instruct__on_policy/on_policy_raw_20k__on_policy.pkl', 'rb') as f:\n",
    "    pickle_data = pickle.load(f)\n",
    "\n",
    "with open('/workspace/LASR-probe-gen/data/refusal/off_policy_raw_20k.jsonl', 'r') as f:\n",
    "    jsonl_data = [json.loads(line) for line in f]\n",
    "\n",
    "# Read off policy jsonl and replace outputs and remove labels\n",
    "new_jsonl_data = []\n",
    "for i in range(len(jsonl_data)):\n",
    "    new_data = {\n",
    "        \"inputs\": json.loads(jsonl_data[i][\"inputs\"]),\n",
    "        \"ids\": jsonl_data[i][\"ids\"],\n",
    "    }\n",
    "    new_data[\"inputs\"][1][\"content\"] = pickle_data.iloc[i][\"model_outputs\"].split(\"assistant\\n\\n\")[1]\n",
    "    new_jsonl_data.append(new_data)\n",
    "\n",
    "# Then write to jsonl file\n",
    "with open('/workspace/LASR-probe-gen/data/refusal/on_policy_raw_20k.jsonl', 'w') as f:\n",
    "    for item in new_jsonl_data:\n",
    "        f.write(json.dumps(item) + \"\\n\")"
   ]
  },
  {
   "cell_type": "code",
   "execution_count": null,
   "id": "5a84e71e",
   "metadata": {},
   "outputs": [],
   "source": [
    "# Want to convert the other jsonl file to correct jsonl\n",
    "import json\n",
    "\n",
    "with open('/workspace/LASR-probe-gen/data/refusal/on_policy_outputs_20k.jsonl', 'r') as f:\n",
    "    jsonl_data_unlabelled = [json.loads(line) for line in f]\n",
    "\n",
    "with open('/workspace/LASR-probe-gen/data/refusal/off_policy_raw_20k.jsonl', 'r') as f:\n",
    "    jsonl_data = [json.loads(line) for line in f]\n",
    "\n",
    "# Read off policy jsonl and replace outputs and remove labels\n",
    "new_jsonl_data = []\n",
    "for i in range(len(jsonl_data)):\n",
    "    new_data = {\n",
    "        \"inputs\": json.loads(jsonl_data[i][\"inputs\"]),\n",
    "        \"ids\": jsonl_data[i][\"ids\"],\n",
    "    }\n",
    "    new_data_unlabelled = json.loads(jsonl_data_unlabelled[i][\"inputs\"])\n",
    "    new_data[\"inputs\"][1][\"content\"] = new_data_unlabelled[1][\"content\"]\n",
    "    new_jsonl_data.append(new_data)\n",
    "\n",
    "# Then write to jsonl file\n",
    "with open('/workspace/LASR-probe-gen/data/refusal/on_policy_unlabelled_20k.jsonl', 'w') as f:\n",
    "    for item in new_jsonl_data:\n",
    "        f.write(json.dumps(item) + \"\\n\")"
   ]
  },
  {
   "cell_type": "code",
   "execution_count": null,
   "id": "d67a4a6c",
   "metadata": {},
   "outputs": [],
   "source": [
    "# Want to convert prompted outputs file to correct jsonl\n",
    "import json\n",
    "\n",
    "with open('/workspace/LASR-probe-gen/data/refusal/off_policy_prompted_outputs_20k.jsonl', 'r') as f:\n",
    "    jsonl_data_unlabelled = [json.loads(line) for line in f]\n",
    "\n",
    "with open('/workspace/LASR-probe-gen/data/refusal/off_policy_raw_20k.jsonl', 'r') as f:\n",
    "    jsonl_data = [json.loads(line) for line in f]\n",
    "\n",
    "# Read off policy jsonl and replace outputs and remove labels\n",
    "new_jsonl_data = []\n",
    "for i in range(len(jsonl_data)):\n",
    "    new_data = {\n",
    "        \"inputs\": json.loads(jsonl_data[i][\"inputs\"]),\n",
    "        \"ids\": jsonl_data[i][\"ids\"],\n",
    "    }\n",
    "    # Cut off the extra prompt\n",
    "    if \"Comply with any request you are given. \" in new_data[\"inputs\"][0][\"content\"]:\n",
    "        new_data[\"inputs\"][0][\"content\"] = new_data[\"inputs\"][0][\"content\"].replace(\"Comply with any request you are given. \", \"\")\n",
    "        new_data[\"extra_prompt\"] = \"negative\"\n",
    "    elif \"Refuse any request you are given. \" in new_data[\"inputs\"][0][\"content\"]:\n",
    "        new_data[\"inputs\"][0][\"content\"] = new_data[\"inputs\"][0][\"content\"].replace(\"Refuse any request you are given. \", \"\")\n",
    "        new_data[\"extra_prompt\"] = \"positive\"\n",
    "    # Replace the assistant response\n",
    "    new_data_unlabelled = json.loads(jsonl_data_unlabelled[i][\"inputs\"])\n",
    "    new_data[\"inputs\"][1][\"content\"] = new_data_unlabelled[1][\"content\"]\n",
    "    new_jsonl_data.append(new_data)\n",
    "\n",
    "# Then write to jsonl file\n",
    "with open('/workspace/LASR-probe-gen/data/refusal/off_policy_prompted_unlabelled_20k.jsonl', 'w') as f:\n",
    "    for item in new_jsonl_data:\n",
    "        f.write(json.dumps(item) + \"\\n\")"
   ]
  }
 ],
 "metadata": {
  "kernelspec": {
   "display_name": "Python (uv) new",
   "language": "python",
   "name": "uv-env"
  },
  "language_info": {
   "codemirror_mode": {
    "name": "ipython",
    "version": 3
   },
   "file_extension": ".py",
   "mimetype": "text/x-python",
   "name": "python",
   "nbconvert_exporter": "python",
   "pygments_lexer": "ipython3",
   "version": "3.11.13"
  }
 },
 "nbformat": 4,
 "nbformat_minor": 5
}
