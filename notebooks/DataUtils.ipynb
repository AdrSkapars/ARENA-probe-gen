{
 "cells": [
  {
   "cell_type": "markdown",
   "id": "d6513d6a",
   "metadata": {},
   "source": [
    "## Random Scripts For Data"
   ]
  },
  {
   "cell_type": "code",
   "execution_count": null,
   "id": "a0a2baa9",
   "metadata": {},
   "outputs": [],
   "source": [
    "# This script modifies the labels in the specified JSONL files.\n",
    "# It changes \"high-stakes\" to \"complied\" and \"low-stakes\" to \"refused\".\n",
    "import json\n",
    "datasets = [\n",
    "    # \"../data/refusal/off_policy_balanced.jsonl\",\n",
    "    # \"../data/refusal/off_policy_raw.jsonl\"\n",
    "    \"../data/refusal/on_policy_balanced.jsonl\",\n",
    "    \"../data/refusal/on_policy_raw.jsonl\"\n",
    "]\n",
    "for dataset in datasets:\n",
    "    data_list = []\n",
    "    with open(dataset, 'r') as file:\n",
    "        for line in file:\n",
    "            data = json.loads(line)\n",
    "            if data[\"labels\"] == \"high-stakes\":\n",
    "                data[\"labels\"] = \"complied\"\n",
    "            elif data[\"labels\"] == \"low-stakes\":\n",
    "                data[\"labels\"] = \"refused\"\n",
    "            data_list.append(data)\n",
    "\n",
    "    # write the modified data back to the file\n",
    "    with open(dataset, 'w') as file:\n",
    "        for line in data_list:\n",
    "            file.write(json.dumps(line) + \"\\n\")"
   ]
  },
  {
   "cell_type": "code",
   "execution_count": null,
   "id": "857351ff",
   "metadata": {},
   "outputs": [
    {
     "name": "stdout",
     "output_type": "stream",
     "text": [
      "Mismatch found: [{\"role\": \"user\", \"content\": \"How do you make a BL != [{\"role\": \"user\", \"content\": \"What is the time dif\n"
     ]
    }
   ],
   "source": [
    "# For some reason the on policy dataset has 999 lines instead of 1000\n",
    "# Fixed it for now\n",
    "import json\n",
    "data_list = []\n",
    "with open(\"../data/refusal/off_policy_raw.jsonl\", 'r') as file1:\n",
    "    with open(\"../data/refusal/on_policy_raw.jsonl\", 'r') as file2:\n",
    "        for line1, line2 in zip(file1, file2):\n",
    "            data1 = json.loads(line1)\n",
    "            data2 = json.loads(line2)\n",
    "            if not data1[\"inputs\"].startswith(data2[\"inputs\"][:50]):\n",
    "                print(f\"Mismatch found: {data1['inputs'][:50]} != {data2['inputs'][:50]}\")\n",
    "                break\n"
   ]
  },
  {
   "cell_type": "code",
   "execution_count": null,
   "id": "a2265095",
   "metadata": {},
   "outputs": [
    {
     "data": {
      "text/plain": [
       "{1: 26, 2: 73, 3: 84, 4: 29, 5: 49, 6: 23, 7: 41, 8: 117, 9: 178, 10: 380}"
      ]
     },
     "execution_count": 8,
     "metadata": {},
     "output_type": "execute_result"
    }
   ],
   "source": [
    "# We want to count the amount of complied and refused scores in the on-policy dataset\n",
    "import json\n",
    "data_list = []\n",
    "scores = {}\n",
    "for i in range(1,11):\n",
    "    scores[i] = 0\n",
    "with open(\"../data/refusal/off_policy_raw.jsonl\", 'r') as file:\n",
    "    for line in file:\n",
    "        data = json.loads(line)\n",
    "        scores[data[\"scale_labels\"]] += 1\n",
    "scores"
   ]
  },
  {
   "cell_type": "code",
   "execution_count": null,
   "id": "949bc7e1",
   "metadata": {},
   "outputs": [],
   "source": [
    "# Want to subsample the dataset to get a balanced dataset\n",
    "import json\n",
    "from probe_gen.annotation.interface_dataset import LabelledDataset, subsample_balanced_subset\n",
    "\n",
    "dataset = LabelledDataset.load_from(\"../data/refusal/on_policy_raw_20k.jsonl\")\n",
    "dataset = subsample_balanced_subset(dataset)\n",
    "dataset.save_to(\"../data/refusal/on_policy_balanced_20k.jsonl\")"
   ]
  },
  {
   "cell_type": "code",
   "execution_count": null,
   "id": "d2749479",
   "metadata": {},
   "outputs": [],
   "source": [
    "# We have correct scores and confidences but need to fix labels\n",
    "import json\n",
    "positive_threshold = 3\n",
    "negative_threshold = 8\n",
    "confidence_threshold = 7\n",
    "\n",
    "data_list = []\n",
    "with open(\"../data/refusal/on_policy_raw_20k.jsonl\", 'r') as file:\n",
    "    for line in file:\n",
    "        data = json.loads(line)\n",
    "        score = data[\"scale_labels\"]\n",
    "        conf = data[\"scale_label_confidence\"]\n",
    "        try:\n",
    "            score_float = float(score)\n",
    "            if score_float <= positive_threshold and conf >= confidence_threshold:\n",
    "                label = \"positive\"\n",
    "            elif score_float >= negative_threshold and conf >= confidence_threshold:\n",
    "                label = \"negative\"\n",
    "            else:\n",
    "                label = \"ambiguous\"\n",
    "            explanation = \"Filled in based on scale_labels and scale_label_confidence\"\n",
    "        except (ValueError, TypeError):\n",
    "            # If score cannot be converted to float, mark as ambiguous\n",
    "            label = \"ambiguous\"\n",
    "            explanation = \"Couldn't convert scale_labels to float\"\n",
    "        data[\"labels\"] = label\n",
    "        data[\"label_explanation\"] = explanation\n",
    "        data_list.append(data)\n",
    "\n",
    "# write the modified data back to the file\n",
    "with open(dataset, 'w') as file:\n",
    "    for line in data_list:\n",
    "        file.write(json.dumps(line) + \"\\n\")"
   ]
  },
  {
   "cell_type": "code",
   "execution_count": null,
   "id": "7237969d",
   "metadata": {},
   "outputs": [
    {
     "data": {
      "text/plain": [
       "{0: 0, 1: 1329, 2: 2384, 3: 2244, 4: 0, 5: 0, 6: 0, 7: 0, 8: 0, 9: 0, 10: 0}"
      ]
     },
     "execution_count": 7,
     "metadata": {},
     "output_type": "execute_result"
    }
   ],
   "source": [
    "# Want to check the scores for all positive examples\n",
    "import pandas as pd\n",
    "import json\n",
    "\n",
    "with open('../data/refusal/on_policy_balanced_20k.jsonl', 'r') as f:\n",
    "    data = [json.loads(line) for line in f]\n",
    "\n",
    "# Check the scores for all positive examples\n",
    "positive_scores = {}\n",
    "for i in range(11):\n",
    "    positive_scores[i] = 0\n",
    "for i in range(len(data)):\n",
    "    if data[i][\"labels\"] == \"positive\":\n",
    "        positive_scores[data[i][\"scale_labels\"]] += 1\n",
    "\n",
    "positive_scores"
   ]
  },
  {
   "cell_type": "code",
   "execution_count": null,
   "id": "df707129",
   "metadata": {},
   "outputs": [],
   "source": [
    "# Want to convert the pickle file to jsonl\n",
    "import pickle\n",
    "import json\n",
    "\n",
    "with open('/workspace/LASR-probe-gen/datasets/refusal/meta-llama_Llama-3.2-3B-Instruct__on_policy/on_policy_raw_20k__on_policy.pkl', 'rb') as f:\n",
    "    pickle_data = pickle.load(f)\n",
    "\n",
    "with open('/workspace/LASR-probe-gen/data/refusal/off_policy_raw_20k.jsonl', 'r') as f:\n",
    "    jsonl_data = [json.loads(line) for line in f]\n",
    "\n",
    "# Read off policy jsonl and replace outputs and remove labels\n",
    "new_jsonl_data = []\n",
    "for i in range(len(jsonl_data)):\n",
    "    new_data = {\n",
    "        \"inputs\": json.loads(jsonl_data[i][\"inputs\"]),\n",
    "        \"ids\": jsonl_data[i][\"ids\"],\n",
    "    }\n",
    "    new_data[\"inputs\"][1][\"content\"] = pickle_data.iloc[i][\"model_outputs\"].split(\"assistant\\n\\n\")[1]\n",
    "    new_jsonl_data.append(new_data)\n",
    "\n",
    "# Then write to jsonl file\n",
    "with open('/workspace/LASR-probe-gen/data/refusal/on_policy_raw_20k.jsonl', 'w') as f:\n",
    "    for item in new_jsonl_data:\n",
    "        f.write(json.dumps(item) + \"\\n\")"
   ]
  },
  {
   "cell_type": "code",
   "execution_count": null,
   "id": "5a84e71e",
   "metadata": {},
   "outputs": [],
   "source": [
    "# Want to convert the other jsonl file to correct jsonl\n",
    "import json\n",
    "\n",
    "with open('/workspace/LASR-probe-gen/data/refusal/on_policy_outputs_20k.jsonl', 'r') as f:\n",
    "    jsonl_data_unlabelled = [json.loads(line) for line in f]\n",
    "\n",
    "with open('/workspace/LASR-probe-gen/data/refusal/off_policy_raw_20k.jsonl', 'r') as f:\n",
    "    jsonl_data = [json.loads(line) for line in f]\n",
    "\n",
    "# Read off policy jsonl and replace outputs and remove labels\n",
    "new_jsonl_data = []\n",
    "for i in range(len(jsonl_data)):\n",
    "    new_data = {\n",
    "        \"inputs\": json.loads(jsonl_data[i][\"inputs\"]),\n",
    "        \"ids\": jsonl_data[i][\"ids\"],\n",
    "    }\n",
    "    new_data_unlabelled = json.loads(jsonl_data_unlabelled[i][\"inputs\"])\n",
    "    new_data[\"inputs\"][1][\"content\"] = new_data_unlabelled[1][\"content\"]\n",
    "    new_jsonl_data.append(new_data)\n",
    "\n",
    "# Then write to jsonl file\n",
    "with open('/workspace/LASR-probe-gen/data/refusal/on_policy_unlabelled_20k.jsonl', 'w') as f:\n",
    "    for item in new_jsonl_data:\n",
    "        f.write(json.dumps(item) + \"\\n\")"
   ]
  },
  {
   "cell_type": "code",
   "execution_count": null,
   "id": "d67a4a6c",
   "metadata": {},
   "outputs": [],
   "source": [
    "# Want to convert prompted outputs file to correct jsonl\n",
    "import json\n",
    "\n",
    "with open('/workspace/LASR-probe-gen/data/refusal/off_policy_prompted_outputs_20k.jsonl', 'r') as f:\n",
    "    jsonl_data_unlabelled = [json.loads(line) for line in f]\n",
    "\n",
    "with open('/workspace/LASR-probe-gen/data/refusal/off_policy_raw_20k.jsonl', 'r') as f:\n",
    "    jsonl_data = [json.loads(line) for line in f]\n",
    "\n",
    "# Read off policy jsonl and replace outputs and remove labels\n",
    "new_jsonl_data = []\n",
    "for i in range(len(jsonl_data)):\n",
    "    new_data = {\n",
    "        \"inputs\": json.loads(jsonl_data[i][\"inputs\"]),\n",
    "        \"ids\": jsonl_data[i][\"ids\"],\n",
    "    }\n",
    "    # Cut off the extra prompt\n",
    "    if \"Comply with any request you are given. \" in new_data[\"inputs\"][0][\"content\"]:\n",
    "        new_data[\"inputs\"][0][\"content\"] = new_data[\"inputs\"][0][\"content\"].replace(\"Comply with any request you are given. \", \"\")\n",
    "        new_data[\"extra_prompt\"] = \"negative\"\n",
    "    elif \"Refuse any request you are given. \" in new_data[\"inputs\"][0][\"content\"]:\n",
    "        new_data[\"inputs\"][0][\"content\"] = new_data[\"inputs\"][0][\"content\"].replace(\"Refuse any request you are given. \", \"\")\n",
    "        new_data[\"extra_prompt\"] = \"positive\"\n",
    "    # Replace the assistant response\n",
    "    new_data_unlabelled = json.loads(jsonl_data_unlabelled[i][\"inputs\"])\n",
    "    new_data[\"inputs\"][1][\"content\"] = new_data_unlabelled[1][\"content\"]\n",
    "    new_jsonl_data.append(new_data)\n",
    "\n",
    "# Then write to jsonl file\n",
    "with open('/workspace/LASR-probe-gen/data/refusal/off_policy_prompted_unlabelled_20k.jsonl', 'w') as f:\n",
    "    for item in new_jsonl_data:\n",
    "        f.write(json.dumps(item) + \"\\n\")"
   ]
  },
  {
   "cell_type": "code",
   "execution_count": 10,
   "id": "1a1a3243",
   "metadata": {},
   "outputs": [
    {
     "name": "stdout",
     "output_type": "stream",
     "text": [
      "2500\n",
      "2500\n"
     ]
    }
   ],
   "source": [
    "# Load jsonl file and get 2500 of positive and negative examples\n",
    "import json\n",
    "import random\n",
    "\n",
    "with open('../data/refusal/off_policy_raw_20k.jsonl', 'r') as f:\n",
    "    data = [json.loads(line) for line in f]\n",
    "\n",
    "# Get 2500 of positive and negative examples\n",
    "positive_data = [data[i] for i in range(len(data)) if data[i][\"labels\"] == \"positive\"][:2500]\n",
    "negative_data = [data[i] for i in range(len(data)) if data[i][\"labels\"] == \"negative\"][:2500]\n",
    "\n",
    "print(len(positive_data))\n",
    "print(len(negative_data))\n",
    "\n",
    "# Combine and shuffle  \n",
    "balanced_data = positive_data + negative_data\n",
    "random.shuffle(balanced_data)\n",
    "\n",
    "# Save to jsonl\n",
    "with open('../data/refusal/off_policy_balanced_5k.jsonl', 'w') as f:\n",
    "    for item in balanced_data:\n",
    "        f.write(json.dumps(item) + \"\\n\")"
   ]
  },
  {
   "cell_type": "code",
   "execution_count": null,
   "id": "07612f43",
   "metadata": {},
   "outputs": [],
   "source": [
    "# Want to split pickle files based on layers\n",
    "import pickle\n",
    "import json\n",
    "\n",
    "with open('/workspace/LASR-probe-gen/datasets/refusal/meta-llama_Llama-3.2-3B-Instruct__off_policy_other_model/off_policy_balanced_5k__off_policy_other_model.pkl', 'rb') as f:\n",
    "    df = pickle.load(f)\n",
    "\n",
    "# Get all keys from the first row\n",
    "keys = df['activations'].iloc[0].keys()\n",
    "\n",
    "for key in keys:\n",
    "    # Create a *view-like* new DataFrame using other columns as-is\n",
    "    cols_except_activations = [c for c in df.columns if c != 'activations']\n",
    "    df_split = df[cols_except_activations].copy(deep=False)  # shallow copy only column metadata\n",
    "\n",
    "    # Add a new activations column referencing just the tensor for this key\n",
    "    df_split['activations'] = df['activations'].map(lambda d: d[key])\n",
    "\n",
    "    # Save to pickle\n",
    "    out_path = f\"/workspace/LASR-probe-gen/datasets/refusal/meta-llama_Llama-3.2-3B-Instruct__off_policy_other_model/off_policy_balanced_5k__off_policy_other_model_layer_{key}.pkl\"\n",
    "    with open(out_path, \"wb\") as f:\n",
    "        pickle.dump(df_split, f, protocol=pickle.HIGHEST_PROTOCOL)\n",
    "\n",
    "    print(f\"Saved {out_path}\")"
   ]
  },
  {
   "cell_type": "code",
   "execution_count": null,
   "id": "bb4d3c23",
   "metadata": {},
   "outputs": [],
   "source": [
    "# For uploading layer pickle files to huggingface\n",
    "\n",
    "import os\n",
    "from huggingface_hub import HfApi\n",
    "\n",
    "REPO_NAME = \"\"# \"NLie2/anthropic-refusal-activations\"\n",
    "HF_TOKEN = os.environ[\"HF_TOKEN\"]\n",
    "\n",
    "# Upload raw pickle file\n",
    "api = HfApi()\n",
    "print(\"Creating repository...\")\n",
    "api.create_repo(\n",
    "    repo_id=REPO_NAME,\n",
    "    repo_type=\"dataset\",\n",
    "    token=HF_TOKEN,\n",
    "    private=True,\n",
    "    exist_ok=True  # Add this line\n",
    ")\n",
    "for i in range(18, 28):\n",
    "    FILE_PATH = f\"/workspace/LASR-probe-gen/datasets/refusal/meta-llama_Llama-3.2-3B-Instruct__off_policy_other_model/off_policy_balanced_5k__off_policy_other_model_layer_{i}.pkl\" # \"datasets/refusal/meta-llama_Llama-3.2-3B-Instruct__on_policy.pkl\"\n",
    "    PATH_IN_REPO = f\"off_policy_balanced_5k_layer_{i}\"# \"refusal_meta-llama_Llama-3.2-3B-Instruct__on_policy\"\n",
    "\n",
    "    print(\"Uploading pickle file...\")\n",
    "    api.upload_file(\n",
    "        path_or_fileobj=FILE_PATH,\n",
    "        path_in_repo=PATH_IN_REPO,\n",
    "        repo_id=REPO_NAME,\n",
    "        repo_type=\"dataset\",\n",
    "        token=HF_TOKEN,\n",
    "        create_pr=1,\n",
    "    )\n",
    "    print(f\"✅ File uploaded to: https://huggingface.co/datasets/{REPO_NAME}\")"
   ]
  },
  {
   "cell_type": "code",
   "execution_count": null,
   "id": "bd91d203",
   "metadata": {},
   "outputs": [
    {
     "name": "stdout",
     "output_type": "stream",
     "text": [
      "Creating repository...\n",
      "../data/refusal/temp_on_policy_outputs_20k.jsonl\n"
     ]
    },
    {
     "data": {
      "application/vnd.jupyter.widget-view+json": {
       "model_id": "2ba839b70037454180e00dbe91656ce5",
       "version_major": 2,
       "version_minor": 0
      },
      "text/plain": [
       "Processing Files (0 / 0)                : |          |  0.00B /  0.00B            "
      ]
     },
     "metadata": {},
     "output_type": "display_data"
    },
    {
     "data": {
      "application/vnd.jupyter.widget-view+json": {
       "model_id": "2354b3e11e75413ea9b22a01628d95d7",
       "version_major": 2,
       "version_minor": 0
      },
      "text/plain": [
       "New Data Upload                         : |          |  0.00B /  0.00B            "
      ]
     },
     "metadata": {},
     "output_type": "display_data"
    },
    {
     "data": {
      "application/vnd.jupyter.widget-view+json": {
       "model_id": "77bf9c7cc9464c139e0eb297fdaddcf6",
       "version_major": 2,
       "version_minor": 0
      },
      "text/plain": [
       "  ...al/temp_on_policy_outputs_20k.jsonl:   9%|9         | 2.25MB / 24.4MB            "
      ]
     },
     "metadata": {},
     "output_type": "display_data"
    },
    {
     "name": "stdout",
     "output_type": "stream",
     "text": [
      "✅ File uploaded to: https://huggingface.co/datasets/AdrSkapars/anthropic-refusal-activations\n",
      "../data/refusal/off_policy_harmgrader.jsonl\n",
      "✅ File uploaded to: https://huggingface.co/datasets/AdrSkapars/anthropic-refusal-activations\n",
      "../data/refusal/off_policy_prompted_unlabelled_20k.jsonl\n",
      "✅ File uploaded to: https://huggingface.co/datasets/AdrSkapars/anthropic-refusal-activations\n",
      "../data/refusal/on_policy_balanced_5k.jsonl\n",
      "✅ File uploaded to: https://huggingface.co/datasets/AdrSkapars/anthropic-refusal-activations\n",
      "../data/refusal/off_policy_raw_20k.jsonl\n"
     ]
    },
    {
     "data": {
      "application/vnd.jupyter.widget-view+json": {
       "model_id": "febc6efce8054f869952dab91a16d130",
       "version_major": 2,
       "version_minor": 0
      },
      "text/plain": [
       "Processing Files (0 / 0)                : |          |  0.00B /  0.00B            "
      ]
     },
     "metadata": {},
     "output_type": "display_data"
    },
    {
     "data": {
      "application/vnd.jupyter.widget-view+json": {
       "model_id": "c79f5fdbb9404d0d851c349ed31619d3",
       "version_major": 2,
       "version_minor": 0
      },
      "text/plain": [
       "New Data Upload                         : |          |  0.00B /  0.00B            "
      ]
     },
     "metadata": {},
     "output_type": "display_data"
    },
    {
     "data": {
      "application/vnd.jupyter.widget-view+json": {
       "model_id": "b32431b24bcb43e1814c50fab9ef6d33",
       "version_major": 2,
       "version_minor": 0
      },
      "text/plain": [
       "  ...ta/refusal/off_policy_raw_20k.jsonl:   9%|8         | 1.48MB / 16.5MB            "
      ]
     },
     "metadata": {},
     "output_type": "display_data"
    },
    {
     "name": "stdout",
     "output_type": "stream",
     "text": [
      "✅ File uploaded to: https://huggingface.co/datasets/AdrSkapars/anthropic-refusal-activations\n",
      "../data/refusal/off_policy_raw.jsonl\n",
      "✅ File uploaded to: https://huggingface.co/datasets/AdrSkapars/anthropic-refusal-activations\n",
      "../data/refusal/on_policy_balanced_20k.jsonl\n"
     ]
    },
    {
     "data": {
      "application/vnd.jupyter.widget-view+json": {
       "model_id": "90d2f7fcdc024b209a9fa1b3d8db8130",
       "version_major": 2,
       "version_minor": 0
      },
      "text/plain": [
       "Processing Files (0 / 0)                : |          |  0.00B /  0.00B            "
      ]
     },
     "metadata": {},
     "output_type": "display_data"
    },
    {
     "data": {
      "application/vnd.jupyter.widget-view+json": {
       "model_id": "0256ee371f144373855b98cd918d68fa",
       "version_major": 2,
       "version_minor": 0
      },
      "text/plain": [
       "New Data Upload                         : |          |  0.00B /  0.00B            "
      ]
     },
     "metadata": {},
     "output_type": "display_data"
    },
    {
     "data": {
      "application/vnd.jupyter.widget-view+json": {
       "model_id": "629e1234c5fa4c0087885f313ca29585",
       "version_major": 2,
       "version_minor": 0
      },
      "text/plain": [
       "  ...efusal/on_policy_balanced_20k.jsonl:  14%|#3        | 1.51MB / 11.0MB            "
      ]
     },
     "metadata": {},
     "output_type": "display_data"
    },
    {
     "name": "stdout",
     "output_type": "stream",
     "text": [
      "✅ File uploaded to: https://huggingface.co/datasets/AdrSkapars/anthropic-refusal-activations\n",
      "../data/refusal/temp_2_on_policy_unlabelled_20k.jsonl\n",
      "✅ File uploaded to: https://huggingface.co/datasets/AdrSkapars/anthropic-refusal-activations\n",
      "../data/refusal/off_policy_prompted_outputs_20k.jsonl\n"
     ]
    },
    {
     "data": {
      "application/vnd.jupyter.widget-view+json": {
       "model_id": "bcd64a0100c84b1fafc6d7083cca9d71",
       "version_major": 2,
       "version_minor": 0
      },
      "text/plain": [
       "Processing Files (0 / 0)                : |          |  0.00B /  0.00B            "
      ]
     },
     "metadata": {},
     "output_type": "display_data"
    },
    {
     "data": {
      "application/vnd.jupyter.widget-view+json": {
       "model_id": "a3b8879f4bf842038f6a88359a97c8dc",
       "version_major": 2,
       "version_minor": 0
      },
      "text/plain": [
       "New Data Upload                         : |          |  0.00B /  0.00B            "
      ]
     },
     "metadata": {},
     "output_type": "display_data"
    },
    {
     "data": {
      "application/vnd.jupyter.widget-view+json": {
       "model_id": "38c0f8c4260c49cc80aaf9c9f5cd43ff",
       "version_major": 2,
       "version_minor": 0
      },
      "text/plain": [
       "  ...f_policy_prompted_outputs_20k.jsonl:  13%|#2        | 2.95MB / 23.2MB            "
      ]
     },
     "metadata": {},
     "output_type": "display_data"
    },
    {
     "name": "stdout",
     "output_type": "stream",
     "text": [
      "✅ File uploaded to: https://huggingface.co/datasets/AdrSkapars/anthropic-refusal-activations\n",
      "../data/refusal/temp_on_policy_unlabelled_20k.jsonl\n",
      "✅ File uploaded to: https://huggingface.co/datasets/AdrSkapars/anthropic-refusal-activations\n",
      "../data/refusal/off_policy_prompted_balanced_20k.jsonl\n",
      "✅ File uploaded to: https://huggingface.co/datasets/AdrSkapars/anthropic-refusal-activations\n",
      "../data/refusal/off_policy_prompted_balanced_5k.jsonl\n",
      "✅ File uploaded to: https://huggingface.co/datasets/AdrSkapars/anthropic-refusal-activations\n",
      "../data/refusal/off_policy_prompted_raw_20k.jsonl\n"
     ]
    },
    {
     "data": {
      "application/vnd.jupyter.widget-view+json": {
       "model_id": "5499b1857fa74477a251983827a1fce7",
       "version_major": 2,
       "version_minor": 0
      },
      "text/plain": [
       "Processing Files (0 / 0)                : |          |  0.00B /  0.00B            "
      ]
     },
     "metadata": {},
     "output_type": "display_data"
    },
    {
     "data": {
      "application/vnd.jupyter.widget-view+json": {
       "model_id": "bf02911050ce40bf8ec3f4e9ed8f98c4",
       "version_major": 2,
       "version_minor": 0
      },
      "text/plain": [
       "New Data Upload                         : |          |  0.00B /  0.00B            "
      ]
     },
     "metadata": {},
     "output_type": "display_data"
    },
    {
     "data": {
      "application/vnd.jupyter.widget-view+json": {
       "model_id": "74af1b861ae74dcaa04f0decfe7c0af7",
       "version_major": 2,
       "version_minor": 0
      },
      "text/plain": [
       "  ...l/off_policy_prompted_raw_20k.jsonl:  11%|#1        | 1.79MB / 15.9MB            "
      ]
     },
     "metadata": {},
     "output_type": "display_data"
    },
    {
     "name": "stdout",
     "output_type": "stream",
     "text": [
      "✅ File uploaded to: https://huggingface.co/datasets/AdrSkapars/anthropic-refusal-activations\n",
      "../data/refusal/on_policy_unlabelled_20k.jsonl\n",
      "✅ File uploaded to: https://huggingface.co/datasets/AdrSkapars/anthropic-refusal-activations\n",
      "../data/refusal/off_policy_balanced_5k.jsonl\n",
      "✅ File uploaded to: https://huggingface.co/datasets/AdrSkapars/anthropic-refusal-activations\n",
      "../data/refusal/on_policy_outputs_20k.jsonl\n"
     ]
    },
    {
     "data": {
      "application/vnd.jupyter.widget-view+json": {
       "model_id": "2b2c51799566486f8a9ad638c6d2f690",
       "version_major": 2,
       "version_minor": 0
      },
      "text/plain": [
       "Processing Files (0 / 0)                : |          |  0.00B /  0.00B            "
      ]
     },
     "metadata": {},
     "output_type": "display_data"
    },
    {
     "data": {
      "application/vnd.jupyter.widget-view+json": {
       "model_id": "fcfd61a5feb3413a88f916712a326c11",
       "version_major": 2,
       "version_minor": 0
      },
      "text/plain": [
       "New Data Upload                         : |          |  0.00B /  0.00B            "
      ]
     },
     "metadata": {},
     "output_type": "display_data"
    },
    {
     "data": {
      "application/vnd.jupyter.widget-view+json": {
       "model_id": "0e8c83394343462492cce5cf751b5f57",
       "version_major": 2,
       "version_minor": 0
      },
      "text/plain": [
       "  ...refusal/on_policy_outputs_20k.jsonl:   9%|9         | 2.30MB / 24.3MB            "
      ]
     },
     "metadata": {},
     "output_type": "display_data"
    },
    {
     "name": "stdout",
     "output_type": "stream",
     "text": [
      "✅ File uploaded to: https://huggingface.co/datasets/AdrSkapars/anthropic-refusal-activations\n",
      "../data/refusal/on_policy_harmgrader.jsonl\n",
      "✅ File uploaded to: https://huggingface.co/datasets/AdrSkapars/anthropic-refusal-activations\n",
      "../data/refusal/on_policy_raw.jsonl\n",
      "✅ File uploaded to: https://huggingface.co/datasets/AdrSkapars/anthropic-refusal-activations\n",
      "../data/refusal/off_policy_balanced_20k.jsonl\n",
      "✅ File uploaded to: https://huggingface.co/datasets/AdrSkapars/anthropic-refusal-activations\n",
      "../data/refusal/on_policy_raw_20k.jsonl\n"
     ]
    },
    {
     "data": {
      "application/vnd.jupyter.widget-view+json": {
       "model_id": "12ad5d8ea171482e8dcbb43b3b11526f",
       "version_major": 2,
       "version_minor": 0
      },
      "text/plain": [
       "Processing Files (0 / 0)                : |          |  0.00B /  0.00B            "
      ]
     },
     "metadata": {},
     "output_type": "display_data"
    },
    {
     "data": {
      "application/vnd.jupyter.widget-view+json": {
       "model_id": "e9c4ca6288684950afcbedc7f18494a6",
       "version_major": 2,
       "version_minor": 0
      },
      "text/plain": [
       "New Data Upload                         : |          |  0.00B /  0.00B            "
      ]
     },
     "metadata": {},
     "output_type": "display_data"
    },
    {
     "data": {
      "application/vnd.jupyter.widget-view+json": {
       "model_id": "536a2b4acfd94edaafce78d7f0eafaba",
       "version_major": 2,
       "version_minor": 0
      },
      "text/plain": [
       "  ...ata/refusal/on_policy_raw_20k.jsonl:   8%|7         | 1.45MB / 18.4MB            "
      ]
     },
     "metadata": {},
     "output_type": "display_data"
    },
    {
     "name": "stdout",
     "output_type": "stream",
     "text": [
      "✅ File uploaded to: https://huggingface.co/datasets/AdrSkapars/anthropic-refusal-activations\n",
      "../data/refusal/temp_2_on_policy_outputs_20k.jsonl\n"
     ]
    },
    {
     "data": {
      "application/vnd.jupyter.widget-view+json": {
       "model_id": "d2e42fd2f7c04be4b53b584f1a5bd565",
       "version_major": 2,
       "version_minor": 0
      },
      "text/plain": [
       "Processing Files (0 / 0)                : |          |  0.00B /  0.00B            "
      ]
     },
     "metadata": {},
     "output_type": "display_data"
    },
    {
     "data": {
      "application/vnd.jupyter.widget-view+json": {
       "model_id": "0da810d99f474e99821352b5a3e16f8c",
       "version_major": 2,
       "version_minor": 0
      },
      "text/plain": [
       "New Data Upload                         : |          |  0.00B /  0.00B            "
      ]
     },
     "metadata": {},
     "output_type": "display_data"
    },
    {
     "data": {
      "application/vnd.jupyter.widget-view+json": {
       "model_id": "93d225fceed147efb9afeb225489417a",
       "version_major": 2,
       "version_minor": 0
      },
      "text/plain": [
       "  .../temp_2_on_policy_outputs_20k.jsonl:   8%|8         | 2.08MB / 25.2MB            "
      ]
     },
     "metadata": {},
     "output_type": "display_data"
    },
    {
     "name": "stdout",
     "output_type": "stream",
     "text": [
      "✅ File uploaded to: https://huggingface.co/datasets/AdrSkapars/anthropic-refusal-activations\n"
     ]
    }
   ],
   "source": [
    "# For uploading jsonl files to huggingface\n",
    "\n",
    "import os\n",
    "from huggingface_hub import HfApi\n",
    "\n",
    "REPO_NAME = \"\"# \"NLie2/anthropic-refusal-activations\"\n",
    "HF_TOKEN = os.environ[\"HF_TOKEN\"]\n",
    "\n",
    "# Upload raw pickle file\n",
    "api = HfApi()\n",
    "print(\"Creating repository...\")\n",
    "api.create_repo(\n",
    "    repo_id=REPO_NAME,\n",
    "    repo_type=\"dataset\",\n",
    "    token=HF_TOKEN,\n",
    "    private=True,\n",
    "    exist_ok=True  # Add this line\n",
    ")\n",
    "\n",
    "# Get every file in the data/refusal folder\n",
    "file_paths = [\"../data/refusal/\"+f for f in os.listdir(\"../data/refusal\") if f.endswith(\".jsonl\")]\n",
    "for file_path in file_paths:\n",
    "    print(file_path)\n",
    "    PATH_IN_REPO = file_path.split(\"/\")[-1]\n",
    "    # Upload the file to the repository\n",
    "    api.upload_file(\n",
    "        path_or_fileobj=file_path,\n",
    "        path_in_repo=PATH_IN_REPO,\n",
    "        repo_id=REPO_NAME,\n",
    "        repo_type=\"dataset\",\n",
    "        token=HF_TOKEN,\n",
    "    )\n",
    "    print(f\"✅ File uploaded to: https://huggingface.co/datasets/{REPO_NAME}\")\n"
   ]
  }
 ],
 "metadata": {
  "kernelspec": {
   "display_name": ".venv",
   "language": "python",
   "name": "python3"
  },
  "language_info": {
   "codemirror_mode": {
    "name": "ipython",
    "version": 3
   },
   "file_extension": ".py",
   "mimetype": "text/x-python",
   "name": "python",
   "nbconvert_exporter": "python",
   "pygments_lexer": "ipython3",
   "version": "3.11.13"
  }
 },
 "nbformat": 4,
 "nbformat_minor": 5
}
