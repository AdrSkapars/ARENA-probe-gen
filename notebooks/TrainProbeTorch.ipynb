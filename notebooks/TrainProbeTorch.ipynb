{
 "cells": [
  {
   "cell_type": "code",
   "execution_count": null,
   "id": "c2ed7f13",
   "metadata": {},
   "outputs": [],
   "source": [
    "%%capture\n",
    "# If getting 'Could not find project LASR_probe_gen' get key from https://wandb.ai/authorize and paste below\n",
    "import wandb\n",
    "wandb.login(key=\"\")"
   ]
  },
  {
   "cell_type": "markdown",
   "id": "c20bb32e",
   "metadata": {},
   "source": [
    "# Do probe training"
   ]
  },
  {
   "cell_type": "markdown",
   "id": "c5d4552d",
   "metadata": {},
   "source": [
    "Load the activations and labels from HF, aggregate, and construct datasets to train the probe on (note sklearn doesn't require a validation dataset). Create a probe and fit it."
   ]
  },
  {
   "cell_type": "code",
   "execution_count": null,
   "id": "d7fe1567",
   "metadata": {},
   "outputs": [],
   "source": [
    "import probe_gen.probes as probes\n",
    "from sklearn.metrics import classification_report\n",
    "from probe_gen.config import ConfigDict\n",
    "\n",
    "# Load the best hyperparameters or set your own\n",
    "probe_type = [\"mean_torch\", \"attention_torch\"][1]\n",
    "dataset_name = \"refusal_llama_3b_5k\"\n",
    "cfg = ConfigDict.from_json(probe_type, dataset_name)\n",
    "# cfg = ConfigDict(layer=12, use_bias=True, normalize=True, lr=0.0001, weight_decay=0.0)\n",
    "\n",
    "# Create train, val, and test datasets\n",
    "activations_tensor, attention_mask, labels_tensor = probes.load_hf_activations_and_labels_at_layer(dataset_name, layer=cfg.layer, verbose=True)\n",
    "if probe_type == \"mean_torch\":\n",
    "    activations_tensor = probes.MeanAggregation()(activations_tensor, attention_mask)\n",
    "train_dataset, val_dataset, test_dataset = probes.create_activation_datasets(activations_tensor, labels_tensor, splits=[3500, 500, 0], verbose=True)\n",
    "\n",
    "# Initialise and fit a probe with the datasets\n",
    "if probe_type == \"mean_torch\":\n",
    "    probe = probes.TorchLinearProbe(cfg)\n",
    "elif probe_type == \"attention_torch\":\n",
    "    probe = probes.TorchAttentionProbe(cfg)\n",
    "probe.fit(train_dataset, val_dataset)\n",
    "\n",
    "# Print val results\n",
    "eval_dict, y_pred, y_pred_proba = probe.eval(val_dataset)\n",
    "print('\\nroc_auc:', eval_dict['roc_auc'])"
   ]
  },
  {
   "cell_type": "markdown",
   "id": "32af9fc6",
   "metadata": {},
   "source": [
    "Evaluate the probe on test dataset."
   ]
  },
  {
   "cell_type": "code",
   "execution_count": null,
   "id": "d43e7080",
   "metadata": {},
   "outputs": [
    {
     "name": "stdout",
     "output_type": "stream",
     "text": [
      "loaded labels\n"
     ]
    },
    {
     "name": "stdout",
     "output_type": "stream",
     "text": [
      "loaded activations with shape torch.Size([1000, 249, 3072])\n",
      "calculated attention mask with shape torch.Size([1000, 249])\n",
      "Train: 0 samples, 0.0 positives\n",
      "Val:   0 samples, 0.0 positives\n",
      "Test:  1000 samples, 500.0 positives\n",
      "{'accuracy': 0.858, 'roc_auc': 0.91186, 'tpr_at_1_fpr': np.float64(0.104)}\n",
      "              precision    recall  f1-score   support\n",
      "\n",
      "         0.0       0.88      0.83      0.85       500\n",
      "         1.0       0.84      0.88      0.86       500\n",
      "\n",
      "    accuracy                           0.86      1000\n",
      "   macro avg       0.86      0.86      0.86      1000\n",
      "weighted avg       0.86      0.86      0.86      1000\n",
      "\n"
     ]
    }
   ],
   "source": [
    "# Eval against seperate test datasets\n",
    "for new_dataset_name in [\"refusal_llama_3b_1k\", \"refusal_llama_3b_prompted_1k\", \"refusal_ministral_8b_1k\"]:\n",
    "    print(f\"\\nEvaluating on {new_dataset_name}\")\n",
    "    activations_tensor, attention_mask, labels_tensor = probes.load_hf_activations_and_labels_at_layer(new_dataset_name, layer=cfg.layer, verbose=True)\n",
    "    if probe_type == \"mean_torch\":\n",
    "        activations_tensor = probes.MeanAggregation()(activations_tensor, attention_mask)\n",
    "    _, _, test_dataset = probes.create_activation_datasets(activations_tensor, labels_tensor, splits=[0, 0, 1000], verbose=True)\n",
    "\n",
    "    # Evaluate the model\n",
    "    eval_dict, y_pred, y_pred_proba = probe.eval(test_dataset)\n",
    "    print(eval_dict)\n",
    "    print(classification_report(test_dataset['y'], y_pred))"
   ]
  },
  {
   "cell_type": "markdown",
   "id": "8fdf0729",
   "metadata": {},
   "source": [
    "# Hyperparameter Search"
   ]
  },
  {
   "cell_type": "code",
   "execution_count": null,
   "id": "ea67ea49",
   "metadata": {},
   "outputs": [],
   "source": [
    "from probe_gen.standard_experiments.hyperparameter_search import run_full_hyp_search_on_layers\n",
    "from probe_gen.standard_experiments.hyperparameter_search import load_best_params_from_search\n",
    "\n",
    "probe_type = \"attention_torch\"\n",
    "dataset_name = \"refusal_llama_3b_5k\"\n",
    "model_name = \"llama_3b\"\n",
    "\n",
    "# You might not be able to run all layers at once, so can do them in batches like below\n",
    "layer_list = [6,9,12,15,18,21]\n",
    "run_full_hyp_search_on_layers(\n",
    "    probe_type, dataset_name, model_name, layer_list\n",
    ")\n",
    "# Can load the best params from the search at any time\n",
    "cfg_dict = load_best_params_from_search(\n",
    "    probe_type, dataset_name, model_name, layer_list\n",
    ")\n",
    "# Should add them to the local json if havent already\n",
    "cfg = ConfigDict(cfg_dict)\n",
    "cfg.add_to_json(probe_type, dataset_name)"
   ]
  },
  {
   "cell_type": "markdown",
   "id": "9286f9a5",
   "metadata": {},
   "source": [
    "# Testing On-Off Probes"
   ]
  },
  {
   "cell_type": "code",
   "execution_count": null,
   "id": "dff9a604",
   "metadata": {},
   "outputs": [],
   "source": [
    "# Specify rows of probes and columns of tests\n",
    "test_dataset_names = [\n",
    "    'refusal_llama_3b_1k',\n",
    "    'refusal_llama_3b_prompted_1k',\n",
    "    \"refusal_ministral_8b_1k\"\n",
    "]\n",
    "probes_setup = [\n",
    "    ['mean', 'refusal_llama_3b_5k'],\n",
    "    ['mean', 'refusal_llama_3b_prompted_5k'],\n",
    "    ['mean', 'refusal_ministral_8b_5k']\n",
    "]\n",
    "\n",
    "# Can specify hyperparameters for each row if dont want to load best hyperparameters, can also do a mix of specified and not specified\n",
    "# probes_setup = [\n",
    "#     ['mean', 'refusal_llama_3b_5k', ConfigDict(layer=12, use_bias=False, normalize=True, c=0.001)],\n",
    "#     ['mean', 'refusal_llama_3b_prompted_5k'],\n",
    "#     ['mean', 'refusal_ministral_8b_5k', ConfigDict(layer=12, use_bias=False, normalize=True, c=0.001)]\n",
    "# ]"
   ]
  },
  {
   "cell_type": "code",
   "execution_count": null,
   "id": "e46d5723",
   "metadata": {},
   "outputs": [],
   "source": [
    "from probe_gen.standard_experiments.grid_experiments import run_grid_experiment_lean\n",
    "\n",
    "run_grid_experiment_lean(probes_setup, test_dataset_names, \"llama_3b\")"
   ]
  },
  {
   "cell_type": "code",
   "execution_count": null,
   "id": "47c6421d",
   "metadata": {},
   "outputs": [],
   "source": [
    "from probe_gen.standard_experiments.grid_experiments import plot_grid_experiment_lean\n",
    "\n",
    "plot_grid_experiment_lean(probes_setup, test_dataset_names, \"llama_3b\", metric=\"roc_auc\")"
   ]
  }
 ],
 "metadata": {
  "kernelspec": {
   "display_name": "Python (uv)",
   "language": "python",
   "name": "uv-env"
  },
  "language_info": {
   "codemirror_mode": {
    "name": "ipython",
    "version": 3
   },
   "file_extension": ".py",
   "mimetype": "text/x-python",
   "name": "python",
   "nbconvert_exporter": "python",
   "pygments_lexer": "ipython3",
   "version": "3.11.13"
  }
 },
 "nbformat": 4,
 "nbformat_minor": 5
}
