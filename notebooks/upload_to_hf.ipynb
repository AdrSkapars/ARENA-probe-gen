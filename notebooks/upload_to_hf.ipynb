{
 "cells": [
  {
   "cell_type": "code",
   "execution_count": null,
   "id": "0d0a5e37",
   "metadata": {},
   "outputs": [
    {
     "name": "stdout",
     "output_type": "stream",
     "text": [
      "/rds/general/user/nk1924/home/LASR-probe-gen/.venv/lib/python3.9/site-packages/numpy/__init__.py\n",
      "1.26.4\n"
     ]
    }
   ],
   "source": [
    "import os\n",
    "from huggingface_hub import HfApi"
   ]
  },
  {
   "cell_type": "code",
   "execution_count": null,
   "id": "c113e47e",
   "metadata": {},
   "outputs": [],
   "source": [
    "REPO_NAME = \"\"# \"NLie2/anthropic-refusal-activations\"\n",
    "HF_TOKEN = os.environ[\"HF_TOKEN\"]\n",
    "FILE_PATH = \"\" # \"datasets/refusal/meta-llama_Llama-3.2-3B-Instruct__on_policy.pkl\"\n",
    "PATH_IN_REPO = \"\"# \"refusal_meta-llama_Llama-3.2-3B-Instruct__on_policy\""
   ]
  },
  {
   "cell_type": "code",
   "execution_count": null,
   "id": "c75961cd",
   "metadata": {},
   "outputs": [
    {
     "data": {
      "application/vnd.jupyter.widget-view+json": {
       "model_id": "b12f8b5f9ead462fb0be7a1f7449d3ae",
       "version_major": 2,
       "version_minor": 0
      },
      "text/plain": [
       "dataframe_with_activations.pkl:   0%|          | 0.00/1.39G [00:00<?, ?B/s]"
      ]
     },
     "metadata": {},
     "output_type": "display_data"
    },
    {
     "name": "stdout",
     "output_type": "stream",
     "text": [
      "Loaded DataFrame with shape: (1000, 3)\n"
     ]
    }
   ],
   "source": [
    "# Upload raw pickle file\n",
    "api = HfApi()\n",
    "print(\"Creating repository...\")\n",
    "api.create_repo(\n",
    "    repo_id=REPO_NAME,\n",
    "    repo_type=\"dataset\",\n",
    "    token=HF_TOKEN,\n",
    "    private=True,\n",
    "    exist_ok=True  # Add this line\n",
    ")\n",
    "print(\"Uploading pickle file...\")\n",
    "api.upload_file(\n",
    "    path_or_fileobj=FILE_PATH,\n",
    "    path_in_repo=PATH_IN_REPO,\n",
    "    repo_id=REPO_NAME,\n",
    "    repo_type=\"dataset\",\n",
    "    token=HF_TOKEN\n",
    ")\n",
    "print(f\"✅ File uploaded to: https://huggingface.co/datasets/{REPO_NAME}\")"
   ]
  }
 ],
 "metadata": {
  "kernelspec": {
   "display_name": "UV Environment",
   "language": "python",
   "name": "uv-env"
  },
  "language_info": {
   "codemirror_mode": {
    "name": "ipython",
    "version": 3
   },
   "file_extension": ".py",
   "mimetype": "text/x-python",
   "name": "python",
   "nbconvert_exporter": "python",
   "pygments_lexer": "ipython3",
   "version": "3.9.23"
  }
 },
 "nbformat": 4,
 "nbformat_minor": 5
}
