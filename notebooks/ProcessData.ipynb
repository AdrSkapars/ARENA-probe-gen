{
 "cells": [
  {
   "cell_type": "markdown",
   "id": "d6513d6a",
   "metadata": {},
   "source": [
    "## Process Data\n",
    "- Goal: Reformat autolabelled refusal datasets to be in nicer format (since it was generated using the previous teams repo)\n",
    "\n",
    "### Dataset\n",
    "\n",
    "- Dataset: raw is 1000 samples, balanced is the same but subsampled so there are equal amount of 'complied' and 'refused'\n",
    "- Jsonl format: \\\n",
    "    'inputs': the user query and assistant response \\\n",
    "    'ids': combined id \\\n",
    "    'split': split in original anthropic dataset \\\n",
    "    'category': category in original anthropic dataset, whether annotator chose this example or other one \\\n",
    "    'index': index number \\\n",
    "    'scale_label_explanation': explanation given by autograder \\\n",
    "    'scale_label_confidence': 1 to 10 where higher is more confident \\\n",
    "    'scale_labels': 1 to 10 where lower is bigger rejection and higher is bigger compliance \\\n",
    "    'scale_label_model': model used to autograde \\\n",
    "    'labels': 'complied', 'refused' or 'ambiguous' \\\n",
    "    'label_explanation': what method was used to decide label, usually threshold on score \\"
   ]
  },
  {
   "cell_type": "code",
   "execution_count": null,
   "id": "a0a2baa9",
   "metadata": {},
   "outputs": [],
   "source": [
    "# This script modifies the labels in the specified JSONL files.\n",
    "# It changes \"high-stakes\" to \"complied\" and \"low-stakes\" to \"refused\".\n",
    "import json\n",
    "datasets = [\n",
    "    # \"../data/refusal/off_policy_balanced.jsonl\",\n",
    "    # \"../data/refusal/off_policy_raw.jsonl\"\n",
    "    \"../data/refusal/on_policy_balanced.jsonl\",\n",
    "    \"../data/refusal/on_policy_raw.jsonl\"\n",
    "]\n",
    "for dataset in datasets:\n",
    "    data_list = []\n",
    "    with open(dataset, 'r') as file:\n",
    "        for line in file:\n",
    "            data = json.loads(line)\n",
    "            if data[\"labels\"] == \"high-stakes\":\n",
    "                data[\"labels\"] = \"complied\"\n",
    "            elif data[\"labels\"] == \"low-stakes\":\n",
    "                data[\"labels\"] = \"refused\"\n",
    "            data_list.append(data)\n",
    "\n",
    "    # write the modified data back to the file\n",
    "    with open(dataset, 'w') as file:\n",
    "        for line in data_list:\n",
    "            file.write(json.dumps(line) + \"\\n\")"
   ]
  },
  {
   "cell_type": "code",
   "execution_count": null,
   "id": "857351ff",
   "metadata": {},
   "outputs": [
    {
     "name": "stdout",
     "output_type": "stream",
     "text": [
      "Mismatch found: [{\"role\": \"user\", \"content\": \"How do you make a BL != [{\"role\": \"user\", \"content\": \"What is the time dif\n"
     ]
    }
   ],
   "source": [
    "# For some reason the on policy dataset has 999 lines instead of 1000\n",
    "# Fixed it for now\n",
    "import json\n",
    "data_list = []\n",
    "with open(\"../data/refusal/off_policy_raw.jsonl\", 'r') as file1:\n",
    "    with open(\"../data/refusal/on_policy_raw.jsonl\", 'r') as file2:\n",
    "        for line1, line2 in zip(file1, file2):\n",
    "            data1 = json.loads(line1)\n",
    "            data2 = json.loads(line2)\n",
    "            if not data1[\"inputs\"].startswith(data2[\"inputs\"][:50]):\n",
    "                print(f\"Mismatch found: {data1['inputs'][:50]} != {data2['inputs'][:50]}\")\n",
    "                break\n"
   ]
  },
  {
   "cell_type": "code",
   "execution_count": null,
   "id": "a2265095",
   "metadata": {},
   "outputs": [
    {
     "data": {
      "text/plain": [
       "{1: 26, 2: 73, 3: 84, 4: 29, 5: 49, 6: 23, 7: 41, 8: 117, 9: 178, 10: 380}"
      ]
     },
     "execution_count": 8,
     "metadata": {},
     "output_type": "execute_result"
    }
   ],
   "source": [
    "# We want to count the amount of complied and refused scores in the on-policy dataset\n",
    "import json\n",
    "data_list = []\n",
    "scores = {}\n",
    "for i in range(1,11):\n",
    "    scores[i] = 0\n",
    "with open(\"../data/refusal/off_policy_raw.jsonl\", 'r') as file:\n",
    "    for line in file:\n",
    "        data = json.loads(line)\n",
    "        scores[data[\"scale_labels\"]] += 1\n",
    "scores"
   ]
  },
  {
   "cell_type": "code",
   "execution_count": 9,
   "id": "949bc7e1",
   "metadata": {},
   "outputs": [
    {
     "data": {
      "text/plain": [
       "261"
      ]
     },
     "execution_count": 9,
     "metadata": {},
     "output_type": "execute_result"
    }
   ],
   "source": [
    "sum(scores[i] for i in range(1,6))"
   ]
  }
 ],
 "metadata": {
  "kernelspec": {
   "display_name": "lasr-tutorial",
   "language": "python",
   "name": "python3"
  },
  "language_info": {
   "codemirror_mode": {
    "name": "ipython",
    "version": 3
   },
   "file_extension": ".py",
   "mimetype": "text/x-python",
   "name": "python",
   "nbconvert_exporter": "python",
   "pygments_lexer": "ipython3",
   "version": "3.10.12"
  }
 },
 "nbformat": 4,
 "nbformat_minor": 5
}
