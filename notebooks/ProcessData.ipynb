{
 "cells": [
  {
   "cell_type": "markdown",
   "id": "d6513d6a",
   "metadata": {},
   "source": [
    "## Process Data\n",
    "- Goal: Reformat autolabelled refusal dataset to be in nicer format (since it was generated using the previous teams repo)\n",
    "\n",
    "Jsonl explanation:\n",
    "'inputs': t\n",
    "'ids': combined id,\n",
    "'split': split in original anthropic dataset,\n",
    "'category': category in original anthropic dataset, whether annotator chose this example or other one,\n",
    "'index': index number,\n",
    "'scale_label_explanation': explanation given by autograder,\n",
    "'scale_label_confidence': 1 to 10 where higher is more confident,\n",
    "'scale_labels': 1 to 10 where lower is bigger rejection and higher is bigger compliance,\n",
    "'scale_label_model': model used to autograde,\n",
    "'labels': 'complied', 'refused' or 'ambiguous',\n",
    "'label_explanation': what method was used to decide label, usually threshold on score"
   ]
  },
  {
   "cell_type": "code",
   "execution_count": 9,
   "id": "a0a2baa9",
   "metadata": {},
   "outputs": [],
   "source": [
    "# open jsonl file\n",
    "import json\n",
    "datasets = [\n",
    "    \"../data/refusal/anthropic_balanced_apr_23.jsonl\",\n",
    "    \"../data/refusal/anthropic_raw_apr_23.jsonl\"\n",
    "]\n",
    "for dataset in datasets[:1]:\n",
    "    data_list = []\n",
    "    with open(dataset, 'r') as file:\n",
    "        for line in file:\n",
    "            data = json.loads(line)\n",
    "            if data[\"labels\"] == \"high-stakes\":\n",
    "                data[\"labels\"] = \"complied\"\n",
    "            elif data[\"labels\"] == \"low-stakes\":\n",
    "                data[\"labels\"] = \"refused\"\n",
    "            data_list.append(data)\n",
    "\n",
    "    # write the modified data back to the file\n",
    "    with open(dataset, 'w') as file:\n",
    "        for line in data_list:\n",
    "            file.write(json.dumps(line) + \"\\n\")"
   ]
  }
 ],
 "metadata": {
  "kernelspec": {
   "display_name": "lasr-tutorial",
   "language": "python",
   "name": "python3"
  },
  "language_info": {
   "codemirror_mode": {
    "name": "ipython",
    "version": 3
   },
   "file_extension": ".py",
   "mimetype": "text/x-python",
   "name": "python",
   "nbconvert_exporter": "python",
   "pygments_lexer": "ipython3",
   "version": "3.9.23"
  }
 },
 "nbformat": 4,
 "nbformat_minor": 5
}
