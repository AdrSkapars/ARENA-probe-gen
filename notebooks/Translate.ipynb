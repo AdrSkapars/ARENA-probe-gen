{
 "cells": [
  {
   "cell_type": "markdown",
   "id": "c5f4c68b",
   "metadata": {},
   "source": [
    "# This is for translating responses in other languages into english to check for errors. "
   ]
  },
  {
   "cell_type": "code",
   "execution_count": null,
   "id": "2fd8901c",
   "metadata": {},
   "outputs": [],
   "source": [
    "from openai import OpenAI\n",
    "\n",
    "import os\n",
    "\n",
    "client = OpenAI(api_key=\"\")\n",
    "\n",
    "def translate(text):\n",
    "    response = client.chat.completions.create(\n",
    "        model=\"gpt-3.5-turbo\",  # or \"gpt-4\" if available\n",
    "        messages=[\n",
    "            {\"role\": \"user\", \"content\": f\"Translate the following from Portuguese to English:\\n\\n{text}\"}\n",
    "        ],\n",
    "        temperature=0.3\n",
    "    )\n",
    "    return response.choices[0].message.content.strip()\n"
   ]
  },
  {
   "cell_type": "code",
   "execution_count": null,
   "id": "3ec8a06b",
   "metadata": {},
   "outputs": [],
   "source": [
    "import json\n",
    "import random\n",
    "import pandas as pd\n",
    "from probe_gen.paths import data\n",
    "\n",
    "# Load all data\n",
    "file_path = data.metaphors_brazil / \"qwen_3b_brazil_prompted_balanced_1k.jsonl\"\n",
    "with open(file_path, \"r\", encoding=\"utf-8\") as f:\n",
    "    lines = [json.loads(line) for line in f]\n",
    "\n",
    "# Sample 10 random rows\n",
    "sampled = random.sample(lines, 10)\n",
    "\n",
    "# Create a clean list of dictionaries for export\n",
    "rows = []\n",
    "for i, ex in enumerate(sampled):\n",
    "    row = {\n",
    "        \"Portuguese Input\": ex.get(\"input\", \"\"),\n",
    "        \"English Input\": translate(ex.get(\"input\", \"\")),\n",
    "        \"Model Output (PT)\": ex.get(\"model_outputs\", \"\"),\n",
    "        \"Model Output (EN)\": translate(ex.get(\"model_outputs\", \"\")),\n",
    "        \"Labels\": ex.get(\"labels\", \"\"),\n",
    "        \"Scale Label\": ex.get(\"scale_labels\", \"\"),\n",
    "        \"Explanation (PT)\": ex.get(\"scale_label_explanation\", \"\"),\n",
    "        \"Explanation (EN)\": translate(ex.get(\"scale_label_explanation\", \"\")),\n",
    "    }\n",
    "    rows.append(row)\n",
    "\n",
    "# Convert to DataFrame\n",
    "df = pd.DataFrame(rows)\n",
    "\n",
    "# Save to Excel or PDF\n",
    "csv_path = data.metaphors_brazil / \"sampled_translations_qwen-3b-brazil-prompted-balanced-1k.csv\"\n",
    "df.to_csv(csv_path, index=False)\n",
    "print(f\"Saved to {csv_path}\")\n"
   ]
  }
 ],
 "metadata": {
  "language_info": {
   "name": "python"
  }
 },
 "nbformat": 4,
 "nbformat_minor": 5
}
