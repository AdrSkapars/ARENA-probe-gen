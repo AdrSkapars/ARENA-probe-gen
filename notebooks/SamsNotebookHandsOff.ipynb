{
 "cells": [
  {
   "cell_type": "markdown",
   "id": "61dd2e52",
   "metadata": {},
   "source": [
    "# Confusion Matrices"
   ]
  },
  {
   "cell_type": "code",
   "execution_count": null,
   "id": "e330c629",
   "metadata": {},
   "outputs": [],
   "source": [
    "import numpy as np\n",
    "from sklearn.metrics.pairwise import cosine_similarity\n",
    "from sklearn.linear_model import LogisticRegression\n",
    "import probe_gen.probes as probes\n",
    "from sklearn.metrics import classification_report, confusion_matrix\n",
    "from probe_gen.config import ConfigDict\n",
    "\n",
    "activations_tensor, attention_mask, labels_tensor = probes.load_hf_activations_and_labels_at_layer('sycophancy_llama_3b_4k', 12, verbose=True)\n",
    "activations_tensor = probes.MeanAggregation()(activations_tensor, attention_mask)\n",
    "# Create train, val, and test datasets\n",
    "train_dataset, val_dataset, _ = probes.create_activation_datasets(activations_tensor, labels_tensor, splits=[3500, 500, 0], verbose=True)\n",
    "\n",
    "activations_tensor, attention_mask, labels_tensor = probes.load_hf_activations_and_labels_at_layer('sycophancy_arguments_llama_3b_4k', 12, verbose=True)\n",
    "activations_tensor = probes.MeanAggregation()(activations_tensor, attention_mask)\n",
    "# Create train, val, and test datasets\n",
    "_, _, test_dataset = probes.create_activation_datasets(activations_tensor, labels_tensor, splits=[0, 0, 1000], verbose=True)"
   ]
  },
  {
   "cell_type": "code",
   "execution_count": 42,
   "id": "57f6da39",
   "metadata": {},
   "outputs": [
    {
     "name": "stdout",
     "output_type": "stream",
     "text": [
      "Warning: SklearnProbe does not use a validation dataset\n",
      "Training probe...\n"
     ]
    },
    {
     "data": {
      "image/png": "[encoded data removed]",
      "text/plain": [
       "<Figure size 640x480 with 2 Axes>"
      ]
     },
     "metadata": {},
     "output_type": "display_data"
    }
   ],
   "source": [
    "import matplotlib.pyplot as plt\n",
    "\n",
    "probe = probes.SklearnLogisticProbe(ConfigDict(use_bias=True, C=0.01, normalize=True))\n",
    "probe.fit(train_dataset, val_dataset)\n",
    "eval_dict, y_pred, y_pred_proba = probe.eval(test_dataset)\n",
    "\n",
    "cm = confusion_matrix(test_dataset['y'], y_pred)\n",
    "\n",
    "fig, ax = plt.subplots()\n",
    "im = ax.imshow(cm, interpolation='nearest', cmap=\"Reds\")\n",
    "ax.figure.colorbar(im, ax=ax)\n",
    "\n",
    "# Set tick marks\n",
    "class_names = np.arange(cm.shape[0])\n",
    "ax.set(\n",
    "    xticks=np.arange(cm.shape[1]),\n",
    "    yticks=np.arange(cm.shape[0]),\n",
    "    xticklabels=class_names,\n",
    "    yticklabels=class_names,\n",
    "    ylabel=\"True label\",\n",
    "    xlabel=\"Predicted label\"\n",
    ")\n",
    "\n",
    "# Rotate x-axis labels\n",
    "plt.setp(ax.get_xticklabels(), rotation=45, ha=\"right\", rotation_mode=\"anchor\")\n",
    "\n",
    "# Add text labels\n",
    "fmt = \"d\"\n",
    "thresh = cm.max() / 2.\n",
    "for i in range(cm.shape[0]):\n",
    "    for j in range(cm.shape[1]):\n",
    "        ax.text(j, i, format(cm[i, j], fmt),\n",
    "                ha=\"center\", va=\"center\",\n",
    "                color=\"white\" if cm[i, j] > thresh else \"black\")\n",
    "\n",
    "fig.tight_layout()\n",
    "plt.show()"
   ]
  },
  {
   "cell_type": "code",
   "execution_count": null,
   "id": "f2cc95e1",
   "metadata": {},
   "outputs": [],
   "source": []
  },
  {
   "cell_type": "markdown",
   "id": "297bdade",
   "metadata": {},
   "source": [
    "# Significance of small roc_aucs   "
   ]
  },
  {
   "cell_type": "code",
   "execution_count": null,
   "id": "91b318a2",
   "metadata": {},
   "outputs": [
    {
     "name": "stdout",
     "output_type": "stream",
     "text": [
      "loaded labels\n",
      "loaded activations with shape torch.Size([4000, 332, 3072])\n",
      "calculated attention mask with shape torch.Size([4000, 332])\n",
      "Train: 3500 samples, 1750.0 positives\n",
      "Val:   500 samples, 250.0 positives\n",
      "Test:  0 samples, 0.0 positives\n",
      "Warning: SklearnProbe does not use a validation dataset\n",
      "Training probe...\n"
     ]
    }
   ],
   "source": [
    "import numpy as np\n",
    "from sklearn.metrics.pairwise import cosine_similarity\n",
    "from sklearn.linear_model import LogisticRegression\n",
    "import probe_gen.probes as probes\n",
    "from sklearn.metrics import classification_report\n",
    "from probe_gen.config import ConfigDict\n",
    "\n",
    "\n",
    "activations_tensor, attention_mask, labels_tensor = probes.load_hf_activations_and_labels_at_layer('sycophancy_llama_3b_4k', 12, verbose=True)\n",
    "activations_tensor = probes.MeanAggregation()(activations_tensor, attention_mask)\n",
    "# Create train, val, and test datasets\n",
    "train_dataset, val_dataset, _ = probes.create_activation_datasets(activations_tensor, labels_tensor, splits=[3500, 500, 0], verbose=True)\n",
    "\n",
    "probe = probes.SklearnLogisticProbe(ConfigDict(use_bias=True, C=0.01, normalize=True))\n",
    "probe.fit(train_dataset, val_dataset)"
   ]
  },
  {
   "cell_type": "code",
   "execution_count": 4,
   "id": "37b668f6",
   "metadata": {},
   "outputs": [
    {
     "name": "stdout",
     "output_type": "stream",
     "text": [
      "loaded labels\n",
      "loaded activations with shape torch.Size([4000, 374, 3072])\n",
      "calculated attention mask with shape torch.Size([4000, 374])\n",
      "Train: 0 samples, 0.0 positives\n",
      "Val:   0 samples, 0.0 positives\n",
      "Test:  1000 samples, 500.0 positives\n"
     ]
    }
   ],
   "source": [
    "activations_tensor, attention_mask, labels_tensor = probes.load_hf_activations_and_labels_at_layer('sycophancy_arguments_llama_3b_4k', 12, verbose=True)\n",
    "activations_tensor = probes.MeanAggregation()(activations_tensor, attention_mask)\n",
    "# Create train, val, and test datasets\n",
    "_, _, test_dataset = probes.create_activation_datasets(activations_tensor, labels_tensor, splits=[0, 0, 1000], verbose=True)"
   ]
  },
  {
   "cell_type": "code",
   "execution_count": null,
   "id": "f6af885e",
   "metadata": {},
   "outputs": [
    {
     "name": "stdout",
     "output_type": "stream",
     "text": [
      "Warning: SklearnProbe does not use a validation dataset\n",
      "Training probe...\n"
     ]
    }
   ],
   "source": [
    "\n",
    "def random_unit_vector(n: int) -> np.ndarray:\n",
    "    v = np.random.normal(size=(1, n))   # Gaussian sample\n",
    "    v /= np.linalg.norm(v)              # Normalize to unit length\n",
    "    return v\n",
    "\n",
    "rand_probe = probes.SklearnLogisticProbe(ConfigDict(use_bias=True, C=0.01, normalize=True))\n",
    "rand_probe.fit(train_dataset, val_dataset)\n",
    "\n",
    "roc_aucs = []\n",
    "\n",
    "for i in range(1000):\n",
    "    # Set random probe direction\n",
    "    rand_probe.classifier.coef_ = random_unit_vector(probe.classifier.coef_.shape[1])\n",
    "\n",
    "    # Check if cosine similarity is near orthogonal\n",
    "    weights_1 = probe.classifier.coef_.flatten()\n",
    "    weights_2 = rand_probe.classifier.coef_.flatten()\n",
    "    if abs(cosine_similarity([weights_1], [weights_2])[0, 0]) < 0.018:\n",
    "        eval_roc_auc = rand_probe.eval(test_dataset)[0]['roc_auc']\n",
    "        roc_aucs.append(eval_roc_auc)"
   ]
  },
  {
   "cell_type": "code",
   "execution_count": 36,
   "id": "a9ee084f",
   "metadata": {},
   "outputs": [
    {
     "data": {
      "image/png": "[encoded data removed]",
      "text/plain": [
       "<Figure size 640x480 with 1 Axes>"
      ]
     },
     "metadata": {},
     "output_type": "display_data"
    }
   ],
   "source": [
    "import matplotlib.pyplot as plt\n",
    "\n",
    "plt.hist(roc_aucs, bins=25, edgecolor='black')  # adjust bins as needed\n",
    "plt.xlabel(\"Value\")\n",
    "plt.ylabel(\"Frequency\")\n",
    "plt.title(\"Histogram of roc_aucs for near orthogonal vectors\")\n",
    "plt.show()"
   ]
  }
 ],
 "metadata": {
  "kernelspec": {
   "display_name": "Python (uv)",
   "language": "python",
   "name": "uv-env"
  },
  "language_info": {
   "codemirror_mode": {
    "name": "ipython",
    "version": 3
   },
   "file_extension": ".py",
   "mimetype": "text/x-python",
   "name": "python",
   "nbconvert_exporter": "python",
   "pygments_lexer": "ipython3",
   "version": "3.11.13"
  }
 },
 "nbformat": 4,
 "nbformat_minor": 5
}
