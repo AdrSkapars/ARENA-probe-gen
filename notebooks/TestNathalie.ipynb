{
 "cells": [
  {
   "cell_type": "code",
   "execution_count": 5,
   "id": "be50fcbc",
   "metadata": {},
   "outputs": [
    {
     "data": {
      "text/html": [
       "<div>\n",
       "<style scoped>\n",
       "    .dataframe tbody tr th:only-of-type {\n",
       "        vertical-align: middle;\n",
       "    }\n",
       "\n",
       "    .dataframe tbody tr th {\n",
       "        vertical-align: top;\n",
       "    }\n",
       "\n",
       "    .dataframe thead th {\n",
       "        text-align: right;\n",
       "    }\n",
       "</style>\n",
       "<table border=\"1\" class=\"dataframe\">\n",
       "  <thead>\n",
       "    <tr style=\"text-align: right;\">\n",
       "      <th></th>\n",
       "      <th>input_formatted</th>\n",
       "      <th>input</th>\n",
       "      <th>model_outputs</th>\n",
       "      <th>activations</th>\n",
       "    </tr>\n",
       "  </thead>\n",
       "  <tbody>\n",
       "    <tr>\n",
       "      <th>0</th>\n",
       "      <td>&lt;|begin_of_text|&gt;&lt;|start_header_id|&gt;system&lt;|en...</td>\n",
       "      <td>How can I get free internet from my neighbor's...</td>\n",
       "      <td>system\\n\\nCutting Knowledge Date: December 202...</td>\n",
       "      <td>{18: [[tensor(-0.2964, dtype=torch.float16), t...</td>\n",
       "    </tr>\n",
       "    <tr>\n",
       "      <th>1</th>\n",
       "      <td>&lt;|begin_of_text|&gt;&lt;|start_header_id|&gt;system&lt;|en...</td>\n",
       "      <td>Can you tell me about Lasik eye surgery? I am ...</td>\n",
       "      <td>system\\n\\nCutting Knowledge Date: December 202...</td>\n",
       "      <td>{18: [[tensor(-0.2959, dtype=torch.float16), t...</td>\n",
       "    </tr>\n",
       "  </tbody>\n",
       "</table>\n",
       "</div>"
      ],
      "text/plain": [
       "                                     input_formatted  \\\n",
       "0  <|begin_of_text|><|start_header_id|>system<|en...   \n",
       "1  <|begin_of_text|><|start_header_id|>system<|en...   \n",
       "\n",
       "                                               input  \\\n",
       "0  How can I get free internet from my neighbor's...   \n",
       "1  Can you tell me about Lasik eye surgery? I am ...   \n",
       "\n",
       "                                       model_outputs  \\\n",
       "0  system\\n\\nCutting Knowledge Date: December 202...   \n",
       "1  system\\n\\nCutting Knowledge Date: December 202...   \n",
       "\n",
       "                                         activations  \n",
       "0  {18: [[tensor(-0.2964, dtype=torch.float16), t...  \n",
       "1  {18: [[tensor(-0.2959, dtype=torch.float16), t...  "
      ]
     },
     "execution_count": 5,
     "metadata": {},
     "output_type": "execute_result"
    }
   ],
   "source": [
    "import pandas as pd \n",
    "\n",
    "df = pd.read_pickle(\"/workspace/LASR-probe-gen/datasets/test/meta-llama_Llama-3.2-3B-Instruct/__off_policy_prompt/outputs__off_policy_prompt_activations.pkl\")\n",
    "\n",
    "df"
   ]
  },
  {
   "cell_type": "code",
   "execution_count": 2,
   "id": "4ef70d7e",
   "metadata": {},
   "outputs": [
    {
     "data": {
      "application/vnd.jupyter.widget-view+json": {
       "model_id": "a13f95f3460f401b9de259a671a6d2be",
       "version_major": 2,
       "version_minor": 0
      },
      "text/plain": [
       "llama_3b_ultrachat_brazilian.jsonl:   0%|          | 0.00/14.4M [00:00<?, ?B/s]"
      ]
     },
     "metadata": {},
     "output_type": "display_data"
    },
    {
     "name": "stdout",
     "output_type": "stream",
     "text": [
      "Downloaded to: /workspace/LASR-probe-gen/data/ultrachat_brazil/llama_3b_ultrachat_brazilian.jsonl\n"
     ]
    },
    {
     "data": {
      "application/vnd.jupyter.widget-view+json": {
       "model_id": "5eec1943ec5040b08b7063f9727c9edd",
       "version_major": 2,
       "version_minor": 0
      },
      "text/plain": [
       "qwen_3b_outputs.jsonl:   0%|          | 0.00/13.7M [00:00<?, ?B/s]"
      ]
     },
     "metadata": {},
     "output_type": "display_data"
    },
    {
     "name": "stdout",
     "output_type": "stream",
     "text": [
      "Downloaded to: /workspace/LASR-probe-gen/data/ultrachat_brazil/qwen_3b_outputs.jsonl\n"
     ]
    }
   ],
   "source": [
    "# Run to download jsonl files from hugging face if want to\n",
    "import os\n",
    "from huggingface_hub import hf_hub_download\n",
    "from probe_gen.paths import data\n",
    "\n",
    "\n",
    "repo_id = \"lasrprobegen/ultrachat-brazil\"\n",
    "files_to_download = [\n",
    "    \"llama_3b_ultrachat_brazilian.jsonl\",\n",
    "    \"qwen_3b_outputs.jsonl\", \n",
    "]\n",
    "local_dir = str(data.ultrachat_brazil)\n",
    "os.makedirs(local_dir, exist_ok=True)\n",
    "for filename in files_to_download:\n",
    "    file_path = hf_hub_download(\n",
    "        repo_id=repo_id,\n",
    "        repo_type=\"dataset\",\n",
    "        filename=filename,\n",
    "        local_dir=local_dir,\n",
    "        token=os.environ.get(\"HF_TOKEN\")\n",
    "    )\n",
    "    print(f\"Downloaded to: {file_path}\")"
   ]
  }
 ],
 "metadata": {
  "kernelspec": {
   "display_name": ".venv",
   "language": "python",
   "name": "python3"
  },
  "language_info": {
   "codemirror_mode": {
    "name": "ipython",
    "version": 3
   },
   "file_extension": ".py",
   "mimetype": "text/x-python",
   "name": "python",
   "nbconvert_exporter": "python",
   "pygments_lexer": "ipython3",
   "version": "3.11.13"
  }
 },
 "nbformat": 4,
 "nbformat_minor": 5
}
