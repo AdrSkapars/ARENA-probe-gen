{
 "cells": [
  {
   "cell_type": "code",
   "execution_count": 5,
   "id": "be50fcbc",
   "metadata": {},
   "outputs": [
    {
     "data": {
      "text/html": [
       "<div>\n",
       "<style scoped>\n",
       "    .dataframe tbody tr th:only-of-type {\n",
       "        vertical-align: middle;\n",
       "    }\n",
       "\n",
       "    .dataframe tbody tr th {\n",
       "        vertical-align: top;\n",
       "    }\n",
       "\n",
       "    .dataframe thead th {\n",
       "        text-align: right;\n",
       "    }\n",
       "</style>\n",
       "<table border=\"1\" class=\"dataframe\">\n",
       "  <thead>\n",
       "    <tr style=\"text-align: right;\">\n",
       "      <th></th>\n",
       "      <th>input_formatted</th>\n",
       "      <th>input</th>\n",
       "      <th>model_outputs</th>\n",
       "      <th>activations</th>\n",
       "    </tr>\n",
       "  </thead>\n",
       "  <tbody>\n",
       "    <tr>\n",
       "      <th>0</th>\n",
       "      <td>&lt;|begin_of_text|&gt;&lt;|start_header_id|&gt;system&lt;|en...</td>\n",
       "      <td>How can I get free internet from my neighbor's...</td>\n",
       "      <td>system\\n\\nCutting Knowledge Date: December 202...</td>\n",
       "      <td>{18: [[tensor(-0.2964, dtype=torch.float16), t...</td>\n",
       "    </tr>\n",
       "    <tr>\n",
       "      <th>1</th>\n",
       "      <td>&lt;|begin_of_text|&gt;&lt;|start_header_id|&gt;system&lt;|en...</td>\n",
       "      <td>Can you tell me about Lasik eye surgery? I am ...</td>\n",
       "      <td>system\\n\\nCutting Knowledge Date: December 202...</td>\n",
       "      <td>{18: [[tensor(-0.2959, dtype=torch.float16), t...</td>\n",
       "    </tr>\n",
       "  </tbody>\n",
       "</table>\n",
       "</div>"
      ],
      "text/plain": [
       "                                     input_formatted  \\\n",
       "0  <|begin_of_text|><|start_header_id|>system<|en...   \n",
       "1  <|begin_of_text|><|start_header_id|>system<|en...   \n",
       "\n",
       "                                               input  \\\n",
       "0  How can I get free internet from my neighbor's...   \n",
       "1  Can you tell me about Lasik eye surgery? I am ...   \n",
       "\n",
       "                                       model_outputs  \\\n",
       "0  system\\n\\nCutting Knowledge Date: December 202...   \n",
       "1  system\\n\\nCutting Knowledge Date: December 202...   \n",
       "\n",
       "                                         activations  \n",
       "0  {18: [[tensor(-0.2964, dtype=torch.float16), t...  \n",
       "1  {18: [[tensor(-0.2959, dtype=torch.float16), t...  "
      ]
     },
     "execution_count": 5,
     "metadata": {},
     "output_type": "execute_result"
    }
   ],
   "source": [
    "import pandas as pd \n",
    "\n",
    "df = pd.read_pickle(\"/workspace/LASR-probe-gen/datasets/test/meta-llama_Llama-3.2-3B-Instruct/__off_policy_prompt/outputs__off_policy_prompt_activations.pkl\")\n",
    "\n",
    "df"
   ]
  },
  {
   "cell_type": "code",
   "execution_count": 2,
   "id": "4ef70d7e",
   "metadata": {},
   "outputs": [
    {
     "data": {
      "application/vnd.jupyter.widget-view+json": {
       "model_id": "a13f95f3460f401b9de259a671a6d2be",
       "version_major": 2,
       "version_minor": 0
      },
      "text/plain": [
       "llama_3b_ultrachat_brazilian.jsonl:   0%|          | 0.00/14.4M [00:00<?, ?B/s]"
      ]
     },
     "metadata": {},
     "output_type": "display_data"
    },
    {
     "name": "stdout",
     "output_type": "stream",
     "text": [
      "Downloaded to: /workspace/LASR-probe-gen/data/ultrachat_brazil/llama_3b_ultrachat_brazilian.jsonl\n"
     ]
    },
    {
     "data": {
      "application/vnd.jupyter.widget-view+json": {
       "model_id": "5eec1943ec5040b08b7063f9727c9edd",
       "version_major": 2,
       "version_minor": 0
      },
      "text/plain": [
       "qwen_3b_outputs.jsonl:   0%|          | 0.00/13.7M [00:00<?, ?B/s]"
      ]
     },
     "metadata": {},
     "output_type": "display_data"
    },
    {
     "name": "stdout",
     "output_type": "stream",
     "text": [
      "Downloaded to: /workspace/LASR-probe-gen/data/ultrachat_brazil/qwen_3b_outputs.jsonl\n"
     ]
    }
   ],
   "source": [
    "import json\n",
    "from probe_gen.paths import data\n",
    "\n",
    "file_path = data.metaphors_brazil / \"llama_3b_brazil_prompted_balanced_1k.jsonl\"\n",
    "\n",
    "with open(file_path, \"r\", encoding=\"utf-8\") as f:\n",
    "    for i, line in enumerate(f):\n",
    "        if i >= 5:\n",
    "            break\n",
    "        data = json.loads(line)\n",
    "        print(f\"\\nRow {i}:\")\n",
    "        for key, value in data.items():\n",
    "            preview = value\n",
    "            if isinstance(value, str) and len(value) > 200:\n",
    "                preview = value[:200] + \"...\"\n",
    "            print(f\"  {key}: {preview}\")\n"
   ]
  },
  {
   "cell_type": "code",
   "execution_count": null,
   "id": "ed615561",
   "metadata": {},
   "outputs": [],
   "source": [
    "from openai import OpenAI\n",
    "\n",
    "import os\n",
    "\n",
    "client = OpenAI(api_key=\"\")\n",
    "\n",
    "def translate(text):\n",
    "    response = client.chat.completions.create(\n",
    "        model=\"gpt-3.5-turbo\",  # or \"gpt-4\" if available\n",
    "        messages=[\n",
    "            {\"role\": \"user\", \"content\": f\"Translate the following from Portuguese to English:\\n\\n{text}\"}\n",
    "        ],\n",
    "        temperature=0.3\n",
    "    )\n",
    "    return response.choices[0].message.content.strip()\n"
   ]
  },
  {
   "cell_type": "code",
   "execution_count": 5,
   "id": "34981aeb",
   "metadata": {},
   "outputs": [
    {
     "name": "stdout",
     "output_type": "stream",
     "text": [
      "Saved to /workspace/LASR-probe-gen/data/metaphors_brazil/sampled_translations_qwen-3b-brazil-prompted-balanced-1k.csv\n"
     ]
    }
   ],
   "source": [
    "import json\n",
    "import random\n",
    "import pandas as pd\n",
    "from probe_gen.paths import data\n",
    "\n",
    "# Load all data\n",
    "file_path = data.metaphors_brazil / \"qwen_3b_brazil_prompted_balanced_1k.jsonl\"\n",
    "with open(file_path, \"r\", encoding=\"utf-8\") as f:\n",
    "    lines = [json.loads(line) for line in f]\n",
    "\n",
    "# Sample 10 random rows\n",
    "sampled = random.sample(lines, 10)\n",
    "\n",
    "# Create a clean list of dictionaries for export\n",
    "rows = []\n",
    "for i, ex in enumerate(sampled):\n",
    "    row = {\n",
    "        \"Portuguese Input\": ex.get(\"input\", \"\"),\n",
    "        \"English Input\": translate(ex.get(\"input\", \"\")),\n",
    "        \"Model Output (PT)\": ex.get(\"model_outputs\", \"\"),\n",
    "        \"Model Output (EN)\": translate(ex.get(\"model_outputs\", \"\")),\n",
    "        \"Labels\": ex.get(\"labels\", \"\"),\n",
    "        \"Scale Label\": ex.get(\"scale_labels\", \"\"),\n",
    "        \"Explanation (PT)\": ex.get(\"scale_label_explanation\", \"\"),\n",
    "        \"Explanation (EN)\": translate(ex.get(\"scale_label_explanation\", \"\")),\n",
    "    }\n",
    "    rows.append(row)\n",
    "\n",
    "# Convert to DataFrame\n",
    "df = pd.DataFrame(rows)\n",
    "\n",
    "# Save to Excel or PDF\n",
    "csv_path = data.metaphors_brazil / \"sampled_translations_qwen-3b-brazil-prompted-balanced-1k.csv\"\n",
    "df.to_csv(csv_path, index=False)\n",
    "print(f\"Saved to {csv_path}\")\n"
   ]
  }
 ],
 "metadata": {
  "kernelspec": {
   "display_name": ".venv",
   "language": "python",
   "name": "python3"
  },
  "language_info": {
   "codemirror_mode": {
    "name": "ipython",
    "version": 3
   },
   "file_extension": ".py",
   "mimetype": "text/x-python",
   "name": "python",
   "nbconvert_exporter": "python",
   "pygments_lexer": "ipython3",
   "version": "3.11.13"
  }
 },
 "nbformat": 4,
 "nbformat_minor": 5
}
