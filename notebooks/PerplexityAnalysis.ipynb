{
 "cells": [
  {
   "cell_type": "markdown",
   "id": "1f9d44a5",
   "metadata": {},
   "source": [
    "# Generate and save perplexities"
   ]
  },
  {
   "cell_type": "code",
   "execution_count": 1,
   "id": "9ca8ac2b",
   "metadata": {},
   "outputs": [
    {
     "data": {
      "application/vnd.jupyter.widget-view+json": {
       "model_id": "6cf7bd8deb2f4615a2aff048f6e55171",
       "version_major": 2,
       "version_minor": 0
      },
      "text/plain": [
       "Loading checkpoint shards:   0%|          | 0/2 [00:00<?, ?it/s]"
      ]
     },
     "metadata": {},
     "output_type": "display_data"
    }
   ],
   "source": [
    "from transformers import AutoTokenizer, AutoModelForCausalLM\n",
    "import torch\n",
    "import math\n",
    "\n",
    "# Load model and tokenizer\n",
    "model_name = \"meta-llama/Llama-3.2-3B-Instruct\"\n",
    "tokenizer = AutoTokenizer.from_pretrained(model_name)\n",
    "model = AutoModelForCausalLM.from_pretrained(model_name, device_map=\"auto\")\n",
    "# If no pad token is set, reuse the EOS token\n",
    "if tokenizer.pad_token is None:\n",
    "    tokenizer.pad_token = tokenizer.eos_token\n",
    "    tokenizer.pad_token_id = tokenizer.eos_token_id"
   ]
  },
  {
   "cell_type": "code",
   "execution_count": 2,
   "id": "e2cd3d5e",
   "metadata": {},
   "outputs": [],
   "source": [
    "import sys\n",
    "import os\n",
    "sys.path.append(os.path.abspath(\"..\"))\n",
    "from get_activations.utils import load_jsonl_data, format_prompts_from_pairs\n",
    "\n",
    "human_list_on, assistant_list_on, full_list_on = load_jsonl_data(\"../data/refusal/on_policy_balanced_5k.jsonl\")\n",
    "human_list_off, assistant_list_off, full_list_off = load_jsonl_data(\"../data/refusal/off_policy_balanced_5k.jsonl\")"
   ]
  },
  {
   "cell_type": "code",
   "execution_count": 3,
   "id": "0177333d",
   "metadata": {},
   "outputs": [
    {
     "name": "stdout",
     "output_type": "stream",
     "text": [
      "processing response 0\n",
      "processing response 500\n",
      "processing response 1000\n",
      "processing response 1500\n",
      "processing response 2000\n",
      "processing response 2500\n",
      "processing response 3000\n",
      "processing response 3500\n",
      "processing response 4000\n",
      "processing response 4500\n",
      "processing response 0\n",
      "processing response 500\n",
      "processing response 1000\n",
      "processing response 1500\n",
      "processing response 2000\n",
      "processing response 2500\n",
      "processing response 3000\n",
      "processing response 3500\n",
      "processing response 4000\n",
      "processing response 4500\n"
     ]
    }
   ],
   "source": [
    "from probe_gen.analysis import calculate_response_perplexities_sequentially\n",
    "\n",
    "perplexities_on = calculate_response_perplexities_sequentially(model, tokenizer, human_list_on, assistant_list_on, verbose=True)\n",
    "perplexities_off = calculate_response_perplexities_sequentially(model, tokenizer, human_list_off, assistant_list_off, verbose=True)"
   ]
  },
  {
   "cell_type": "code",
   "execution_count": null,
   "id": "7cdb3b22",
   "metadata": {},
   "outputs": [],
   "source": [
    "from probe_gen.analysis import save_perplexities\n",
    "\n",
    "save_perplexities(perplexities_on, 'llama_3b', 'refusal_5k_on')\n",
    "save_perplexities(perplexities_off, 'llama_3b', 'refusal_5k_off')"
   ]
  },
  {
   "cell_type": "markdown",
   "id": "58254be3",
   "metadata": {},
   "source": [
    "# Load and visualize perplexities"
   ]
  },
  {
   "cell_type": "code",
   "execution_count": 1,
   "id": "71281600",
   "metadata": {},
   "outputs": [
    {
     "name": "stderr",
     "output_type": "stream",
     "text": [
      "\u001b[34m\u001b[1mwandb\u001b[0m: \u001b[32m\u001b[41mERROR\u001b[0m Failed to detect the name of this notebook. You can set it manually with the WANDB_NOTEBOOK_NAME environment variable to enable code saving.\n",
      "\u001b[34m\u001b[1mwandb\u001b[0m: Currently logged in as: \u001b[33msamdower\u001b[0m to \u001b[32mhttps://api.wandb.ai\u001b[0m. Use \u001b[1m`wandb login --relogin`\u001b[0m to force relogin\n",
      "\u001b[34m\u001b[1mwandb\u001b[0m:   1 of 1 files downloaded.  \n",
      "\u001b[34m\u001b[1mwandb\u001b[0m:   1 of 1 files downloaded.  \n"
     ]
    }
   ],
   "source": [
    "from probe_gen.analysis import load_perplexities\n",
    "\n",
    "perplexities_on_loaded = load_perplexities('llama_3b', 'refusal_5k_on')\n",
    "perplexities_off_loaded = load_perplexities('llama_3b', 'refusal_5k_off')"
   ]
  },
  {
   "cell_type": "code",
   "execution_count": 2,
   "id": "e8a31001",
   "metadata": {},
   "outputs": [],
   "source": [
    "import numpy as np\n",
    "\n",
    "def filter_out_nans(data):\n",
    "    arr = np.array(data)\n",
    "    arr = arr[np.isfinite(arr)]\n",
    "    return arr\n",
    "\n",
    "perplexities_on_loaded = filter_out_nans(perplexities_on_loaded)\n",
    "perplexities_off_loaded = filter_out_nans(perplexities_off_loaded)"
   ]
  },
  {
   "cell_type": "code",
   "execution_count": 6,
   "id": "3d391ad1",
   "metadata": {},
   "outputs": [
    {
     "data": {
      "image/png": "[encoded data removed]",
      "text/plain": [
       "<Figure size 1000x400 with 1 Axes>"
      ]
     },
     "metadata": {},
     "output_type": "display_data"
    }
   ],
   "source": [
    "from probe_gen.analysis import plot_perplexities\n",
    "\n",
    "plot_perplexities([perplexities_on_loaded, perplexities_off_loaded], ['On (temp=0)', 'Off'], remove_outliers=True, num_bins=60)"
   ]
  }
 ],
 "metadata": {
  "kernelspec": {
   "display_name": "Python (uv)",
   "language": "python",
   "name": "uv-env"
  },
  "language_info": {
   "codemirror_mode": {
    "name": "ipython",
    "version": 3
   },
   "file_extension": ".py",
   "mimetype": "text/x-python",
   "name": "python",
   "nbconvert_exporter": "python",
   "pygments_lexer": "ipython3",
   "version": "3.11.13"
  }
 },
 "nbformat": 4,
 "nbformat_minor": 5
}
