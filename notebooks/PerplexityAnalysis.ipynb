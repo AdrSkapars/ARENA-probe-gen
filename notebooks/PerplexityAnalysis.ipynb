{
 "cells": [
  {
   "cell_type": "code",
   "execution_count": 1,
   "id": "577ea4ad",
   "metadata": {},
   "outputs": [],
   "source": [
    "%%capture\n",
    "# Run to set environment variables if want to\n",
    "# %env HF_TOKEN="
   ]
  },
  {
   "cell_type": "code",
   "execution_count": 1,
   "id": "8a99d188",
   "metadata": {},
   "outputs": [],
   "source": [
    "# global imports\n",
    "from probe_gen.paths import data"
   ]
  },
  {
   "cell_type": "markdown",
   "id": "1f9d44a5",
   "metadata": {},
   "source": [
    "# Generate and save perplexities"
   ]
  },
  {
   "cell_type": "code",
   "execution_count": 2,
   "id": "9ca8ac2b",
   "metadata": {},
   "outputs": [
    {
     "data": {
      "application/vnd.jupyter.widget-view+json": {
       "model_id": "92a19f66ed5c4b86aec4f99390740ceb",
       "version_major": 2,
       "version_minor": 0
      },
      "text/plain": [
       "Loading checkpoint shards:   0%|          | 0/2 [00:00<?, ?it/s]"
      ]
     },
     "metadata": {},
     "output_type": "display_data"
    }
   ],
   "source": [
    "from transformers import AutoTokenizer, AutoModelForCausalLM\n",
    "from probe_gen.config import MODELS\n",
    "\n",
    "# Load model and tokenizer\n",
    "model_name = \"llama_3b\"\n",
    "tokenizer = AutoTokenizer.from_pretrained(MODELS[model_name])\n",
    "model = AutoModelForCausalLM.from_pretrained(MODELS[model_name], device_map=\"auto\")\n",
    "# If no pad token is set, reuse the EOS token\n",
    "if tokenizer.pad_token is None:\n",
    "    tokenizer.pad_token = tokenizer.eos_token\n",
    "    tokenizer.pad_token_id = tokenizer.eos_token_id"
   ]
  },
  {
   "cell_type": "code",
   "execution_count": 12,
   "id": "0177333d",
   "metadata": {},
   "outputs": [
    {
     "name": "stderr",
     "output_type": "stream",
     "text": [
      "100%|██████████| 313/313 [02:08<00:00,  2.44it/s]\n"
     ]
    },
    {
     "data": {
      "text/html": [
       "Tracking run with wandb version 0.21.1"
      ],
      "text/plain": [
       "<IPython.core.display.HTML object>"
      ]
     },
     "metadata": {},
     "output_type": "display_data"
    },
    {
     "data": {
      "text/html": [
       "Run data is saved locally in <code>/workspace/LASR-probe-gen/notebooks/wandb/run-20250821_145612-80k6f7qf</code>"
      ],
      "text/plain": [
       "<IPython.core.display.HTML object>"
      ]
     },
     "metadata": {},
     "output_type": "display_data"
    },
    {
     "data": {
      "text/html": [
       "Syncing run <strong><a href='https://wandb.ai/LasrProbeGen/LASR_probe_gen/runs/80k6f7qf' target=\"_blank\">playful-frog-523</a></strong> to <a href='https://wandb.ai/LasrProbeGen/LASR_probe_gen' target=\"_blank\">Weights & Biases</a> (<a href='https://wandb.me/developer-guide' target=\"_blank\">docs</a>)<br>"
      ],
      "text/plain": [
       "<IPython.core.display.HTML object>"
      ]
     },
     "metadata": {},
     "output_type": "display_data"
    },
    {
     "data": {
      "text/html": [
       " View project at <a href='https://wandb.ai/LasrProbeGen/LASR_probe_gen' target=\"_blank\">https://wandb.ai/LasrProbeGen/LASR_probe_gen</a>"
      ],
      "text/plain": [
       "<IPython.core.display.HTML object>"
      ]
     },
     "metadata": {},
     "output_type": "display_data"
    },
    {
     "data": {
      "text/html": [
       " View run at <a href='https://wandb.ai/LasrProbeGen/LASR_probe_gen/runs/80k6f7qf' target=\"_blank\">https://wandb.ai/LasrProbeGen/LASR_probe_gen/runs/80k6f7qf</a>"
      ],
      "text/plain": [
       "<IPython.core.display.HTML object>"
      ]
     },
     "metadata": {},
     "output_type": "display_data"
    },
    {
     "data": {
      "text/html": [],
      "text/plain": [
       "<IPython.core.display.HTML object>"
      ]
     },
     "metadata": {},
     "output_type": "display_data"
    },
    {
     "data": {
      "text/html": [
       " View run <strong style=\"color:#cdcd00\">playful-frog-523</strong> at: <a href='https://wandb.ai/LasrProbeGen/LASR_probe_gen/runs/80k6f7qf' target=\"_blank\">https://wandb.ai/LasrProbeGen/LASR_probe_gen/runs/80k6f7qf</a><br> View project at: <a href='https://wandb.ai/LasrProbeGen/LASR_probe_gen' target=\"_blank\">https://wandb.ai/LasrProbeGen/LASR_probe_gen</a><br>Synced 5 W&B file(s), 0 media file(s), 2 artifact file(s) and 0 other file(s)"
      ],
      "text/plain": [
       "<IPython.core.display.HTML object>"
      ]
     },
     "metadata": {},
     "output_type": "display_data"
    },
    {
     "data": {
      "text/html": [
       "Find logs at: <code>./wandb/run-20250821_145612-80k6f7qf/logs</code>"
      ],
      "text/plain": [
       "<IPython.core.display.HTML object>"
      ]
     },
     "metadata": {},
     "output_type": "display_data"
    },
    {
     "name": "stderr",
     "output_type": "stream",
     "text": [
      "100%|██████████| 313/313 [02:10<00:00,  2.40it/s]\n"
     ]
    },
    {
     "data": {
      "text/html": [
       "Tracking run with wandb version 0.21.1"
      ],
      "text/plain": [
       "<IPython.core.display.HTML object>"
      ]
     },
     "metadata": {},
     "output_type": "display_data"
    },
    {
     "data": {
      "text/html": [
       "Run data is saved locally in <code>/workspace/LASR-probe-gen/notebooks/wandb/run-20250821_145826-jx1maee5</code>"
      ],
      "text/plain": [
       "<IPython.core.display.HTML object>"
      ]
     },
     "metadata": {},
     "output_type": "display_data"
    },
    {
     "data": {
      "text/html": [
       "Syncing run <strong><a href='https://wandb.ai/LasrProbeGen/LASR_probe_gen/runs/jx1maee5' target=\"_blank\">lemon-universe-524</a></strong> to <a href='https://wandb.ai/LasrProbeGen/LASR_probe_gen' target=\"_blank\">Weights & Biases</a> (<a href='https://wandb.me/developer-guide' target=\"_blank\">docs</a>)<br>"
      ],
      "text/plain": [
       "<IPython.core.display.HTML object>"
      ]
     },
     "metadata": {},
     "output_type": "display_data"
    },
    {
     "data": {
      "text/html": [
       " View project at <a href='https://wandb.ai/LasrProbeGen/LASR_probe_gen' target=\"_blank\">https://wandb.ai/LasrProbeGen/LASR_probe_gen</a>"
      ],
      "text/plain": [
       "<IPython.core.display.HTML object>"
      ]
     },
     "metadata": {},
     "output_type": "display_data"
    },
    {
     "data": {
      "text/html": [
       " View run at <a href='https://wandb.ai/LasrProbeGen/LASR_probe_gen/runs/jx1maee5' target=\"_blank\">https://wandb.ai/LasrProbeGen/LASR_probe_gen/runs/jx1maee5</a>"
      ],
      "text/plain": [
       "<IPython.core.display.HTML object>"
      ]
     },
     "metadata": {},
     "output_type": "display_data"
    },
    {
     "data": {
      "text/html": [],
      "text/plain": [
       "<IPython.core.display.HTML object>"
      ]
     },
     "metadata": {},
     "output_type": "display_data"
    },
    {
     "data": {
      "text/html": [
       " View run <strong style=\"color:#cdcd00\">lemon-universe-524</strong> at: <a href='https://wandb.ai/LasrProbeGen/LASR_probe_gen/runs/jx1maee5' target=\"_blank\">https://wandb.ai/LasrProbeGen/LASR_probe_gen/runs/jx1maee5</a><br> View project at: <a href='https://wandb.ai/LasrProbeGen/LASR_probe_gen' target=\"_blank\">https://wandb.ai/LasrProbeGen/LASR_probe_gen</a><br>Synced 5 W&B file(s), 0 media file(s), 2 artifact file(s) and 0 other file(s)"
      ],
      "text/plain": [
       "<IPython.core.display.HTML object>"
      ]
     },
     "metadata": {},
     "output_type": "display_data"
    },
    {
     "data": {
      "text/html": [
       "Find logs at: <code>./wandb/run-20250821_145826-jx1maee5/logs</code>"
      ],
      "text/plain": [
       "<IPython.core.display.HTML object>"
      ]
     },
     "metadata": {},
     "output_type": "display_data"
    },
    {
     "name": "stderr",
     "output_type": "stream",
     "text": [
      "100%|██████████| 313/313 [02:10<00:00,  2.40it/s]\n"
     ]
    },
    {
     "data": {
      "text/html": [
       "Tracking run with wandb version 0.21.1"
      ],
      "text/plain": [
       "<IPython.core.display.HTML object>"
      ]
     },
     "metadata": {},
     "output_type": "display_data"
    },
    {
     "data": {
      "text/html": [
       "Run data is saved locally in <code>/workspace/LASR-probe-gen/notebooks/wandb/run-20250821_150039-h1kbsdcu</code>"
      ],
      "text/plain": [
       "<IPython.core.display.HTML object>"
      ]
     },
     "metadata": {},
     "output_type": "display_data"
    },
    {
     "data": {
      "text/html": [
       "Syncing run <strong><a href='https://wandb.ai/LasrProbeGen/LASR_probe_gen/runs/h1kbsdcu' target=\"_blank\">serene-feather-534</a></strong> to <a href='https://wandb.ai/LasrProbeGen/LASR_probe_gen' target=\"_blank\">Weights & Biases</a> (<a href='https://wandb.me/developer-guide' target=\"_blank\">docs</a>)<br>"
      ],
      "text/plain": [
       "<IPython.core.display.HTML object>"
      ]
     },
     "metadata": {},
     "output_type": "display_data"
    },
    {
     "data": {
      "text/html": [
       " View project at <a href='https://wandb.ai/LasrProbeGen/LASR_probe_gen' target=\"_blank\">https://wandb.ai/LasrProbeGen/LASR_probe_gen</a>"
      ],
      "text/plain": [
       "<IPython.core.display.HTML object>"
      ]
     },
     "metadata": {},
     "output_type": "display_data"
    },
    {
     "data": {
      "text/html": [
       " View run at <a href='https://wandb.ai/LasrProbeGen/LASR_probe_gen/runs/h1kbsdcu' target=\"_blank\">https://wandb.ai/LasrProbeGen/LASR_probe_gen/runs/h1kbsdcu</a>"
      ],
      "text/plain": [
       "<IPython.core.display.HTML object>"
      ]
     },
     "metadata": {},
     "output_type": "display_data"
    },
    {
     "data": {
      "text/html": [],
      "text/plain": [
       "<IPython.core.display.HTML object>"
      ]
     },
     "metadata": {},
     "output_type": "display_data"
    },
    {
     "data": {
      "text/html": [
       " View run <strong style=\"color:#cdcd00\">serene-feather-534</strong> at: <a href='https://wandb.ai/LasrProbeGen/LASR_probe_gen/runs/h1kbsdcu' target=\"_blank\">https://wandb.ai/LasrProbeGen/LASR_probe_gen/runs/h1kbsdcu</a><br> View project at: <a href='https://wandb.ai/LasrProbeGen/LASR_probe_gen' target=\"_blank\">https://wandb.ai/LasrProbeGen/LASR_probe_gen</a><br>Synced 5 W&B file(s), 0 media file(s), 2 artifact file(s) and 0 other file(s)"
      ],
      "text/plain": [
       "<IPython.core.display.HTML object>"
      ]
     },
     "metadata": {},
     "output_type": "display_data"
    },
    {
     "data": {
      "text/html": [
       "Find logs at: <code>./wandb/run-20250821_150039-h1kbsdcu/logs</code>"
      ],
      "text/plain": [
       "<IPython.core.display.HTML object>"
      ]
     },
     "metadata": {},
     "output_type": "display_data"
    }
   ],
   "source": [
    "from probe_gen.analysis import calculate_response_perplexities_batched, save_perplexities\n",
    "from probe_gen.config import ACTIVATION_DATASETS\n",
    "from probe_gen.gen_data.utils import load_jsonl_data\n",
    "\n",
    "# Get perplexity data\n",
    "behaviour = 'science'\n",
    "for dataset_type in [f'{model_name}_5k', f'{model_name}_prompted_5k', f'qwen_3b_5k']:\n",
    "# for dataset_type in [f'{model_name}_5k', f'{model_name}_prompted_5k', f'ministral_8b_5k']:\n",
    "    dataset_name = ACTIVATION_DATASETS[f\"{behaviour}_{dataset_type}\"][\"labels_filename\"]\n",
    "    human_list, assistant_list, _ = load_jsonl_data(dataset_name)\n",
    "    perplexities = calculate_response_perplexities_batched(model, tokenizer, human_list, assistant_list, batch_size=16)\n",
    "    save_perplexities(perplexities, behaviour, model_name, dataset_type)"
   ]
  },
  {
   "cell_type": "markdown",
   "id": "58254be3",
   "metadata": {},
   "source": [
    "# Load and visualize perplexities"
   ]
  },
  {
   "cell_type": "code",
   "execution_count": 13,
   "id": "71281600",
   "metadata": {},
   "outputs": [
    {
     "name": "stderr",
     "output_type": "stream",
     "text": [
      "\u001b[34m\u001b[1mwandb\u001b[0m:   1 of 1 files downloaded.  \n",
      "\u001b[34m\u001b[1mwandb\u001b[0m:   1 of 1 files downloaded.  \n",
      "\u001b[34m\u001b[1mwandb\u001b[0m:   1 of 1 files downloaded.  \n"
     ]
    }
   ],
   "source": [
    "from probe_gen.analysis import load_perplexities\n",
    "\n",
    "model_name = 'llama_3b'\n",
    "behaviour = 'science'\n",
    "perplexities_on = load_perplexities(behaviour, model_name, f'{model_name}_5k')\n",
    "perplexities_on_prompted = load_perplexities(behaviour, model_name, f'{model_name}_prompted_5k')\n",
    "perplexities_off = load_perplexities(behaviour, model_name, f'qwen_3b_5k')\n",
    "# perplexities_off = load_perplexities(behaviour, model_name, f'ministral_8b_5k')"
   ]
  },
  {
   "cell_type": "code",
   "execution_count": 14,
   "id": "e8a31001",
   "metadata": {},
   "outputs": [],
   "source": [
    "# TODO: Filter out empty responses in dataset generation pipeline instead of here\n",
    "\n",
    "import numpy as np\n",
    "\n",
    "def filter_out_nans(data):\n",
    "    arr = np.array(data)\n",
    "    arr = arr[np.isfinite(arr)]\n",
    "    if len(arr) != len(data):\n",
    "        print(f\"Had to reduce data from length {len(data)} to {len(arr)} to filter out NaNs.\")\n",
    "    return arr\n",
    "\n",
    "perplexities_on = filter_out_nans(perplexities_on)\n",
    "perplexities_on_prompted = filter_out_nans(perplexities_on_prompted)\n",
    "perplexities_off = filter_out_nans(perplexities_off)"
   ]
  },
  {
   "cell_type": "code",
   "execution_count": 15,
   "id": "3d391ad1",
   "metadata": {},
   "outputs": [
    {
     "data": {
      "image/png": "[encoded data removed]",
      "text/plain": [
       "<Figure size 1000x400 with 1 Axes>"
      ]
     },
     "metadata": {},
     "output_type": "display_data"
    }
   ],
   "source": [
    "from probe_gen.analysis import plot_perplexities\n",
    "\n",
    "plot_perplexities(\n",
    "    [perplexities_on, perplexities_on_prompted, perplexities_off], \n",
    "    ['On', 'On prompted', 'Off'], \n",
    "    remove_outliers=True, \n",
    "    num_bins=60\n",
    ")"
   ]
  }
 ],
 "metadata": {
  "kernelspec": {
   "display_name": "Python (uv)",
   "language": "python",
   "name": "uv-env"
  },
  "language_info": {
   "codemirror_mode": {
    "name": "ipython",
    "version": 3
   },
   "file_extension": ".py",
   "mimetype": "text/x-python",
   "name": "python",
   "nbconvert_exporter": "python",
   "pygments_lexer": "ipython3",
   "version": "3.11.13"
  }
 },
 "nbformat": 4,
 "nbformat_minor": 5
}
