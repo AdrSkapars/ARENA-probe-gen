{
 "cells": [
  {
   "cell_type": "markdown",
   "id": "f6b38c53",
   "metadata": {},
   "source": [
    "## Train probe\n",
    "- Goal: To train MVP probes on activations\n",
    "    - Maybe make those probes be fancy (mean, attention, softmax)\n",
    "    - Maybe make those activations be real"
   ]
  },
  {
   "cell_type": "markdown",
   "id": "13349143",
   "metadata": {},
   "source": []
  }
 ],
 "metadata": {
  "language_info": {
   "name": "python"
  }
 },
 "nbformat": 4,
 "nbformat_minor": 5
}
