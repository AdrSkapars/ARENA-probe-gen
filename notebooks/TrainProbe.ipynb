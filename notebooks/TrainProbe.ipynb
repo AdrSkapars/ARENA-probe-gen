{
 "cells": [
  {
   "cell_type": "code",
   "execution_count": 1,
   "id": "6e6fd824",
   "metadata": {},
   "outputs": [],
   "source": [
    "%%capture\n",
    "# If getting 'Could not find project LASR_probe_gen' get key from https://wandb.ai/authorize and paste below\n",
    "import wandb\n",
    "wandb.login(key=\"f3492efdb4233ddef665aa4da3647e95800df2dc\")"
   ]
  },
  {
   "cell_type": "markdown",
   "id": "c20bb32e",
   "metadata": {},
   "source": [
    "# Do probe training"
   ]
  },
  {
   "cell_type": "markdown",
   "id": "729248f5",
   "metadata": {},
   "source": [
    "Load the activations and labels from HF, aggregate, and construct datasets to train the probe on (note sklearn doesn't require a validation dataset). Create a probe and fit it."
   ]
  },
  {
   "cell_type": "code",
   "execution_count": 2,
   "id": "d7fe1567",
   "metadata": {},
   "outputs": [
    {
     "name": "stdout",
     "output_type": "stream",
     "text": [
      "loaded labels\n",
      "loaded activations with shape torch.Size([5000, 337, 3072])\n",
      "calculated attention mask with shape torch.Size([5000, 337])\n",
      "Train: 3500 samples, 1750.0 positives\n",
      "Val:   500 samples, 250.0 positives\n",
      "Test:  0 samples, 0.0 positives\n"
     ]
    },
    {
     "ename": "NameError",
     "evalue": "name 'probe' is not defined",
     "output_type": "error",
     "traceback": [
      "\u001b[31m---------------------------------------------------------------------------\u001b[39m",
      "\u001b[31mNameError\u001b[39m                                 Traceback (most recent call last)",
      "\u001b[36mCell\u001b[39m\u001b[36m \u001b[39m\u001b[32mIn[2]\u001b[39m\u001b[32m, line 22\u001b[39m\n\u001b[32m     20\u001b[39m \u001b[38;5;28;01melif\u001b[39;00m probe_type == \u001b[33m\"\u001b[39m\u001b[33mattention_torch\u001b[39m\u001b[33m\"\u001b[39m:\n\u001b[32m     21\u001b[39m     probe = probes.TorchAttentionProbe(cfg)\n\u001b[32m---> \u001b[39m\u001b[32m22\u001b[39m \u001b[43mprobe\u001b[49m.fit(train_dataset, val_dataset)\n\u001b[32m     24\u001b[39m \u001b[38;5;66;03m# Print val results\u001b[39;00m\n\u001b[32m     25\u001b[39m eval_dict, y_pred, y_pred_proba = probe.eval(val_dataset)\n",
      "\u001b[31mNameError\u001b[39m: name 'probe' is not defined"
     ]
    }
   ],
   "source": [
    "import probe_gen.probes as probes\n",
    "from sklearn.metrics import classification_report\n",
    "from probe_gen.config import ConfigDict\n",
    "\n",
    "# Load the best hyperparameters or set your own\n",
    "probe_type = \"mean\"\n",
    "dataset_name = \"refusal_llama_3b_5k\"\n",
    "cfg = ConfigDict.from_json(probe_type, dataset_name)\n",
    "# cfg = ConfigDict(layer=12, use_bias=True, normalize=True, c=0.001)\n",
    "\n",
    "# Create train, val, and test datasets\n",
    "activations_tensor, attention_mask, labels_tensor = probes.load_hf_activations_and_labels_at_layer(dataset_name, layer=cfg.layer, verbose=True)\n",
    "if probe_type == \"mean\":\n",
    "    activations_tensor = probes.MeanAggregation()(activations_tensor, attention_mask)\n",
    "train_dataset, val_dataset, test_dataset = probes.create_activation_datasets(activations_tensor, labels_tensor, splits=[3500, 500, 0], verbose=True)\n",
    "\n",
    "# Initialise and fit a probe with the datasets\n",
    "if probe_type == \"mean_torch\":\n",
    "    probe = probes.TorchLinearProbe(cfg)\n",
    "elif probe_type == \"attention_torch\":\n",
    "    probe = probes.TorchAttentionProbe(cfg)\n",
    "probe.fit(train_dataset, val_dataset)\n",
    "\n",
    "# Print val results\n",
    "eval_dict, y_pred, y_pred_proba = probe.eval(val_dataset)\n",
    "print('\\nroc_auc:', eval_dict['roc_auc'])"
   ]
  },
  {
   "cell_type": "markdown",
   "id": "32af9fc6",
   "metadata": {},
   "source": [
    "Evaluate the probe on test dataset."
   ]
  },
  {
   "cell_type": "code",
   "execution_count": null,
   "id": "0bfd7383",
   "metadata": {},
   "outputs": [],
   "source": [
    "# Eval against seperate test datasets\n",
    "for new_dataset_name in [\"refusal_llama_3b_1k\", \"refusal_llama_3b_prompted_1k\", \"refusal_ministral_8b_1k\"]:\n",
    "    print(f\"\\nEvaluating on {new_dataset_name}\")\n",
    "    activations_tensor, attention_mask, labels_tensor = probes.load_hf_activations_and_labels_at_layer(new_dataset_name, layer=cfg.layer, verbose=True)\n",
    "    if probe_type == \"mean\":\n",
    "        activations_tensor = probes.MeanAggregation()(activations_tensor, attention_mask)\n",
    "    _, _, test_dataset = probes.create_activation_datasets(activations_tensor, labels_tensor, splits=[0, 0, 1000], verbose=True)\n",
    "\n",
    "    # Evaluate the model\n",
    "    eval_dict, y_pred, y_pred_proba = probe.eval(test_dataset)\n",
    "    print(eval_dict)\n",
    "    print(classification_report(test_dataset['y'], y_pred))"
   ]
  },
  {
   "cell_type": "markdown",
   "id": "49f1cb06",
   "metadata": {},
   "source": [
    "Nice visualisation to see how the probe splits the two classes"
   ]
  },
  {
   "cell_type": "code",
   "execution_count": null,
   "id": "503ced3b",
   "metadata": {},
   "outputs": [],
   "source": [
    "from probe_gen.standard_experiments.experiment_plotting import plot_per_class_prediction_distributions\n",
    "\n",
    "plot_per_class_prediction_distributions(test_dataset['y'], y_pred_proba)"
   ]
  },
  {
   "cell_type": "markdown",
   "id": "e423e976",
   "metadata": {},
   "source": [
    "# Hyperparameter Search"
   ]
  },
  {
   "cell_type": "code",
   "execution_count": 2,
   "id": "dc20327b",
   "metadata": {},
   "outputs": [
    {
     "name": "stdout",
     "output_type": "stream",
     "text": [
      "\n",
      "######################### Evaluating layer 6 #############################\n",
      "3302 3302 3302\n"
     ]
    },
    {
     "ename": "ValueError",
     "evalue": "Splits must be a list of 3 numbers that sum to less than or equal to number of samples",
     "output_type": "error",
     "traceback": [
      "\u001b[31m---------------------------------------------------------------------------\u001b[39m",
      "\u001b[31mValueError\u001b[39m                                Traceback (most recent call last)",
      "\u001b[36mCell\u001b[39m\u001b[36m \u001b[39m\u001b[32mIn[2]\u001b[39m\u001b[32m, line 11\u001b[39m\n\u001b[32m      9\u001b[39m \u001b[38;5;66;03m# You might not be able to run all layers at once, so can do them in batches like below\u001b[39;00m\n\u001b[32m     10\u001b[39m layer_list = [\u001b[32m6\u001b[39m,\u001b[32m9\u001b[39m,\u001b[32m12\u001b[39m,\u001b[32m15\u001b[39m,\u001b[32m18\u001b[39m,\u001b[32m21\u001b[39m]\n\u001b[32m---> \u001b[39m\u001b[32m11\u001b[39m \u001b[43mrun_full_hyp_search_on_layers\u001b[49m\u001b[43m(\u001b[49m\n\u001b[32m     12\u001b[39m \u001b[43m    \u001b[49m\u001b[43mprobe_type\u001b[49m\u001b[43m,\u001b[49m\u001b[43m \u001b[49m\u001b[43mdataset_name\u001b[49m\u001b[43m,\u001b[49m\u001b[43m \u001b[49m\u001b[43mmodel_name\u001b[49m\u001b[43m,\u001b[49m\u001b[43m \u001b[49m\u001b[43mlayer_list\u001b[49m\n\u001b[32m     13\u001b[39m \u001b[43m)\u001b[49m\n\u001b[32m     14\u001b[39m \u001b[38;5;66;03m# Can load the best params from the search at any time\u001b[39;00m\n\u001b[32m     15\u001b[39m cfg_dict = load_best_params_from_search(\n\u001b[32m     16\u001b[39m     probe_type, dataset_name, model_name, layer_list\n\u001b[32m     17\u001b[39m )\n",
      "\u001b[36mFile \u001b[39m\u001b[32m/workspace/LASR-probe-gen/src/probe_gen/standard_experiments/hyperparameter_search.py:102\u001b[39m, in \u001b[36mrun_full_hyp_search_on_layers\u001b[39m\u001b[34m(probe_type, dataset_name, activations_model, layers_list)\u001b[39m\n\u001b[32m    100\u001b[39m \u001b[38;5;28;01mif\u001b[39;00m \u001b[33m\"\u001b[39m\u001b[33mmean\u001b[39m\u001b[33m\"\u001b[39m \u001b[38;5;129;01min\u001b[39;00m probe_type:\n\u001b[32m    101\u001b[39m     activations_tensor = probes.MeanAggregation()(activations_tensor, attention_mask)\n\u001b[32m--> \u001b[39m\u001b[32m102\u001b[39m train_dataset, val_dataset, _ = \u001b[43mprobes\u001b[49m\u001b[43m.\u001b[49m\u001b[43mcreate_activation_datasets\u001b[49m\u001b[43m(\u001b[49m\u001b[43mactivations_tensor\u001b[49m\u001b[43m,\u001b[49m\u001b[43m \u001b[49m\u001b[43mlabels_tensor\u001b[49m\u001b[43m,\u001b[49m\u001b[43m \u001b[49m\u001b[43msplits\u001b[49m\u001b[43m=\u001b[49m\u001b[43m[\u001b[49m\u001b[32;43m3500\u001b[39;49m\u001b[43m,\u001b[49m\u001b[43m \u001b[49m\u001b[32;43m500\u001b[39;49m\u001b[43m,\u001b[49m\u001b[43m \u001b[49m\u001b[32;43m0\u001b[39;49m\u001b[43m]\u001b[49m\u001b[43m)\u001b[49m\n\u001b[32m    104\u001b[39m \u001b[38;5;28;01mif\u001b[39;00m \u001b[33m'\u001b[39m\u001b[33mtorch\u001b[39m\u001b[33m'\u001b[39m \u001b[38;5;129;01min\u001b[39;00m probe_type:\n\u001b[32m    105\u001b[39m     \u001b[38;5;28;01mfor\u001b[39;00m lr \u001b[38;5;129;01min\u001b[39;00m tqdm(LR_RANGE):\n",
      "\u001b[36mFile \u001b[39m\u001b[32m/workspace/LASR-probe-gen/src/probe_gen/probes/activation_handlers.py:118\u001b[39m, in \u001b[36mcreate_activation_datasets\u001b[39m\u001b[34m(activations_tensor, labels_tensor, splits, verbose)\u001b[39m\n\u001b[32m    115\u001b[39m torch.manual_seed(\u001b[32m0\u001b[39m)\n\u001b[32m    117\u001b[39m \u001b[38;5;28;01mif\u001b[39;00m \u001b[38;5;28mlen\u001b[39m(splits) != \u001b[32m3\u001b[39m \u001b[38;5;129;01mor\u001b[39;00m \u001b[38;5;28msum\u001b[39m(splits) > labels_tensor.shape[\u001b[32m0\u001b[39m]:\n\u001b[32m--> \u001b[39m\u001b[32m118\u001b[39m     \u001b[38;5;28;01mraise\u001b[39;00m \u001b[38;5;167;01mValueError\u001b[39;00m(\u001b[33m\"\u001b[39m\u001b[33mSplits must be a list of 3 numbers that sum to less than or equal to number of samples\u001b[39m\u001b[33m\"\u001b[39m)\n\u001b[32m    120\u001b[39m \u001b[38;5;66;03m# Get indices for each label and subsample both classes to same size\u001b[39;00m\n\u001b[32m    121\u001b[39m label_0_indices = (labels_tensor == \u001b[32m0.0\u001b[39m).nonzero(as_tuple=\u001b[38;5;28;01mTrue\u001b[39;00m)[\u001b[32m0\u001b[39m]\n",
      "\u001b[31mValueError\u001b[39m: Splits must be a list of 3 numbers that sum to less than or equal to number of samples"
     ]
    }
   ],
   "source": [
    "from probe_gen.standard_experiments.hyperparameter_search import run_full_hyp_search_on_layers\n",
    "from probe_gen.standard_experiments.hyperparameter_search import load_best_params_from_search\n",
    "from probe_gen.config import ConfigDict\n",
    "\n",
    "probe_type = \"mean\"\n",
    "dataset_name = \"jailbreaks_llama_3b_5k\"\n",
    "model_name = \"llama_3b\"\n",
    "\n",
    "# You might not be able to run all layers at once, so can do them in batches like below\n",
    "layer_list = [6,9,12,15,18,21]\n",
    "run_full_hyp_search_on_layers(\n",
    "    probe_type, dataset_name, model_name, layer_list\n",
    ")\n",
    "# Can load the best params from the search at any time\n",
    "cfg_dict = load_best_params_from_search(\n",
    "    probe_type, dataset_name, model_name, layer_list\n",
    ")\n",
    "# Should add them to the local json if havent already\n",
    "cfg = ConfigDict(cfg_dict)\n",
    "cfg.add_to_json(probe_type, dataset_name)"
   ]
  },
  {
   "cell_type": "markdown",
   "id": "b10af51e",
   "metadata": {},
   "source": [
    "# Testing On-Off Probes"
   ]
  },
  {
   "cell_type": "code",
   "execution_count": 5,
   "id": "126890df",
   "metadata": {},
   "outputs": [],
   "source": [
    "from probe_gen.config import ConfigDict\n",
    "\n",
    "# Specify rows of probes and columns of tests\n",
    "test_dataset_names = [\n",
    "    'refusal_llama_3b_1k',\n",
    "    'refusal_llama_3b_prompted_1k',\n",
    "    \"refusal_ministral_8b_1k\", \n",
    "    \"jailbreaks_llama_3b_5k\",\n",
    "    \"jailbreaks_llama_3b_prompted_5k\",\n",
    "    \"ministral_8b_jailbreaks_5k\"\n",
    "]\n",
    "probes_setup = [\n",
    "    ['mean', 'refusal_llama_3b_5k'],\n",
    "    ['mean', 'refusal_llama_3b_prompted_5k'],\n",
    "    ['mean', 'refusal_ministral_8b_5k'],\n",
    "]\n",
    "\n",
    "# Can specify hyperparameters for each row if dont want to load best hyperparameters, can also do a mix of specified and not specified\n",
    "# probes_setup = [\n",
    "#     ['mean', 'refusal_llama_3b_5k', ConfigDict(layer=12, use_bias=False, normalize=True, c=0.001)],\n",
    "#     ['mean', 'refusal_llama_3b_prompted_5k'],\n",
    "#     ['mean', 'refusal_ministral_8b_5k', ConfigDict(layer=12, use_bias=False, normalize=True, c=0.001)]\n",
    "# ]"
   ]
  },
  {
   "cell_type": "code",
   "execution_count": 6,
   "id": "313364f1",
   "metadata": {},
   "outputs": [
    {
     "name": "stdout",
     "output_type": "stream",
     "text": [
      "loaded labels\n",
      "loaded activations with shape torch.Size([5000, 337, 3072])\n",
      "calculated attention mask with shape torch.Size([5000, 337])\n",
      "Train: 3500 samples, 1750.0 positives\n",
      "Val:   500 samples, 250.0 positives\n",
      "Test:  0 samples, 0.0 positives\n",
      "loaded labels\n",
      "loaded activations with shape torch.Size([1000, 249, 3072])\n",
      "calculated attention mask with shape torch.Size([1000, 249])\n",
      "Train: 0 samples, 0.0 positives\n",
      "Val:   0 samples, 0.0 positives\n",
      "Test:  1000 samples, 500.0 positives\n"
     ]
    },
    {
     "data": {
      "text/html": [
       "Changes to your `wandb` environment variables will be ignored because your `wandb` session has already started. For more information on how to modify your settings with `wandb.init()` arguments, please refer to <a href='https://wandb.me/wandb-init' target=\"_blank\">the W&B docs</a>."
      ],
      "text/plain": [
       "<IPython.core.display.HTML object>"
      ]
     },
     "metadata": {},
     "output_type": "display_data"
    },
    {
     "data": {
      "text/html": [
       "creating run (0.2s)"
      ],
      "text/plain": [
       "<IPython.core.display.HTML object>"
      ]
     },
     "metadata": {},
     "output_type": "display_data"
    },
    {
     "data": {
      "text/html": [
       "Tracking run with wandb version 0.21.3"
      ],
      "text/plain": [
       "<IPython.core.display.HTML object>"
      ]
     },
     "metadata": {},
     "output_type": "display_data"
    },
    {
     "data": {
      "text/html": [
       "Run data is saved locally in <code>/workspace/LASR-probe-gen/notebooks/wandb/run-20250904_100615-2lvxknvh</code>"
      ],
      "text/plain": [
       "<IPython.core.display.HTML object>"
      ]
     },
     "metadata": {},
     "output_type": "display_data"
    },
    {
     "data": {
      "text/html": [
       "Syncing run <strong><a href='https://wandb.ai/LasrProbeGen/LASR_probe_gen/runs/2lvxknvh' target=\"_blank\">fresh-microwave-7461</a></strong> to <a href='https://wandb.ai/LasrProbeGen/LASR_probe_gen' target=\"_blank\">Weights & Biases</a> (<a href='https://wandb.me/developer-guide' target=\"_blank\">docs</a>)<br>"
      ],
      "text/plain": [
       "<IPython.core.display.HTML object>"
      ]
     },
     "metadata": {},
     "output_type": "display_data"
    },
    {
     "data": {
      "text/html": [
       " View project at <a href='https://wandb.ai/LasrProbeGen/LASR_probe_gen' target=\"_blank\">https://wandb.ai/LasrProbeGen/LASR_probe_gen</a>"
      ],
      "text/plain": [
       "<IPython.core.display.HTML object>"
      ]
     },
     "metadata": {},
     "output_type": "display_data"
    },
    {
     "data": {
      "text/html": [
       " View run at <a href='https://wandb.ai/LasrProbeGen/LASR_probe_gen/runs/2lvxknvh' target=\"_blank\">https://wandb.ai/LasrProbeGen/LASR_probe_gen/runs/2lvxknvh</a>"
      ],
      "text/plain": [
       "<IPython.core.display.HTML object>"
      ]
     },
     "metadata": {},
     "output_type": "display_data"
    },
    {
     "data": {
      "text/html": [],
      "text/plain": [
       "<IPython.core.display.HTML object>"
      ]
     },
     "metadata": {},
     "output_type": "display_data"
    },
    {
     "data": {
      "text/html": [
       "<br>    <style><br>        .wandb-row {<br>            display: flex;<br>            flex-direction: row;<br>            flex-wrap: wrap;<br>            justify-content: flex-start;<br>            width: 100%;<br>        }<br>        .wandb-col {<br>            display: flex;<br>            flex-direction: column;<br>            flex-basis: 100%;<br>            flex: 1;<br>            padding: 10px;<br>        }<br>    </style><br><div class=\"wandb-row\"><div class=\"wandb-col\"><h3>Run history:</h3><br/><table class=\"wandb\"><tr><td>accuracy</td><td>▁</td></tr><tr><td>roc_auc</td><td>▁</td></tr><tr><td>tpr_at_1_fpr</td><td>▁</td></tr></table><br/></div><div class=\"wandb-col\"><h3>Run summary:</h3><br/><table class=\"wandb\"><tr><td>accuracy</td><td>0.856</td></tr><tr><td>roc_auc</td><td>0.91026</td></tr><tr><td>tpr_at_1_fpr</td><td>0.052</td></tr></table><br/></div></div>"
      ],
      "text/plain": [
       "<IPython.core.display.HTML object>"
      ]
     },
     "metadata": {},
     "output_type": "display_data"
    },
    {
     "data": {
      "text/html": [
       " View run <strong style=\"color:#cdcd00\">fresh-microwave-7461</strong> at: <a href='https://wandb.ai/LasrProbeGen/LASR_probe_gen/runs/2lvxknvh' target=\"_blank\">https://wandb.ai/LasrProbeGen/LASR_probe_gen/runs/2lvxknvh</a><br> View project at: <a href='https://wandb.ai/LasrProbeGen/LASR_probe_gen' target=\"_blank\">https://wandb.ai/LasrProbeGen/LASR_probe_gen</a><br>Synced 5 W&B file(s), 0 media file(s), 0 artifact file(s) and 0 other file(s)"
      ],
      "text/plain": [
       "<IPython.core.display.HTML object>"
      ]
     },
     "metadata": {},
     "output_type": "display_data"
    },
    {
     "data": {
      "text/html": [
       "Find logs at: <code>./wandb/run-20250904_100615-2lvxknvh/logs</code>"
      ],
      "text/plain": [
       "<IPython.core.display.HTML object>"
      ]
     },
     "metadata": {},
     "output_type": "display_data"
    },
    {
     "name": "stdout",
     "output_type": "stream",
     "text": [
      "loaded labels\n",
      "loaded activations with shape torch.Size([1000, 249, 3072])\n",
      "calculated attention mask with shape torch.Size([1000, 249])\n",
      "Train: 0 samples, 0.0 positives\n",
      "Val:   0 samples, 0.0 positives\n",
      "Test:  1000 samples, 500.0 positives\n"
     ]
    },
    {
     "data": {
      "text/html": [
       "Changes to your `wandb` environment variables will be ignored because your `wandb` session has already started. For more information on how to modify your settings with `wandb.init()` arguments, please refer to <a href='https://wandb.me/wandb-init' target=\"_blank\">the W&B docs</a>."
      ],
      "text/plain": [
       "<IPython.core.display.HTML object>"
      ]
     },
     "metadata": {},
     "output_type": "display_data"
    },
    {
     "data": {
      "text/html": [
       "creating run (0.2s)"
      ],
      "text/plain": [
       "<IPython.core.display.HTML object>"
      ]
     },
     "metadata": {},
     "output_type": "display_data"
    },
    {
     "data": {
      "text/html": [
       "Tracking run with wandb version 0.21.3"
      ],
      "text/plain": [
       "<IPython.core.display.HTML object>"
      ]
     },
     "metadata": {},
     "output_type": "display_data"
    },
    {
     "data": {
      "text/html": [
       "Run data is saved locally in <code>/workspace/LASR-probe-gen/notebooks/wandb/run-20250904_100619-8z3xgdst</code>"
      ],
      "text/plain": [
       "<IPython.core.display.HTML object>"
      ]
     },
     "metadata": {},
     "output_type": "display_data"
    },
    {
     "data": {
      "text/html": [
       "Syncing run <strong><a href='https://wandb.ai/LasrProbeGen/LASR_probe_gen/runs/8z3xgdst' target=\"_blank\">rose-shadow-7462</a></strong> to <a href='https://wandb.ai/LasrProbeGen/LASR_probe_gen' target=\"_blank\">Weights & Biases</a> (<a href='https://wandb.me/developer-guide' target=\"_blank\">docs</a>)<br>"
      ],
      "text/plain": [
       "<IPython.core.display.HTML object>"
      ]
     },
     "metadata": {},
     "output_type": "display_data"
    },
    {
     "data": {
      "text/html": [
       " View project at <a href='https://wandb.ai/LasrProbeGen/LASR_probe_gen' target=\"_blank\">https://wandb.ai/LasrProbeGen/LASR_probe_gen</a>"
      ],
      "text/plain": [
       "<IPython.core.display.HTML object>"
      ]
     },
     "metadata": {},
     "output_type": "display_data"
    },
    {
     "data": {
      "text/html": [
       " View run at <a href='https://wandb.ai/LasrProbeGen/LASR_probe_gen/runs/8z3xgdst' target=\"_blank\">https://wandb.ai/LasrProbeGen/LASR_probe_gen/runs/8z3xgdst</a>"
      ],
      "text/plain": [
       "<IPython.core.display.HTML object>"
      ]
     },
     "metadata": {},
     "output_type": "display_data"
    },
    {
     "data": {
      "text/html": [],
      "text/plain": [
       "<IPython.core.display.HTML object>"
      ]
     },
     "metadata": {},
     "output_type": "display_data"
    },
    {
     "data": {
      "text/html": [
       "<br>    <style><br>        .wandb-row {<br>            display: flex;<br>            flex-direction: row;<br>            flex-wrap: wrap;<br>            justify-content: flex-start;<br>            width: 100%;<br>        }<br>        .wandb-col {<br>            display: flex;<br>            flex-direction: column;<br>            flex-basis: 100%;<br>            flex: 1;<br>            padding: 10px;<br>        }<br>    </style><br><div class=\"wandb-row\"><div class=\"wandb-col\"><h3>Run history:</h3><br/><table class=\"wandb\"><tr><td>accuracy</td><td>▁</td></tr><tr><td>roc_auc</td><td>▁</td></tr><tr><td>tpr_at_1_fpr</td><td>▁</td></tr></table><br/></div><div class=\"wandb-col\"><h3>Run summary:</h3><br/><table class=\"wandb\"><tr><td>accuracy</td><td>0.871</td></tr><tr><td>roc_auc</td><td>0.9062</td></tr><tr><td>tpr_at_1_fpr</td><td>0.096</td></tr></table><br/></div></div>"
      ],
      "text/plain": [
       "<IPython.core.display.HTML object>"
      ]
     },
     "metadata": {},
     "output_type": "display_data"
    },
    {
     "data": {
      "text/html": [
       " View run <strong style=\"color:#cdcd00\">rose-shadow-7462</strong> at: <a href='https://wandb.ai/LasrProbeGen/LASR_probe_gen/runs/8z3xgdst' target=\"_blank\">https://wandb.ai/LasrProbeGen/LASR_probe_gen/runs/8z3xgdst</a><br> View project at: <a href='https://wandb.ai/LasrProbeGen/LASR_probe_gen' target=\"_blank\">https://wandb.ai/LasrProbeGen/LASR_probe_gen</a><br>Synced 5 W&B file(s), 0 media file(s), 0 artifact file(s) and 0 other file(s)"
      ],
      "text/plain": [
       "<IPython.core.display.HTML object>"
      ]
     },
     "metadata": {},
     "output_type": "display_data"
    },
    {
     "data": {
      "text/html": [
       "Find logs at: <code>./wandb/run-20250904_100619-8z3xgdst/logs</code>"
      ],
      "text/plain": [
       "<IPython.core.display.HTML object>"
      ]
     },
     "metadata": {},
     "output_type": "display_data"
    },
    {
     "name": "stdout",
     "output_type": "stream",
     "text": [
      "loaded labels\n",
      "loaded activations with shape torch.Size([1000, 248, 3072])\n",
      "calculated attention mask with shape torch.Size([1000, 248])\n",
      "Train: 0 samples, 0.0 positives\n",
      "Val:   0 samples, 0.0 positives\n",
      "Test:  1000 samples, 500.0 positives\n"
     ]
    },
    {
     "data": {
      "text/html": [
       "Changes to your `wandb` environment variables will be ignored because your `wandb` session has already started. For more information on how to modify your settings with `wandb.init()` arguments, please refer to <a href='https://wandb.me/wandb-init' target=\"_blank\">the W&B docs</a>."
      ],
      "text/plain": [
       "<IPython.core.display.HTML object>"
      ]
     },
     "metadata": {},
     "output_type": "display_data"
    },
    {
     "data": {
      "text/html": [
       "creating run (0.2s)"
      ],
      "text/plain": [
       "<IPython.core.display.HTML object>"
      ]
     },
     "metadata": {},
     "output_type": "display_data"
    },
    {
     "data": {
      "text/html": [
       "Tracking run with wandb version 0.21.3"
      ],
      "text/plain": [
       "<IPython.core.display.HTML object>"
      ]
     },
     "metadata": {},
     "output_type": "display_data"
    },
    {
     "data": {
      "text/html": [
       "Run data is saved locally in <code>/workspace/LASR-probe-gen/notebooks/wandb/run-20250904_100624-yot9js04</code>"
      ],
      "text/plain": [
       "<IPython.core.display.HTML object>"
      ]
     },
     "metadata": {},
     "output_type": "display_data"
    },
    {
     "data": {
      "text/html": [
       "Syncing run <strong><a href='https://wandb.ai/LasrProbeGen/LASR_probe_gen/runs/yot9js04' target=\"_blank\">bumbling-tree-7463</a></strong> to <a href='https://wandb.ai/LasrProbeGen/LASR_probe_gen' target=\"_blank\">Weights & Biases</a> (<a href='https://wandb.me/developer-guide' target=\"_blank\">docs</a>)<br>"
      ],
      "text/plain": [
       "<IPython.core.display.HTML object>"
      ]
     },
     "metadata": {},
     "output_type": "display_data"
    },
    {
     "data": {
      "text/html": [
       " View project at <a href='https://wandb.ai/LasrProbeGen/LASR_probe_gen' target=\"_blank\">https://wandb.ai/LasrProbeGen/LASR_probe_gen</a>"
      ],
      "text/plain": [
       "<IPython.core.display.HTML object>"
      ]
     },
     "metadata": {},
     "output_type": "display_data"
    },
    {
     "data": {
      "text/html": [
       " View run at <a href='https://wandb.ai/LasrProbeGen/LASR_probe_gen/runs/yot9js04' target=\"_blank\">https://wandb.ai/LasrProbeGen/LASR_probe_gen/runs/yot9js04</a>"
      ],
      "text/plain": [
       "<IPython.core.display.HTML object>"
      ]
     },
     "metadata": {},
     "output_type": "display_data"
    },
    {
     "data": {
      "text/html": [],
      "text/plain": [
       "<IPython.core.display.HTML object>"
      ]
     },
     "metadata": {},
     "output_type": "display_data"
    },
    {
     "data": {
      "text/html": [
       "<br>    <style><br>        .wandb-row {<br>            display: flex;<br>            flex-direction: row;<br>            flex-wrap: wrap;<br>            justify-content: flex-start;<br>            width: 100%;<br>        }<br>        .wandb-col {<br>            display: flex;<br>            flex-direction: column;<br>            flex-basis: 100%;<br>            flex: 1;<br>            padding: 10px;<br>        }<br>    </style><br><div class=\"wandb-row\"><div class=\"wandb-col\"><h3>Run history:</h3><br/><table class=\"wandb\"><tr><td>accuracy</td><td>▁</td></tr><tr><td>roc_auc</td><td>▁</td></tr><tr><td>tpr_at_1_fpr</td><td>▁</td></tr></table><br/></div><div class=\"wandb-col\"><h3>Run summary:</h3><br/><table class=\"wandb\"><tr><td>accuracy</td><td>0.85</td></tr><tr><td>roc_auc</td><td>0.91498</td></tr><tr><td>tpr_at_1_fpr</td><td>0.07</td></tr></table><br/></div></div>"
      ],
      "text/plain": [
       "<IPython.core.display.HTML object>"
      ]
     },
     "metadata": {},
     "output_type": "display_data"
    },
    {
     "data": {
      "text/html": [
       " View run <strong style=\"color:#cdcd00\">bumbling-tree-7463</strong> at: <a href='https://wandb.ai/LasrProbeGen/LASR_probe_gen/runs/yot9js04' target=\"_blank\">https://wandb.ai/LasrProbeGen/LASR_probe_gen/runs/yot9js04</a><br> View project at: <a href='https://wandb.ai/LasrProbeGen/LASR_probe_gen' target=\"_blank\">https://wandb.ai/LasrProbeGen/LASR_probe_gen</a><br>Synced 5 W&B file(s), 0 media file(s), 0 artifact file(s) and 0 other file(s)"
      ],
      "text/plain": [
       "<IPython.core.display.HTML object>"
      ]
     },
     "metadata": {},
     "output_type": "display_data"
    },
    {
     "data": {
      "text/html": [
       "Find logs at: <code>./wandb/run-20250904_100624-yot9js04/logs</code>"
      ],
      "text/plain": [
       "<IPython.core.display.HTML object>"
      ]
     },
     "metadata": {},
     "output_type": "display_data"
    },
    {
     "name": "stdout",
     "output_type": "stream",
     "text": [
      "loaded labels\n",
      "loaded activations with shape torch.Size([3302, 512, 3072])\n",
      "calculated attention mask with shape torch.Size([3302, 512])\n",
      "Train: 0 samples, 0.0 positives\n",
      "Val:   0 samples, 0.0 positives\n",
      "Test:  1000 samples, 500.0 positives\n"
     ]
    },
    {
     "ename": "ValueError",
     "evalue": "Splits must be a list of 3 numbers that sum to less than or equal to number of samples",
     "output_type": "error",
     "traceback": [
      "\u001b[31m---------------------------------------------------------------------------\u001b[39m",
      "\u001b[31mValueError\u001b[39m                                Traceback (most recent call last)",
      "\u001b[36mCell\u001b[39m\u001b[36m \u001b[39m\u001b[32mIn[6]\u001b[39m\u001b[32m, line 3\u001b[39m\n\u001b[32m      1\u001b[39m \u001b[38;5;28;01mfrom\u001b[39;00m\u001b[38;5;250m \u001b[39m\u001b[34;01mprobe_gen\u001b[39;00m\u001b[34;01m.\u001b[39;00m\u001b[34;01mstandard_experiments\u001b[39;00m\u001b[34;01m.\u001b[39;00m\u001b[34;01mgrid_experiments\u001b[39;00m\u001b[38;5;250m \u001b[39m\u001b[38;5;28;01mimport\u001b[39;00m run_grid_experiment_lean\n\u001b[32m----> \u001b[39m\u001b[32m3\u001b[39m \u001b[43mrun_grid_experiment_lean\u001b[49m\u001b[43m(\u001b[49m\u001b[43mprobes_setup\u001b[49m\u001b[43m,\u001b[49m\u001b[43m \u001b[49m\u001b[43mtest_dataset_names\u001b[49m\u001b[43m,\u001b[49m\u001b[43m \u001b[49m\u001b[33;43m\"\u001b[39;49m\u001b[33;43mllama_3b\u001b[39;49m\u001b[33;43m\"\u001b[39;49m\u001b[43m)\u001b[49m\n",
      "\u001b[36mFile \u001b[39m\u001b[32m/workspace/LASR-probe-gen/src/probe_gen/standard_experiments/grid_experiments.py:61\u001b[39m, in \u001b[36mrun_grid_experiment_lean\u001b[39m\u001b[34m(probes_setup, test_dataset_names, activations_model)\u001b[39m\n\u001b[32m     58\u001b[39m _, _, test_dataset = probes.create_activation_datasets(activations_tensor, labels_tensor, splits=[\u001b[32m0\u001b[39m, \u001b[32m0\u001b[39m, \u001b[32m1000\u001b[39m], verbose=\u001b[38;5;28;01mTrue\u001b[39;00m)\n\u001b[32m     60\u001b[39m \u001b[38;5;28;01mif\u001b[39;00m test_dataset_name == \u001b[33m\"\u001b[39m\u001b[33mjailbreaks_llama_3b_5k\u001b[39m\u001b[33m\"\u001b[39m:\n\u001b[32m---> \u001b[39m\u001b[32m61\u001b[39m     _, _, test_dataset = \u001b[43mprobes\u001b[49m\u001b[43m.\u001b[49m\u001b[43mcreate_activation_datasets\u001b[49m\u001b[43m(\u001b[49m\u001b[43mactivations_tensor\u001b[49m\u001b[43m,\u001b[49m\u001b[43m \u001b[49m\u001b[43mlabels_tensor\u001b[49m\u001b[43m,\u001b[49m\u001b[43m \u001b[49m\u001b[43msplits\u001b[49m\u001b[43m=\u001b[49m\u001b[43m[\u001b[49m\u001b[32;43m3500\u001b[39;49m\u001b[43m,\u001b[49m\u001b[43m \u001b[49m\u001b[32;43m500\u001b[39;49m\u001b[43m,\u001b[49m\u001b[43m \u001b[49m\u001b[32;43m1000\u001b[39;49m\u001b[43m]\u001b[49m\u001b[43m,\u001b[49m\u001b[43m \u001b[49m\u001b[43mverbose\u001b[49m\u001b[43m=\u001b[49m\u001b[38;5;28;43;01mTrue\u001b[39;49;00m\u001b[43m)\u001b[49m\n\u001b[32m     63\u001b[39m \u001b[38;5;66;03m# Evaluate the probe\u001b[39;00m\n\u001b[32m     64\u001b[39m eval_dict, _, _ = probe.eval(test_dataset)\n",
      "\u001b[36mFile \u001b[39m\u001b[32m/workspace/LASR-probe-gen/src/probe_gen/probes/activation_handlers.py:118\u001b[39m, in \u001b[36mcreate_activation_datasets\u001b[39m\u001b[34m(activations_tensor, labels_tensor, splits, verbose)\u001b[39m\n\u001b[32m    115\u001b[39m torch.manual_seed(\u001b[32m0\u001b[39m)\n\u001b[32m    117\u001b[39m \u001b[38;5;28;01mif\u001b[39;00m \u001b[38;5;28mlen\u001b[39m(splits) != \u001b[32m3\u001b[39m \u001b[38;5;129;01mor\u001b[39;00m \u001b[38;5;28msum\u001b[39m(splits) > labels_tensor.shape[\u001b[32m0\u001b[39m]:\n\u001b[32m--> \u001b[39m\u001b[32m118\u001b[39m     \u001b[38;5;28;01mraise\u001b[39;00m \u001b[38;5;167;01mValueError\u001b[39;00m(\u001b[33m\"\u001b[39m\u001b[33mSplits must be a list of 3 numbers that sum to less than or equal to number of samples\u001b[39m\u001b[33m\"\u001b[39m)\n\u001b[32m    120\u001b[39m \u001b[38;5;66;03m# Get indices for each label and subsample both classes to same size\u001b[39;00m\n\u001b[32m    121\u001b[39m label_0_indices = (labels_tensor == \u001b[32m0.0\u001b[39m).nonzero(as_tuple=\u001b[38;5;28;01mTrue\u001b[39;00m)[\u001b[32m0\u001b[39m]\n",
      "\u001b[31mValueError\u001b[39m: Splits must be a list of 3 numbers that sum to less than or equal to number of samples"
     ]
    }
   ],
   "source": [
    "from probe_gen.standard_experiments.grid_experiments import run_grid_experiment_lean\n",
    "\n",
    "run_grid_experiment_lean(probes_setup, test_dataset_names, \"llama_3b\")"
   ]
  },
  {
   "cell_type": "code",
   "execution_count": 4,
   "id": "232acb5f",
   "metadata": {},
   "outputs": [
    {
     "data": {
      "image/png": "[encoded data removed]",
      "text/plain": [
       "<Figure size 640x480 with 2 Axes>"
      ]
     },
     "metadata": {},
     "output_type": "display_data"
    }
   ],
   "source": [
    "from probe_gen.standard_experiments.grid_experiments import plot_grid_experiment_lean\n",
    "\n",
    "plot_grid_experiment_lean(probes_setup, test_dataset_names, \"llama_3b\", metric=\"roc_auc\")"
   ]
  },
  {
   "cell_type": "markdown",
   "id": "17116059",
   "metadata": {},
   "source": [
    "Old code:"
   ]
  },
  {
   "cell_type": "code",
   "execution_count": null,
   "id": "bc84c009",
   "metadata": {},
   "outputs": [],
   "source": [
    "from probe_gen.standard_experiments.grid_experiments import run_grid_experiment\n",
    "\n",
    "run_grid_experiment(\n",
    "    ['refusal_llama_3b_5k', 'refusal_llama_3b_prompted_5k', \"refusal_ministral_8b_5k\"], \n",
    "    ['refusal_llama_3b_1k', 'refusal_llama_3b_prompted_1k', \"refusal_ministral_8b_1k\"], \n",
    "    [12, 12, 12], # layer\n",
    "    [False, False, False], # use_bias   (one for each row)\n",
    "    [True, True, True], # normalize\n",
    "    [0.001, 0.001, 0.001], # C\n",
    "    \"llama_3b\"\n",
    ")"
   ]
  },
  {
   "cell_type": "code",
   "execution_count": null,
   "id": "2e710f6e",
   "metadata": {},
   "outputs": [],
   "source": [
    "from probe_gen.standard_experiments.grid_experiments import plot_grid_experiment\n",
    "\n",
    "plot_grid_experiment(\n",
    "    ['refusal_llama_3b_5k', 'refusal_llama_3b_prompted_5k', \"refusal_ministral_8b_5k\"],  \n",
    "    ['refusal_llama_3b_1k', 'refusal_llama_3b_prompted_1k', \"refusal_ministral_8b_1k\"], \n",
    "    ['On (llama)', 'On (llama prompted)', 'Off (ministral)'],\n",
    "    ['On (llama)', 'On (llama prompted)', 'Off (ministral)'],\n",
    "    [12, 12, 12], # layer\n",
    "    [False, False, False], # use_bias   (one for each row)\n",
    "    [True, True, True], # normalize\n",
    "    [0.001, 0.001, 0.001], # C\n",
    "    \"llama_3b\",\n",
    "    \"roc_auc\"\n",
    ")"
   ]
  },
  {
   "cell_type": "code",
   "execution_count": null,
   "id": "af489c1a",
   "metadata": {},
   "outputs": [],
   "source": [
    "from probe_gen.standard_experiments.experiment_plotting import plot_results_table\n",
    "\n",
    "plot_results_table(['refusal_5k_on', 'refusal_5k_off_other_model'], 12, 'mean', True, False, 'accuracy')"
   ]
  },
  {
   "cell_type": "markdown",
   "id": "c39b9f54",
   "metadata": {},
   "source": [
    "# Layer experiments"
   ]
  },
  {
   "cell_type": "code",
   "execution_count": null,
   "id": "867ddba0",
   "metadata": {},
   "outputs": [],
   "source": [
    "from probe_gen.standard_experiments.layer_experiments import run_layer_experiments\n",
    "\n",
    "use_bias = True\n",
    "normalize_inputs = True\n",
    "\n",
    "run_layer_experiments(\n",
    "    \"mean\",\n",
    "    \"lists_llama_3b_story_5k\",\n",
    "    \"llama_3b\",\n",
    "    1.0, # C\n",
    "    [6, 9, 12, 15, 18], \n",
    "    use_bias_options=[True, False], \n",
    "    normalize_options=[True, False], \n",
    ")"
   ]
  },
  {
   "cell_type": "code",
   "execution_count": null,
   "id": "d1d7d10d",
   "metadata": {},
   "outputs": [],
   "source": [
    "from probe_gen.standard_experiments.experiment_plotting import plot_layer_experiment\n",
    "\n",
    "plot_layer_experiment([6, 9, 12, 15, 18], 'lists_llama_3b_story_5k')"
   ]
  },
  {
   "cell_type": "markdown",
   "id": "735c56f0",
   "metadata": {},
   "source": [
    "# Compare probe directions"
   ]
  },
  {
   "cell_type": "code",
   "execution_count": null,
   "id": "eb495cca",
   "metadata": {},
   "outputs": [],
   "source": [
    "import numpy as np\n",
    "from sklearn.metrics.pairwise import cosine_similarity\n",
    "from sklearn.linear_model import LogisticRegression\n",
    "import probe_gen.probes as probes\n",
    "from sklearn.metrics import classification_report\n",
    "from probe_gen.config import ConfigDict\n",
    "\n",
    "# dataset_list = ['refusal_llama_3b_5k', 'refusal_llama_3b_prompted_5k', 'refusal_ministral_8b_5k']\n",
    "# layer_list = [12, 12, 12]\n",
    "# use_bias_list = [False, False, False]\n",
    "# normalize_list = [True, True, True]\n",
    "# C_list = [0.001, 0.001, 0.001]\n",
    "\n",
    "dataset_list = ['lists_llama_3b_5k', 'lists_llama_3b_prompted_5k', 'lists_qwen_3b_5k']\n",
    "layer_list = [9, 12, 12]\n",
    "use_bias_list = [True, True, False]\n",
    "normalize_list = [False, False, False]\n",
    "C_list = [1, 10, 1]\n",
    "\n",
    "# dataset_list = ['metaphors_llama_3b_5k', 'metaphors_llama_3b_prompted_5k', 'metaphors_qwen_3b_5k']\n",
    "# layer_list = [9, 15, 6]\n",
    "# use_bias_list = [False, False, True]\n",
    "# normalize_list = [False, False, False]\n",
    "# C_list = [1, 1, 1]\n",
    "\n",
    "probes_list = []\n",
    "\n",
    "for i in range(len(dataset_list)):\n",
    "    activations_tensor, attention_mask, labels_tensor = probes.load_hf_activations_and_labels_at_layer(dataset_list[i], layer_list[i], verbose=True)\n",
    "    activations_tensor = probes.MeanAggregation()(activations_tensor, attention_mask)\n",
    "    # Create train, val, and test datasets\n",
    "    train_dataset, val_dataset, test_dataset = probes.create_activation_datasets(activations_tensor, labels_tensor, val_size=0.1, test_size=0.2, verbose=True)\n",
    "\n",
    "    probe = probes.SklearnLogisticProbe(ConfigDict(use_bias=use_bias_list[i], C=C_list[i], normalize=normalize_list[i]))\n",
    "    probe.fit(train_dataset, val_dataset)\n",
    "    probes_list.append(probe)"
   ]
  },
  {
   "cell_type": "code",
   "execution_count": null,
   "id": "084ebc5c",
   "metadata": {},
   "outputs": [],
   "source": [
    "weights = []\n",
    "biases = []\n",
    "for i in range(len(probes_list)):\n",
    "    weights.append(probes_list[i].classifier.coef_.flatten())\n",
    "    biases.append(probes_list[i].classifier.intercept_.flatten())\n",
    "\n",
    "print(biases)\n",
    "\n",
    "print(cosine_similarity([weights[0]], [weights[1]])[0, 0])\n",
    "print(cosine_similarity([weights[0]], [weights[2]])[0, 0])\n",
    "print(cosine_similarity([weights[1]], [weights[2]])[0, 0])"
   ]
  },
  {
   "cell_type": "code",
   "execution_count": null,
   "id": "2e6b737d",
   "metadata": {},
   "outputs": [],
   "source": [
    "import numpy as np\n",
    "from sklearn.metrics.pairwise import cosine_similarity\n",
    "from sklearn.linear_model import LogisticRegression\n",
    "import probe_gen.probes as probes\n",
    "from sklearn.metrics import classification_report\n",
    "from probe_gen.config import ConfigDict\n",
    "\n",
    "weights_list = []\n",
    "for i in range(5):\n",
    "    activations_tensor, attention_mask, labels_tensor = probes.load_hf_activations_and_labels_at_layer(\"refusal_llama_3b_5k\", 12, verbose=True)\n",
    "    activations_tensor = probes.MeanAggregation()(activations_tensor, attention_mask)\n",
    "    # Create train, val, and test datasets\n",
    "    train_dataset, val_dataset, test_dataset = probes.create_activation_datasets(activations_tensor, labels_tensor, val_size=0.1, test_size=0.2, balance=True, verbose=True)\n",
    "\n",
    "    probe = probes.SklearnLogisticProbe(ConfigDict(use_bias=False, C=0.001, normalize=True))\n",
    "    probe.fit(train_dataset, val_dataset)\n",
    "    weights = probe.classifier.coef_\n",
    "    weights_list.append(weights)"
   ]
  },
  {
   "cell_type": "code",
   "execution_count": null,
   "id": "d313c746",
   "metadata": {},
   "outputs": [],
   "source": [
    "weights = np.concatenate(weights_list, axis=0)\n",
    "print(weights.var(axis=0))"
   ]
  },
  {
   "cell_type": "markdown",
   "id": "895abd0e",
   "metadata": {},
   "source": [
    "# OLD CODE"
   ]
  },
  {
   "cell_type": "code",
   "execution_count": null,
   "id": "6e4a3cdf",
   "metadata": {},
   "outputs": [],
   "source": [
    "# Generate fake graph\n",
    "import seaborn as sns\n",
    "import numpy as np\n",
    "import matplotlib.pyplot as plt\n",
    "\n",
    "fig, ax = plt.subplots()\n",
    "\n",
    "# Create the heatmap with seaborn\n",
    "sns.heatmap(\n",
    "    [[0.97,0.924,0.969,0.626], [0.966,0.932,0.96,0.635], [0.968,0.922,0.97,0.6], [0.33,0.345,0.449,0.511]], \n",
    "    xticklabels=['Natural', 'Prompted', 'Other Model', 'Stories'],\n",
    "    yticklabels=['Natural', 'Prompted', 'Other Model', 'Stories'],\n",
    "    annot=True,  # This adds the text annotations\n",
    "    fmt='.2f',   # Format numbers to 3 decimal places\n",
    "    cmap='Greens',  # You can change the colormap\n",
    "    vmin=0.3,\n",
    "    vmax=1,\n",
    "    ax=ax,\n",
    "    annot_kws={\"size\": 20}\n",
    ")\n",
    "\n",
    "# Rotate x-axis labels\n",
    "#plt.xticks(rotation=45, ha=\"right\", rotation_mode=\"anchor\")\n",
    "\n",
    "# Set labels and title\n",
    "plt.xlabel('Test set', fontsize=14)\n",
    "plt.ylabel('Train set', fontsize=14)\n",
    "ax.set_title(\"Probe (AUROC) Classification of Lists Behaviour in Llama 3B\", fontsize=15)\n",
    "\n",
    "# increase graph size\n",
    "fig.set_size_inches(8, 6)\n",
    "# fig.tight_layout()\n",
    "plt.show()\n"
   ]
  },
  {
   "cell_type": "code",
   "execution_count": null,
   "id": "a1278804",
   "metadata": {},
   "outputs": [],
   "source": [
    "import probe_gen.probes as probes\n",
    "from sklearn.metrics import classification_report\n",
    "\n",
    "\n",
    "activations_tensor, attention_mask, labels_tensor = probes.load_hf_activations_and_labels_at_layer(\"refusal_5k_on\", 12, verbose=True)\n",
    "activations_tensor = probes.MeanAggregation()(activations_tensor, attention_mask)\n",
    "# Create train, val, and test datasets\n",
    "train_dataset, val_dataset, test_dataset = probes.create_activation_datasets(activations_tensor, labels_tensor, val_size=0, test_size=0.2, balance=True, verbose=True)\n"
   ]
  },
  {
   "cell_type": "code",
   "execution_count": null,
   "id": "a0c55ddf",
   "metadata": {},
   "outputs": [],
   "source": [
    "from probe_gen.config import ConfigDict\n",
    "\n",
    "C_values = [0.0001, 0.001, 0.01, 0.1, 1, 10]\n",
    "evals_norm_true_bias_true = []\n",
    "evals_norm_true_bias_false = []\n",
    "evals_norm_false_bias_true = []\n",
    "evals_norm_false_bias_false = []\n",
    "\n",
    "for C in C_values:\n",
    "    print(f\"############ {C} #############\")\n",
    "\n",
    "    probe = probes.SklearnLogisticProbe(ConfigDict(use_bias=True, C=C, normalize=True))\n",
    "    probe.fit(train_dataset, val_dataset)\n",
    "    eval_dict, _, _ = probe.eval(test_dataset)\n",
    "    evals_norm_true_bias_true.append(eval_dict)\n",
    "\n",
    "    probe = probes.SklearnLogisticProbe(ConfigDict(use_bias=False, C=C, normalize=True))\n",
    "    probe.fit(train_dataset, val_dataset)\n",
    "    eval_dict, _, _ = probe.eval(test_dataset)\n",
    "    evals_norm_true_bias_false.append(eval_dict)\n",
    "\n",
    "    probe = probes.SklearnLogisticProbe(ConfigDict(use_bias=True, C=C, normalize=False))\n",
    "    probe.fit(train_dataset, val_dataset)\n",
    "    eval_dict, _, _ = probe.eval(test_dataset)\n",
    "    evals_norm_false_bias_true.append(eval_dict)\n",
    "\n",
    "    probe = probes.SklearnLogisticProbe(ConfigDict(use_bias=False, C=C, normalize=False))\n",
    "    probe.fit(train_dataset, val_dataset)\n",
    "    eval_dict, _, _ = probe.eval(test_dataset)\n",
    "    evals_norm_false_bias_false.append(eval_dict)"
   ]
  },
  {
   "cell_type": "code",
   "execution_count": null,
   "id": "fd3245d2",
   "metadata": {},
   "outputs": [],
   "source": [
    "import matplotlib.pyplot as plt\n",
    "import numpy as np\n",
    "\n",
    "# Extract accuracy and ROC-AUC values for each configuration\n",
    "def extract_metrics(results_list):\n",
    "    accuracy = [result['accuracy'] for result in results_list]\n",
    "    roc_auc = [result['roc_auc'] for result in results_list]\n",
    "    return accuracy, roc_auc\n",
    "\n",
    "# Extract metrics for all configurations\n",
    "acc1, roc1 = extract_metrics(evals_norm_true_bias_true)\n",
    "acc2, roc2 = extract_metrics(evals_norm_true_bias_false)\n",
    "acc3, roc3 = extract_metrics(evals_norm_false_bias_true)\n",
    "acc4, roc4 = extract_metrics(evals_norm_false_bias_false)\n",
    "\n",
    "# Create the plot\n",
    "fig, (ax1, ax2) = plt.subplots(1, 2, figsize=(15, 6))\n",
    "\n",
    "# Define labels for each configuration (modify these based on your actual hyperparameter combinations)\n",
    "config_labels = [\n",
    "    'normalize=True, use_bias=True',  # Replace with actual hyperparameter values, e.g., 'penalty=l2, solver=lbfgs'\n",
    "    'normalize=True, use_bias=False',  # e.g., 'penalty=l2, solver=liblinear'\n",
    "    'normalize=False, use_bias=True',  # e.g., 'penalty=l1, solver=liblinear'\n",
    "    'normalize=False, use_bias=False'   # e.g., 'penalty=elasticnet, solver=saga'\n",
    "]\n",
    "\n",
    "# Plot accuracy (left subplot)\n",
    "ax1.semilogx(C_values, acc1, marker='o', label=config_labels[0])\n",
    "ax1.semilogx(C_values, acc2, marker='s', label=config_labels[1])\n",
    "ax1.semilogx(C_values, acc3, marker='^', label=config_labels[2])\n",
    "ax1.semilogx(C_values, acc4, marker='d', label=config_labels[3])\n",
    "\n",
    "ax1.set_xlabel('C (Inverse Regularization Strength)')\n",
    "ax1.set_ylabel('Accuracy')\n",
    "ax1.set_title('Accuracy vs C')\n",
    "ax1.grid(True, alpha=0.3)\n",
    "ax1.legend()\n",
    "\n",
    "# Plot ROC-AUC (right subplot)\n",
    "ax2.semilogx(C_values, roc1, marker='o', label=config_labels[0])\n",
    "ax2.semilogx(C_values, roc2, marker='s', label=config_labels[1])\n",
    "ax2.semilogx(C_values, roc3, marker='^', label=config_labels[2])\n",
    "ax2.semilogx(C_values, roc4, marker='d', label=config_labels[3])\n",
    "\n",
    "ax2.set_xlabel('C (Inverse Regularization Strength)')\n",
    "ax2.set_ylabel('ROC-AUC')\n",
    "ax2.set_title('ROC-AUC vs C')\n",
    "ax2.grid(True, alpha=0.3)\n",
    "ax2.legend()\n",
    "\n",
    "# Adjust layout and display\n",
    "plt.tight_layout()\n",
    "plt.show()\n",
    "\n",
    "# Optional: Find and print the best configuration for each metric\n",
    "def find_best_config(metric_lists, config_labels, C_values):\n",
    "    best_scores = []\n",
    "    for i, metrics in enumerate(metric_lists):\n",
    "        best_idx = np.argmax(metrics)\n",
    "        best_scores.append({\n",
    "            'config': config_labels[i],\n",
    "            'best_C': C_values[best_idx],\n",
    "            'best_score': metrics[best_idx]\n",
    "        })\n",
    "    return best_scores\n",
    "\n",
    "# Find best configurations\n",
    "accuracy_lists = [acc1, acc2, acc3, acc4]\n",
    "roc_lists = [roc1, roc2, roc3, roc4]\n",
    "\n",
    "print(\"Best Accuracy Results:\")\n",
    "best_acc = find_best_config(accuracy_lists, config_labels, C_values)\n",
    "for result in best_acc:\n",
    "    print(f\"{result['config']}: C={result['best_C']}, Accuracy={result['best_score']:.4f}\")\n",
    "\n",
    "print(\"\\nBest ROC-AUC Results:\")\n",
    "best_roc = find_best_config(roc_lists, config_labels, C_values)\n",
    "for result in best_roc:\n",
    "    print(f\"{result['config']}: C={result['best_C']}, ROC-AUC={result['best_score']:.4f}\")"
   ]
  }
 ],
 "metadata": {
  "kernelspec": {
   "display_name": ".venv",
   "language": "python",
   "name": "python3"
  },
  "language_info": {
   "codemirror_mode": {
    "name": "ipython",
    "version": 3
   },
   "file_extension": ".py",
   "mimetype": "text/x-python",
   "name": "python",
   "nbconvert_exporter": "python",
   "pygments_lexer": "ipython3",
   "version": "3.11.13"
  }
 },
 "nbformat": 4,
 "nbformat_minor": 5
}
