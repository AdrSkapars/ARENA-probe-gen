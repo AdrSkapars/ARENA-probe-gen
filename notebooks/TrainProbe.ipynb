{
 "cells": [
  {
   "cell_type": "markdown",
   "id": "f6b38c53",
   "metadata": {},
   "source": [
    "## Train probe\n",
    "- Goal: To train MVP probes on activations\n",
    "    - Maybe make those probes be fancy (mean, attention, softmax)\n",
    "    - Maybe make those activations be real"
   ]
  },
  {
   "cell_type": "markdown",
   "id": "c20bb32e",
   "metadata": {},
   "source": [
    "### Do probe training (HF dataset activations)"
   ]
  },
  {
   "cell_type": "markdown",
   "id": "729248f5",
   "metadata": {},
   "source": [
    "Load the activations and labels from HF, aggregate, and construct datasets to train the probe on (note sklearn doesn't require a validation dataset)."
   ]
  },
  {
   "cell_type": "code",
   "execution_count": 1,
   "id": "663c012f",
   "metadata": {},
   "outputs": [],
   "source": [
    "import probe_gen.probes as probes\n",
    "from sklearn.metrics import accuracy_score, classification_report, roc_auc_score, roc_curve"
   ]
  },
  {
   "cell_type": "code",
   "execution_count": 2,
   "id": "d7fe1567",
   "metadata": {},
   "outputs": [
    {
     "name": "stdout",
     "output_type": "stream",
     "text": [
      "loaded labels\n",
      "loaded activations\n",
      "calculated attention mask\n",
      "Train: 230 samples, 115.0 positives\n",
      "Val:   0 samples, 0.0 positives\n",
      "Test:  56 samples, 28.0 positives\n"
     ]
    }
   ],
   "source": [
    "# Load the activations and labels from hf\n",
    "activations_tensor, attention_mask, labels_tensor = probes.load_hf_activations_and_labels(\"NLie2/anthropic-refusal-activations\", \"refusal_meta-llama_Llama-3.2-3B-Instruct__on_policy\", \"../data/refusal/on_policy_raw.jsonl\", 20)\n",
    "# Aggregate the activations\n",
    "activations_tensor = probes.MeanAggregation()(activations_tensor, attention_mask)\n",
    "# Create train, val, and test datasets\n",
    "train_dataset, val_dataset, test_dataset = probes.create_activation_datasets(activations_tensor, labels_tensor, val_size=0, test_size=0.2, balance=True)"
   ]
  },
  {
   "cell_type": "markdown",
   "id": "a1e80507",
   "metadata": {},
   "source": [
    "Create a probe and fit it."
   ]
  },
  {
   "cell_type": "code",
   "execution_count": 6,
   "id": "364c5b97",
   "metadata": {},
   "outputs": [
    {
     "name": "stdout",
     "output_type": "stream",
     "text": [
      "Training probe...\n"
     ]
    }
   ],
   "source": [
    "# Initialise and fit a probe with the datasets\n",
    "probe = probes.SklearnLogisticProbe(use_bias=False)\n",
    "probe.fit(train_dataset, val_dataset, normalize=True)"
   ]
  },
  {
   "cell_type": "markdown",
   "id": "32af9fc6",
   "metadata": {},
   "source": [
    "Evaluate the probe on test dataset."
   ]
  },
  {
   "cell_type": "code",
   "execution_count": null,
   "id": "e26fc8a4",
   "metadata": {},
   "outputs": [
    {
     "name": "stdout",
     "output_type": "stream",
     "text": [
      "{'accuracy': 0.875, 'roc_auc': 0.9477040816326531, 'tpr_at_1_fpr': np.float64(0.5)}\n",
      "              precision    recall  f1-score   support\n",
      "\n",
      "         0.0       0.86      0.89      0.88        28\n",
      "         1.0       0.89      0.86      0.87        28\n",
      "\n",
      "    accuracy                           0.88        56\n",
      "   macro avg       0.88      0.88      0.87        56\n",
      "weighted avg       0.88      0.88      0.87        56\n",
      "\n"
     ]
    }
   ],
   "source": [
    "# Make predictions\n",
    "y_pred = probe.predict(test_dataset['X'])\n",
    "y_pred_proba = probe.predict_proba(test_dataset['X'])  # probabilities for class 1\n",
    "\n",
    "# Evaluate the model\n",
    "eval_dict, _, _ = probe.eval(test_dataset)\n",
    "print(eval_dict)\n",
    "print(type(classification_report(test_dataset['y'], y_pred)))"
   ]
  },
  {
   "cell_type": "code",
   "execution_count": null,
   "id": "f0fa7c79",
   "metadata": {},
   "outputs": [
    {
     "name": "stdout",
     "output_type": "stream",
     "text": [
      "{'accuracy': 0.8035714285714286, 'roc_auc': 0.9183673469387754, 'tpr_at_1_fpr': np.float64(0.42857142857142855)}\n",
      "<class 'str'>\n"
     ]
    }
   ],
   "source": [
    "# Make predictions\n",
    "y_pred2 = probe.predict(test_dataset2['X'])\n",
    "y_pred_proba2 = probe.predict_proba(test_dataset2['X'])  # probabilities for class 1\n",
    "\n",
    "# Evaluate the model\n",
    "eval_dict2, y_pred2, y_pred_proba2 = probe.eval(test_dataset2)\n",
    "print(eval_dict2)\n",
    "print(type(classification_report(test_dataset2['y'], y_pred)))"
   ]
  },
  {
   "cell_type": "markdown",
   "id": "49f1cb06",
   "metadata": {},
   "source": [
    "Nice visualisation to see how the probe splits the two classes"
   ]
  },
  {
   "cell_type": "code",
   "execution_count": null,
   "id": "de150007",
   "metadata": {},
   "outputs": [],
   "source": [
    "import matplotlib.pyplot as plt\n",
    "\n",
    "# Plot training curves\n",
    "plt.figure(figsize=(10, 4))\n",
    "\n",
    "plt.subplot(1, 1, 1)\n",
    "plt.hist(y_pred_proba[test_dataset['y'].numpy() == 0], alpha=0.5, label='Complied', bins=20)\n",
    "plt.hist(y_pred_proba[test_dataset['y'].numpy() == 1], alpha=0.5, label='Rejected', bins=20)\n",
    "plt.xlabel('Predicted Probability')\n",
    "plt.ylabel('Count')\n",
    "plt.legend()\n",
    "plt.title('Prediction Distribution')\n",
    "\n",
    "plt.tight_layout()\n",
    "plt.show()"
   ]
  },
  {
   "cell_type": "markdown",
   "id": "b10af51e",
   "metadata": {},
   "source": [
    "# Testing On-Off Probes"
   ]
  },
  {
   "cell_type": "code",
   "execution_count": 1,
   "id": "fac21fa5",
   "metadata": {},
   "outputs": [
    {
     "name": "stdout",
     "output_type": "stream",
     "text": [
      "loaded labels\n",
      "loaded activations\n",
      "calculated attention mask\n",
      "Train: 230 samples, 115.0 positives\n",
      "Val:   0 samples, 0.0 positives\n",
      "Test:  56 samples, 28.0 positives\n",
      "loaded labels\n",
      "loaded activations\n",
      "calculated attention mask\n",
      "Train: 418 samples, 209.0 positives\n",
      "Val:   0 samples, 0.0 positives\n",
      "Test:  104 samples, 52.0 positives\n"
     ]
    }
   ],
   "source": [
    "import probe_gen.probes as probes\n",
    "from sklearn.metrics import accuracy_score, classification_report, roc_auc_score, roc_curve\n",
    "\n",
    "activations_tensor, attention_mask, labels_tensor = probes.load_hf_activations_and_labels(\"NLie2/anthropic-refusal-activations\", \"refusal_meta-llama_Llama-3.2-3B-Instruct__on_policy\", \"../data/refusal/on_policy_raw.jsonl\", 18)\n",
    "activations_tensor = probes.MeanAggregation()(activations_tensor, attention_mask)\n",
    "train_dataset_on, val_dataset_on, test_dataset_on = probes.create_activation_datasets(activations_tensor, labels_tensor, val_size=0, test_size=0.2, balance=True)\n",
    "\n",
    "activations_tensor, attention_mask, labels_tensor = probes.load_hf_activations_and_labels(\"NLie2/anthropic-refusal-activations\", \"refusal_meta-llama_Llama-3.2-3B-Instruct__off_policy_other_model\", \"../data/refusal/off_policy_raw.jsonl\", 18)\n",
    "activations_tensor = probes.MeanAggregation()(activations_tensor, attention_mask)\n",
    "train_dataset_off, val_dataset_off, test_dataset_off = probes.create_activation_datasets(activations_tensor, labels_tensor, val_size=0, test_size=0.2, balance=True)"
   ]
  },
  {
   "cell_type": "code",
   "execution_count": 8,
   "id": "d84ea485",
   "metadata": {},
   "outputs": [
    {
     "name": "stdout",
     "output_type": "stream",
     "text": [
      "Training probe...\n",
      "Training probe...\n"
     ]
    }
   ],
   "source": [
    "# Initialise and fit a probe with the datasets\n",
    "probe_on = probes.SklearnLogisticProbe(use_bias=False)\n",
    "probe_on.fit(train_dataset_on, val_dataset_on, normalize=True)\n",
    "# Initialise and fit a probe with the datasets\n",
    "probe_off = probes.SklearnLogisticProbe(use_bias=False)\n",
    "probe_off.fit(train_dataset_off, val_dataset_off, normalize=True)"
   ]
  },
  {
   "cell_type": "code",
   "execution_count": 9,
   "id": "23c68d3e",
   "metadata": {},
   "outputs": [
    {
     "name": "stdout",
     "output_type": "stream",
     "text": [
      "{'accuracy': 0.9107142857142857, 'roc_auc': 0.9477040816326531, 'tpr_at_1_fpr': np.float64(0.4642857142857143)}\n",
      "{'accuracy': 0.6057692307692307, 'roc_auc': 0.7444526627218935, 'tpr_at_1_fpr': np.float64(0.19230769230769232)}\n",
      "{'accuracy': 0.7678571428571429, 'roc_auc': 0.8762755102040817, 'tpr_at_1_fpr': np.float64(0.39285714285714285)}\n",
      "{'accuracy': 0.75, 'roc_auc': 0.8180473372781065, 'tpr_at_1_fpr': np.float64(0.40384615384615385)}\n"
     ]
    }
   ],
   "source": [
    "eval_dict_on_on, _, _ = probe_on.eval(test_dataset_on)\n",
    "eval_dict_on_off, _, _ = probe_on.eval(test_dataset_off)\n",
    "eval_dict_off_on, _, _ = probe_off.eval(test_dataset_on)\n",
    "eval_dict_off_off, _, _ = probe_off.eval(test_dataset_off)\n",
    "print(eval_dict_on_on)\n",
    "print(eval_dict_on_off)\n",
    "print(eval_dict_off_on)\n",
    "print(eval_dict_off_off)"
   ]
  },
  {
   "cell_type": "code",
   "execution_count": 10,
   "id": "59b5ef78",
   "metadata": {},
   "outputs": [
    {
     "name": "stdout",
     "output_type": "stream",
     "text": [
      "             on                   off                accuracy\n",
      "on    0.9107142857142857   0.6057692307692307\n",
      "off   0.7678571428571429   0.75\n"
     ]
    }
   ],
   "source": [
    "key = 'accuracy'\n",
    "\n",
    "print(f\"             on                   off                {key}\")\n",
    "print(f\"on    {eval_dict_on_on[key]}   {eval_dict_on_off[key]}\")\n",
    "print(f\"off   {eval_dict_off_on[key]}   {eval_dict_off_off[key]}\")"
   ]
  },
  {
   "cell_type": "code",
   "execution_count": null,
   "id": "f6740325",
   "metadata": {},
   "outputs": [],
   "source": []
  },
  {
   "cell_type": "code",
   "execution_count": 20,
   "id": "1334c66a",
   "metadata": {},
   "outputs": [
    {
     "data": {
      "image/png": "[encoded data removed]",
      "text/plain": [
       "<Figure size 800x600 with 1 Axes>"
      ]
     },
     "metadata": {},
     "output_type": "display_data"
    }
   ],
   "source": [
    "import matplotlib.pyplot as plt\n",
    "\n",
    "fpr, tpr, thresholds = roc_curve(test_dataset['y'], y_pred_proba)\n",
    "fpr2, tpr2, thresholds2 = roc_curve(test_dataset2['y'], y_pred_proba2)\n",
    "\n",
    "roc_auc = eval_dict['roc_auc']\n",
    "roc_auc2 = eval_dict2['roc_auc']\n",
    "\n",
    "plt.figure(figsize=(8, 6))\n",
    "plt.plot(fpr, tpr, label=f'on_policy (AUC = {roc_auc:.3f})')\n",
    "plt.plot(fpr2, tpr2, label=f'off_policy_other_model (AUC = {roc_auc2:.3f})')\n",
    "plt.plot([0, 1], [0, 1], 'k--', label='Random')\n",
    "plt.xlabel('False Positive Rate')\n",
    "plt.ylabel('True Positive Rate')\n",
    "plt.title('ROC Curve')\n",
    "plt.legend()\n",
    "plt.show()"
   ]
  },
  {
   "cell_type": "markdown",
   "id": "d4e984fa",
   "metadata": {},
   "source": []
  },
  {
   "cell_type": "markdown",
   "id": "c39b9f54",
   "metadata": {},
   "source": [
    "# Layer experiments"
   ]
  },
  {
   "cell_type": "code",
   "execution_count": 1,
   "id": "1667d8ba",
   "metadata": {},
   "outputs": [],
   "source": [
    "import probe_gen.probes as probes\n",
    "from sklearn.metrics import accuracy_score, classification_report, roc_auc_score, roc_curve"
   ]
  },
  {
   "cell_type": "code",
   "execution_count": 10,
   "id": "597d1398",
   "metadata": {},
   "outputs": [
    {
     "name": "stdout",
     "output_type": "stream",
     "text": [
      "######################### 18 #############################\n",
      "loaded labels\n",
      "dict_keys([18, 19, 20, 21, 22, 23, 24, 25, 26, 27])\n",
      "loaded activations\n",
      "calculated attention mask\n",
      "Train: 230 samples, 115.0 positives\n",
      "Val:   0 samples, 0.0 positives\n",
      "Test:  56 samples, 28.0 positives\n",
      "Training probe...\n",
      "######################### 19 #############################\n",
      "loaded labels\n",
      "dict_keys([18, 19, 20, 21, 22, 23, 24, 25, 26, 27])\n",
      "loaded activations\n",
      "calculated attention mask\n",
      "Train: 230 samples, 115.0 positives\n",
      "Val:   0 samples, 0.0 positives\n",
      "Test:  56 samples, 28.0 positives\n",
      "Training probe...\n",
      "######################### 20 #############################\n",
      "loaded labels\n",
      "dict_keys([18, 19, 20, 21, 22, 23, 24, 25, 26, 27])\n",
      "loaded activations\n",
      "calculated attention mask\n",
      "Train: 230 samples, 115.0 positives\n",
      "Val:   0 samples, 0.0 positives\n",
      "Test:  56 samples, 28.0 positives\n",
      "Training probe...\n",
      "######################### 21 #############################\n",
      "loaded labels\n",
      "dict_keys([18, 19, 20, 21, 22, 23, 24, 25, 26, 27])\n",
      "loaded activations\n",
      "calculated attention mask\n",
      "Train: 230 samples, 115.0 positives\n",
      "Val:   0 samples, 0.0 positives\n",
      "Test:  56 samples, 28.0 positives\n",
      "Training probe...\n",
      "######################### 22 #############################\n",
      "loaded labels\n",
      "dict_keys([18, 19, 20, 21, 22, 23, 24, 25, 26, 27])\n",
      "loaded activations\n",
      "calculated attention mask\n",
      "Train: 230 samples, 115.0 positives\n",
      "Val:   0 samples, 0.0 positives\n",
      "Test:  56 samples, 28.0 positives\n",
      "Training probe...\n",
      "######################### 23 #############################\n",
      "loaded labels\n",
      "dict_keys([18, 19, 20, 21, 22, 23, 24, 25, 26, 27])\n",
      "loaded activations\n",
      "calculated attention mask\n",
      "Train: 230 samples, 115.0 positives\n",
      "Val:   0 samples, 0.0 positives\n",
      "Test:  56 samples, 28.0 positives\n",
      "Training probe...\n",
      "######################### 24 #############################\n",
      "loaded labels\n",
      "dict_keys([18, 19, 20, 21, 22, 23, 24, 25, 26, 27])\n",
      "loaded activations\n",
      "calculated attention mask\n",
      "Train: 230 samples, 115.0 positives\n",
      "Val:   0 samples, 0.0 positives\n",
      "Test:  56 samples, 28.0 positives\n",
      "Training probe...\n",
      "######################### 25 #############################\n",
      "loaded labels\n",
      "dict_keys([18, 19, 20, 21, 22, 23, 24, 25, 26, 27])\n",
      "loaded activations\n",
      "calculated attention mask\n",
      "Train: 230 samples, 115.0 positives\n",
      "Val:   0 samples, 0.0 positives\n",
      "Test:  56 samples, 28.0 positives\n",
      "Training probe...\n",
      "######################### 26 #############################\n",
      "loaded labels\n",
      "dict_keys([18, 19, 20, 21, 22, 23, 24, 25, 26, 27])\n",
      "loaded activations\n",
      "calculated attention mask\n",
      "Train: 230 samples, 115.0 positives\n",
      "Val:   0 samples, 0.0 positives\n",
      "Test:  56 samples, 28.0 positives\n",
      "Training probe...\n",
      "######################### 27 #############################\n",
      "loaded labels\n",
      "dict_keys([18, 19, 20, 21, 22, 23, 24, 25, 26, 27])\n",
      "loaded activations\n",
      "calculated attention mask\n",
      "Train: 230 samples, 115.0 positives\n",
      "Val:   0 samples, 0.0 positives\n",
      "Test:  56 samples, 28.0 positives\n",
      "Training probe...\n",
      "[0.9107142857142857, 0.9107142857142857, 0.875, 0.875, 0.8928571428571429, 0.875, 0.875, 0.875, 0.9107142857142857, 0.9107142857142857]\n",
      "[0.9477040816326531, 0.951530612244898, 0.9477040816326531, 0.9464285714285714, 0.9413265306122449, 0.9387755102040817, 0.9489795918367346, 0.9489795918367347, 0.9528061224489796, 0.9528061224489797]\n"
     ]
    }
   ],
   "source": [
    "accuracies_on = []\n",
    "roc_aucs_on = []\n",
    "for i in range(18, 28):\n",
    "    print(f\"######################### {i} #############################\")\n",
    "\n",
    "    # Load the activations and labels from hf\n",
    "    activations_tensor, attention_mask, labels_tensor = probes.load_hf_activations_and_labels(\"NLie2/anthropic-refusal-activations\", \"refusal_meta-llama_Llama-3.2-3B-Instruct__on_policy\", \"../data/refusal/on_policy_raw.jsonl\", i)\n",
    "    activations_tensor = probes.MeanAggregation()(activations_tensor, attention_mask)\n",
    "    train_dataset, val_dataset, test_dataset = probes.create_activation_datasets(activations_tensor, labels_tensor, val_size=0, test_size=0.2, balance=True)\n",
    "\n",
    "    # Initialise and fit a probe with the datasets\n",
    "    probe = probes.SklearnLogisticProbe(use_bias=False)\n",
    "    probe.fit(train_dataset, val_dataset, normalize=True)\n",
    "\n",
    "    # Evaluate the model\n",
    "    eval_dict, _, _ = probe.eval(test_dataset)\n",
    "    accuracies_on.append(eval_dict['accuracy'])\n",
    "    roc_aucs_on.append(eval_dict['roc_auc'])\n",
    "\n",
    "print(accuracies_on)\n",
    "print(roc_aucs_on)"
   ]
  },
  {
   "cell_type": "code",
   "execution_count": 12,
   "id": "4e5c16a8",
   "metadata": {},
   "outputs": [
    {
     "name": "stdout",
     "output_type": "stream",
     "text": [
      "######################### 18 #############################\n",
      "loaded labels\n",
      "dict_keys([18, 19, 20, 21, 22, 23, 24, 25, 26, 27])\n",
      "loaded activations\n",
      "calculated attention mask\n",
      "Train: 418 samples, 209.0 positives\n",
      "Val:   0 samples, 0.0 positives\n",
      "Test:  104 samples, 52.0 positives\n",
      "Training probe...\n",
      "######################### 19 #############################\n",
      "loaded labels\n",
      "dict_keys([18, 19, 20, 21, 22, 23, 24, 25, 26, 27])\n",
      "loaded activations\n",
      "calculated attention mask\n",
      "Train: 418 samples, 209.0 positives\n",
      "Val:   0 samples, 0.0 positives\n",
      "Test:  104 samples, 52.0 positives\n",
      "Training probe...\n",
      "######################### 20 #############################\n",
      "loaded labels\n",
      "dict_keys([18, 19, 20, 21, 22, 23, 24, 25, 26, 27])\n",
      "loaded activations\n",
      "calculated attention mask\n",
      "Train: 418 samples, 209.0 positives\n",
      "Val:   0 samples, 0.0 positives\n",
      "Test:  104 samples, 52.0 positives\n",
      "Training probe...\n",
      "######################### 21 #############################\n",
      "loaded labels\n",
      "dict_keys([18, 19, 20, 21, 22, 23, 24, 25, 26, 27])\n",
      "loaded activations\n",
      "calculated attention mask\n",
      "Train: 418 samples, 209.0 positives\n",
      "Val:   0 samples, 0.0 positives\n",
      "Test:  104 samples, 52.0 positives\n",
      "Training probe...\n",
      "######################### 22 #############################\n",
      "loaded labels\n",
      "dict_keys([18, 19, 20, 21, 22, 23, 24, 25, 26, 27])\n",
      "loaded activations\n",
      "calculated attention mask\n",
      "Train: 418 samples, 209.0 positives\n",
      "Val:   0 samples, 0.0 positives\n",
      "Test:  104 samples, 52.0 positives\n",
      "Training probe...\n",
      "######################### 23 #############################\n",
      "loaded labels\n",
      "dict_keys([18, 19, 20, 21, 22, 23, 24, 25, 26, 27])\n",
      "loaded activations\n",
      "calculated attention mask\n",
      "Train: 418 samples, 209.0 positives\n",
      "Val:   0 samples, 0.0 positives\n",
      "Test:  104 samples, 52.0 positives\n",
      "Training probe...\n",
      "######################### 24 #############################\n",
      "loaded labels\n",
      "dict_keys([18, 19, 20, 21, 22, 23, 24, 25, 26, 27])\n",
      "loaded activations\n",
      "calculated attention mask\n",
      "Train: 418 samples, 209.0 positives\n",
      "Val:   0 samples, 0.0 positives\n",
      "Test:  104 samples, 52.0 positives\n",
      "Training probe...\n",
      "######################### 25 #############################\n",
      "loaded labels\n",
      "dict_keys([18, 19, 20, 21, 22, 23, 24, 25, 26, 27])\n",
      "loaded activations\n",
      "calculated attention mask\n",
      "Train: 418 samples, 209.0 positives\n",
      "Val:   0 samples, 0.0 positives\n",
      "Test:  104 samples, 52.0 positives\n",
      "Training probe...\n",
      "######################### 26 #############################\n",
      "loaded labels\n",
      "dict_keys([18, 19, 20, 21, 22, 23, 24, 25, 26, 27])\n",
      "loaded activations\n",
      "calculated attention mask\n",
      "Train: 418 samples, 209.0 positives\n",
      "Val:   0 samples, 0.0 positives\n",
      "Test:  104 samples, 52.0 positives\n",
      "Training probe...\n",
      "######################### 27 #############################\n",
      "loaded labels\n",
      "dict_keys([18, 19, 20, 21, 22, 23, 24, 25, 26, 27])\n",
      "loaded activations\n",
      "calculated attention mask\n",
      "Train: 418 samples, 209.0 positives\n",
      "Val:   0 samples, 0.0 positives\n",
      "Test:  104 samples, 52.0 positives\n",
      "Training probe...\n",
      "[0.75, 0.7692307692307693, 0.7596153846153846, 0.7596153846153846, 0.75, 0.7307692307692307, 0.7403846153846154, 0.75, 0.7115384615384616, 0.7019230769230769]\n",
      "[0.8180473372781065, 0.8128698224852071, 0.8187869822485208, 0.8121301775147928, 0.8091715976331361, 0.8128698224852071, 0.8125, 0.8025147928994082, 0.794008875739645, 0.7655325443786982]\n"
     ]
    }
   ],
   "source": [
    "accuracies_off = []\n",
    "roc_aucs_off = []\n",
    "for i in range(18, 28):\n",
    "    print(f\"######################### {i} #############################\")\n",
    "\n",
    "    # Load the activations and labels from hf\n",
    "    activations_tensor, attention_mask, labels_tensor = probes.load_hf_activations_and_labels(\"NLie2/anthropic-refusal-activations\", \"refusal_meta-llama_Llama-3.2-3B-Instruct__off_policy_other_model\", \"../data/refusal/off_policy_raw.jsonl\", i)\n",
    "    activations_tensor = probes.MeanAggregation()(activations_tensor, attention_mask)\n",
    "    train_dataset, val_dataset, test_dataset = probes.create_activation_datasets(activations_tensor, labels_tensor, val_size=0, test_size=0.2, balance=True)\n",
    "\n",
    "    # Initialise and fit a probe with the datasets\n",
    "    probe = probes.SklearnLogisticProbe(use_bias=False)\n",
    "    probe.fit(train_dataset, val_dataset, normalize=True)\n",
    "\n",
    "    # Evaluate the model\n",
    "    eval_dict, _, _ = probe.eval(test_dataset)\n",
    "    accuracies_off.append(eval_dict['accuracy'])\n",
    "    roc_aucs_off.append(eval_dict['roc_auc'])\n",
    "\n",
    "print(accuracies_off)\n",
    "print(roc_aucs_off)"
   ]
  },
  {
   "cell_type": "code",
   "execution_count": 14,
   "id": "0ec2a3c1",
   "metadata": {},
   "outputs": [
    {
     "data": {
      "image/png": "[encoded data removed]",
      "text/plain": [
       "<Figure size 1200x500 with 2 Axes>"
      ]
     },
     "metadata": {},
     "output_type": "display_data"
    }
   ],
   "source": [
    "import matplotlib.pyplot as plt\n",
    "\n",
    "fig, (ax1, ax2) = plt.subplots(1, 2, figsize=(12, 5))\n",
    "\n",
    "# Plot accuracies\n",
    "ax1.plot([i for i in range(18,28)], accuracies_on, marker='o', linewidth=2, markersize=6, label='on_policy')\n",
    "ax1.plot([i for i in range(18,28)], accuracies_off, marker='o', linewidth=2, markersize=6, label='off_policy')\n",
    "ax1.set_title('Accuracy')\n",
    "ax1.set_xlabel('Layer')\n",
    "ax1.set_ylabel('Accuracy')\n",
    "ax1.grid(True, alpha=0.3)\n",
    "\n",
    "# Plot ROC AUCs\n",
    "ax2.plot([i for i in range(18,28)], roc_aucs_on, marker='s', linewidth=2, markersize=6, label='on_policy')\n",
    "ax2.plot([i for i in range(18,28)], roc_aucs_off, marker='s', linewidth=2, markersize=6, label='off_policy')\n",
    "ax2.set_title('ROC AUC')\n",
    "ax2.set_xlabel('Layer')\n",
    "ax2.set_ylabel('ROC AUC')\n",
    "ax2.grid(True, alpha=0.3)\n",
    "\n",
    "plt.tight_layout()\n",
    "plt.legend()\n",
    "plt.show()"
   ]
  },
  {
   "cell_type": "markdown",
   "id": "dc3d303b",
   "metadata": {},
   "source": [
    "# Torch training (not yet integrated / needed)"
   ]
  },
  {
   "cell_type": "code",
   "execution_count": null,
   "id": "dcb13be8",
   "metadata": {},
   "outputs": [],
   "source": [
    "# Now actually train the probe on training data and evaluate on test data\n",
    "import matplotlib.pyplot as plt\n",
    "from probe_gen.probe_train import train_probe, evaluate_probe\n",
    "\n",
    "print(\"Training linear probe...\")\n",
    "print(f\"Train data: {train_activations.shape}, Val data: {val_activations.shape}\")\n",
    "\n",
    "# Train probe\n",
    "model, train_losses, val_losses = train_probe(\n",
    "    train_activations=train_activations,\n",
    "    train_labels=train_labels,\n",
    "    val_activations=val_activations,\n",
    "    val_labels=val_labels,\n",
    "    probe_type=\"mean\",\n",
    "    learning_rate=5e-3,\n",
    "    batch_size=16,\n",
    "    num_epochs=100,\n",
    "    early_stop_patience=20,\n",
    "    silent=True\n",
    ")\n",
    "\n",
    "# Evaluate probe\n",
    "print(\"\\nEvaluating probe...\")\n",
    "results = evaluate_probe(model, test_activations, test_labels)\n",
    "\n",
    "print(f\"Test Accuracy: {results['accuracy']:.4f}\")\n",
    "print(f\"Test AUC-ROC: {results['auc_roc']:.4f}\")\n",
    "print(f\"TPR at 1% FPR: {results['tpr_at_1_fpr']:.4f}\")\n",
    "\n",
    "# Plot training curves\n",
    "plt.figure(figsize=(10, 4))\n",
    "\n",
    "plt.subplot(1, 2, 1)\n",
    "plt.plot(train_losses, label='Train Loss')\n",
    "plt.plot(val_losses, label='Validation Loss')\n",
    "plt.xlabel('Epoch')\n",
    "plt.ylabel('Loss')\n",
    "plt.legend()\n",
    "plt.title('Training Curves')\n",
    "\n",
    "plt.subplot(1, 2, 2)\n",
    "plt.hist(results['probabilities'][test_labels.numpy() == 0], alpha=0.5, label='Complied', bins=20)\n",
    "plt.hist(results['probabilities'][test_labels.numpy() == 1], alpha=0.5, label='Rejected', bins=20)\n",
    "plt.xlabel('Predicted Probability')\n",
    "plt.ylabel('Count')\n",
    "plt.legend()\n",
    "plt.title('Prediction Distribution')\n",
    "\n",
    "plt.tight_layout()\n",
    "plt.show()"
   ]
  },
  {
   "cell_type": "code",
   "execution_count": null,
   "id": "c97c8d7b",
   "metadata": {},
   "outputs": [],
   "source": [
    "import torch.nn as nn\n",
    "# Show some values\n",
    "criterion = nn.BCEWithLogitsLoss()\n",
    "for i in range(10):\n",
    "    logits = model(train_activations[i:i+1,:,:])\n",
    "    print(train_labels[i], logits[0])\n",
    "    print(torch.sigmoid(logits[0]))\n",
    "    print(torch.sigmoid(logits[0]) > 0.5)\n",
    "    print(criterion(logits[0], train_labels[i].float()))\n",
    "    print()"
   ]
  },
  {
   "cell_type": "markdown",
   "id": "07fd74a7",
   "metadata": {},
   "source": [
    "### Do probe experiments (HF dataset activations)"
   ]
  },
  {
   "cell_type": "code",
   "execution_count": null,
   "id": "e94002ca",
   "metadata": {},
   "outputs": [],
   "source": [
    "import json\n",
    "import torch\n",
    "import pandas as pd\n",
    "from huggingface_hub import hf_hub_download\n",
    "from probe_gen.probe_train import train_probe, evaluate_probe\n",
    "\n",
    "for layer_num in range(5):\n",
    "    print(f\"\\n\\nLayer {layer_num}\")\n",
    "    # Load the labels\n",
    "    labels_list = []\n",
    "    with open(\"../data/refusal/on_policy_raw.jsonl\", 'r') as file:\n",
    "        for line in file:\n",
    "            data = json.loads(line)\n",
    "            if data[\"scale_labels\"] <= 5:\n",
    "                labels_list.append(1.0)\n",
    "            else:\n",
    "                labels_list.append(0.0)\n",
    "    labels_tensor = torch.tensor(labels_list)\n",
    "    print(\"loaded labels\")\n",
    "\n",
    "    # Load activations\n",
    "    file_path = hf_hub_download(\n",
    "        repo_id=\"NLie2/anthropic-refusal-activations\",\n",
    "        filename=\"dataframe_with_activations.pkl\",\n",
    "        repo_type=\"dataset\")\n",
    "    df = pd.read_pickle(file_path)\n",
    "    print(f\"loaded activations, with shape: {df.shape}\")\n",
    "\n",
    "    # Extract all activations\n",
    "    all_activations = []\n",
    "    for i in range(len(df)):\n",
    "        all_activations.append(df.loc[i][\"activations\"][0])\n",
    "    activations_tensor = torch.cat(all_activations, dim=0).unsqueeze(1).to(torch.float32)\n",
    "\n",
    "    # Get indices for each label\n",
    "    label_0_indices = (labels_tensor == 0.0).nonzero(as_tuple=True)[0]\n",
    "    label_1_indices = (labels_tensor == 1.0).nonzero(as_tuple=True)[0]\n",
    "    min_class_count = min(len(label_0_indices), len(label_1_indices))\n",
    "\n",
    "    # Subsample both classes to same size\n",
    "    label_0_indices = label_0_indices[:min_class_count]\n",
    "    label_1_indices = label_1_indices[:min_class_count]\n",
    "\n",
    "    # Shuffle indices\n",
    "    label_0_indices = label_0_indices[torch.randperm(len(label_0_indices))]\n",
    "    label_1_indices = label_1_indices[torch.randperm(len(label_1_indices))]\n",
    "\n",
    "    # Compute split sizes\n",
    "    n_total = min_class_count\n",
    "    n_train = int(0.8 * n_total)\n",
    "    n_val = int(0.1 * n_total)\n",
    "    n_test = n_total - n_train - n_val\n",
    "\n",
    "    # Split label 0s\n",
    "    train_0 = label_0_indices[:n_train]\n",
    "    val_0 = label_0_indices[n_train:n_train + n_val]\n",
    "    test_0 = label_0_indices[n_train + n_val:]\n",
    "\n",
    "    # Split label 1s\n",
    "    train_1 = label_1_indices[:n_train]\n",
    "    val_1 = label_1_indices[n_train:n_train + n_val]\n",
    "    test_1 = label_1_indices[n_train + n_val:]\n",
    "\n",
    "    # Concatenate splits and shuffle within each\n",
    "    def get_split(indices_0, indices_1):\n",
    "        indices = torch.cat([indices_0, indices_1])\n",
    "        indices = indices[torch.randperm(len(indices))]\n",
    "        return activations_tensor[indices], labels_tensor[indices]\n",
    "\n",
    "    train_activations, train_labels = get_split(train_0, train_1)\n",
    "    val_activations, val_labels = get_split(val_0, val_1)\n",
    "    test_activations, test_labels = get_split(test_0, test_1)\n",
    "\n",
    "    # Confirm balance\n",
    "    print(f\"Train: {train_labels.shape[0]} samples, {train_labels.sum()} positives\")\n",
    "    print(f\"Val:   {val_labels.shape[0]} samples, {val_labels.sum()} positives\")\n",
    "    print(f\"Test:  {test_labels.shape[0]} samples, {test_labels.sum()} positives\")\n",
    "\n",
    "    # Now actually train the probe on training data and evaluate on test data\n",
    "\n",
    "    print(\"Training linear probe...\")\n",
    "    print(f\"Train data: {train_activations.shape}, Val data: {val_activations.shape}\")\n",
    "\n",
    "    # Train probe\n",
    "    model, train_losses, val_losses = train_probe(\n",
    "        train_activations=train_activations,\n",
    "        train_labels=train_labels,\n",
    "        val_activations=val_activations,\n",
    "        val_labels=val_labels,\n",
    "        probe_type=\"mean\",\n",
    "        learning_rate=5e-3,\n",
    "        batch_size=16,\n",
    "        num_epochs=100,\n",
    "        early_stop_patience=20,\n",
    "        silent=True\n",
    "    )\n",
    "\n",
    "    # Evaluate probe\n",
    "    print(\"\\nEvaluating probe...\")\n",
    "    results = evaluate_probe(model, test_activations, test_labels)\n",
    "\n",
    "    print(\"Test Accuracy, Test AUC-ROC, TPR at 1% FPR\")\n",
    "    print(f\"{results['accuracy']:.4f}\\t{results['auc_roc']:.4f}\\t{results['tpr_at_1_fpr']:.4f}\")\n"
   ]
  }
 ],
 "metadata": {
  "kernelspec": {
   "display_name": "Python (uv)",
   "language": "python",
   "name": "uv-env"
  },
  "language_info": {
   "codemirror_mode": {
    "name": "ipython",
    "version": 3
   },
   "file_extension": ".py",
   "mimetype": "text/x-python",
   "name": "python",
   "nbconvert_exporter": "python",
   "pygments_lexer": "ipython3",
   "version": "3.11.13"
  }
 },
 "nbformat": 4,
 "nbformat_minor": 5
}
