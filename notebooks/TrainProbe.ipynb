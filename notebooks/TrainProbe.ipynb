{
 "cells": [
  {
   "cell_type": "markdown",
   "id": "02899f49",
   "metadata": {},
   "source": [
    "# Probe Training and Evaluation"
   ]
  },
  {
   "cell_type": "code",
   "execution_count": null,
   "id": "d7fe1567",
   "metadata": {},
   "outputs": [],
   "source": [
    "import probe_gen.probes as probes\n",
    "from sklearn.metrics import classification_report\n",
    "from probe_gen.config import ConfigDict\n",
    "\n",
    "# If 'torch' not in name, we are using sklearn probes which dont use a val set to fit\n",
    "# I suggest not using mean_torch as it is not implemented fully?\n",
    "probe_type = [\"mean\", \"attention_torch\", \"mean_torch\"][1]\n",
    "# synthetic training set\n",
    "dataset_name = \"deception_rp_mistral_7b_3k\"\n",
    "\n",
    "# Can set hyperparameters or load best ones we found if we did\n",
    "# cfg = ConfigDict(layer=12, use_bias=True, normalize=True, c=0.001)\n",
    "cfg = ConfigDict.from_json(probe_type, dataset_name)\n",
    "\n",
    "# Create train, val, and test datasets\n",
    "activations_tensor, attention_mask, labels_tensor = probes.load_hf_activations_and_labels_at_layer(dataset_name, layer=cfg.layer, verbose=True)\n",
    "if \"mean\" in probe_type:\n",
    "    activations_tensor = probes.MeanAggregation()(activations_tensor, attention_mask)\n",
    "train_dataset, val_dataset, test_dataset = probes.create_activation_datasets(activations_tensor, labels_tensor, splits=[2500, 500, 0], verbose=True)\n",
    "\n",
    "# Initialise and fit a probe with the datasets\n",
    "if probe_type == \"mean\":\n",
    "    probe = probes.SklearnLogisticProbe(cfg)\n",
    "elif probe_type == \"mean_torch\":\n",
    "    probe = probes.TorchLinearProbe(cfg)\n",
    "elif probe_type == \"attention_torch\":\n",
    "    probe = probes.TorchAttentionProbe(cfg)\n",
    "probe.fit(train_dataset, val_dataset)\n",
    "\n",
    "# Print val results\n",
    "eval_dict, y_pred, y_pred_proba = probe.eval(val_dataset)\n",
    "print('\\nroc_auc:', eval_dict['roc_auc'])"
   ]
  },
  {
   "cell_type": "code",
   "execution_count": null,
   "id": "0bfd7383",
   "metadata": {},
   "outputs": [],
   "source": [
    "# Eval against synthetic test set and real test set. The goal is to reduce the gap and make real (\"deception_rp_llama_3b_500\") performance better\n",
    "for new_dataset_name in [\"deception_rp_mistral_7b_500\", \"deception_rp_llama_3b_500\"]:\n",
    "    print(f\"\\nEvaluating on {new_dataset_name}\")\n",
    "    activations_tensor, attention_mask, labels_tensor = probes.load_hf_activations_and_labels_at_layer(new_dataset_name, layer=cfg.layer, verbose=True)\n",
    "    if \"mean\" in probe_type:\n",
    "        activations_tensor = probes.MeanAggregation()(activations_tensor, attention_mask)\n",
    "    _, _, test_dataset = probes.create_activation_datasets(activations_tensor, labels_tensor, splits=[0, 0, 1000], verbose=True)\n",
    "\n",
    "    # Evaluate the model\n",
    "    eval_dict, y_pred, y_pred_proba = probe.eval(test_dataset)\n",
    "    print(eval_dict)\n",
    "    print(classification_report(test_dataset['y'], y_pred))"
   ]
  },
  {
   "cell_type": "code",
   "execution_count": null,
   "id": "503ced3b",
   "metadata": {},
   "outputs": [],
   "source": [
    "# Nice visualisation to see how the probe splits the two classes\n",
    "from probe_gen.standard_experiments.experiment_plotting import plot_per_class_prediction_distributions\n",
    "\n",
    "plot_per_class_prediction_distributions(test_dataset['y'], y_pred_proba)"
   ]
  },
  {
   "cell_type": "markdown",
   "id": "e423e976",
   "metadata": {},
   "source": [
    "## Hyperparameter Search"
   ]
  },
  {
   "cell_type": "code",
   "execution_count": null,
   "id": "dc20327b",
   "metadata": {},
   "outputs": [],
   "source": [
    "from probe_gen.standard_experiments.hyperparameter_search import run_full_hyp_search_on_layers\n",
    "from probe_gen.standard_experiments.hyperparameter_search import load_best_params_from_search\n",
    "from probe_gen.config import ConfigDict\n",
    "\n",
    "probe_type = \"attention_torch\"\n",
    "dataset_name = \"deception_rp_mistral_7b_3k\"\n",
    "model_name = \"llama_3b\"\n",
    "\n",
    "# You might not be able to run all layers at once, so can do them in batches like below\n",
    "# Or just layer 12 for faster results\n",
    "layer_list = [6,9,12,15,18,21]\n",
    "run_full_hyp_search_on_layers(\n",
    "    probe_type, dataset_name, model_name, layer_list\n",
    ")"
   ]
  }
 ],
 "metadata": {
  "kernelspec": {
   "display_name": ".venv",
   "language": "python",
   "name": "python3"
  },
  "language_info": {
   "codemirror_mode": {
    "name": "ipython",
    "version": 3
   },
   "file_extension": ".py",
   "mimetype": "text/x-python",
   "name": "python",
   "nbconvert_exporter": "python",
   "pygments_lexer": "ipython3",
   "version": "3.11.13"
  }
 },
 "nbformat": 4,
 "nbformat_minor": 5
}
