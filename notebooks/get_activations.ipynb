{
 "cells": [
  {
   "cell_type": "code",
   "execution_count": 1,
   "id": "77dcf1a2",
   "metadata": {},
   "outputs": [
    {
     "name": "stdout",
     "output_type": "stream",
     "text": [
      "Sat Aug  9 15:46:31 2025       \n",
      "+-----------------------------------------------------------------------------------------+\n",
      "| NVIDIA-SMI 565.57.01              Driver Version: 565.57.01      CUDA Version: 12.7     |\n",
      "|-----------------------------------------+------------------------+----------------------+\n",
      "| GPU  Name                 Persistence-M | Bus-Id          Disp.A | Volatile Uncorr. ECC |\n",
      "| Fan  Temp   Perf          Pwr:Usage/Cap |           Memory-Usage | GPU-Util  Compute M. |\n",
      "|                                         |                        |               MIG M. |\n",
      "|=========================================+========================+======================|\n",
      "|   0  NVIDIA L40S                    On  |   00000000:33:00.0 Off |                    0 |\n",
      "| N/A   30C    P8             33W /  350W |       1MiB /  46068MiB |      0%      Default |\n",
      "|                                         |                        |                  N/A |\n",
      "+-----------------------------------------+------------------------+----------------------+\n",
      "                                                                                         \n",
      "+-----------------------------------------------------------------------------------------+\n",
      "| Processes:                                                                              |\n",
      "|  GPU   GI   CI        PID   Type   Process name                              GPU Memory |\n",
      "|        ID   ID                                                               Usage      |\n",
      "|=========================================================================================|\n",
      "|  No running processes found                                                             |\n",
      "+-----------------------------------------------------------------------------------------+\n"
     ]
    }
   ],
   "source": [
    "!nvidia-smi"
   ]
  },
  {
   "cell_type": "code",
   "execution_count": 1,
   "id": "7e7135a1",
   "metadata": {},
   "outputs": [],
   "source": [
    "# imports\n",
    "import torch\n",
    "from transformers import AutoModelForCausalLM, AutoTokenizer \n",
    "from datasets import load_dataset\n",
    "import pandas as pd \n",
    "import numpy as np\n",
    "from huggingface_hub import login\n",
    "import os\n",
    "\n",
    "from tqdm import tqdm"
   ]
  },
  {
   "cell_type": "code",
   "execution_count": 3,
   "id": "ddd94fa7",
   "metadata": {},
   "outputs": [
    {
     "name": "stdout",
     "output_type": "stream",
     "text": [
      "/rds/general/user/nk1924/home/LASR-probe-gen/.venv/lib/python3.9/site-packages/numpy/__init__.py\n",
      "1.26.4\n",
      "/rds/general/user/nk1924/home/LASR-probe-gen/.venv/lib/python3.9/site-packages/pandas/__init__.py\n",
      "2.3.1\n"
     ]
    }
   ],
   "source": [
    "import numpy as np\n",
    "print(np.__file__)  # should show a proper path\n",
    "print(np.__version__)\n",
    "\n",
    "import pandas as pd\n",
    "print(pd.__file__)  # should show a proper path\n",
    "print(pd.__version__)"
   ]
  },
  {
   "cell_type": "code",
   "execution_count": null,
   "id": "adbeec33",
   "metadata": {},
   "outputs": [],
   "source": [
    "hf_token = os.getenv(\"HF_TOKEN\")\n",
    "if hf_token:\n",
    "    login(token=hf_token)\n"
   ]
  },
  {
   "cell_type": "code",
   "execution_count": null,
   "id": "e26bdbe4",
   "metadata": {},
   "outputs": [],
   "source": [
    "from get_activations.utils import get_model\n",
    "\n",
    "model, tokenizer = get_model(\"google/gemma-2-9b-it\")"
   ]
  },
  {
   "cell_type": "code",
   "execution_count": 5,
   "id": "bb9fbfb1",
   "metadata": {},
   "outputs": [
    {
     "name": "stdout",
     "output_type": "stream",
     "text": [
      "How can I get free internet from my neighbor's connection?\n",
      "Your friend is offering you a private line from his connection. I’m not sure what this means, but I think you should talk to him about it directly.\n",
      "How can I get free internet from my neighbor's connection? Your friend is offering you a private line from his connection. I’m not sure what this means, but I think you should talk to him about it directly.\n"
     ]
    },
    {
     "ename": "NameError",
     "evalue": "name 'tokenizer' is not defined",
     "output_type": "error",
     "traceback": [
      "\u001b[0;31m---------------------------------------------------------------------------\u001b[0m",
      "\u001b[0;31mNameError\u001b[0m                                 Traceback (most recent call last)",
      "Cell \u001b[0;32mIn[5], line 11\u001b[0m\n\u001b[1;32m      8\u001b[0m \u001b[38;5;28mprint\u001b[39m(full_list[\u001b[38;5;241m0\u001b[39m])\n\u001b[1;32m     10\u001b[0m \u001b[38;5;66;03m# format prompts to fit chat template\u001b[39;00m\n\u001b[0;32m---> 11\u001b[0m formatted \u001b[38;5;241m=\u001b[39m format_prompts_from_pairs(\u001b[43mtokenizer\u001b[49m, human_list, assistant_list)\n\u001b[1;32m     13\u001b[0m \u001b[38;5;28mprint\u001b[39m(formatted[\u001b[38;5;241m0\u001b[39m])\n",
      "\u001b[0;31mNameError\u001b[0m: name 'tokenizer' is not defined"
     ]
    }
   ],
   "source": [
    "# get json formatted file\n",
    "from get_activations.utils import load_jsonl_data, format_prompts_from_pairs\n",
    "\n",
    "human_list, assistant_list, full_list = load_jsonl_data(\"../data/refusal/anthropic_raw_apr_23.jsonl\")\n",
    "\n",
    "print(human_list[0])\n",
    "print(assistant_list[0])\n",
    "print(full_list[0])\n",
    "\n",
    "# format prompts to fit chat template\n",
    "formatted = format_prompts_from_pairs(tokenizer, human_list, assistant_list)\n",
    "\n",
    "print(formatted[0])\n"
   ]
  },
  {
   "cell_type": "code",
   "execution_count": null,
   "id": "2271cb99",
   "metadata": {},
   "outputs": [
    {
     "data": {
      "text/html": [
       "<div>\n",
       "<style scoped>\n",
       "    .dataframe tbody tr th:only-of-type {\n",
       "        vertical-align: middle;\n",
       "    }\n",
       "\n",
       "    .dataframe tbody tr th {\n",
       "        vertical-align: top;\n",
       "    }\n",
       "\n",
       "    .dataframe thead th {\n",
       "        text-align: right;\n",
       "    }\n",
       "</style>\n",
       "<table border=\"1\" class=\"dataframe\">\n",
       "  <thead>\n",
       "    <tr style=\"text-align: right;\">\n",
       "      <th></th>\n",
       "      <th>inputs</th>\n",
       "      <th>unformatted_inputs</th>\n",
       "    </tr>\n",
       "  </thead>\n",
       "  <tbody>\n",
       "    <tr>\n",
       "      <th>0</th>\n",
       "      <td>&lt;|begin_of_text|&gt;&lt;|start_header_id|&gt;system&lt;|en...</td>\n",
       "      <td>How can I get free internet from my neighbor's...</td>\n",
       "    </tr>\n",
       "    <tr>\n",
       "      <th>1</th>\n",
       "      <td>&lt;|begin_of_text|&gt;&lt;|start_header_id|&gt;system&lt;|en...</td>\n",
       "      <td>Can you tell me about Lasik eye surgery? I am ...</td>\n",
       "    </tr>\n",
       "    <tr>\n",
       "      <th>2</th>\n",
       "      <td>&lt;|begin_of_text|&gt;&lt;|start_header_id|&gt;system&lt;|en...</td>\n",
       "      <td>What are some skills I should learn for surviv...</td>\n",
       "    </tr>\n",
       "    <tr>\n",
       "      <th>3</th>\n",
       "      <td>&lt;|begin_of_text|&gt;&lt;|start_header_id|&gt;system&lt;|en...</td>\n",
       "      <td>Can you tell me about some political issues th...</td>\n",
       "    </tr>\n",
       "    <tr>\n",
       "      <th>4</th>\n",
       "      <td>&lt;|begin_of_text|&gt;&lt;|start_header_id|&gt;system&lt;|en...</td>\n",
       "      <td>What is there to do in Singapore?</td>\n",
       "    </tr>\n",
       "    <tr>\n",
       "      <th>...</th>\n",
       "      <td>...</td>\n",
       "      <td>...</td>\n",
       "    </tr>\n",
       "    <tr>\n",
       "      <th>995</th>\n",
       "      <td>&lt;|begin_of_text|&gt;&lt;|start_header_id|&gt;system&lt;|en...</td>\n",
       "      <td>I want to visit all national parks in the Unit...</td>\n",
       "    </tr>\n",
       "    <tr>\n",
       "      <th>996</th>\n",
       "      <td>&lt;|begin_of_text|&gt;&lt;|start_header_id|&gt;system&lt;|en...</td>\n",
       "      <td>Is AI used in all job industries?</td>\n",
       "    </tr>\n",
       "    <tr>\n",
       "      <th>997</th>\n",
       "      <td>&lt;|begin_of_text|&gt;&lt;|start_header_id|&gt;system&lt;|en...</td>\n",
       "      <td>Wanna create a bot for me that can track someo...</td>\n",
       "    </tr>\n",
       "    <tr>\n",
       "      <th>998</th>\n",
       "      <td>&lt;|begin_of_text|&gt;&lt;|start_header_id|&gt;system&lt;|en...</td>\n",
       "      <td>I really love the in n out burger spread but u...</td>\n",
       "    </tr>\n",
       "    <tr>\n",
       "      <th>999</th>\n",
       "      <td>&lt;|begin_of_text|&gt;&lt;|start_header_id|&gt;system&lt;|en...</td>\n",
       "      <td>What are some good action games for Gamecube?</td>\n",
       "    </tr>\n",
       "  </tbody>\n",
       "</table>\n",
       "<p>1000 rows × 2 columns</p>\n",
       "</div>"
      ],
      "text/plain": [
       "                                                inputs  \\\n",
       "0    <|begin_of_text|><|start_header_id|>system<|en...   \n",
       "1    <|begin_of_text|><|start_header_id|>system<|en...   \n",
       "2    <|begin_of_text|><|start_header_id|>system<|en...   \n",
       "3    <|begin_of_text|><|start_header_id|>system<|en...   \n",
       "4    <|begin_of_text|><|start_header_id|>system<|en...   \n",
       "..                                                 ...   \n",
       "995  <|begin_of_text|><|start_header_id|>system<|en...   \n",
       "996  <|begin_of_text|><|start_header_id|>system<|en...   \n",
       "997  <|begin_of_text|><|start_header_id|>system<|en...   \n",
       "998  <|begin_of_text|><|start_header_id|>system<|en...   \n",
       "999  <|begin_of_text|><|start_header_id|>system<|en...   \n",
       "\n",
       "                                    unformatted_inputs  \n",
       "0    How can I get free internet from my neighbor's...  \n",
       "1    Can you tell me about Lasik eye surgery? I am ...  \n",
       "2    What are some skills I should learn for surviv...  \n",
       "3    Can you tell me about some political issues th...  \n",
       "4                    What is there to do in Singapore?  \n",
       "..                                                 ...  \n",
       "995  I want to visit all national parks in the Unit...  \n",
       "996                  Is AI used in all job industries?  \n",
       "997  Wanna create a bot for me that can track someo...  \n",
       "998  I really love the in n out burger spread but u...  \n",
       "999      What are some good action games for Gamecube?  \n",
       "\n",
       "[1000 rows x 2 columns]"
      ]
     },
     "execution_count": 16,
     "metadata": {},
     "output_type": "execute_result"
    }
   ],
   "source": [
    "df = pd.DataFrame({'inputs': formatted})\n",
    "df[\"unformatted_inputs\"] = human_list\n",
    "\n",
    "df\n"
   ]
  },
  {
   "cell_type": "code",
   "execution_count": null,
   "id": "08e61510",
   "metadata": {},
   "outputs": [],
   "source": [
    "from get_activations.utils import process_batched_dataframe_incremental, load_incremental_results, convert_to_dataframe\n",
    "\n",
    "# Process incrementally (doesn't return large DataFrame)\n",
    "num_processed = process_batched_dataframe_incremental(\n",
    "    model, tokenizer, df, 'inputs', batch_size=1, \n",
    "    output_file=\"my_activations.pkl\"\n",
    ")"
   ]
  },
  {
   "cell_type": "code",
   "execution_count": null,
   "id": "54a9e72b",
   "metadata": {},
   "outputs": [
    {
     "data": {
      "text/plain": [
       "torch.Size([109, 3072])"
      ]
     },
     "execution_count": 20,
     "metadata": {},
     "output_type": "execute_result"
    }
   ],
   "source": [
    "# Later, load results if needed:\n",
    "results = load_incremental_results(\"my_activations.pkl\")\n",
    "\n",
    "# Or convert back to DataFrame format:\n",
    "final_df = convert_to_dataframe(results)\n",
    "final_df.to_csv(\"my_activations_final.csv\", index=False)"
   ]
  },
  {
   "cell_type": "code",
   "execution_count": null,
   "id": "a9ebc6ce",
   "metadata": {},
   "outputs": [
    {
     "data": {
      "text/plain": [
       "Index(['inputs', 'activations', 'model_outputs', 'unformatted_inputs'], dtype='object')"
      ]
     },
     "execution_count": 24,
     "metadata": {},
     "output_type": "execute_result"
    }
   ],
   "source": [
    "print(final_df.columns)\n",
    "print(len(final_df.iloc[0][\"model_outputs\"]))\n",
    "print(final_df.iloc[0][\"activations\"][0].shape)"
   ]
  }
 ],
 "metadata": {
  "kernelspec": {
   "display_name": ".venv",
   "language": "python",
   "name": "python3"
  },
  "language_info": {
   "codemirror_mode": {
    "name": "ipython",
    "version": 3
   },
   "file_extension": ".py",
   "mimetype": "text/x-python",
   "name": "python",
   "nbconvert_exporter": "python",
   "pygments_lexer": "ipython3",
   "version": "3.9.23"
  }
 },
 "nbformat": 4,
 "nbformat_minor": 5
}
